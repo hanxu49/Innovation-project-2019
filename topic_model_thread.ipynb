{
  "nbformat": 4,
  "nbformat_minor": 0,
  "metadata": {
    "kernelspec": {
      "name": "python3",
      "display_name": "Python 3"
    },
    "language_info": {
      "codemirror_mode": {
        "name": "ipython",
        "version": 3
      },
      "file_extension": ".py",
      "mimetype": "text/x-python",
      "name": "python",
      "nbconvert_exporter": "python",
      "pygments_lexer": "ipython3",
      "version": "3.7.0"
    },
    "colab": {
      "name": "topic-model-thread.ipynb",
      "provenance": [],
      "collapsed_sections": [],
      "toc_visible": true
    },
    "accelerator": "GPU"
  },
  "cells": [
    {
      "cell_type": "markdown",
      "metadata": {
        "id": "OlW_AvNSbvZk",
        "colab_type": "text"
      },
      "source": [
        "# 1.数据读取"
      ]
    },
    {
      "cell_type": "code",
      "metadata": {
        "id": "EsRtDO73bvZp",
        "colab_type": "code",
        "colab": {}
      },
      "source": [
        "import pandas as pd\n",
        "df = pd.read_csv(\"./data/Coding_results_5000.csv\")#,encoding = \"gb18030\""
      ],
      "execution_count": 0,
      "outputs": []
    },
    {
      "cell_type": "code",
      "metadata": {
        "id": "EoG9mxljbvZu",
        "colab_type": "code",
        "outputId": "bfbc7db6-80f6-49f6-9260-cc579ad77c4e",
        "colab": {}
      },
      "source": [
        "# df.head()\n",
        "df.shape"
      ],
      "execution_count": 0,
      "outputs": [
        {
          "output_type": "execute_result",
          "data": {
            "text/plain": [
              "(5000, 4)"
            ]
          },
          "metadata": {
            "tags": []
          },
          "execution_count": 3
        }
      ]
    },
    {
      "cell_type": "code",
      "metadata": {
        "id": "vCdTfJdObvZy",
        "colab_type": "code",
        "outputId": "a4ce0325-cb6c-4fc7-fdfe-db836ac54fae",
        "colab": {}
      },
      "source": [
        "# df.head()\n",
        "# df.shape\n",
        "# df.tail()\n",
        "# df = df[[\"id\",\"title\"]]\n",
        "df.head()"
      ],
      "execution_count": 0,
      "outputs": [
        {
          "output_type": "execute_result",
          "data": {
            "text/html": [
              "<div>\n",
              "<style scoped>\n",
              "    .dataframe tbody tr th:only-of-type {\n",
              "        vertical-align: middle;\n",
              "    }\n",
              "\n",
              "    .dataframe tbody tr th {\n",
              "        vertical-align: top;\n",
              "    }\n",
              "\n",
              "    .dataframe thead th {\n",
              "        text-align: right;\n",
              "    }\n",
              "</style>\n",
              "<table border=\"1\" class=\"dataframe\">\n",
              "  <thead>\n",
              "    <tr style=\"text-align: right;\">\n",
              "      <th></th>\n",
              "      <th>no</th>\n",
              "      <th>id</th>\n",
              "      <th>title</th>\n",
              "      <th>Category</th>\n",
              "    </tr>\n",
              "  </thead>\n",
              "  <tbody>\n",
              "    <tr>\n",
              "      <th>0</th>\n",
              "      <td>Thread17</td>\n",
              "      <td>4.927166e+09</td>\n",
              "      <td>有没有有经验的家长可以来分享一下怎么做才能使孩子变得更好</td>\n",
              "      <td>0</td>\n",
              "    </tr>\n",
              "    <tr>\n",
              "      <th>1</th>\n",
              "      <td>Thread30</td>\n",
              "      <td>4.930934e+09</td>\n",
              "      <td>请教各位有自闭症孩子的家长……</td>\n",
              "      <td>0</td>\n",
              "    </tr>\n",
              "    <tr>\n",
              "      <th>2</th>\n",
              "      <td>Thread35</td>\n",
              "      <td>4.932980e+09</td>\n",
              "      <td>闭儿发烧了</td>\n",
              "      <td>0</td>\n",
              "    </tr>\n",
              "    <tr>\n",
              "      <th>3</th>\n",
              "      <td>Thread92</td>\n",
              "      <td>4.948806e+09</td>\n",
              "      <td>好心人帮帮我，我该何去何从</td>\n",
              "      <td>0</td>\n",
              "    </tr>\n",
              "    <tr>\n",
              "      <th>4</th>\n",
              "      <td>Thread101</td>\n",
              "      <td>4.953448e+09</td>\n",
              "      <td>求助我儿到底是不是自闭症</td>\n",
              "      <td>0</td>\n",
              "    </tr>\n",
              "  </tbody>\n",
              "</table>\n",
              "</div>"
            ],
            "text/plain": [
              "          no            id                         title  Category\n",
              "0   Thread17  4.927166e+09  有没有有经验的家长可以来分享一下怎么做才能使孩子变得更好         0\n",
              "1   Thread30  4.930934e+09               请教各位有自闭症孩子的家长……         0\n",
              "2   Thread35  4.932980e+09                         闭儿发烧了         0\n",
              "3   Thread92  4.948806e+09                 好心人帮帮我，我该何去何从         0\n",
              "4  Thread101  4.953448e+09                  求助我儿到底是不是自闭症         0"
            ]
          },
          "metadata": {
            "tags": []
          },
          "execution_count": 4
        }
      ]
    },
    {
      "cell_type": "code",
      "metadata": {
        "id": "RNdgwBx0bvZ3",
        "colab_type": "code",
        "colab": {}
      },
      "source": [
        "import jieba\n",
        "def seg(s):\n",
        "    segments = jieba.lcut(s) \n",
        "    s = \" \".join(segments)\n",
        "    return s"
      ],
      "execution_count": 0,
      "outputs": []
    },
    {
      "cell_type": "code",
      "metadata": {
        "id": "hpWqslBdbvZ7",
        "colab_type": "code",
        "outputId": "df246782-d907-41aa-f79c-c6433b5d90fd",
        "colab": {}
      },
      "source": [
        "df[\"title_seg\"] = df[\"title\"].apply(seg)\n",
        "df[\"title_seg\"][0]"
      ],
      "execution_count": 0,
      "outputs": [
        {
          "output_type": "stream",
          "text": [
            "Building prefix dict from the default dictionary ...\n",
            "Dumping model to file cache C:\\Users\\hanxu\\AppData\\Local\\Temp\\jieba.cache\n",
            "Loading model cost 0.864 seconds.\n",
            "Prefix dict has been built succesfully.\n"
          ],
          "name": "stderr"
        },
        {
          "output_type": "execute_result",
          "data": {
            "text/plain": [
              "'有没有 有 经验 的 家长 可以 来 分享 一下 怎么 做 才能 使 孩子 变得 更好'"
            ]
          },
          "metadata": {
            "tags": []
          },
          "execution_count": 6
        }
      ]
    },
    {
      "cell_type": "markdown",
      "metadata": {
        "id": "noQUYQNsbvaA",
        "colab_type": "text"
      },
      "source": [
        "# 2.数据清洗和预处理"
      ]
    },
    {
      "cell_type": "markdown",
      "metadata": {
        "id": "xbDAso1SbvaB",
        "colab_type": "text"
      },
      "source": [
        "###### 哈工大中文停用词"
      ]
    },
    {
      "cell_type": "code",
      "metadata": {
        "id": "kMirXh-AbvaC",
        "colab_type": "code",
        "colab": {}
      },
      "source": [
        "with open(\"cnstopword.txt\", 'r', encoding='utf-8-sig') as f:\n",
        "    stoptext = f.read()\n",
        "    stoplist = stoptext.split(';\\n')\n",
        "    cnstopwords = set(stoplist)\n",
        "hgdstopword = pd.read_csv(\"./data/stop.csv\",encoding = \"gb18030\")\n",
        "hgdstop = set(stopword[\"stopwords\"])"
      ],
      "execution_count": 0,
      "outputs": []
    },
    {
      "cell_type": "code",
      "metadata": {
        "id": "JkyAdlxlbvaE",
        "colab_type": "code",
        "colab": {}
      },
      "source": [
        ""
      ],
      "execution_count": 0,
      "outputs": []
    },
    {
      "cell_type": "code",
      "metadata": {
        "id": "J83a9-nUbvaG",
        "colab_type": "code",
        "outputId": "94a98538-1f12-4e52-e626-61b0216be886",
        "colab": {}
      },
      "source": [
        "\"孩子\" in stop"
      ],
      "execution_count": 0,
      "outputs": [
        {
          "output_type": "execute_result",
          "data": {
            "text/plain": [
              "False"
            ]
          },
          "metadata": {
            "tags": []
          },
          "execution_count": 16
        }
      ]
    },
    {
      "cell_type": "markdown",
      "metadata": {
        "id": "7jbBF-2sbvaS",
        "colab_type": "text"
      },
      "source": [
        "###### 只保留字符串中的中文字符"
      ]
    },
    {
      "cell_type": "code",
      "metadata": {
        "id": "FX4iHJ6Qbvaq",
        "colab_type": "code",
        "colab": {}
      },
      "source": [
        "import re\n",
        "pattern=\"[\\u4e00-\\u9fa5]+\" \n",
        "regex = re.compile(pattern)\n",
        "def cn_only(s): \n",
        "    result = regex.findall(s)\n",
        "    te = \" \".join([wd for wd in result])\n",
        "    return te"
      ],
      "execution_count": 0,
      "outputs": []
    },
    {
      "cell_type": "markdown",
      "metadata": {
        "id": "sKJz5Yi2bvav",
        "colab_type": "text"
      },
      "source": [
        "###### 繁体->简体"
      ]
    },
    {
      "cell_type": "code",
      "metadata": {
        "id": "_yWe1Uazbvax",
        "colab_type": "code",
        "colab": {}
      },
      "source": [
        "from langconv import *\n",
        "import sys\n",
        "# 转换繁体到简体\n",
        "def cht_to_chs(line):\n",
        "    line = Converter('zh-hans').convert(line)\n",
        "    line.encode('utf-8')\n",
        "    return line"
      ],
      "execution_count": 0,
      "outputs": []
    },
    {
      "cell_type": "code",
      "metadata": {
        "id": "wwxK3XpZbva1",
        "colab_type": "code",
        "colab": {}
      },
      "source": [
        "from zhon.hanzi import punctuation\n",
        "import nltk\n",
        "import pandas as pd\n",
        "import string\n",
        "import re\n",
        "# nltk.download()\n",
        "cnexclude = set(punctuation)#cn标点符号\n",
        "enexclude = set(string.punctuation)#eng标点符号\n",
        "exclude = cnexclude | enexclude\n",
        "# more_exclude =[\"︰\",\"%\",\".\"]\n",
        "# for ex in more_exclude:\n",
        "#     exclude.add(ex)\n",
        "stop = cnstopwords | hgdstop\n",
        "\n",
        "\n",
        "#数据清理\n",
        "def clean(doc_seg):\n",
        "    chs = cht_to_chs(doc_seg)\n",
        "    eng_free = cn_only(chs)\n",
        "    stop_free = \" \".join([wd for wd in eng_free.split() if wd not in stop])# \n",
        "    punc_free = \" \".join(ch for ch in stop_free.split() if ch not in exclude)\n",
        "#     eng_free = re.sub('[a-zA-Z0-9]','',punc_free) #remove english string\n",
        "    cleaned = punc_free.strip() #remove space\n",
        "    return cleaned"
      ],
      "execution_count": 0,
      "outputs": []
    },
    {
      "cell_type": "markdown",
      "metadata": {
        "id": "CdahCTlkbva8",
        "colab_type": "text"
      },
      "source": [
        "## 2.1对title应用clean()函数"
      ]
    },
    {
      "cell_type": "markdown",
      "metadata": {
        "id": "Mp6PEKkXbva9",
        "colab_type": "text"
      },
      "source": [
        "### 2.1.1celan()函数测试"
      ]
    },
    {
      "cell_type": "code",
      "metadata": {
        "scrolled": true,
        "id": "wfMsx3Rnbva_",
        "colab_type": "code",
        "outputId": "36f9432b-7166-49c5-c9c7-0648e0d8b6fa",
        "colab": {}
      },
      "source": [
        "test = df[\"title_seg\"][999]\n",
        "test"
      ],
      "execution_count": 0,
      "outputs": [
        {
          "output_type": "execute_result",
          "data": {
            "text/plain": [
              "'1278550345 @ qq . com 感谢 有心 的 宝妈 分享 ， 烦请 您 也 将 家庭 干预 资料 发 我 一份 ， 十分 感激'"
            ]
          },
          "metadata": {
            "tags": []
          },
          "execution_count": 20
        }
      ]
    },
    {
      "cell_type": "code",
      "metadata": {
        "id": "wgXxMGNdbvbE",
        "colab_type": "code",
        "outputId": "0c93846f-29bf-4666-889d-651d626c2ed6",
        "colab": {}
      },
      "source": [
        "clean(test)"
      ],
      "execution_count": 0,
      "outputs": [
        {
          "output_type": "execute_result",
          "data": {
            "text/plain": [
              "'感谢 有心 宝妈 分享 烦请 家庭 干预 资料 发 一份 感激'"
            ]
          },
          "metadata": {
            "tags": []
          },
          "execution_count": 21
        }
      ]
    },
    {
      "cell_type": "markdown",
      "metadata": {
        "id": "MAVb_2YkbvbK",
        "colab_type": "text"
      },
      "source": [
        "### 2.1.2celan()函数使用"
      ]
    },
    {
      "cell_type": "code",
      "metadata": {
        "id": "BDvNNOnwbvbM",
        "colab_type": "code",
        "colab": {}
      },
      "source": [
        "# df[\"title_clean\"] = df.title_seg.apply(clean)\n",
        "# df.shape\n",
        "df.to_csv(\"./data/Coding_results_5000_seg_clean.csv\",encoding = \"gb18030\",index=False)"
      ],
      "execution_count": 0,
      "outputs": []
    },
    {
      "cell_type": "code",
      "metadata": {
        "id": "Jpd3TTTHbvbR",
        "colab_type": "code",
        "colab": {}
      },
      "source": [
        "#对预处理结果进行保存，这样每次运行只需要从文件里读数据即可\n",
        "import pandas as pd\n",
        "df=pd.read_csv(\"./data/thread_seg_clean.csv\",encoding = \"gb18030\",index_col=0)\n",
        "# df[\"title_cutted\"] "
      ],
      "execution_count": 0,
      "outputs": []
    },
    {
      "cell_type": "code",
      "metadata": {
        "id": "zhniBIStbvbW",
        "colab_type": "code",
        "outputId": "8b9d6fd8-0b2d-4455-bdcb-6fc42a2367e3",
        "colab": {}
      },
      "source": [
        "df.tail(5)"
      ],
      "execution_count": 0,
      "outputs": [
        {
          "output_type": "execute_result",
          "data": {
            "text/html": [
              "<div>\n",
              "<style scoped>\n",
              "    .dataframe tbody tr th:only-of-type {\n",
              "        vertical-align: middle;\n",
              "    }\n",
              "\n",
              "    .dataframe tbody tr th {\n",
              "        vertical-align: top;\n",
              "    }\n",
              "\n",
              "    .dataframe thead th {\n",
              "        text-align: right;\n",
              "    }\n",
              "</style>\n",
              "<table border=\"1\" class=\"dataframe\">\n",
              "  <thead>\n",
              "    <tr style=\"text-align: right;\">\n",
              "      <th></th>\n",
              "      <th>no</th>\n",
              "      <th>id</th>\n",
              "      <th>title</th>\n",
              "      <th>Category</th>\n",
              "      <th>title_seg</th>\n",
              "      <th>title_clean</th>\n",
              "    </tr>\n",
              "  </thead>\n",
              "  <tbody>\n",
              "    <tr>\n",
              "      <th>4995</th>\n",
              "      <td>Post68471</td>\n",
              "      <td>1.256390e+11</td>\n",
              "      <td>今天看见妹妹拉粑粑，会跑过去找姥姥，说，姥姥，妹妹拉屎了。吃完了手上的西瓜，说，我没有了。</td>\n",
              "      <td>0</td>\n",
              "      <td>今天 看见 妹妹 拉粑 粑 ， 会 跑 过去 找 姥姥 ， 说 ， 姥姥 ， 妹妹 拉屎 了...</td>\n",
              "      <td>妹妹 拉粑 粑 跑 找 姥姥 说 姥姥 妹妹 拉屎 吃 完 手上 西瓜 说</td>\n",
              "    </tr>\n",
              "    <tr>\n",
              "      <th>4996</th>\n",
              "      <td>Post68475</td>\n",
              "      <td>1.256400e+11</td>\n",
              "      <td>晚上宝宝在客厅自己玩，渴了想喝茶，自己拿杯子去喝，不知道是没拿稳，还是什么杯子掉在了桌上砸碎...</td>\n",
              "      <td>0</td>\n",
              "      <td>晚上 宝宝 在 客厅 自己 玩 ， 渴 了 想 喝茶 ， 自己 拿 杯子 去 喝 ， 不 知...</td>\n",
              "      <td>晚上 宝宝 客厅 玩 渴 想 喝茶 杯子 喝 拿稳 杯子 掉 桌上 砸碎 听到 声音 吓了一...</td>\n",
              "    </tr>\n",
              "    <tr>\n",
              "      <th>4997</th>\n",
              "      <td>Post68544</td>\n",
              "      <td>1.256450e+11</td>\n",
              "      <td>已经很好了！</td>\n",
              "      <td>0</td>\n",
              "      <td>已经 很 好 了 ！</td>\n",
              "      <td></td>\n",
              "    </tr>\n",
              "    <tr>\n",
              "      <th>4998</th>\n",
              "      <td>Post68559</td>\n",
              "      <td>1.256470e+11</td>\n",
              "      <td>孩子每天都在笑，我们大人不应该好好笑着面对么\\r\\r\\r\\n http://imgsrc.b...</td>\n",
              "      <td>0</td>\n",
              "      <td>孩子 每天 都 在 笑 ， 我们 大人 不 应该 好好笑 着 面对 么 \\r \\r \\r\\n...</td>\n",
              "      <td>孩子 笑 大人 好好笑 面对</td>\n",
              "    </tr>\n",
              "    <tr>\n",
              "      <th>4999</th>\n",
              "      <td>Post68560</td>\n",
              "      <td>1.256470e+11</td>\n",
              "      <td>能挂到号吗？</td>\n",
              "      <td>0</td>\n",
              "      <td>能 挂到 号 吗 ？</td>\n",
              "      <td>挂到 号</td>\n",
              "    </tr>\n",
              "  </tbody>\n",
              "</table>\n",
              "</div>"
            ],
            "text/plain": [
              "             no            id  \\\n",
              "4995  Post68471  1.256390e+11   \n",
              "4996  Post68475  1.256400e+11   \n",
              "4997  Post68544  1.256450e+11   \n",
              "4998  Post68559  1.256470e+11   \n",
              "4999  Post68560  1.256470e+11   \n",
              "\n",
              "                                                  title  Category  \\\n",
              "4995      今天看见妹妹拉粑粑，会跑过去找姥姥，说，姥姥，妹妹拉屎了。吃完了手上的西瓜，说，我没有了。         0   \n",
              "4996  晚上宝宝在客厅自己玩，渴了想喝茶，自己拿杯子去喝，不知道是没拿稳，还是什么杯子掉在了桌上砸碎...         0   \n",
              "4997                                             已经很好了！         0   \n",
              "4998  孩子每天都在笑，我们大人不应该好好笑着面对么\\r\\r\\r\\n http://imgsrc.b...         0   \n",
              "4999                                             能挂到号吗？         0   \n",
              "\n",
              "                                              title_seg  \\\n",
              "4995  今天 看见 妹妹 拉粑 粑 ， 会 跑 过去 找 姥姥 ， 说 ， 姥姥 ， 妹妹 拉屎 了...   \n",
              "4996  晚上 宝宝 在 客厅 自己 玩 ， 渴 了 想 喝茶 ， 自己 拿 杯子 去 喝 ， 不 知...   \n",
              "4997                                         已经 很 好 了 ！   \n",
              "4998  孩子 每天 都 在 笑 ， 我们 大人 不 应该 好好笑 着 面对 么 \\r \\r \\r\\n...   \n",
              "4999                                         能 挂到 号 吗 ？   \n",
              "\n",
              "                                            title_clean  \n",
              "4995              妹妹 拉粑 粑 跑 找 姥姥 说 姥姥 妹妹 拉屎 吃 完 手上 西瓜 说  \n",
              "4996  晚上 宝宝 客厅 玩 渴 想 喝茶 杯子 喝 拿稳 杯子 掉 桌上 砸碎 听到 声音 吓了一...  \n",
              "4997                                                     \n",
              "4998                                     孩子 笑 大人 好好笑 面对  \n",
              "4999                                               挂到 号  "
            ]
          },
          "metadata": {
            "tags": []
          },
          "execution_count": 24
        }
      ]
    },
    {
      "cell_type": "markdown",
      "metadata": {
        "id": "1Wl4HJjKbvba",
        "colab_type": "text"
      },
      "source": [
        "## 2.2提取title_clean为corpus"
      ]
    },
    {
      "cell_type": "code",
      "metadata": {
        "id": "I5DxL5YBb_Eo",
        "colab_type": "code",
        "outputId": "dce60d90-7c03-4d0e-f98f-39422d04bb52",
        "colab": {
          "base_uri": "https://localhost:8080/",
          "height": 271
        }
      },
      "source": [
        "import pandas as pd\n",
        "df = pd.read_csv(\"/content/Coding_results_5000_seg_clean.csv\",encoding = \"gb18030\")\n",
        "df.head()"
      ],
      "execution_count": 0,
      "outputs": [
        {
          "output_type": "execute_result",
          "data": {
            "text/html": [
              "<div>\n",
              "<style scoped>\n",
              "    .dataframe tbody tr th:only-of-type {\n",
              "        vertical-align: middle;\n",
              "    }\n",
              "\n",
              "    .dataframe tbody tr th {\n",
              "        vertical-align: top;\n",
              "    }\n",
              "\n",
              "    .dataframe thead th {\n",
              "        text-align: right;\n",
              "    }\n",
              "</style>\n",
              "<table border=\"1\" class=\"dataframe\">\n",
              "  <thead>\n",
              "    <tr style=\"text-align: right;\">\n",
              "      <th></th>\n",
              "      <th>no</th>\n",
              "      <th>id</th>\n",
              "      <th>title</th>\n",
              "      <th>Category</th>\n",
              "      <th>title_seg</th>\n",
              "      <th>title_clean</th>\n",
              "    </tr>\n",
              "  </thead>\n",
              "  <tbody>\n",
              "    <tr>\n",
              "      <th>0</th>\n",
              "      <td>Thread17</td>\n",
              "      <td>4.927166e+09</td>\n",
              "      <td>有没有有经验的家长可以来分享一下怎么做才能使孩子变得更好</td>\n",
              "      <td>0</td>\n",
              "      <td>有没有 有 经验 的 家长 可以 来 分享 一下 怎么 做 才能 使 孩子 变得 更好</td>\n",
              "      <td>有没有 经验 家长 分享 做 孩子 变得 更好</td>\n",
              "    </tr>\n",
              "    <tr>\n",
              "      <th>1</th>\n",
              "      <td>Thread30</td>\n",
              "      <td>4.930934e+09</td>\n",
              "      <td>请教各位有自闭症孩子的家长……</td>\n",
              "      <td>0</td>\n",
              "      <td>请教 各位 有 自闭症 孩子 的 家长 … …</td>\n",
              "      <td>请教 自闭症 孩子 家长</td>\n",
              "    </tr>\n",
              "    <tr>\n",
              "      <th>2</th>\n",
              "      <td>Thread35</td>\n",
              "      <td>4.932980e+09</td>\n",
              "      <td>闭儿发烧了</td>\n",
              "      <td>0</td>\n",
              "      <td>闭儿 发烧 了</td>\n",
              "      <td>闭儿 发烧</td>\n",
              "    </tr>\n",
              "    <tr>\n",
              "      <th>3</th>\n",
              "      <td>Thread92</td>\n",
              "      <td>4.948806e+09</td>\n",
              "      <td>好心人帮帮我，我该何去何从</td>\n",
              "      <td>0</td>\n",
              "      <td>好心人 帮帮我 ， 我该 何去何从</td>\n",
              "      <td>好心人 帮帮我 我该 何去何从</td>\n",
              "    </tr>\n",
              "    <tr>\n",
              "      <th>4</th>\n",
              "      <td>Thread101</td>\n",
              "      <td>4.953448e+09</td>\n",
              "      <td>求助我儿到底是不是自闭症</td>\n",
              "      <td>0</td>\n",
              "      <td>求助 我儿 到底 是不是 自闭症</td>\n",
              "      <td>求助 我儿 自闭症</td>\n",
              "    </tr>\n",
              "  </tbody>\n",
              "</table>\n",
              "</div>"
            ],
            "text/plain": [
              "          no  ...              title_clean\n",
              "0   Thread17  ...  有没有 经验 家长 分享 做 孩子 变得 更好\n",
              "1   Thread30  ...             请教 自闭症 孩子 家长\n",
              "2   Thread35  ...                    闭儿 发烧\n",
              "3   Thread92  ...          好心人 帮帮我 我该 何去何从\n",
              "4  Thread101  ...                求助 我儿 自闭症\n",
              "\n",
              "[5 rows x 6 columns]"
            ]
          },
          "metadata": {
            "tags": []
          },
          "execution_count": 1
        }
      ]
    },
    {
      "cell_type": "code",
      "metadata": {
        "id": "jlNs5RzRbvbb",
        "colab_type": "code",
        "outputId": "56459feb-9950-4358-dd97-4a8c8ec95e64",
        "colab": {
          "base_uri": "https://localhost:8080/",
          "height": 121
        }
      },
      "source": [
        "corpus = df['title_clean']\n",
        "corpus.head()"
      ],
      "execution_count": 0,
      "outputs": [
        {
          "output_type": "execute_result",
          "data": {
            "text/plain": [
              "0    有没有 经验 家长 分享 做 孩子 变得 更好\n",
              "1               请教 自闭症 孩子 家长\n",
              "2                      闭儿 发烧\n",
              "3            好心人 帮帮我 我该 何去何从\n",
              "4                  求助 我儿 自闭症\n",
              "Name: title_clean, dtype: object"
            ]
          },
          "metadata": {
            "tags": []
          },
          "execution_count": 3
        }
      ]
    },
    {
      "cell_type": "code",
      "metadata": {
        "id": "65MjYVMMbvbe",
        "colab_type": "code",
        "outputId": "6640f9ec-569a-400b-aa36-b3a8e1f360b9",
        "colab": {
          "base_uri": "https://localhost:8080/",
          "height": 35
        }
      },
      "source": [
        "# \"nan\" in corpus\n",
        "type(corpus)\n",
        "len(corpus)"
      ],
      "execution_count": 0,
      "outputs": [
        {
          "output_type": "execute_result",
          "data": {
            "text/plain": [
              "5000"
            ]
          },
          "metadata": {
            "tags": []
          },
          "execution_count": 4
        }
      ]
    },
    {
      "cell_type": "code",
      "metadata": {
        "id": "k0mtZZD2mr6P",
        "colab_type": "code",
        "colab": {}
      },
      "source": [
        ""
      ],
      "execution_count": 0,
      "outputs": []
    },
    {
      "cell_type": "code",
      "metadata": {
        "id": "_v2txdXsmsO4",
        "colab_type": "code",
        "outputId": "cd2d0138-ed66-4253-fbd5-73708b5e0775",
        "colab": {
          "base_uri": "https://localhost:8080/",
          "height": 55
        }
      },
      "source": [
        "# # Import Dataset\n",
        "# import pandas as pd\n",
        "# df = pd.read_json('https://raw.githubusercontent.com/selva86/datasets/master/newsgroups.json')\n",
        "# print(df.target_names.unique())\n",
        "# import re\n",
        "# # Convert to list\n",
        "# data = df.content.values.tolist()\n",
        "\n",
        "# # Remove Emails\n",
        "# data = [re.sub('\\S*@\\S*\\s?', '', sent) for sent in data]\n",
        "\n",
        "# # Remove new line characters\n",
        "# data = [re.sub('\\s+', ' ', sent) for sent in data]\n",
        "\n",
        "# # Remove distracting single quotes\n",
        "# data = [re.sub(\"\\'\", \"\", sent) for sent in data]\n",
        "\n",
        "# pprint(data[:1])\n",
        "# def sent_to_words(sentences):\n",
        "#     for sentence in sentences:\n",
        "#         yield(gensim.utils.simple_preprocess(str(sentence), deacc=True))  # deacc=True removes punctuations\n",
        "\n",
        "# data_words = list(sent_to_words(data))\n",
        "\n",
        "# print(data_words[:1])"
      ],
      "execution_count": 0,
      "outputs": [
        {
          "output_type": "stream",
          "text": [
            "[['from', 'wheres', 'my', 'thing', 'subject', 'what', 'car', 'is', 'this', 'nntp', 'posting', 'host', 'rac', 'wam', 'umd', 'edu', 'organization', 'university', 'of', 'maryland', 'college', 'park', 'lines', 'was', 'wondering', 'if', 'anyone', 'out', 'there', 'could', 'enlighten', 'me', 'on', 'this', 'car', 'saw', 'the', 'other', 'day', 'it', 'was', 'door', 'sports', 'car', 'looked', 'to', 'be', 'from', 'the', 'late', 'early', 'it', 'was', 'called', 'bricklin', 'the', 'doors', 'were', 'really', 'small', 'in', 'addition', 'the', 'front', 'bumper', 'was', 'separate', 'from', 'the', 'rest', 'of', 'the', 'body', 'this', 'is', 'all', 'know', 'if', 'anyone', 'can', 'tellme', 'model', 'name', 'engine', 'specs', 'years', 'of', 'production', 'where', 'this', 'car', 'is', 'made', 'history', 'or', 'whatever', 'info', 'you', 'have', 'on', 'this', 'funky', 'looking', 'car', 'please', 'mail', 'thanks', 'il', 'brought', 'to', 'you', 'by', 'your', 'neighborhood', 'lerxst']]\n"
          ],
          "name": "stdout"
        }
      ]
    },
    {
      "cell_type": "code",
      "metadata": {
        "id": "NCICJn0Hmsjg",
        "colab_type": "code",
        "colab": {}
      },
      "source": [
        "# def lemmatization(texts, allowed_postags=['NOUN', 'ADJ', 'VERB', 'ADV']):\n",
        "#     \"\"\"https://spacy.io/api/annotation\"\"\"\n",
        "#     texts_out = []\n",
        "#     for sent in texts:\n",
        "#         doc = nlp(\" \".join(sent)) \n",
        "#         texts_out.append(\" \".join([token.lemma_ if token.lemma_ not in ['-PRON-'] else '' for token in doc if token.pos_ in allowed_postags]))\n",
        "#     return texts_out\n",
        "\n",
        "# # Initialize spacy 'en' model, keeping only tagger component (for efficiency)\n",
        "# # Run in terminal: python3 -m spacy download en\n",
        "# nlp = spacy.load('en', disable=['parser', 'ner'])\n",
        "\n",
        "# # Do lemmatization keeping only Noun, Adj, Verb, Adverb\n",
        "# data_lemmatized = lemmatization(data_words, allowed_postags=['NOUN', 'ADJ', 'VERB', 'ADV'])\n",
        "\n",
        "# # print(data_lemmatized[:2])\n",
        "# vectorizer = CountVectorizer(analyzer='word',       \n",
        "#                              min_df=10,                        # minimum reqd occurences of a word \n",
        "#                              stop_words='english',             # remove stop words\n",
        "#                              lowercase=True,                   # convert all words to lowercase\n",
        "#                              token_pattern='[a-zA-Z0-9]{3,}',  # num chars > 3\n",
        "#                              # max_features=50000,             # max number of uniq words\n",
        "#                             )\n",
        "\n",
        "# data_vectorized = vectorizer.fit_transform(data_lemmatized)"
      ],
      "execution_count": 0,
      "outputs": []
    },
    {
      "cell_type": "code",
      "metadata": {
        "id": "QeCNGaQAoVQp",
        "colab_type": "code",
        "outputId": "2b1cb41a-649d-4e11-8094-89dbe0270bbc",
        "colab": {
          "base_uri": "https://localhost:8080/",
          "height": 139
        }
      },
      "source": [
        "# Build LDA Model\n",
        "lda_model = LatentDirichletAllocation(n_components=20,               # Number of topics\n",
        "                                      max_iter=10,               # Max learning iterations\n",
        "                                      learning_method='online',   \n",
        "                                      random_state=100,          # Random state\n",
        "                                      batch_size=128,            # n docs in each learning iter\n",
        "                                      evaluate_every = -1,       # compute perplexity every n iters, default: Don't\n",
        "                                      n_jobs = -1,               # Use all available CPUs\n",
        "                                     )\n",
        "lda_output = lda_model.fit_transform(data_vectorized)\n",
        "\n",
        "print(lda_model)  # Model attributes"
      ],
      "execution_count": 0,
      "outputs": [
        {
          "output_type": "stream",
          "text": [
            "LatentDirichletAllocation(batch_size=128, doc_topic_prior=None,\n",
            "                          evaluate_every=-1, learning_decay=0.7,\n",
            "                          learning_method='online', learning_offset=10.0,\n",
            "                          max_doc_update_iter=100, max_iter=10,\n",
            "                          mean_change_tol=0.001, n_components=20, n_jobs=-1,\n",
            "                          perp_tol=0.1, random_state=100, topic_word_prior=None,\n",
            "                          total_samples=1000000.0, verbose=0)\n"
          ],
          "name": "stdout"
        }
      ]
    },
    {
      "cell_type": "code",
      "metadata": {
        "id": "4exFlUkbrt5u",
        "colab_type": "code",
        "outputId": "4d464d97-8e64-43a1-b4a7-cb0cbed14fe6",
        "colab": {
          "base_uri": "https://localhost:8080/",
          "height": 211
        }
      },
      "source": [
        "data_lemmatized[0:10]"
      ],
      "execution_count": 0,
      "outputs": [
        {
          "output_type": "execute_result",
          "data": {
            "text/plain": [
              "['where s thing subject car be nntp post host rac wam umd edu organization university maryland college park line be wonder anyone out there could enlighten car see other day be door sport car look be late early be call bricklin door be really small addition front bumper be separate rest body be know anyone can tellme model name engine spec year production where car be make history info have funky look car mail thank bring neighborhood lerxst',\n",
              " 'guy kuo subject si clock poll final call summary final call si clock report keyword si acceleration clock upgrade article shelley qvfo innc organization university washington line nntp post host carson washington fair number brave soul upgrade si clock oscillator have share experience poll send brief message detail experience procedure top speed attain cpu rate speed add card adapter heat sink hour usage day floppy disk functionality floppy be especially request will be summarize next day so add network knowledge base have do clock upgrade have not answer poll thank guy kuo',\n",
              " 'thomas willis subject question organization purdue university engineering computer network distribution usa line well folk mac finally give ghost weekend start life way back sooo be market new machine bit sooner intend be be look pick powerbook maybe have bunch question hopefully somebody can answer do anybody know dirt when next round powerbook introduction be expect hear be suppose make appearence summer have not hear anymore do not have access macleak be wonder anybody out there have more info have anybody hear rumor price drop powerbook line one duo just go recently s impression display could probably swing get mb disk rather do not really have feel how much well display be yea look great store be be really good could solicit opinion people use day day worth take disk size money hit get active display realize be real subjective question have only play around machine computer store breifly figure opinion somebody actually use machine daily may prove helpful how well do hellcat perform thank bunch advance info could email ill post summary news reading time be premium final just corner tom willis purdue electrical engineering conviction be more dangerous enemy truth lie nietzsche',\n",
              " 'joe green subject weitek organization harris computer system division line distribution world nntp post host amber ssd csd harris com newsreader tin version robert kyanko write write article anyone know weitek graphic chip as far low level stuff go look pretty nice get quadrilateral fill command require just point do have weitek address phone number like get information chip joe green harris corporation computer system division only thing really scare be person sense humor jonathan winter',\n",
              " 'jonathan mcdowell subject shuttle launch question organization smithsonian astrophysical observatory cambridge ma usa distribution sci line article tom baker article pack rat write clear caution warn memory verify unexpected error be wonder expect error may be sorry be really dumb question parity error memory previously know condition be waivere be error already know be curious real meaning quote be tom understanding be expect error be basically know bug warning system software thing be check do not have right value yet be not set launch suchlike rather fix code possibly introduce new bug just tell crew see warn liftoff ignore',\n",
              " 'subject reword second amendment idea organization vtt line article tavare write article foxvog write article tavare write article john lawrence rutledge write massive destructive power many modern weapon make cost accidental crimial usage weapon great weapon mass destruction need be control government only individual access would result needless death million make right people keep bear many modern weapon non existant thank state where be come needless say disagree count believe individual should have right own weapon mass destruction find hard believe would support neighbor right keep nuclear weapon biological weapon nerve gas property not even agree keep weapon mass destruction hand individual can there be hope do not sign blank check course term must be rigidly define bill when doug foxvog say weapon mass destruction mean cbw nuke when sarah brady say weapon mass destruction mean street sweeper shotgun semi automatic sk rifle doubt use term be use allegedly can back when lawrence rutledge say weapon mass destruction then immediately follow have thousand people kill year handgun number can easily be reduce put reasonable restriction do rutledge mean term read article present first argument weapon mass destruction commonly understand then switch other topic first point evidently be show not weapon should be allow then later analysis be give understanding consider class believe speak company write today special investor packet doug foxvog',\n",
              " 'brian man delaney subject brain tumor treatment thank reply organization university chicago line there be few people respond request info treatment astrocytoma email not thank directly mail bounce probs sean debra sharon so think publicly thank everyone thank be sure glad accidentally hit rn instead rm when be try delete file last september hmmm news s brian',\n",
              " 'grubb subject re ide scsi organization new mexico state university las crux nm line distribution world nntp post host dante nmsu write article grubb say pc magazine april scsi be twice as fasst esdi faster ide support device acceptance have long be stall incompatability problem installation headache love when magazine writer make stupid statement re performance where do get number ill list actual performance range should convince anyone such statement be absurd scsi range mb scsi ii range mb range mb esdi be always mb there be non standard version show be do not know much scsi scsi scsi controler chip range be indeed mb be have right scsi scsi scsi controller chip mb mb burst bit note increase speed mac quadra use version scsi do exist pc use set too scsi bit scsi mode mb mb burst scsi bit wide fast mode mb mb burst scsi bit wide fast mb mb burst own datum although scsi be twice as fast esdi be correct scsi controller chip scsi can reach be indeed faster be scsi fact have be post newsgroup mac ibm info sheet available ftp sumex aim stanford edu info mac report mac ibm compare version txt should be may still be there part problem be mac ibm pc be inconsiant scsi be be well document quadra have scsi chip apple salesperson say use fast scsi chip not mb mb burst do not scsi be mb maximum synchronous quadra use ansynchronous scsi be slow seem mac ibm see scsi interface think scsi when maybe scsi interface drive machine scsi controller chip bit mode be much fast then true scsi can go do not slam article do not understand be go reference quadras scsi controller chip be digital review oct',\n",
              " 'subject win icon help organization university northern iowa line have win download several icon bmp not figure how change wallpaper use icon help would be appreciate thanx brando mail',\n",
              " 'stan kerr subject sigma design double article organization university illinois urbana line joseph pellettiere write be look information sigma design double board can figure be be hardware compression board work autodoubler be not sure also how much would cost have have board year do work diskdoubler not autodoubler licensing problem stac technology owner board compression technology be write memory have lose reference correct be wrong use board have have problem file icon be lose hard say board fault something else however decompress troubled file recompress board icon usually reappear above mention licensing problem freeware expansion utility expand will not decompress board compress file have board instal stac have own product now seem unlikely hole autodoubler diskdoubler relate board will be fix be sad make very reluctant buy stac product be be so stinky s competition kerr compute communication service office illinois urbana phone email']"
            ]
          },
          "metadata": {
            "tags": []
          },
          "execution_count": 14
        }
      ]
    },
    {
      "cell_type": "code",
      "metadata": {
        "id": "w1WgmzU85f14",
        "colab_type": "code",
        "outputId": "09579ae2-8276-4b7b-fc47-ef793521315d",
        "colab": {
          "base_uri": "https://localhost:8080/",
          "height": 33
        }
      },
      "source": [
        "df.shape"
      ],
      "execution_count": 0,
      "outputs": [
        {
          "output_type": "execute_result",
          "data": {
            "text/plain": [
              "(4896, 6)"
            ]
          },
          "metadata": {
            "tags": []
          },
          "execution_count": 45
        }
      ]
    },
    {
      "cell_type": "markdown",
      "metadata": {
        "id": "waPIJ_Xtbvcm",
        "colab_type": "text"
      },
      "source": [
        "# 3.生成文档词频矩阵，创建LDA主题模型"
      ]
    },
    {
      "cell_type": "markdown",
      "metadata": {
        "id": "x3klz5xEbvcn",
        "colab_type": "text"
      },
      "source": [
        "## 3.1 Use sklearn"
      ]
    },
    {
      "cell_type": "code",
      "metadata": {
        "id": "h1tgQ2z65cqh",
        "colab_type": "code",
        "colab": {}
      },
      "source": [
        "data = [title for title in df.title_clean]"
      ],
      "execution_count": 0,
      "outputs": []
    },
    {
      "cell_type": "code",
      "metadata": {
        "id": "i3kBsmRf50TQ",
        "colab_type": "code",
        "colab": {}
      },
      "source": [
        "def rm_t(doc):\n",
        "  cleaned = \" \".join([wd for wd in doc.split() if wd in tail])# \n",
        "  return cleaned\n",
        "\n",
        "def rm_h(doc):\n",
        "  cleaned = \" \".join([wd for wd in doc.split() if wd not in head])# \n",
        "  return cleaned\n",
        "\n",
        "def rm_co(doc):\n",
        "  cleaned = \" \".join([wd for wd in doc.split() if wd in co])# \n",
        "  return cleaned"
      ],
      "execution_count": 0,
      "outputs": []
    },
    {
      "cell_type": "code",
      "metadata": {
        "id": "33bTbeKU6-ED",
        "colab_type": "code",
        "outputId": "244fdff6-817a-404c-e625-35b1db563761",
        "colab": {
          "base_uri": "https://localhost:8080/",
          "height": 33
        }
      },
      "source": [
        "# df[\"title_rmtail\"] = df.title_clean.apply(rm_t)\n",
        "# df[\"title_rmhead\"] = df.title_clean.apply(rm_h)\n",
        "df[\"title_rmco\"] = df.title_clean.apply(rm_co)\n",
        "# df.head()\n",
        "co[0]"
      ],
      "execution_count": 0,
      "outputs": [
        {
          "output_type": "execute_result",
          "data": {
            "text/plain": [
              "'现在'"
            ]
          },
          "metadata": {
            "tags": []
          },
          "execution_count": 73
        }
      ]
    },
    {
      "cell_type": "code",
      "metadata": {
        "id": "_FtCMd235soJ",
        "colab_type": "code",
        "colab": {}
      },
      "source": [
        "df.to_csv(\"./Coding_results_5000_rm.csv\",encoding = \"gb18030\",index=False)"
      ],
      "execution_count": 0,
      "outputs": []
    },
    {
      "cell_type": "code",
      "metadata": {
        "id": "woj_Mv0P5_lz",
        "colab_type": "code",
        "outputId": "e7dd289e-d7fb-4787-948b-bfb726ddd070",
        "colab": {
          "base_uri": "https://localhost:8080/",
          "height": 117
        }
      },
      "source": [
        "corpus = df['title_rmco']\n",
        "corpus.head()"
      ],
      "execution_count": 0,
      "outputs": [
        {
          "output_type": "execute_result",
          "data": {
            "text/plain": [
              "0    有没有 经验 家长 分享 一下 做 变得 更好\n",
              "1                      请教 家长\n",
              "2                         发烧\n",
              "3            好心人 帮帮我 我该 何去何从\n",
              "4               求助 我儿 到底 是不是\n",
              "Name: title_rmco, dtype: object"
            ]
          },
          "metadata": {
            "tags": []
          },
          "execution_count": 82
        }
      ]
    },
    {
      "cell_type": "markdown",
      "metadata": {
        "id": "FsvWaRLabvcn",
        "colab_type": "text"
      },
      "source": [
        "### 3.1.1 模型构建"
      ]
    },
    {
      "cell_type": "markdown",
      "metadata": {
        "id": "Ea2FzLB-bvco",
        "colab_type": "text"
      },
      "source": [
        "###### 参数"
      ]
    },
    {
      "cell_type": "code",
      "metadata": {
        "id": "B-Pc3WORbvco",
        "colab_type": "code",
        "colab": {}
      },
      "source": [
        "from sklearn.feature_extraction.text import CountVectorizer\n",
        "from sklearn.decomposition import LatentDirichletAllocation\n",
        "\n",
        "n_features=5000#, max_df=1, min_df=0.01,                                \n",
        "vectorizer = CountVectorizer(max_df=0.95, min_df=2, max_features=n_features)#,max_df=0.95, min_df=2 max_features=n_features,stop_words=stoplist\n",
        "\n",
        "#tf_vectorizer = CountVectorizer(strip_accents = 'unicode',max_features=n_features,stop_words='english',max_df = 0.5,min_df = 10)\n",
        "doc_term_matrix = vectorizer.fit_transform(corpus.values.astype('U'))"
      ],
      "execution_count": 0,
      "outputs": []
    },
    {
      "cell_type": "code",
      "metadata": {
        "id": "--M5D6Q8bvcs",
        "colab_type": "code",
        "outputId": "958c015e-f3d8-4079-f234-e8a0ab89ea4e",
        "colab": {
          "base_uri": "https://localhost:8080/",
          "height": 117
        }
      },
      "source": [
        "import matplotlib as plt\n",
        "grid = dict()\n",
        "for i in range(1,7,1): ###10个主题，以1为间隔\n",
        "    grid[i] = list()\n",
        "    n_topics = i\n",
        "    lda = LatentDirichletAllocation(n_components=n_topics,learning_method='batch',random_state=100) ###定义lda模型\n",
        "    lda.fit(doc_term_matrix) ###训练参数\n",
        "#     train_gamma = lda.transform(doc_term_matrix) ##得到topic-document 分布\n",
        "    perplexity = lda.perplexity(doc_term_matrix)\n",
        "#     test_perplexity = lda.perplexity(tf_test) ###s计算测试集困惑度\n",
        "    print('sklearn preplexity: number of topic%d = %.3f' %(i,perplexity))\n",
        "    grid[i].append(perplexity)\n",
        "\n",
        "visdf = pd.DataFrame(grid)"
      ],
      "execution_count": 0,
      "outputs": [
        {
          "output_type": "stream",
          "text": [
            "sklearn preplexity: number of topic1 = 1839.298\n",
            "sklearn preplexity: number of topic2 = 1704.585\n",
            "sklearn preplexity: number of topic3 = 1720.571\n",
            "sklearn preplexity: number of topic4 = 1761.746\n",
            "sklearn preplexity: number of topic5 = 1810.238\n",
            "sklearn preplexity: number of topic6 = 1862.153\n"
          ],
          "name": "stdout"
        }
      ]
    },
    {
      "cell_type": "code",
      "metadata": {
        "id": "NwdaEP39bvcu",
        "colab_type": "code",
        "outputId": "62194f67-253c-4711-e088-c8fe0fd2a104",
        "colab": {
          "base_uri": "https://localhost:8080/",
          "height": 433
        }
      },
      "source": [
        "import matplotlib.pyplot as plt \n",
        "%matplotlib inline\n",
        "plt.figure(figsize=(7,4), dpi=120)\n",
        "#plt.subplot(221)\n",
        "plt.plot(visdf.columns.values, visdf.iloc[0].values, '#007A99')\n",
        "plt.xticks(visdf.columns.values)\n",
        "plt.ylabel('Perplexity')\n",
        "plt.show()"
      ],
      "execution_count": 0,
      "outputs": [
        {
          "output_type": "display_data",
          "data": {
            "image/png": "[encoded data removed]",
            "text/plain": [
              "<Figure size 840x480 with 1 Axes>"
            ]
          },
          "metadata": {
            "tags": []
          }
        }
      ]
    },
    {
      "cell_type": "code",
      "metadata": {
        "id": "y69BqY9QaVJi",
        "colab_type": "code",
        "colab": {}
      },
      "source": [
        "from sklearn.model_selection import GridSearchCV"
      ],
      "execution_count": 0,
      "outputs": []
    },
    {
      "cell_type": "code",
      "metadata": {
        "id": "fDF0rzwYaH3k",
        "colab_type": "code",
        "outputId": "4940c688-984f-432c-ba89-40e1c4026804",
        "colab": {
          "base_uri": "https://localhost:8080/",
          "height": 236
        }
      },
      "source": [
        "GridSearchCV(cv=None, error_score='raise',\n",
        "       estimator=LatentDirichletAllocation(batch_size=128, doc_topic_prior=None,\n",
        "             evaluate_every=-1, learning_decay=0.7, learning_method=None,\n",
        "             learning_offset=10.0, max_doc_update_iter=100, max_iter=10,\n",
        "             mean_change_tol=0.001, n_components=10, n_jobs=1,\n",
        "             n_topics=None, perp_tol=0.1, random_state=None,\n",
        "             topic_word_prior=None, total_samples=1000000.0, verbose=0),\n",
        "       fit_params=None, iid=True, n_jobs=1,\n",
        "       param_grid={'n_topics': [10, 15, 20, 25, 30], 'learning_decay': [0.5, 0.7, 0.9]},\n",
        "       pre_dispatch='2*n_jobs', refit=True, return_train_score='warn',\n",
        "       scoring=None, verbose=0)"
      ],
      "execution_count": 0,
      "outputs": [
        {
          "output_type": "error",
          "ename": "NameError",
          "evalue": "ignored",
          "traceback": [
            "\u001b[0;31m---------------------------------------------------------------------------\u001b[0m",
            "\u001b[0;31mNameError\u001b[0m                                 Traceback (most recent call last)",
            "\u001b[0;32m<ipython-input-7-45dd0d63bcbe>\u001b[0m in \u001b[0;36m<module>\u001b[0;34m()\u001b[0m\n\u001b[0;32m----> 1\u001b[0;31m GridSearchCV(cv=None, error_score='raise',\n\u001b[0m\u001b[1;32m      2\u001b[0m        estimator=LatentDirichletAllocation(batch_size=128, doc_topic_prior=None,\n\u001b[1;32m      3\u001b[0m              \u001b[0mevaluate_every\u001b[0m\u001b[0;34m=\u001b[0m\u001b[0;34m-\u001b[0m\u001b[0;36m1\u001b[0m\u001b[0;34m,\u001b[0m \u001b[0mlearning_decay\u001b[0m\u001b[0;34m=\u001b[0m\u001b[0;36m0.7\u001b[0m\u001b[0;34m,\u001b[0m \u001b[0mlearning_method\u001b[0m\u001b[0;34m=\u001b[0m\u001b[0;32mNone\u001b[0m\u001b[0;34m,\u001b[0m\u001b[0;34m\u001b[0m\u001b[0;34m\u001b[0m\u001b[0m\n\u001b[1;32m      4\u001b[0m              \u001b[0mlearning_offset\u001b[0m\u001b[0;34m=\u001b[0m\u001b[0;36m10.0\u001b[0m\u001b[0;34m,\u001b[0m \u001b[0mmax_doc_update_iter\u001b[0m\u001b[0;34m=\u001b[0m\u001b[0;36m100\u001b[0m\u001b[0;34m,\u001b[0m \u001b[0mmax_iter\u001b[0m\u001b[0;34m=\u001b[0m\u001b[0;36m10\u001b[0m\u001b[0;34m,\u001b[0m\u001b[0;34m\u001b[0m\u001b[0;34m\u001b[0m\u001b[0m\n\u001b[1;32m      5\u001b[0m              \u001b[0mmean_change_tol\u001b[0m\u001b[0;34m=\u001b[0m\u001b[0;36m0.001\u001b[0m\u001b[0;34m,\u001b[0m \u001b[0mn_components\u001b[0m\u001b[0;34m=\u001b[0m\u001b[0;36m10\u001b[0m\u001b[0;34m,\u001b[0m \u001b[0mn_jobs\u001b[0m\u001b[0;34m=\u001b[0m\u001b[0;36m1\u001b[0m\u001b[0;34m,\u001b[0m\u001b[0;34m\u001b[0m\u001b[0;34m\u001b[0m\u001b[0m\n",
            "\u001b[0;31mNameError\u001b[0m: name 'GridSearchCV' is not defined"
          ]
        }
      ]
    },
    {
      "cell_type": "code",
      "metadata": {
        "id": "sMAfVBvvaEny",
        "colab_type": "code",
        "outputId": "5075b6b9-48da-43bb-e9c0-bbbd8ee05beb",
        "colab": {
          "base_uri": "https://localhost:8080/",
          "height": 488
        }
      },
      "source": [
        "# Define Search Param\n",
        "search_params = {'n_components': [6,7,8,9,10,11,12,13,14,15,16,17,18,19,20], 'learning_decay': [.5, .7, .9]}\n",
        "\n",
        "# Init the Model\n",
        "lda = LatentDirichletAllocation()\n",
        "\n",
        "# Init Grid Search Class\n",
        "model = GridSearchCV(lda, param_grid=search_params)\n",
        "\n",
        "# Do the Grid Search\n",
        "model.fit(doc_term_matrix)"
      ],
      "execution_count": 0,
      "outputs": [
        {
          "output_type": "stream",
          "text": [
            "/usr/local/lib/python3.6/dist-packages/sklearn/model_selection/_split.py:1978: FutureWarning: The default value of cv will change from 3 to 5 in version 0.22. Specify it explicitly to silence this warning.\n",
            "  warnings.warn(CV_WARNING, FutureWarning)\n",
            "/usr/local/lib/python3.6/dist-packages/sklearn/model_selection/_search.py:814: DeprecationWarning: The default of the `iid` parameter will change from True to False in version 0.22 and will be removed in 0.24. This will change numeric results when test-set sizes are unequal.\n",
            "  DeprecationWarning)\n"
          ],
          "name": "stderr"
        },
        {
          "output_type": "execute_result",
          "data": {
            "text/plain": [
              "GridSearchCV(cv='warn', error_score='raise-deprecating',\n",
              "             estimator=LatentDirichletAllocation(batch_size=128,\n",
              "                                                 doc_topic_prior=None,\n",
              "                                                 evaluate_every=-1,\n",
              "                                                 learning_decay=0.7,\n",
              "                                                 learning_method='batch',\n",
              "                                                 learning_offset=10.0,\n",
              "                                                 max_doc_update_iter=100,\n",
              "                                                 max_iter=10,\n",
              "                                                 mean_change_tol=0.001,\n",
              "                                                 n_components=10, n_jobs=None,\n",
              "                                                 perp_tol=0.1,\n",
              "                                                 random_state=None,\n",
              "                                                 topic_word_prior=None,\n",
              "                                                 total_samples=1000000.0,\n",
              "                                                 verbose=0),\n",
              "             iid='warn', n_jobs=None,\n",
              "             param_grid={'learning_decay': [0.5, 0.7, 0.9],\n",
              "                         'n_components': [6, 7, 8, 9, 10, 11, 12, 13, 14, 15,\n",
              "                                          16, 17, 18, 19, 20]},\n",
              "             pre_dispatch='2*n_jobs', refit=True, return_train_score=False,\n",
              "             scoring=None, verbose=0)"
            ]
          },
          "metadata": {
            "tags": []
          },
          "execution_count": 15
        }
      ]
    },
    {
      "cell_type": "code",
      "metadata": {
        "id": "w2IPtKpsaE3O",
        "colab_type": "code",
        "outputId": "ce1658c2-2293-4126-f914-2a817b232402",
        "colab": {
          "base_uri": "https://localhost:8080/",
          "height": 69
        }
      },
      "source": [
        "# Best Model\n",
        "best_lda_model = model.best_estimator_\n",
        "\n",
        "# Model Parameters\n",
        "print(\"Best Model's Params: \", model.best_params_)\n",
        "\n",
        "# Log Likelihood Score\n",
        "print(\"Best Log Likelihood Score: \", model.best_score_)\n",
        "\n",
        "# Perplexity\n",
        "print(\"Model Perplexity: \", best_lda_model.perplexity(doc_term_matrix))"
      ],
      "execution_count": 0,
      "outputs": [
        {
          "output_type": "stream",
          "text": [
            "Best Model's Params:  {'learning_decay': 0.9, 'n_components': 6}\n",
            "Best Log Likelihood Score:  -207171.11248206938\n",
            "Model Perplexity:  1578.006443843221\n"
          ],
          "name": "stdout"
        }
      ]
    },
    {
      "cell_type": "code",
      "metadata": {
        "id": "LupvykkxeY2u",
        "colab_type": "code",
        "colab": {}
      },
      "source": [
        ""
      ],
      "execution_count": 0,
      "outputs": []
    },
    {
      "cell_type": "markdown",
      "metadata": {
        "id": "F2gWD5yibvcz",
        "colab_type": "text"
      },
      "source": [
        "### 3.1.2 Doc_Topic结果\n",
        "训练LDA的一大目的就是分析一篇文章的话题分布，这才能使得模型创造更高的价值。利用已训练好的模型将doc转换为话题分布的函数及结果如下："
      ]
    },
    {
      "cell_type": "code",
      "metadata": {
        "id": "4H9nMQxUbvc0",
        "colab_type": "code",
        "colab": {}
      },
      "source": [
        "doc_topic_dist = lda_model.transform(doc_term_matrix)"
      ],
      "execution_count": 0,
      "outputs": []
    },
    {
      "cell_type": "code",
      "metadata": {
        "id": "fCV1zVpbbvc2",
        "colab_type": "code",
        "outputId": "e29c29b1-dbe7-44d8-c88f-02f01fa2c692",
        "colab": {}
      },
      "source": [
        "doc_topic_dist#属于某一主题的概率"
      ],
      "execution_count": 0,
      "outputs": [
        {
          "output_type": "execute_result",
          "data": {
            "text/plain": [
              "array([[0.01786682, 0.65413104, 0.31013294, 0.0178692 ],\n",
              "       [0.05107433, 0.05022671, 0.84860611, 0.05009285],\n",
              "       [0.05133971, 0.05023923, 0.84832211, 0.05009895],\n",
              "       ...,\n",
              "       [0.04556487, 0.04168631, 0.36519764, 0.54755117],\n",
              "       [0.08807773, 0.0835793 , 0.74494243, 0.08340054],\n",
              "       [0.31070905, 0.56056866, 0.06502399, 0.0636983 ]])"
            ]
          },
          "metadata": {
            "tags": []
          },
          "execution_count": 93
        }
      ]
    },
    {
      "cell_type": "markdown",
      "metadata": {
        "id": "ccs3Gnkabvc4",
        "colab_type": "text"
      },
      "source": [
        "### 3.1.3模型保存"
      ]
    },
    {
      "cell_type": "code",
      "metadata": {
        "id": "c0jsIXxVbvc5",
        "colab_type": "code",
        "colab": {}
      },
      "source": [
        "from sklearn.feature_extraction.text import CountVectorizer\n",
        "from sklearn.externals import joblib  #也可以选择pickle等保存模型\n",
        "\n",
        "#构建词汇统计向量并保存，仅运行首次\n",
        "n_features=2500\n",
        "tf_vectorizer = CountVectorizer(max_df=0.95, min_df=2,\n",
        "                                max_features=n_features,\n",
        "                                stop_words='english')\n",
        "tf = tf_vectorizer.fit_transform(corpus)\n",
        "joblib.dump(tf_vectorizer,\"tf_vectorizer.pkl\" )\n",
        "#==============================================================================\n",
        "# #得到存储的tf_vectorizer,节省预处理时间\n",
        "# tf_vectorizer = joblib.load(\"tf_vectorizer.pkl\")\n",
        "# tf1 = tf_vectorizer.fit_transform(corpus)\n",
        "#=============================================================================="
      ],
      "execution_count": 0,
      "outputs": []
    },
    {
      "cell_type": "markdown",
      "metadata": {
        "id": "Qzg99nPwbvc6",
        "colab_type": "text"
      },
      "source": [
        "### 3.1.4困惑度preplexity计算"
      ]
    },
    {
      "cell_type": "code",
      "metadata": {
        "id": "wlUeZjKmbvc9",
        "colab_type": "code",
        "colab": {}
      },
      "source": [
        "import matplotlib.pyplot as plt\n",
        "import pandas as pd\n",
        "df = pd.read_csv('sklearn_perplexity.csv')\n",
        "plt.figure(figsize=(4,3), dpi=120)\n",
        "#plt.subplot(221)\n",
        "plt.plot(df.columns.values, df.iloc[0].values, '#007A99')\n",
        "plt.xticks(df.columns.values)\n",
        "plt.ylabel('train Perplexity')\n",
        "plt.show()\n",
        "# plt.savefig('lda_topic_perplexity.png', bbox_inches='tight', pad_inches=0.1)"
      ],
      "execution_count": 0,
      "outputs": []
    },
    {
      "cell_type": "markdown",
      "metadata": {
        "id": "vINEJUaNbvdA",
        "colab_type": "text"
      },
      "source": [
        "### 3.1.5 top-term 输出"
      ]
    },
    {
      "cell_type": "code",
      "metadata": {
        "id": "RdSq8nw-bvdA",
        "colab_type": "code",
        "colab": {}
      },
      "source": [
        "#定义以下的函数，把每个主题里面的前若干个关键词显示出来：\n",
        "def print_top_words(model, feature_names, n_top_words):\n",
        "    for topic_idx, topic in enumerate(model.components_):\n",
        "        print(\"Topic #%d:\" % topic_idx)\n",
        "        print(\" \".join([feature_names[i] for i in topic.argsort()[:-n_top_words - 1:-1]]))\n",
        "    print()"
      ],
      "execution_count": 0,
      "outputs": []
    },
    {
      "cell_type": "code",
      "metadata": {
        "id": "GyheZllFbvdD",
        "colab_type": "code",
        "outputId": "236823af-243f-4ef5-a3f4-2b6299534f8a",
        "colab": {}
      },
      "source": [
        "n_top_words = 30\n",
        "tf_feature_names = vectorizer.get_feature_names()\n",
        "print_top_words(lda_model, tf_feature_names, n_top_words)"
      ],
      "execution_count": 0,
      "outputs": [
        {
          "output_type": "stream",
          "text": [
            "Topic #0:\n",
            "老师 机构 儿子 康复 医院 希望 幼儿园 医生 真的 干预 小孩 自闭 诊断 交流 确诊 时间 妈妈 小朋友 北京 有没有 说话 检查 朋友 分享 情况 发现 两个 一点 工作 女儿\n",
            "Topic #1:\n",
            "喜欢 宝宝 妈妈 东西 说话 小朋友 爸爸 大人 玩具 眼神 有时候 特别 感觉 对视 爸爸妈妈 我家 医生 一岁 主动 他会 家里 指令 交流 奶奶 看着 指物 名字 不好 检查 只会\n",
            "Topic #2:\n",
            "训练 语言 能力 游戏 老师 沟通 动作 自闭 模仿 学习 物品 方法 指令 表达 理解 食物 东西 辅助 主动 注意力 玩具 强化 简单 发展 回答 幼儿 妈妈 重复 正确 运动\n",
            "Topic #3:\n",
            "干预 训练 孤独症 父母 生活 教育 家庭 社会 学习 情绪 治疗 康复 障碍 能力 老师 学校 成长 活动 早期 患儿 发育 中心 世界 社交 融合 发展 时间 方法 机构 环境\n",
            "Topic #4:\n",
            "语言 能力 障碍 治疗 研究 患者 发育 功能 活动 感觉 表现 一种 发展 音乐 导致 说话 认知 发现 理解 异常 大脑 意识 方式 原因 训练 交流 影响 症状 诊断 方法\n",
            "\n"
          ],
          "name": "stdout"
        }
      ]
    },
    {
      "cell_type": "markdown",
      "metadata": {
        "id": "mnUimCTPbvdE",
        "colab_type": "text"
      },
      "source": [
        "### 3.1.6pyLDAvis可视化"
      ]
    },
    {
      "cell_type": "code",
      "metadata": {
        "id": "FbKjfVM7bvdF",
        "colab_type": "code",
        "outputId": "ec7b6ad5-bd9e-4ac2-f898-1af93e8f68c8",
        "colab": {}
      },
      "source": [
        "import pyLDAvis\n",
        "import pyLDAvis.sklearn\n",
        "pyLDAvis.enable_notebook()\n",
        "data = pyLDAvis.sklearn.prepare(lda_model, doc_term_matrix, vectorizer,sort_topics=True)\n",
        "pyLDAvis.display(data,local=True)"
      ],
      "execution_count": 0,
      "outputs": [
        {
          "output_type": "stream",
          "text": [
            "D:\\Program Files\\WPy-3702\\python-3.7.0.amd64\\lib\\site-packages\\pyLDAvis\\_prepare.py:257: FutureWarning: Sorting because non-concatenation axis is not aligned. A future version\n",
            "of pandas will change to not sort by default.\n",
            "\n",
            "To accept the future behavior, pass 'sort=False'.\n",
            "\n",
            "To retain the current behavior and silence the warning, pass 'sort=True'.\n",
            "\n",
            "  return pd.concat([default_term_info] + list(topic_dfs))\n"
          ],
          "name": "stderr"
        },
        {
          "output_type": "execute_result",
          "data": {
            "text/html": [
              "\n",
              "<link rel=\"stylesheet\" type=\"text/css\" href=\"/nbextensions/ldavis.v1.0.0.css\">\n",
              "\n",
              "\n",
              "<div id=\"ldavis_el794818415185661601099626148\"></div>\n",
              "<script type=\"text/javascript\">\n",
              "\n",
              "var ldavis_el794818415185661601099626148_data = {\"mdsDat\": {\"x\": [-0.188299579817514, -0.06131797952222171, 0.2943708482235839, -0.1763945117789451, 0.13164122289509664], \"y\": [0.10427361556393185, -0.1698993887725565, -0.07207448555988412, -0.03995116917345309, 0.17765142794196198], \"topics\": [1, 2, 3, 4, 5], \"cluster\": [1, 1, 1, 1, 1], \"Freq\": [22.271622260008776, 20.993966698163415, 20.3048740237181, 19.968826397854805, 16.460710620254897]}, \"tinfo\": {\"Category\": [\"Default\", \"Default\", \"Default\", \"Default\", \"Default\", \"Default\", \"Default\", \"Default\", \"Default\", \"Default\", \"Default\", \"Default\", \"Default\", \"Default\", \"Default\", \"Default\", \"Default\", \"Default\", \"Default\", \"Default\", \"Default\", \"Default\", \"Default\", \"Default\", \"Default\", \"Default\", \"Default\", \"Default\", \"Default\", \"Default\", \"Topic1\", \"Topic1\", \"Topic1\", \"Topic1\", \"Topic1\", \"Topic1\", \"Topic1\", \"Topic1\", \"Topic1\", \"Topic1\", \"Topic1\", \"Topic1\", \"Topic1\", \"Topic1\", \"Topic1\", \"Topic1\", \"Topic1\", \"Topic1\", \"Topic1\", \"Topic1\", \"Topic1\", \"Topic1\", \"Topic1\", \"Topic1\", \"Topic1\", \"Topic1\", \"Topic1\", \"Topic1\", \"Topic1\", \"Topic1\", \"Topic1\", \"Topic1\", \"Topic1\", \"Topic1\", \"Topic1\", \"Topic1\", \"Topic1\", \"Topic1\", \"Topic1\", \"Topic1\", \"Topic1\", \"Topic1\", \"Topic1\", \"Topic1\", \"Topic1\", \"Topic1\", \"Topic1\", \"Topic1\", \"Topic1\", \"Topic1\", \"Topic1\", \"Topic1\", \"Topic1\", \"Topic1\", \"Topic1\", \"Topic1\", \"Topic1\", \"Topic1\", \"Topic1\", \"Topic1\", \"Topic1\", \"Topic1\", \"Topic1\", \"Topic1\", \"Topic1\", \"Topic1\", \"Topic1\", \"Topic1\", \"Topic1\", \"Topic1\", \"Topic1\", \"Topic1\", \"Topic1\", \"Topic1\", \"Topic1\", \"Topic1\", \"Topic1\", \"Topic1\", \"Topic1\", \"Topic1\", \"Topic1\", \"Topic1\", \"Topic1\", \"Topic1\", \"Topic1\", \"Topic1\", \"Topic1\", \"Topic1\", \"Topic1\", \"Topic1\", \"Topic1\", \"Topic1\", \"Topic1\", \"Topic2\", \"Topic2\", \"Topic2\", \"Topic2\", \"Topic2\", \"Topic2\", \"Topic2\", \"Topic2\", \"Topic2\", \"Topic2\", \"Topic2\", \"Topic2\", \"Topic2\", \"Topic2\", \"Topic2\", \"Topic2\", \"Topic2\", \"Topic2\", \"Topic2\", \"Topic2\", \"Topic2\", \"Topic2\", \"Topic2\", \"Topic2\", \"Topic2\", \"Topic2\", \"Topic2\", \"Topic2\", \"Topic2\", \"Topic2\", \"Topic2\", \"Topic2\", \"Topic2\", \"Topic2\", \"Topic2\", \"Topic2\", \"Topic2\", \"Topic2\", \"Topic2\", \"Topic2\", \"Topic2\", \"Topic2\", \"Topic2\", \"Topic2\", \"Topic2\", \"Topic2\", \"Topic2\", \"Topic2\", \"Topic2\", \"Topic2\", \"Topic2\", \"Topic2\", \"Topic2\", \"Topic2\", \"Topic2\", \"Topic2\", \"Topic2\", \"Topic2\", \"Topic2\", \"Topic2\", \"Topic2\", \"Topic2\", \"Topic2\", \"Topic2\", \"Topic2\", \"Topic2\", \"Topic2\", \"Topic2\", \"Topic2\", \"Topic2\", \"Topic2\", \"Topic2\", \"Topic2\", \"Topic2\", \"Topic2\", \"Topic2\", \"Topic2\", \"Topic2\", \"Topic2\", \"Topic2\", \"Topic2\", \"Topic2\", \"Topic2\", \"Topic2\", \"Topic2\", \"Topic2\", \"Topic3\", \"Topic3\", \"Topic3\", \"Topic3\", \"Topic3\", \"Topic3\", \"Topic3\", \"Topic3\", \"Topic3\", \"Topic3\", \"Topic3\", \"Topic3\", \"Topic3\", \"Topic3\", \"Topic3\", \"Topic3\", \"Topic3\", \"Topic3\", \"Topic3\", \"Topic3\", \"Topic3\", \"Topic3\", \"Topic3\", \"Topic3\", \"Topic3\", \"Topic3\", \"Topic3\", \"Topic3\", \"Topic3\", \"Topic3\", \"Topic3\", \"Topic3\", \"Topic3\", \"Topic3\", \"Topic3\", \"Topic3\", \"Topic3\", \"Topic3\", \"Topic3\", \"Topic3\", \"Topic3\", \"Topic3\", \"Topic3\", \"Topic3\", \"Topic3\", \"Topic3\", \"Topic3\", \"Topic3\", \"Topic3\", \"Topic3\", \"Topic3\", \"Topic3\", \"Topic3\", \"Topic3\", \"Topic3\", \"Topic3\", \"Topic3\", \"Topic3\", \"Topic3\", \"Topic3\", \"Topic3\", \"Topic3\", \"Topic3\", \"Topic3\", \"Topic3\", \"Topic3\", \"Topic3\", \"Topic3\", \"Topic3\", \"Topic3\", \"Topic3\", \"Topic3\", \"Topic3\", \"Topic3\", \"Topic3\", \"Topic3\", \"Topic3\", \"Topic3\", \"Topic3\", \"Topic3\", \"Topic3\", \"Topic3\", \"Topic3\", \"Topic3\", \"Topic3\", \"Topic3\", \"Topic3\", \"Topic3\", \"Topic3\", \"Topic3\", \"Topic3\", \"Topic3\", \"Topic3\", \"Topic4\", \"Topic4\", \"Topic4\", \"Topic4\", \"Topic4\", \"Topic4\", \"Topic4\", \"Topic4\", \"Topic4\", \"Topic4\", \"Topic4\", \"Topic4\", \"Topic4\", \"Topic4\", \"Topic4\", \"Topic4\", \"Topic4\", \"Topic4\", \"Topic4\", \"Topic4\", \"Topic4\", \"Topic4\", \"Topic4\", \"Topic4\", \"Topic4\", \"Topic4\", \"Topic4\", \"Topic4\", \"Topic4\", \"Topic4\", \"Topic4\", \"Topic4\", \"Topic4\", \"Topic4\", \"Topic4\", \"Topic4\", \"Topic4\", \"Topic4\", \"Topic4\", \"Topic4\", \"Topic4\", \"Topic4\", \"Topic4\", \"Topic4\", \"Topic4\", \"Topic4\", \"Topic4\", \"Topic4\", \"Topic4\", \"Topic4\", \"Topic4\", \"Topic4\", \"Topic4\", \"Topic4\", \"Topic4\", \"Topic4\", \"Topic4\", \"Topic4\", \"Topic4\", \"Topic4\", \"Topic4\", \"Topic4\", \"Topic4\", \"Topic4\", \"Topic4\", \"Topic4\", \"Topic4\", \"Topic4\", \"Topic4\", \"Topic4\", \"Topic4\", \"Topic4\", \"Topic4\", \"Topic4\", \"Topic4\", \"Topic4\", \"Topic4\", \"Topic4\", \"Topic4\", \"Topic4\", \"Topic4\", \"Topic4\", \"Topic4\", \"Topic4\", \"Topic4\", \"Topic4\", \"Topic4\", \"Topic4\", \"Topic4\", \"Topic4\", \"Topic5\", \"Topic5\", \"Topic5\", \"Topic5\", \"Topic5\", \"Topic5\", \"Topic5\", \"Topic5\", \"Topic5\", \"Topic5\", \"Topic5\", \"Topic5\", \"Topic5\", \"Topic5\", \"Topic5\", \"Topic5\", \"Topic5\", \"Topic5\", \"Topic5\", \"Topic5\", \"Topic5\", \"Topic5\", \"Topic5\", \"Topic5\", \"Topic5\", \"Topic5\", \"Topic5\", \"Topic5\", \"Topic5\", \"Topic5\", \"Topic5\", \"Topic5\", \"Topic5\", \"Topic5\", \"Topic5\", \"Topic5\", \"Topic5\", \"Topic5\", \"Topic5\", \"Topic5\", \"Topic5\", \"Topic5\", \"Topic5\", \"Topic5\", \"Topic5\", \"Topic5\", \"Topic5\", \"Topic5\", \"Topic5\", \"Topic5\", \"Topic5\", \"Topic5\", \"Topic5\", \"Topic5\", \"Topic5\", \"Topic5\", \"Topic5\", \"Topic5\", \"Topic5\", \"Topic5\", \"Topic5\", \"Topic5\", \"Topic5\", \"Topic5\", \"Topic5\", \"Topic5\", \"Topic5\", \"Topic5\", \"Topic5\", \"Topic5\", \"Topic5\", \"Topic5\", \"Topic5\", \"Topic5\", \"Topic5\", \"Topic5\", \"Topic5\", \"Topic5\", \"Topic5\", \"Topic5\", \"Topic5\", \"Topic5\", \"Topic5\", \"Topic5\", \"Topic5\", \"Topic5\", \"Topic5\", \"Topic5\", \"Topic5\", \"Topic5\"], \"Freq\": [2938.0, 3991.0, 2194.0, 4552.0, 5081.0, 2542.0, 3097.0, 2711.0, 3657.0, 1312.0, 3383.0, 2296.0, 2134.0, 1595.0, 2051.0, 1336.0, 1864.0, 1643.0, 1186.0, 845.0, 942.0, 3124.0, 1563.0, 1064.0, 1592.0, 1865.0, 2233.0, 1559.0, 1100.0, 689.0, 99.7761723347703, 75.32362544356792, 68.47691231404224, 80.20127764787107, 56.73968168736834, 46.958671049784584, 44.02436542284044, 42.06816167156361, 42.0681616715411, 41.09005979591067, 40.111957920243235, 57.69940245443096, 39.13385604460697, 39.1338560445928, 39.13385604459098, 39.13351168727574, 40.10804236559823, 36.199550417666906, 33.26524479072271, 32.28714291509047, 32.287142915051845, 32.28714291507383, 32.28714049766726, 31.309041039440935, 31.30904103941668, 31.308899058549123, 35.2153398679662, 33.26159355486644, 30.33093916378626, 30.330939163774367, 514.135895951014, 75.26301545934068, 84.84828517414786, 61.534738041299704, 57.66471460403386, 53.73238793923905, 245.3185099194815, 51.74772946059472, 50.73922755910401, 42.98906940473921, 44.89182352513924, 1242.2185909614343, 46.75271754142651, 129.6073106389847, 95.532841447633, 224.34823132650635, 1172.4279910386233, 121.37086311177494, 96.6918198001164, 183.40389872231952, 393.5187390328527, 70.54796885120538, 87.43988606866151, 308.3131409166708, 142.46125522815964, 585.778045986567, 1227.119807846853, 1565.7852256424082, 1425.9745970132428, 426.1381336060888, 1025.1623761288965, 709.6136648689672, 1309.14551704128, 489.0596435069316, 566.9682039410349, 1712.0998366229774, 287.18287594627924, 249.2954899230777, 648.1399582743635, 174.590877930549, 185.45368341003203, 556.1318196187078, 147.42744251677715, 1065.5696361158903, 377.9277342503159, 1004.743368001556, 1612.1049020070902, 984.8883069420906, 544.4068678124985, 434.8695225443125, 767.3274444324177, 542.013873076848, 447.4006061992078, 407.0441846230311, 637.5671887323371, 491.61087129139486, 746.4090162819516, 730.8869327778497, 557.6137831953051, 510.5367222820383, 507.14098015578287, 497.11030418168906, 495.9932852407228, 122.99860138692115, 96.02805548429059, 80.92429996173735, 505.75264684070396, 67.97813812277528, 56.109503398477294, 66.88971895299679, 49.63774218423765, 69.0409651688673, 47.480048544379315, 39.92812080498314, 89.50307977501052, 37.770427165171554, 37.770333172450954, 45.31089955723475, 134.74853147338905, 34.53388670538309, 33.45503988549377, 33.45503988548906, 207.96933838479427, 29.13965260585307, 28.06080578591923, 28.06080578591619, 28.06080578590362, 26.981958966035474, 26.981958966006754, 26.981958965991094, 26.981958965950945, 25.903112146110853, 25.903112146101176, 838.1333452772343, 684.078377683408, 115.60011509340208, 141.70894007248512, 88.54886820444108, 36.657965912060085, 36.63040663090152, 170.26918886258912, 307.5230641097328, 291.0223018301663, 425.939015318225, 707.1741055980439, 74.00250829423447, 229.5493199871876, 171.47344795023167, 272.29173122012486, 542.7046059638382, 150.53921551386605, 196.6383338125159, 153.3610415137709, 139.29080909000444, 115.50369642679382, 155.35862129763913, 321.3481038990478, 186.3648486037681, 199.82364752018321, 1030.5418421815516, 635.8775402382929, 1010.1988798155907, 1091.348862058264, 278.06956998361744, 2362.1929795930987, 959.8375916349753, 465.0182874666047, 513.147673893065, 729.747416536966, 252.82202449407825, 829.1817332541816, 970.7351850415649, 300.91530464785075, 1465.9181800398064, 312.23008520884315, 1736.6740413773668, 835.0232859757854, 721.5756670366553, 683.7845513525473, 851.5915809906425, 477.96864112131584, 453.86854778464635, 1052.9615445876057, 534.7633823369646, 461.73292750058016, 690.5074718565813, 544.6154760123534, 532.4335649746312, 487.41335968679056, 59.77611725792992, 59.77398901174654, 57.00911927554899, 45.06420485674495, 44.143643151359655, 38.62782259899243, 29.432911244767084, 28.51342010936433, 30.348425588817996, 27.593795376159996, 25.754851295376294, 24.835353775500792, 23.915964432255095, 23.91596443223297, 22.996473296835266, 22.07698216140133, 25.74852185322691, 21.15749102597702, 21.157491025960436, 22.075412156477995, 20.237999890569565, 20.237998725656475, 19.31850870109094, 19.318504553132843, 45.012868220407924, 19.317839721737155, 18.39901761972935, 18.3990176182519, 18.399012193610215, 18.398880331344472, 536.6089358569401, 130.01796959864205, 239.4631770104118, 95.47157191488327, 92.6529968758542, 111.57055641185549, 213.18678899593849, 85.96714604095492, 99.37473361890619, 277.8749456728397, 95.69640017770114, 91.95479725316503, 63.90339443305675, 122.50749946136435, 43.94634998798017, 30.2879748508004, 624.6812273409076, 568.298042855714, 886.7357257827263, 151.63302013598204, 183.55507636702222, 229.63799308878353, 184.50524454837208, 2683.8011843739346, 701.753595942308, 265.95104215069534, 724.937744129682, 104.97899950470654, 388.1983142196057, 461.43313042384426, 355.28140790915234, 401.8546684992412, 1032.169910206791, 217.7179947053743, 3213.336892319102, 286.83380726738346, 400.90051330789544, 395.86623647951325, 333.89484352915133, 1249.016423798522, 263.2855467968711, 484.9710296183789, 2125.499299010889, 1856.3870931204624, 719.2445545774084, 1475.1860948450387, 937.6047730081286, 729.1486913465661, 1728.2797099352365, 354.6582957119534, 970.982739846538, 608.8871163727764, 798.5817276901921, 412.55292076533107, 545.647308044446, 514.2981235337984, 710.3791039411437, 513.1352663982193, 775.5774800459079, 653.9604833335147, 598.6262148347143, 504.33943160591707, 597.8821489347396, 193.62004342812858, 146.01115889974028, 108.98202652057347, 105.80810088651297, 99.46024961843874, 190.40607438681263, 89.93847257328721, 86.76454708228597, 84.64859665963911, 76.18479496884619, 71.95289412349636, 66.66301806678312, 63.48909243276264, 62.43111722137124, 60.31516679873146, 59.25719158738513, 57.141241164674085, 48.6774394739312, 48.67743947393092, 47.61946426257157, 44.445538628536646, 44.44553862850021, 43.387563417180075, 43.38756341718719, 43.38756341717122, 42.32958820583675, 42.32958820580984, 41.27161299448521, 49.72665323223842, 39.15566257182525, 90.91406516499956, 99.26123977962048, 128.3815854311391, 475.17481837848544, 317.351389315375, 111.39916272664819, 59.165258317455205, 68.52373195661926, 260.3421096577017, 267.85673182068183, 254.21081947259398, 109.30271215681078, 62.14329170035576, 593.6131033838774, 80.62304624407761, 133.7734759081714, 154.03309139331623, 143.64491051004802, 264.79058247913304, 111.93174677693487, 198.57805704898064, 190.12541068312726, 830.8360208115848, 583.869551556738, 842.5282350573641, 258.3071998158278, 293.062562395804, 424.04161343456644, 498.4419280981566, 461.10062346618275, 715.2791666869808, 416.88949483762116, 2460.6325063292406, 211.10685307025685, 1017.7158981609267, 616.8051433963672, 996.2255720221918, 254.62700278754377, 311.7449674612053, 827.4595499802895, 1133.5382979079368, 450.11773240845446, 414.902150528683, 565.7457535951471, 378.7510728926968, 442.0016083585004, 664.1945031766236, 618.0977915332505, 612.9379969622112, 634.2522697541373, 445.9889763101435, 357.9632028231257, 510.315659403068, 454.57469964515377, 512.7825100876468, 572.6583684468441, 427.1994428442066, 448.64811322803365, 450.10227836876544, 426.4349291160566, 118.13283671826568, 116.18038920617143, 96.65591408540094, 92.75101906124478, 85.91745276894648, 62.48808262402961, 58.583187599876716, 57.60696384383997, 49.79717379551935, 48.82094962310965, 44.91605501533043, 43.93983125929269, 37.106264967017886, 37.10626496701552, 35.15381745493963, 34.17759369890691, 33.20136994286129, 33.20136994286035, 33.20136994285371, 32.225146186820545, 32.2243150991007, 30.272698674716523, 30.272698674718118, 30.27269867471135, 29.296474918710157, 29.296474918705535, 29.296474918703325, 29.296474918645288, 32.21990418787994, 27.344027406629067, 202.78430141178353, 73.02080463317724, 44.76080290988516, 39.91537170256375, 109.02535151173714, 167.70501376073113, 88.86351352888997, 65.23555058299009, 158.79513616767184, 61.55891186591081, 51.695388426004136, 149.2158555331449, 44.98247093027348, 1682.9102728956236, 59.21829509031251, 830.1629243143212, 153.98556630700534, 68.04505051415651, 1686.8552879351544, 74.60421823922621, 625.8529464300738, 1011.146608421098, 123.46593866469634, 230.99341854008478, 920.6254729262001, 437.2549043129385, 160.47735820676473, 1717.0263994978186, 357.0247896013715, 1056.5640698623147, 132.7450423182187, 119.05141571630833, 235.35310301007908, 233.73443946039615, 665.2047885313584, 191.1185435049593, 489.520567289668, 318.14664441280803, 208.12059884820835, 238.142394512862, 216.2959736685029, 256.0734679440973, 478.0359429834615, 354.0411246381957, 237.02166599940827, 478.4001380060073, 229.26702515832713, 559.4880392043689, 330.223776270998, 466.6285958405899, 402.77589604887464, 312.47501445063665, 293.6873568716378, 376.2003552904428, 288.5749018034645, 389.0296935001512, 308.31191524759333, 337.63931162722037, 294.4536959451143, 259.1124219752783], \"Term\": [\"\\u5b9d\\u5b9d\", \"\\u559c\\u6b22\", \"\\u513f\\u5b50\", \"\\u8bad\\u7ec3\", \"\\u8bed\\u8a00\", \"\\u673a\\u6784\", \"\\u5988\\u5988\", \"\\u4e1c\\u897f\", \"\\u8001\\u5e08\", \"\\u6559\\u80b2\", \"\\u80fd\\u529b\", \"\\u5eb7\\u590d\", \"\\u5c0f\\u670b\\u53cb\", \"\\u7238\\u7238\", \"\\u5b64\\u72ec\\u75c7\", \"\\u793e\\u4f1a\", \"\\u969c\\u788d\", \"\\u533b\\u9662\", \"\\u5927\\u4eba\", \"\\u7269\\u54c1\", \"\\u6709\\u65f6\\u5019\", \"\\u8bf4\\u8bdd\", \"\\u5bb6\\u5ead\", \"\\u5e7c\\u513f\\u56ed\", \"\\u73a9\\u5177\", \"\\u7236\\u6bcd\", \"\\u6cbb\\u7597\", \"\\u6c9f\\u901a\", \"\\u60a3\\u8005\", \"\\u8f85\\u52a9\", \"\\u957f\\u6625\\u5e02\", \"\\u5c0f\\u6587\", \"\\u80b2\\u9f99\", \"\\u5bb6\\u5ead\\u6559\\u80b2\", \"\\u5b66\\u5458\", \"\\u6821\\u56ed\", \"\\u6743\\u5229\", \"\\u6b3a\\u51cc\", \"\\u5144\\u5f1f\", \"\\u5f17\\u5c14\", \"\\u63a5\\u79cd\", \"\\u5bbd\\u5bb9\", \"\\u5e08\\u8d44\", \"\\u957f\\u6625\", \"\\u521b\\u4f24\", \"\\u7ef4\\u513f\\u5eb7\", \"\\u540c\\u7b49\", \"\\u57fa\\u5730\", \"\\u504f\\u89c1\", \"\\u4e94\\u500d\", \"\\u59d0\\u59b9\", \"\\u652f\\u63f4\", \"\\u4e0d\\u5bb9\\u4e50\\u89c2\", \"\\u793e\\u4f1a\\u6559\\u80b2\", \"\\u51b7\\u9759\\u4e0b\\u6765\", \"\\u75be\\u63a7\\u4e2d\\u5fc3\", \"\\u9694\\u79bb\", \"\\u51fa\\u7248\", \"\\u968f\\u73ed\", \"\\u5c45\\u5bb6\", \"\\u878d\\u5408\", \"\\u5931\\u63a7\", \"\\u4f19\\u4f34\", \"\\u6d88\\u9664\", \"\\u5047\\u671f\", \"\\u5021\\u5bfc\", \"\\u75ab\\u82d7\", \"\\u65e8\\u5728\", \"\\u96c5\\u6069\", \"\\u6388\\u8bfe\", \"\\u9010\\u5e74\", \"\\u6559\\u80b2\", \"\\u521b\\u5efa\", \"\\u60a3\\u75c5\", \"\\u540c\\u4f34\", \"\\u670d\\u52a1\", \"\\u793e\\u4f1a\", \"\\u89c2\\u5ff5\", \"\\u542f\\u97f3\", \"\\u4e3b\\u9898\", \"\\u652f\\u6301\", \"\\u6cae\\u4e27\", \"\\u9762\\u4e34\", \"\\u878d\\u5165\", \"\\u63a5\\u7eb3\", \"\\u65e9\\u671f\", \"\\u5bb6\\u5ead\", \"\\u5b64\\u72ec\\u75c7\", \"\\u7236\\u6bcd\", \"\\u57f9\\u8bad\", \"\\u60c5\\u7eea\", \"\\u5b66\\u6821\", \"\\u751f\\u6d3b\", \"\\u4e13\\u4e1a\", \"\\u60a3\\u513f\", \"\\u5e72\\u9884\", \"\\u6307\\u5bfc\", \"\\u4e2d\\u56fd\", \"\\u6210\\u957f\", \"\\u7fa4\\u4f53\", \"\\u4e3b\\u4efb\", \"\\u4e2d\\u5fc3\", \"\\u65b9\\u6848\", \"\\u5b66\\u4e60\", \"\\u5eb7\\u590d\\u8bad\\u7ec3\", \"\\u6cbb\\u7597\", \"\\u8bad\\u7ec3\", \"\\u5eb7\\u590d\", \"\\u4e16\\u754c\", \"\\u8bc4\\u4f30\", \"\\u969c\\u788d\", \"\\u793e\\u4ea4\", \"\\u63a5\\u53d7\", \"\\u63d0\\u4f9b\", \"\\u6d3b\\u52a8\", \"\\u73af\\u5883\", \"\\u80fd\\u529b\", \"\\u8001\\u5e08\", \"\\u53d1\\u80b2\", \"\\u53d1\\u5c55\", \"\\u65f6\\u95f4\", \"\\u65b9\\u6cd5\", \"\\u673a\\u6784\", \"\\u89c6\\u7ebf\", \"\\u6750\\u6599\", \"\\u624b\\u90e8\", \"\\u5e7c\\u513f\", \"\\u5982\\u5395\", \"\\u6392\\u4fbf\", \"\\u504f\\u98df\", \"\\u6559\\u8005\", \"\\u6307\\u5bfc\\u8005\", \"\\u6263\\u5b50\", \"\\u9910\\u5177\", \"\\u624b\\u773c\", \"\\u6c64\\u5319\", \"\\u590d\\u8ff0\", \"\\u56fe\\u753b\", \"\\u8fdb\\u98df\", \"\\u5c11\\u91cf\", \"\\u808c\\u529b\", \"\\u8054\\u7ed3\", \"\\u793a\\u8303\", \"\\u89d2\\u7403\", \"\\u6ed1\\u677f\", \"\\u653e\\u7f6e\", \"\\u996d\\u7897\", \"\\u4e3b\\u8bd5\", \"\\u6293\\u63e1\", \"\\u6a61\\u76ae\\u6ce5\", \"\\u547c\\u53eb\", \"\\u8df3\\u5e8a\", \"\\u5f02\\u98df\", \"\\u7269\\u54c1\", \"\\u8f85\\u52a9\", \"\\u5b9e\\u7269\", \"\\u914d\\u5bf9\", \"\\u7ea2\\u8272\", \"\\u6559\\u5177\", \"\\u5154\\u5b50\", \"\\u6cdb\\u5316\", \"\\u8bf4\\u51fa\", \"\\u82f9\\u679c\", \"\\u63d0\\u793a\", \"\\u98df\\u7269\", \"\\u955c\\u5b50\", \"\\u5956\\u52b1\", \"\\u5f62\\u72b6\", \"\\u5361\\u7247\", \"\\u5f3a\\u5316\", \"\\u540d\\u79f0\", \"\\u53e3\\u8bed\", \"\\u7167\\u7247\", \"\\u6b65\\u9aa4\", \"\\u4ee3\\u8bcd\", \"\\u59ff\\u52bf\", \"\\u56fe\\u7247\", \"\\u997c\\u5e72\", \"\\u63d0\\u95ee\", \"\\u6c9f\\u901a\", \"\\u6ce8\\u610f\\u529b\", \"\\u52a8\\u4f5c\", \"\\u6e38\\u620f\", \"\\u76ee\\u5149\", \"\\u8bad\\u7ec3\", \"\\u6a21\\u4eff\", \"\\u6b63\\u786e\", \"\\u56de\\u7b54\", \"\\u8868\\u8fbe\", \"\\u989c\\u8272\", \"\\u6307\\u4ee4\", \"\\u81ea\\u95ed\", \"\\u653e\\u5728\", \"\\u80fd\\u529b\", \"\\u76ee\\u7684\", \"\\u8bed\\u8a00\", \"\\u65b9\\u6cd5\", \"\\u7406\\u89e3\", \"\\u4e3b\\u52a8\", \"\\u5b66\\u4e60\", \"\\u91cd\\u590d\", \"\\u5b66\\u4f1a\", \"\\u8001\\u5e08\", \"\\u7b80\\u5355\", \"\\u8fd0\\u52a8\", \"\\u4e1c\\u897f\", \"\\u73a9\\u5177\", \"\\u53d1\\u5c55\", \"\\u5988\\u5988\", \"\\u559d\\u5976\", \"\\u8ba4\\u751f\", \"\\u4f1a\\u62c9\\u7740\", \"\\u57ab\\u811a\", \"\\u6478\\u6478\", \"\\u554a\\u554a\\u554a\", \"\\u5c3f\\u4e0d\\u6e7f\", \"\\u98de\\u543b\", \"\\u722c\\u9ad8\", \"\\u6c6a\\u6c6a\", \"\\u6ed1\\u677f\\u8f66\", \"\\u53e0\\u8bcd\", \"\\u4e0b\\u697c\\u68af\", \"\\u6d17\\u8863\\u673a\", \"\\u732b\\u732b\", \"\\u545c\\u545c\", \"\\u7761\\u9192\", \"\\u63a8\\u7740\", \"\\u8461\\u8404\", \"\\u4f1a\\u62c9\", \"\\u5341\\u4e00\\u4e2a\\u6708\", \"\\u51e0\\u79d2\", \"\\u73a9\\u4f1a\", \"\\u6253\\u6253\", \"\\u6000\\u91cc\", \"\\u626d\\u626d\", \"\\u8f66\\u8f66\", \"\\u6dd8\\u6c14\\u5821\", \"\\u4e24\\u4e0b\", \"\\u8eb2\\u5f00\", \"\\u6307\\u7269\", \"\\u4eb2\\u4eb2\", \"\\u62b1\\u62b1\", \"\\u4f69\\u5947\", \"\\u8eb2\\u732b\\u732b\", \"\\u8dd1\\u8fc7\\u6765\", \"\\u5e94\\u540d\", \"\\u8f6e\\u5b50\", \"\\u5c0f\\u732a\", \"\\u51fa\\u53bb\\u73a9\", \"\\u62ac\\u5934\", \"\\u5976\\u7c89\", \"\\u5916\\u516c\", \"\\u6ed1\\u68af\", \"\\u4e0d\\u5b66\", \"\\u54bf\\u5440\", \"\\u4ed6\\u4f1a\", \"\\u5976\\u5976\", \"\\u6709\\u65f6\\u5019\", \"\\u59e5\\u59e5\", \"\\u62dc\\u62dc\", \"\\u56de\\u5934\", \"\\u706b\\u661f\", \"\\u5b9d\\u5b9d\", \"\\u4e00\\u5c81\", \"\\u52a8\\u753b\\u7247\", \"\\u7238\\u7238\\u5988\\u5988\", \"\\u4e0d\\u5e94\\u540d\", \"\\u4e0d\\u7406\", \"\\u51fa\\u95e8\", \"\\u59d0\\u59d0\", \"\\u964c\\u751f\\u4eba\", \"\\u5927\\u4eba\", \"\\u65e0\\u610f\\u8bc6\", \"\\u559c\\u6b22\", \"\\u770b\\u7535\\u89c6\", \"\\u56de\\u6765\", \"\\u624b\\u673a\", \"\\u5916\\u9762\", \"\\u7238\\u7238\", \"\\u542c\\u4e0d\\u61c2\", \"\\u53ea\\u4f1a\", \"\\u5988\\u5988\", \"\\u4e1c\\u897f\", \"\\u6211\\u5bb6\", \"\\u5c0f\\u670b\\u53cb\", \"\\u773c\\u795e\", \"\\u5bf9\\u89c6\", \"\\u8bf4\\u8bdd\", \"\\u8ddf\\u7740\", \"\\u73a9\\u5177\", \"\\u5bb6\\u91cc\", \"\\u7279\\u522b\", \"\\u4e24\\u5c81\", \"\\u770b\\u7740\", \"\\u540d\\u5b57\", \"\\u533b\\u751f\", \"\\u4e0d\\u597d\", \"\\u611f\\u89c9\", \"\\u4e3b\\u52a8\", \"\\u6307\\u4ee4\", \"\\u68c0\\u67e5\", \"\\u4ea4\\u6d41\", \"\\u547c\\u5438\", \"\\u4eba\\u4f53\", \"\\u8840\\u6db2\", \"\\u5965\\u5c14\\u592b\", \"\\u4e2d\\u533b\", \"\\u7efc\\u5408\\u75c7\", \"\\u76ca\\u751f\\u83cc\", \"\\u63a8\\u52a8\", \"\\u6f5c\\u610f\\u8bc6\", \"\\u76f8\\u5f53\\u4e8e\", \"\\u80ce\\u513f\", \"\\u5e72\\u7ec6\\u80de\", \"\\u8840\\u6d41\", \"\\u903b\\u8f91\\u601d\\u7ef4\", \"\\u5b97\\u6c14\", \"\\u704c\\u6ce8\", \"\\u8106\\u6027\", \"\\u4e2d\\u8bf4\", \"\\u5f17\\u6d1b\\u4f0a\\u5fb7\", \"\\u8303\\u7574\", \"\\u6fc0\\u6d3b\", \"\\u4ea7\\u54c1\", \"\\u5f8b\\u52a8\", \"\\u5438\\u6c14\", \"\\u5168\\u8eab\", \"\\u5929\\u5b9d\", \"\\u53ea\\u4e0d\\u8fc7\", \"\\u8bed\\u6cd5\", \"\\u4e0b\\u964d\", \"\\u771f\\u7406\", \"\\u52a0\\u5de5\", \"\\u795e\\u7ecf\\u7cfb\\u7edf\", \"\\u9762\\u5b54\", \"\\u5927\\u8111\", \"\\u795e\\u7ecf\", \"\\u6240\\u8bf4\", \"\\u6784\\u97f3\", \"\\u5668\\u5b98\", \"\\u57fa\\u56e0\", \"\\u6587\\u7ae0\", \"\\u65af\\u4f2f\\u683c\", \"\\u7ed3\\u6784\", \"\\u4f53\\u5185\", \"\\u97f3\\u4e50\", \"\\u79d1\\u5b66\\u5bb6\", \"\\u611f\\u5b98\", \"\\u5148\\u5929\", \"\\u963f\\u65af\", \"\\u601d\\u7ef4\", \"\\u524d\\u5ead\", \"\\u80fd\\u91cf\", \"\\u4eba\\u7c7b\", \"\\u60a3\\u8005\", \"\\u5bfc\\u81f4\", \"\\u7814\\u7a76\", \"\\u9057\\u4f20\", \"\\u7cfb\\u7edf\", \"\\u4fe1\\u606f\", \"\\u5f02\\u5e38\", \"\\u610f\\u8bc6\", \"\\u529f\\u80fd\", \"\\u8c31\\u7cfb\", \"\\u8bed\\u8a00\", \"\\u7406\\u8bba\", \"\\u969c\\u788d\", \"\\u4e00\\u79cd\", \"\\u6cbb\\u7597\", \"\\u73b0\\u8c61\", \"\\u81ea\\u6211\", \"\\u53d1\\u80b2\", \"\\u80fd\\u529b\", \"\\u539f\\u56e0\", \"\\u8eab\\u4f53\", \"\\u8ba4\\u77e5\", \"\\u5173\\u7cfb\", \"\\u75c7\\u72b6\", \"\\u6d3b\\u52a8\", \"\\u8868\\u73b0\", \"\\u53d1\\u5c55\", \"\\u611f\\u89c9\", \"\\u5f71\\u54cd\", \"\\u523a\\u6fc0\", \"\\u7406\\u89e3\", \"\\u65b9\\u5f0f\", \"\\u53d1\\u73b0\", \"\\u8bf4\\u8bdd\", \"\\u8bca\\u65ad\", \"\\u4ea4\\u6d41\", \"\\u8bad\\u7ec3\", \"\\u65b9\\u6cd5\", \"\\u5e08\\u5144\", \"\\u611f\\u6069\", \"\\u4f5b\\u6cd5\", \"\\u83e9\\u8428\", \"\\u56e0\\u679c\", \"\\u798f\\u62a5\", \"\\u4e0a\\u5e08\", \"\\u5ff5\\u7ecf\", \"\\u836f\\u5e08\", \"\\u5c0f\\u5b50\", \"\\u9053\\u573a\", \"\\u5e08\\u7236\", \"\\u534e\\u534e\", \"\\u9648\\u9526\\u9e3f\", \"\\u5b66\\u4f5b\", \"\\u672b\\u5b66\", \"\\u6cd5\\u95e8\", \"\\u4f17\\u751f\", \"\\u6148\\u60b2\", \"\\u9006\\u5883\", \"\\u653e\\u751f\", \"\\u4e49\\u5de5\", \"\\u8fd9\\u8f88\\u5b50\", \"\\u4fee\\u884c\", \"\\u7ecf\\u6587\", \"\\u4e1a\\u969c\", \"\\u4f5b\\u4e8b\", \"\\u4ee3\\u5e01\", \"\\u54c8\\u5c14\\u6ee8\", \"\\u89c2\\u4e16\\u97f3\", \"\\u8001\\u5a46\", \"\\u6821\\u533a\", \"\\u66d9\\u5149\", \"\\u73ed\\u4e3b\\u4efb\", \"\\u547d\\u8fd0\", \"\\u7edd\\u671b\", \"\\u7537\\u751f\", \"\\u4e00\\u8def\", \"\\u4e00\\u5bb6\", \"\\u90d1\\u5dde\", \"\\u5f53\\u5929\", \"\\u7236\\u4eb2\", \"\\u6ca1\\u60f3\\u5230\", \"\\u513f\\u5b50\", \"\\u84dd\\u8272\", \"\\u5e7c\\u513f\\u56ed\", \"\\u7ec8\\u4e8e\", \"\\u8f9e\\u804c\", \"\\u673a\\u6784\", \"\\u6b66\\u6c49\", \"\\u771f\\u7684\", \"\\u533b\\u9662\", \"\\u4e0b\\u5348\", \"\\u4e00\\u5e74\", \"\\u5e0c\\u671b\", \"\\u786e\\u8bca\", \"\\u5fd7\\u613f\\u8005\", \"\\u8001\\u5e08\", \"\\u5317\\u4eac\", \"\\u5eb7\\u590d\", \"\\u611f\\u8c22\", \"\\u5357\\u4eac\", \"\\u63a8\\u8350\", \"\\u4e0d\\u60f3\", \"\\u533b\\u751f\", \"\\u5eb7\\u590d\\u4e2d\\u5fc3\", \"\\u5c0f\\u5b69\", \"\\u670b\\u53cb\", \"\\u5c0f\\u5b66\", \"\\u4e0a\\u8bfe\", \"\\u966a\\u4f34\", \"\\u5973\\u513f\", \"\\u8bca\\u65ad\", \"\\u6709\\u6ca1\\u6709\", \"\\u8bf7\\u95ee\", \"\\u81ea\\u95ed\", \"\\u513f\\u7ae5\\u533b\\u9662\", \"\\u5e72\\u9884\", \"\\u68c0\\u67e5\", \"\\u4ea4\\u6d41\", \"\\u65f6\\u95f4\", \"\\u5206\\u4eab\", \"\\u4e24\\u4e2a\", \"\\u5c0f\\u670b\\u53cb\", \"\\u4e00\\u70b9\", \"\\u5988\\u5988\", \"\\u60c5\\u51b5\", \"\\u8bf4\\u8bdd\", \"\\u53d1\\u73b0\", \"\\u5de5\\u4f5c\"], \"Total\": [2938.0, 3991.0, 2194.0, 4552.0, 5081.0, 2542.0, 3097.0, 2711.0, 3657.0, 1312.0, 3383.0, 2296.0, 2134.0, 1595.0, 2051.0, 1336.0, 1864.0, 1643.0, 1186.0, 845.0, 942.0, 3124.0, 1563.0, 1064.0, 1592.0, 1865.0, 2233.0, 1559.0, 1100.0, 689.0, 99.8164977039975, 75.36395081279512, 68.51723768326944, 80.25551067171409, 56.780014688977346, 46.99899641901178, 44.06469079206764, 42.108487040790806, 42.108487040768296, 41.13038516513787, 40.15228328947043, 57.75808174074459, 39.17418141383417, 39.174181413819994, 39.174181413818175, 39.17418075261576, 40.15228420994713, 36.2398757868941, 33.30557015994991, 32.32746828431767, 32.32746828427904, 32.32746828430536, 32.32746827967323, 31.34936640866813, 31.349366408643874, 31.349366136041926, 35.261762181542835, 33.30556657761084, 30.371264533013456, 30.37126453300156, 521.5170054213639, 75.36383443146197, 85.16590425003503, 61.67832006064366, 57.76245140867504, 53.8455693835372, 249.8014891154045, 51.892977045498355, 50.918285990262646, 43.09125947910478, 45.04258044013501, 1312.7188004882391, 46.99909274798886, 133.31090872099173, 98.05944417665303, 237.40596453348755, 1336.3992108285963, 126.61837203762651, 99.9250723096398, 196.52664041545066, 440.4672640220331, 72.5651881841446, 91.27545904542298, 352.61952208621, 153.8984965687692, 704.1095657060486, 1563.6687815769367, 2051.0485862481996, 1865.615040491766, 519.9561942647944, 1387.8487433629555, 956.0433575620211, 1918.3767318037737, 653.4772369701591, 781.3769549483915, 3089.0542403066574, 373.62255064174184, 317.8950894979642, 1056.8816650703654, 210.80339413899443, 227.98865530883444, 934.1591438835826, 171.3723826283907, 2255.7099071801504, 594.6725617320461, 2233.2831554327527, 4552.057881974496, 2296.772938709505, 1010.7167761991312, 763.4750133495838, 1864.6696640587938, 1097.7439396858515, 817.002088531374, 726.7981587228195, 1761.9397516609383, 1135.5079840489518, 3383.9450387718703, 3657.939406977675, 1986.084888085638, 1659.9960266663727, 1733.5896590752932, 1813.6107767894298, 2542.0571659942907, 123.03853683519111, 96.0674714265428, 80.96361788152187, 506.0246740664018, 68.0174560425598, 56.15001778667343, 66.93842403381386, 49.67706010402218, 69.09599294040231, 47.519366464163845, 39.96743872476767, 89.59338653900498, 37.809745084956084, 37.80974326651133, 45.359980763233345, 134.89492956968303, 34.57320462516762, 33.4943578052783, 33.49435780527359, 208.24738663949026, 29.178970525637595, 28.100123705703755, 28.100123705700717, 28.100123705688148, 27.02127688582, 27.02127688579128, 27.02127688577562, 27.021276885760766, 25.94243006589538, 25.942430065885702, 845.0022135683645, 689.9730710926078, 116.54696049603668, 143.48181714603055, 89.44588957805193, 36.72775927980691, 36.72932736412587, 173.60231623630023, 316.32612779532553, 300.5889255895466, 448.8950675624998, 755.8917563136879, 75.34374941436312, 244.5546776946284, 180.8486509706966, 295.28258630321045, 605.9394442295362, 160.21764187632604, 212.27522289075986, 163.74343009117314, 148.11785527526467, 121.64191164582464, 168.48578151094455, 375.88780635699334, 206.95656035580404, 228.9643919371169, 1559.2537486263438, 906.2913024696518, 1564.2716386299508, 1748.1701029243666, 343.91984078358837, 4552.057881974496, 1581.1534614094385, 646.7708655942375, 735.2953030416983, 1170.6503950910362, 308.3098298765876, 1503.3900606506893, 1860.7790569749877, 392.48568845809524, 3383.9450387718703, 420.830866243852, 5081.94746250382, 1813.6107767894298, 1587.8745478162691, 1461.5706320993745, 2255.7099071801504, 862.1506791247128, 810.3365292281235, 3657.939406977675, 1197.1977502156367, 928.3673744925271, 2711.9397068520957, 1592.6318340550722, 1659.9960266663727, 3097.638139925298, 59.81703028012573, 59.81716159295294, 57.06003437313632, 45.10517545965417, 44.18587607865216, 38.66873407562189, 29.473822721408403, 28.55433158599379, 30.39355922491869, 27.634848693548165, 25.795864066376, 24.876384685733733, 23.956875908884555, 23.956875908862692, 23.037384773464726, 22.11789363803079, 25.796276464098113, 21.19840250260648, 21.198402502589897, 22.118165733324403, 20.278911367199026, 20.278911569076328, 19.35942023510979, 19.35942049103368, 45.10834293108191, 19.359461511149576, 18.43992909635881, 18.43992909644352, 18.43993003672219, 18.439937567027354, 545.0250820360933, 130.65233586407174, 242.19234792726493, 95.68734653152279, 92.94721266603582, 112.2660678998959, 216.3576346881269, 86.52197567675307, 100.32764016002227, 283.6706369532023, 96.70857631769219, 92.97566565200282, 64.44409323893501, 124.37796461927154, 44.1979233703606, 30.404392096580587, 653.8877341059988, 596.856399970738, 942.773494564207, 155.68707526774034, 189.22318788098377, 237.94794644077103, 190.9005305796966, 2938.8229548144586, 749.9463378768743, 278.6737432609141, 786.541147400566, 107.80412398639379, 415.44398970503687, 499.15982919262194, 380.3824977345011, 437.10277617323067, 1186.6130830830014, 231.34783689189982, 3991.6357983368466, 311.2216407833852, 448.18574049322757, 445.4473532411558, 371.600933263808, 1595.7258970855871, 293.0254710873136, 582.0895542420108, 3097.638139925298, 2711.9397068520957, 922.6418582449467, 2134.4880346797127, 1273.0302447810373, 969.9809983876623, 3124.5963613030185, 420.9431196817038, 1592.6318340550722, 904.0350915295037, 1409.5398122136846, 534.7648520191005, 840.9964072025143, 828.0925632518125, 1566.7297056739724, 826.7949075524256, 2008.5481160325871, 1461.5706320993745, 1503.3900606506893, 959.0323627961056, 2127.540744304618, 193.65957006399879, 146.05068555384912, 109.0215531564437, 105.84762752238322, 99.49977625430897, 190.48260006143445, 89.977999355058, 86.8040737181562, 84.68812329550934, 76.22432160471642, 71.9924207593666, 66.70254470265336, 63.528619068632864, 62.47064385724146, 60.354693434601685, 59.296718223255354, 57.18076780054431, 48.716966109801426, 48.71696610980114, 47.65899089844179, 44.48506526440687, 44.485065264379344, 43.4270900530503, 43.42709005305741, 43.42709005304145, 42.369114841706974, 42.369114841680066, 41.311139630355434, 49.77511416600136, 39.19518920769548, 91.03698547367947, 99.4847517249229, 129.06883980690006, 484.58712251635893, 322.51237346490973, 112.1382445803855, 59.29853187177751, 68.82353040112547, 265.1890627916121, 273.7222595429408, 259.8535063373855, 111.10574450532323, 62.47632204476452, 625.4284273838963, 81.51053664270272, 138.60656848917387, 161.3474424442753, 150.74964949904432, 290.7117367648659, 116.4767586248975, 217.47068032037652, 208.50938368812544, 1100.5064545802616, 743.2413166725077, 1125.2956559438176, 299.3957698426172, 345.8163630785685, 532.4121150622174, 642.2786114253689, 594.7665856078834, 1003.9069749636819, 552.5308128350391, 5081.94746250382, 252.92758193676394, 1864.6696640587938, 1093.6105506570946, 2233.2831554327527, 342.52025729654315, 469.24355263578764, 1986.084888085638, 3383.9450387718703, 822.8413561710366, 737.4749558423715, 1258.882272551692, 647.473165181003, 861.0196297012502, 1761.9397516609383, 1592.5298192664616, 1659.9960266663727, 2008.5481160325871, 931.1851931718671, 602.269011193959, 1587.8745478162691, 1212.7536890843678, 1738.8214553175321, 3124.5963613030185, 1450.7093260436795, 2127.540744304618, 4552.057881974496, 1813.6107767894298, 118.17318086868896, 116.2207333565947, 96.69625823582422, 92.79136321166806, 85.95779691936976, 62.52842677445289, 58.623531750299996, 57.64730799426325, 49.83751794594263, 48.861294233658526, 44.95639916575371, 43.98017540971597, 37.146609117441166, 37.1466091174388, 35.19416160536291, 34.21793784933019, 33.24171409328457, 33.24171409328363, 33.24171409327699, 32.265490337243826, 32.265577703238726, 30.313042825139803, 30.31304282514141, 30.31304282513463, 29.336819069133437, 29.336819069128815, 29.336819069126605, 29.336819069068568, 32.265185701791204, 27.384371557052347, 204.92735777259833, 73.28781346180772, 44.97271965234536, 40.07551041117917, 111.52805874532254, 174.6773660545374, 91.03240967765876, 66.48225873449489, 171.78638351146114, 63.40968548605705, 52.80239815301685, 163.02886473533334, 45.87979953648921, 2194.2248162215865, 61.647623528637595, 1064.5131442201136, 174.32596708207302, 72.14635305670353, 2542.0571659942907, 81.34717952921287, 917.451114636851, 1643.7109136411432, 145.01945162181374, 300.8285780350751, 1508.4150002569595, 639.3803500917766, 199.05082610682535, 3657.939406977675, 570.673577704508, 2296.772938709505, 166.36664330798197, 145.62712559948235, 358.62377792932205, 358.0329503917986, 1566.7297056739724, 281.04501879946656, 1058.805809514355, 605.9255769554665, 334.3022622424552, 412.74951279658865, 358.14673443530364, 473.66311567043624, 1450.7093260436795, 865.3537296146773, 432.1172121215492, 1860.7790569749877, 414.5129812851168, 3089.0542403066574, 959.0323627961056, 2127.540744304618, 1733.5896590752932, 956.5971221959649, 820.9733036349298, 2134.4880346797127, 887.9337776824358, 3097.638139925298, 1780.675902953216, 3124.5963613030185, 1738.8214553175321, 879.056593166639], \"loglift\": [30.0, 29.0, 28.0, 27.0, 26.0, 25.0, 24.0, 23.0, 22.0, 21.0, 20.0, 19.0, 18.0, 17.0, 16.0, 15.0, 14.0, 13.0, 12.0, 11.0, 10.0, 9.0, 8.0, 7.0, 6.0, 5.0, 4.0, 3.0, 2.0, 1.0, 1.5015, 1.5013, 1.5013, 1.5012, 1.5011, 1.501, 1.5009, 1.5009, 1.5009, 1.5009, 1.5009, 1.5008, 1.5008, 1.5008, 1.5008, 1.5008, 1.5008, 1.5007, 1.5006, 1.5006, 1.5006, 1.5006, 1.5006, 1.5006, 1.5006, 1.5006, 1.5005, 1.5005, 1.5005, 1.5005, 1.4876, 1.5005, 1.4981, 1.4995, 1.5002, 1.4998, 1.4837, 1.4991, 1.4983, 1.4995, 1.4985, 1.4467, 1.4966, 1.4737, 1.4758, 1.4453, 1.371, 1.4595, 1.469, 1.4327, 1.3891, 1.4737, 1.4589, 1.3676, 1.4246, 1.3179, 1.2595, 1.2319, 1.2331, 1.3029, 1.199, 1.2038, 1.1198, 1.212, 1.1811, 0.9117, 1.2387, 1.2588, 1.0129, 1.3134, 1.2954, 0.9832, 1.3514, 0.7519, 1.0485, 0.7031, 0.4638, 0.6551, 0.8831, 0.939, 0.6139, 0.7961, 0.8997, 0.9221, 0.4853, 0.6647, -0.0097, -0.1085, 0.2316, 0.3227, 0.2727, 0.2076, -0.1323, 1.5606, 1.5605, 1.5604, 1.5604, 1.5604, 1.5602, 1.5602, 1.5601, 1.5601, 1.5601, 1.56, 1.5599, 1.5599, 1.5599, 1.5599, 1.5598, 1.5598, 1.5598, 1.5598, 1.5596, 1.5596, 1.5595, 1.5595, 1.5595, 1.5595, 1.5595, 1.5595, 1.5595, 1.5594, 1.5594, 1.5528, 1.5524, 1.5528, 1.5485, 1.5509, 1.559, 1.5582, 1.5415, 1.5327, 1.5286, 1.5084, 1.4943, 1.543, 1.4976, 1.5077, 1.4799, 1.4507, 1.4986, 1.4844, 1.4954, 1.4995, 1.5092, 1.4798, 1.4042, 1.4561, 1.4248, 1.1468, 1.2066, 1.1237, 1.0898, 1.3484, 0.9049, 1.0618, 1.231, 1.2012, 1.0883, 1.3625, 0.9659, 0.9102, 1.2953, 0.7244, 1.2624, 0.4872, 0.7853, 0.7722, 0.8013, 0.5868, 0.9711, 0.9813, 0.3156, 0.755, 0.8625, 0.1929, 0.4879, 0.4238, -0.2883, 1.5936, 1.5936, 1.5934, 1.5934, 1.5934, 1.5933, 1.5929, 1.5929, 1.5928, 1.5928, 1.5927, 1.5927, 1.5926, 1.5926, 1.5925, 1.5925, 1.5925, 1.5924, 1.5924, 1.5924, 1.5923, 1.5923, 1.5922, 1.5922, 1.5922, 1.5922, 1.5921, 1.5921, 1.5921, 1.5921, 1.5787, 1.5894, 1.583, 1.5921, 1.5911, 1.5881, 1.5795, 1.5879, 1.5848, 1.5737, 1.5838, 1.5833, 1.5859, 1.5792, 1.5886, 1.5905, 1.5486, 1.5453, 1.533, 1.5679, 1.5639, 1.5588, 1.5602, 1.5035, 1.5279, 1.5476, 1.5127, 1.5678, 1.5265, 1.5157, 1.526, 1.5102, 1.4549, 1.5336, 1.3774, 1.5127, 1.4828, 1.4763, 1.4873, 1.3493, 1.4873, 1.4118, 1.2177, 1.2153, 1.3453, 1.2249, 1.2885, 1.3089, 1.0021, 1.423, 1.0995, 1.1991, 1.0261, 1.3348, 1.1617, 1.118, 0.8034, 1.1173, 0.6427, 0.7901, 0.6735, 0.9516, 0.325, 1.6108, 1.6107, 1.6106, 1.6106, 1.6106, 1.6106, 1.6106, 1.6105, 1.6105, 1.6105, 1.6104, 1.6104, 1.6104, 1.6104, 1.6103, 1.6103, 1.6103, 1.6102, 1.6102, 1.6102, 1.6101, 1.6101, 1.6101, 1.6101, 1.6101, 1.6101, 1.6101, 1.61, 1.61, 1.61, 1.6096, 1.6087, 1.6057, 1.5914, 1.5949, 1.6044, 1.6087, 1.6066, 1.5926, 1.5893, 1.589, 1.5946, 1.6057, 1.5588, 1.6001, 1.5755, 1.5646, 1.5627, 1.5176, 1.5712, 1.5201, 1.5187, 1.3299, 1.3697, 1.3216, 1.4634, 1.4455, 1.3834, 1.3575, 1.3564, 1.272, 1.3293, 0.8857, 1.4303, 1.0055, 1.0383, 0.8037, 1.3145, 1.2021, 0.7354, 0.5173, 1.0077, 1.0358, 0.8112, 1.0748, 0.9442, 0.6354, 0.6646, 0.6147, 0.4583, 0.8748, 1.0907, 0.4759, 0.6297, 0.3899, -0.0858, 0.3884, 0.0545, -0.7029, 0.1634, 1.8039, 1.8038, 1.8038, 1.8038, 1.8037, 1.8035, 1.8035, 1.8035, 1.8034, 1.8034, 1.8033, 1.8033, 1.8031, 1.8031, 1.803, 1.803, 1.803, 1.803, 1.803, 1.8029, 1.8029, 1.8029, 1.8029, 1.8029, 1.8028, 1.8028, 1.8028, 1.8028, 1.8028, 1.8027, 1.7937, 1.8005, 1.7995, 1.8002, 1.7815, 1.7635, 1.7801, 1.7853, 1.7256, 1.7746, 1.783, 1.7157, 1.7844, 1.5389, 1.764, 1.5555, 1.6801, 1.7457, 1.3941, 1.7177, 1.4217, 1.3183, 1.6433, 1.54, 1.3104, 1.4242, 1.5888, 1.0479, 1.3352, 1.0277, 1.5784, 1.6027, 1.383, 1.3778, 0.9475, 1.4186, 1.0327, 1.1599, 1.3303, 1.2542, 1.2999, 1.1892, 0.6941, 0.9105, 1.2036, 0.4459, 1.212, 0.0956, 0.738, 0.287, 0.3446, 0.6853, 0.7762, 0.0683, 0.6803, -0.2705, 0.0506, -0.4209, 0.0284, 0.5826], \"logprob\": [30.0, 29.0, 28.0, 27.0, 26.0, 25.0, 24.0, 23.0, 22.0, 21.0, 20.0, 19.0, 18.0, 17.0, 16.0, 15.0, 14.0, 13.0, 12.0, 11.0, 10.0, 9.0, 8.0, 7.0, 6.0, 5.0, 4.0, 3.0, 2.0, 1.0, -7.0419, -7.323, -7.4183, -7.2603, -7.6063, -7.7955, -7.8601, -7.9055, -7.9055, -7.929, -7.9531, -7.5896, -7.9778, -7.9778, -7.9778, -7.9778, -7.9532, -8.0558, -8.1403, -8.1701, -8.1701, -8.1701, -8.1701, -8.2009, -8.2009, -8.2009, -8.0833, -8.1404, -8.2326, -8.2326, -5.4023, -7.3238, -7.2039, -7.5252, -7.5902, -7.6608, -6.1423, -7.6984, -7.7181, -7.8839, -7.8406, -4.5202, -7.7999, -6.7803, -7.0853, -6.2316, -4.578, -6.846, -7.0733, -6.4331, -5.6697, -7.3885, -7.1739, -5.9137, -6.6857, -5.2719, -4.5324, -4.2887, -4.3822, -5.59, -4.7122, -5.0801, -4.4677, -5.4523, -5.3045, -4.1993, -5.9847, -6.1262, -5.1707, -6.4824, -6.422, -5.3238, -6.6515, -4.6735, -5.7101, -4.7323, -4.2595, -4.7523, -5.3451, -5.5698, -5.0019, -5.3495, -5.5414, -5.6359, -5.1871, -5.4471, -5.0295, -5.0506, -5.3211, -5.4093, -5.416, -5.436, -5.4382, -6.7736, -7.0211, -7.1922, -5.3597, -7.3665, -7.5584, -7.3827, -7.681, -7.351, -7.7254, -7.8986, -7.0915, -7.9542, -7.9542, -7.7722, -6.6823, -8.0438, -8.0755, -8.0755, -6.2483, -8.2136, -8.2514, -8.2514, -8.2514, -8.2906, -8.2906, -8.2906, -8.2906, -8.3314, -8.3314, -4.8546, -5.0577, -6.8356, -6.632, -7.1022, -7.9841, -7.9849, -6.4483, -5.8572, -5.9123, -5.5314, -5.0245, -7.2816, -6.1496, -6.4413, -5.9789, -5.2892, -6.5715, -6.3044, -6.5529, -6.6492, -6.8364, -6.54, -5.8132, -6.358, -6.2883, -4.6479, -5.1307, -4.6678, -4.5906, -5.9579, -3.8184, -4.719, -5.4437, -5.3452, -4.993, -6.053, -4.8653, -4.7077, -5.8789, -4.2955, -5.842, -4.126, -4.8583, -5.0043, -5.0581, -4.8386, -5.4162, -5.4679, -4.6264, -5.3039, -5.4507, -5.0483, -5.2857, -5.3083, -5.3966, -7.4618, -7.4618, -7.5091, -7.7443, -7.7649, -7.8984, -8.1702, -8.202, -8.1396, -8.2348, -8.3037, -8.3401, -8.3778, -8.3778, -8.417, -8.4578, -8.304, -8.5004, -8.5004, -8.4579, -8.5448, -8.5448, -8.5913, -8.5913, -7.7454, -8.5913, -8.6401, -8.6401, -8.6401, -8.6401, -5.2671, -6.6847, -6.074, -6.9935, -7.0235, -6.8377, -6.1902, -7.0984, -6.9535, -5.9252, -6.9912, -7.0311, -7.395, -6.7442, -7.7694, -8.1416, -5.1151, -5.2097, -4.7648, -6.5309, -6.3398, -6.1159, -6.3347, -3.6574, -4.9988, -5.969, -4.9663, -6.8986, -5.5908, -5.418, -5.6794, -5.5563, -4.6129, -6.1692, -3.4773, -5.8935, -5.5586, -5.5713, -5.7415, -4.4222, -5.9791, -5.3683, -3.8906, -4.026, -4.9742, -4.2558, -4.709, -4.9605, -4.0975, -5.6812, -4.674, -5.1407, -4.8695, -5.53, -5.2504, -5.3096, -4.9866, -5.3118, -4.8987, -5.0693, -5.1577, -5.3291, -5.159, -6.2698, -6.552, -6.8445, -6.874, -6.9359, -6.2865, -7.0365, -7.0725, -7.0972, -7.2025, -7.2597, -7.336, -7.3848, -7.4016, -7.4361, -7.4538, -7.4901, -7.6505, -7.6505, -7.6724, -7.7414, -7.7414, -7.7655, -7.7655, -7.7655, -7.7902, -7.7902, -7.8155, -7.6291, -7.8681, -7.0258, -6.9379, -6.6807, -5.372, -5.7757, -6.8225, -7.4553, -7.3085, -5.9737, -5.9452, -5.9975, -6.8415, -7.4062, -5.1494, -7.1459, -6.6395, -6.4985, -6.5683, -5.9567, -6.8178, -6.2445, -6.288, -4.8132, -5.166, -4.7993, -5.9815, -5.8553, -5.4858, -5.3242, -5.4021, -4.963, -5.5028, -3.7275, -6.1833, -4.6104, -5.1111, -4.6317, -5.9959, -5.7935, -4.8173, -4.5026, -5.4262, -5.5076, -5.1975, -5.5988, -5.4444, -5.0371, -5.109, -5.1174, -5.0832, -5.4354, -5.6552, -5.3006, -5.4163, -5.2958, -5.1854, -5.4784, -5.4294, -5.4262, -5.4802, -6.5707, -6.5873, -6.7713, -6.8126, -6.8891, -7.2075, -7.272, -7.2888, -7.4345, -7.4543, -7.5377, -7.5597, -7.7287, -7.7287, -7.7827, -7.8109, -7.8399, -7.8399, -7.8399, -7.8697, -7.8698, -7.9322, -7.9322, -7.9322, -7.965, -7.965, -7.965, -7.965, -7.8699, -8.034, -6.0303, -7.0517, -7.5411, -7.6557, -6.6509, -6.2203, -6.8554, -7.1645, -6.2749, -7.2225, -7.3971, -6.3371, -7.5362, -3.9142, -7.2612, -4.6208, -6.3056, -7.1223, -3.9119, -7.0303, -4.9034, -4.4236, -6.5265, -5.9001, -4.5174, -5.262, -6.2643, -3.8941, -5.4647, -4.3797, -6.454, -6.5629, -5.8814, -5.8883, -4.8424, -6.0896, -5.149, -5.58, -6.0044, -5.8696, -5.9658, -5.797, -5.1728, -5.4731, -5.8743, -5.172, -5.9076, -5.0154, -5.5427, -5.1969, -5.3441, -5.5979, -5.66, -5.4123, -5.6775, -5.3788, -5.6114, -5.5205, -5.6574, -5.7852]}, \"token.table\": {\"Topic\": [1, 2, 3, 5, 1, 2, 3, 4, 5, 1, 2, 3, 4, 5, 1, 2, 3, 4, 5, 1, 2, 3, 4, 5, 1, 2, 5, 5, 1, 2, 3, 4, 5, 1, 3, 5, 3, 4, 1, 2, 3, 4, 5, 3, 1, 3, 5, 1, 2, 3, 4, 5, 2, 3, 4, 5, 1, 2, 3, 4, 5, 1, 2, 3, 4, 5, 5, 1, 2, 3, 4, 5, 3, 1, 2, 3, 4, 5, 1, 2, 3, 4, 5, 4, 1, 2, 4, 5, 1, 2, 3, 4, 5, 4, 1, 2, 3, 4, 5, 1, 2, 3, 4, 5, 2, 1, 2, 4, 5, 5, 1, 1, 2, 3, 4, 5, 4, 3, 5, 4, 1, 2, 4, 1, 2, 3, 5, 5, 1, 2, 4, 5, 1, 3, 3, 4, 5, 5, 3, 1, 2, 4, 5, 5, 1, 1, 1, 2, 1, 2, 3, 4, 5, 1, 2, 3, 4, 5, 1, 1, 4, 5, 2, 4, 1, 2, 3, 4, 5, 1, 3, 2, 3, 5, 1, 2, 3, 4, 5, 1, 2, 3, 4, 5, 1, 1, 1, 2, 3, 4, 5, 2, 4, 1, 2, 4, 5, 4, 1, 2, 3, 4, 5, 2, 3, 5, 1, 2, 3, 4, 5, 1, 2, 3, 4, 5, 1, 2, 3, 4, 5, 3, 5, 1, 2, 3, 4, 5, 2, 3, 4, 5, 1, 2, 3, 4, 5, 1, 2, 4, 5, 1, 2, 3, 4, 5, 1, 2, 3, 4, 5, 3, 2, 4, 4, 1, 2, 3, 4, 5, 1, 2, 4, 1, 1, 2, 3, 4, 5, 1, 2, 3, 4, 2, 3, 4, 5, 1, 4, 5, 4, 3, 2, 4, 4, 5, 3, 5, 3, 1, 2, 3, 4, 5, 3, 4, 2, 3, 5, 2, 3, 4, 5, 1, 2, 3, 4, 5, 5, 1, 2, 3, 4, 5, 2, 3, 1, 2, 3, 4, 5, 1, 3, 4, 5, 1, 2, 3, 5, 1, 2, 3, 4, 5, 1, 2, 3, 4, 5, 1, 2, 4, 4, 1, 1, 2, 4, 4, 1, 2, 3, 4, 5, 2, 3, 5, 3, 5, 2, 1, 2, 3, 4, 5, 1, 3, 5, 3, 5, 1, 2, 4, 1, 2, 3, 4, 5, 1, 2, 3, 4, 5, 1, 2, 3, 4, 5, 5, 1, 1, 2, 3, 4, 5, 4, 1, 2, 3, 4, 5, 2, 4, 1, 2, 3, 4, 5, 1, 1, 2, 3, 4, 5, 1, 1, 2, 3, 4, 5, 1, 2, 3, 4, 5, 5, 1, 2, 3, 4, 5, 1, 2, 3, 4, 5, 1, 1, 2, 3, 4, 5, 3, 5, 2, 3, 1, 1, 2, 3, 4, 5, 5, 5, 1, 1, 2, 3, 4, 5, 4, 1, 2, 3, 4, 5, 2, 1, 2, 3, 4, 5, 3, 5, 1, 2, 3, 4, 5, 1, 2, 3, 4, 5, 1, 2, 3, 4, 5, 1, 2, 3, 4, 5, 2, 1, 4, 1, 2, 4, 2, 5, 2, 3, 4, 1, 2, 3, 4, 5, 4, 1, 2, 4, 5, 5, 3, 1, 2, 4, 5, 1, 2, 4, 5, 1, 4, 1, 2, 3, 4, 5, 1, 2, 3, 4, 5, 1, 2, 3, 4, 5, 1, 2, 3, 4, 5, 1, 2, 4, 5, 1, 2, 3, 4, 5, 1, 2, 3, 4, 5, 5, 1, 2, 3, 4, 5, 1, 2, 3, 4, 5, 1, 4, 1, 2, 3, 4, 5, 2, 2, 3, 2, 3, 2, 2, 3, 2, 3, 5, 2, 3, 5, 1, 2, 3, 4, 5, 1, 2, 3, 4, 5, 2, 2, 3, 5, 1, 2, 1, 2, 3, 4, 5, 1, 1, 2, 4, 5, 4, 3, 1, 2, 3, 4, 5, 1, 2, 4, 5, 1, 2, 4, 1, 2, 4, 5, 3, 1, 2, 4, 5, 1, 1, 2, 3, 4, 5, 5, 2, 2, 2, 1, 2, 4, 5, 1, 2, 4, 1, 4, 1, 2, 3, 4, 5, 1, 2, 4, 5, 1, 2, 3, 4, 5, 2, 3, 4, 5, 1, 1, 2, 3, 4, 5, 1, 2, 3, 4, 5, 5, 1, 2, 3, 4, 5, 1, 2, 3, 4, 5, 1, 2, 3, 4, 5, 1, 4, 5, 5, 1, 2, 3, 4, 5, 1, 2, 4, 5, 1, 1, 2, 3, 4, 5, 1, 2, 3, 4, 5, 2, 1, 1, 2, 3, 4, 5, 1, 2, 4, 1, 2, 3, 4, 5, 2, 3, 1, 2, 3, 4, 5, 3, 5, 1, 4, 1, 2, 3, 4, 5, 5, 1, 2, 4, 1, 2, 3, 4, 5, 3, 1, 2, 3, 4, 5, 1, 3, 1, 2, 3, 4, 5, 2, 3, 2, 3, 4, 5, 4, 4, 4, 2, 3, 4, 5, 1, 2, 3, 5, 3, 1, 2, 3, 4, 5, 1, 2, 3, 4, 5, 1, 2, 3, 4, 5, 1, 2, 3, 4, 5, 1, 2, 3, 4, 1, 2, 3, 4, 5, 3, 3, 1, 2, 3, 4, 5, 1, 2, 3, 4, 5, 1, 2, 3, 4, 5, 5, 1, 2, 3, 4, 5, 1, 2, 4, 5, 1, 2, 3, 4, 5, 2, 4, 5, 1, 4, 1, 1, 2, 3, 4, 5, 4, 1, 2, 3, 4, 5, 1, 2, 3, 4, 5, 4, 1, 2, 3, 4, 5, 1, 2, 3, 4, 5, 4, 1, 2, 3, 4, 5, 1, 2, 3, 4, 5, 3, 1, 2, 4, 5, 1, 2, 3, 4, 5, 2, 1, 2, 3, 4, 5, 1, 2, 4, 5, 1, 1, 2, 4, 5, 4, 5, 2, 4, 1, 2, 3, 4, 5, 1, 2, 4, 5, 2, 3, 1, 2, 3, 4, 5, 5, 1, 2, 4, 1, 3, 4, 5, 1, 4, 1, 2, 4, 5, 3, 5, 1, 2, 3, 4, 5, 2, 2, 1, 4, 1, 2, 3, 4, 5, 4, 5, 4, 1, 2, 4, 5, 1, 2, 3, 4, 5, 2, 3, 4, 4, 5, 5, 3, 1, 2, 5, 1, 2, 3, 4, 5, 1, 2, 5, 4, 4, 1, 2, 3, 4, 5, 1, 2, 3, 4, 5, 5, 1, 4, 2, 2, 3, 1, 2, 3, 4, 5, 1, 2, 3, 4, 5, 1, 2, 3, 4, 5, 1, 2, 3, 4, 5, 4, 1, 2, 3, 4, 5, 2, 3, 4, 5, 1, 2, 3, 4, 5, 1, 2, 3, 4, 5, 1, 2, 3, 4, 5, 3, 5, 1, 2, 3, 4, 5, 2, 1, 2, 3, 4, 5, 3, 3, 3, 3, 1, 2, 4, 1, 3, 5, 1, 2, 3, 4, 5, 5, 2, 5, 1, 4, 5, 1, 2, 3, 4, 5, 3, 5, 2, 4, 1, 2, 3, 4, 5, 2, 3, 1, 1, 4, 5, 5, 1, 2, 3, 4, 5, 1, 2, 3, 4, 5, 1, 1, 1, 2, 3, 4, 5, 1, 1, 4, 4, 5, 1, 2, 3, 4, 5, 2, 3, 4, 5, 3, 1, 2, 3, 4, 5, 2, 2, 2, 3, 5], \"Freq\": [0.04656946514894331, 0.005821183143617914, 0.023284732574471657, 0.9255681198352483, 0.0013334287394895972, 0.004000286218468791, 0.9360669751216972, 0.0026668574789791943, 0.05600400705856308, 0.09640041577638526, 0.019944913608907294, 0.07645550216747797, 0.03988982721781459, 0.7678791739429309, 0.10361133038561267, 0.17794119783616089, 0.251144855173822, 0.14190247422377386, 0.3254747226243702, 0.26426226395342906, 0.14904757447892364, 0.001828804594833419, 0.5641862175061098, 0.020116850543167607, 0.015041606874303465, 0.015041606874303465, 0.9777044468297252, 1.0064217940895053, 0.138098285359069, 0.14536661616744104, 0.11387051599782883, 0.021804992425116156, 0.5766209107975162, 0.07585189350106042, 0.062060640137231254, 0.8481620818754938, 1.0018000715652349, 1.0045180375327445, 0.02660877540371766, 0.0943402037040899, 0.6204682628230528, 0.039913163105576493, 0.2177081623940536, 0.9955218852998572, 0.9898702775967417, 0.9739887132077831, 0.027828248948793804, 0.05586078035028291, 0.06982597543785364, 0.19830577024350435, 0.025137351157627313, 0.6535711300983101, 0.024070633461564697, 0.9339405783087102, 0.00240706334615647, 0.03851301353850352, 0.7483045656911383, 0.018363302225549407, 0.004590825556387352, 0.10405871261144664, 0.1239522900224585, 0.5382318892991454, 0.02671371509389141, 0.004946984276646558, 0.2483386106876572, 0.181059624525264, 0.9885188960556651, 0.007006055463546567, 0.25479917501635146, 0.6843809968601278, 0.01364337116585384, 0.040192633975082936, 0.9761425322196945, 0.014616796851820844, 0.21559775356435745, 0.31791533152710333, 0.09379111313251708, 0.3581115228696107, 0.003739961578343531, 0.018699807891717653, 0.7723020659279392, 0.02056978868088942, 0.1851280981280048, 0.9949771117773009, 0.7832772767683617, 0.015728459372858668, 0.10380783186086721, 0.094370756237152, 0.5951876654426778, 0.24299928067533785, 0.005352407063333433, 0.06636984758533457, 0.08884995725133499, 1.0058097601882814, 0.8114438841239631, 0.05263419788912193, 0.04386183157426827, 0.03070328210198779, 0.06140656420397558, 0.0218942549181053, 0.46798969887450076, 0.44746383488877706, 0.015052300256197393, 0.04720948716716455, 0.9992125876985789, 0.9311714666934936, 0.020353474681824996, 0.03561858069319374, 0.015265106011368747, 0.9896729989481563, 0.9898702774545285, 0.13912777031057375, 0.14946834783365695, 0.28107569812744293, 0.21104178672110682, 0.21950225923999306, 0.9890959974657438, 0.9950070860979445, 0.007653900662291881, 0.999652959151428, 0.014387841673769473, 0.07193920836884736, 0.9112299726720666, 0.0015293145104904116, 0.003058629020980823, 0.9558215690565073, 0.03976217727275071, 0.9885188960576952, 0.01644170149038142, 0.9536186864421224, 0.03288340298076284, 0.9927285911729663, 0.9980519874532424, 0.9946575256398242, 0.9989478735196033, 0.9923759589365194, 0.9885188960557395, 1.0031411945996402, 0.9928167458244194, 0.09015572456383858, 0.10893816718130495, 0.7963755669805741, 0.003756488523493274, 0.9896729989483252, 1.0028680282933364, 1.0041125088276515, 0.9908252535992506, 1.0009198896907856, 0.018685414410088218, 0.00957057811248421, 0.20189362399192878, 0.0027344508892812023, 0.7670134744433773, 0.014474818089889895, 0.02412469681648316, 0.3691078612921923, 0.03618704522472474, 0.5524555570974643, 0.9974236300472334, 0.024791220359017985, 0.9544619838221924, 0.01859341526926349, 1.0073693872253837, 0.9901653541022482, 0.22394750515948383, 0.1637133485993468, 0.009266793316944159, 0.5853524445203061, 0.018533586633888318, 0.9888557106995456, 0.9862462258821797, 0.0035252150548277295, 0.9800097852421088, 0.017626075274138647, 0.9908253601721866, 0.008013465359321674, 0.923551882661823, 0.0020033663398304185, 0.06611108921440381, 0.15994194049922827, 0.21430129282576335, 0.21325592066563767, 0.08572051713030535, 0.32615611395921057, 0.9955536680657547, 1.0000193036069016, 0.06309472892298987, 0.3353982958537883, 0.0066415504129463026, 0.594418761958694, 0.0016603876032365756, 0.03434161499017693, 0.961565219724954, 0.04183654566352567, 0.2310971093794751, 0.7122173845100204, 0.013945515221175223, 0.9995937313446065, 0.05305983817023915, 0.6456679102643559, 0.12018372983138506, 0.17452211831897937, 0.007032026745453381, 0.007176851240439464, 0.9545212149784488, 0.035884256202197325, 0.15946068567961516, 0.04380788068121296, 0.07184492431718925, 0.09988196795316555, 0.625576536127721, 0.04978523080115222, 0.02233952664154266, 0.4531732547284369, 0.04978523080115222, 0.4244510061893106, 0.04623684090023168, 0.027985456334350758, 0.27498752745927263, 0.03589438964623249, 0.6150716598701873, 0.9862462357002969, 0.9960532301352822, 0.03433426279216331, 0.020600557675297986, 0.08240223070119194, 0.04806796790902863, 0.8171554544534868, 0.9211515091536663, 0.06773172861424016, 0.006773172861424016, 0.003386586430712008, 0.19444817497328395, 0.0838557754572287, 0.03524373171390772, 0.5468854921123611, 0.13975962576204784, 0.30783206212017106, 0.3204826948100411, 0.3692779923281113, 0.0024096443218800086, 0.1305481936088411, 0.1558526892863257, 0.24901924155342814, 0.29502741551249106, 0.16908003929955628, 0.28095475845337564, 0.07401496324846991, 0.1475264233455897, 0.41639710616656206, 0.08056050421602168, 1.0049691832566474, 0.9280404812076408, 0.07537384618945306, 0.9912881153392198, 0.02233333325647533, 0.04638461522498723, 0.8332051253377335, 0.027487179392585024, 0.07215384590553568, 0.9789980027528714, 0.010197895862009077, 0.020395791724018154, 0.9962073338306017, 0.00483037787985019, 0.304313806430562, 0.6207035575607495, 0.016906322579475667, 0.05192656220838955, 0.006241509912946492, 0.9424679968549203, 0.012483019825892984, 0.03744905947767895, 0.013650690450756444, 0.8975328971372362, 0.017063363063445556, 0.07166612486647134, 0.9707273435782381, 0.020014996774809033, 0.010007498387404517, 0.9901653541018841, 0.9946697619601499, 0.9992125877007693, 1.0017578781977503, 0.01793270700216397, 0.9773325316179363, 0.9866995500092216, 0.9917810576315238, 1.0085667641389624, 0.023298718795624927, 0.09720325691077927, 0.8049331558101386, 0.021795575647520094, 0.05286053404168666, 1.0030588231983002, 1.0025640881519156, 0.008405199666212842, 0.9665979616144769, 0.02521559899863853, 0.006693653387317735, 0.8947183361048039, 0.0044624355915451564, 0.09594236521822086, 0.013599978074976095, 0.6976788752462737, 0.09791984213982788, 0.04623992545491872, 0.1441597675947466, 1.0004909744333004, 0.045226260901516255, 0.8539782205521598, 0.021282946306595885, 0.0744903120730856, 0.005320736576648971, 0.9920639127888448, 0.9976682174809796, 0.8192997885184421, 0.00961619470092068, 0.00961619470092068, 0.013462672581288955, 0.14616615945399436, 0.003770894581673637, 0.003770894581673637, 0.9804325912351456, 0.007541789163347274, 0.9933808882705704, 1.0050319498904712, 0.9931088604616023, 0.015517325944712536, 0.0026910589034771803, 0.005382117806954361, 0.8988136737613782, 0.016146353420863083, 0.07534964929736106, 0.0025282040479492635, 0.08343073358232571, 0.8697021924945467, 0.01095555087444681, 0.03286665262334043, 0.00412722482102789, 0.014445286873597618, 0.980215894994124, 0.9912881153385903, 0.9951722940558068, 0.05724691153722924, 0.9404849752544804, 0.004089065109802089, 1.001439545516356, 0.004222410261286955, 0.012667230783860865, 0.4306858466512694, 0.010556025653217388, 0.5404685134447302, 0.003350889761922723, 0.9516526923860533, 0.041886122024034037, 0.9895062256864648, 0.010755502453113748, 0.9997433593730869, 0.019692422821689256, 0.1572165559698798, 0.6860065327227814, 0.011298931127198753, 0.1255795488137233, 0.9898702774557112, 0.9332711208174002, 0.06572331836742254, 0.9763173965378978, 0.025692563066786786, 0.04748175144666634, 0.9199589342791603, 0.02967609465416646, 0.7635118984989743, 0.08922265480543569, 0.010726220796281886, 0.10726220796281886, 0.029740884935145227, 0.47257849806254576, 0.37770814291678145, 0.003103235915982946, 0.12856263080500777, 0.018176096079328685, 0.23817265177942784, 0.5602610565174105, 0.07651142181515298, 0.05183031800381331, 0.07404331143401902, 0.9944831302549534, 1.0038743440315692, 0.7426441430549245, 0.015689664994118124, 0.003137932998823625, 0.008367821330196333, 0.23011508658039917, 0.9941231838914728, 0.0027221782744326893, 0.029603688734455496, 0.9132908110721673, 0.010888713097730757, 0.04389512467522711, 0.9953069518612175, 0.008580232343631186, 0.7846930337527035, 0.05180125161692664, 0.0038371297494019735, 0.038371297494019733, 0.12086958710616216, 0.9968162850179938, 0.07632447086015372, 0.044246070063857224, 0.6736464167222262, 0.005530758757982153, 0.20021346703895396, 1.0041884746162675, 0.0030928440917777863, 0.12268281564051886, 0.7515611143020021, 0.013402324397703742, 0.10824954321222252, 0.1372367193694965, 0.04440011509013121, 0.006727290165171396, 0.785747491292019, 0.025563702627651307, 1.0028387657043665, 0.2931478816285269, 0.008973914743730414, 0.0029913049145768047, 0.07478262286442013, 0.6221914222319754, 0.041556251018476736, 0.13600227606046933, 0.33056108764697406, 0.03022272801343763, 0.4627855227057637, 0.995170757253701, 0.022487828097477514, 0.10025823360125391, 0.6910322175787361, 0.009838424792646412, 0.17615465343024053, 0.9867669551690373, 0.009967342981505428, 1.012344686570411, 0.9839239475012435, 0.9877757960127691, 0.4743721885957701, 0.07280532390918294, 0.029577162838105568, 0.12854690002715113, 0.2946340451949747, 0.9985345163139732, 1.0004507619648932, 0.9955536680653483, 0.18761415124603692, 0.040439799385188165, 0.09679033951208971, 0.06563180555956769, 0.6105746759632509, 1.004459429526604, 0.554214936617638, 0.097117103379259, 0.055356748926177625, 0.1120083925640787, 0.1809615359633526, 0.9999512394006334, 0.09112146761801085, 0.03193948349497287, 0.08078810531081375, 0.015030345174104882, 0.7796991559066908, 0.9844810898724844, 0.013865930843274428, 0.4288625938589493, 0.03439608620797665, 0.006095508948249026, 0.0705337464011673, 0.46021092559280147, 0.2170470775841261, 0.03913963694139979, 0.021348892877127157, 0.042697785754254314, 0.6796064232552146, 0.6356439229330431, 0.08407988398585226, 0.008407988398585226, 0.10257745846273975, 0.16984136565142155, 0.09964523006296097, 0.09653131662349344, 0.018683480636805184, 0.7753644464274151, 0.010898697038136356, 1.0022191419218665, 0.9968299551629684, 1.0058097601882872, 0.06931385701982781, 0.896129151470631, 0.034656928509913906, 0.01893853375943428, 0.9848037554905826, 0.9455420268946744, 0.04976536983656181, 0.005529485537395757, 0.3264656721661287, 0.1664545367952301, 0.0032217007121657436, 0.4789595058753072, 0.02469970545993737, 0.9901653541020462, 0.14569143252104094, 0.005023842500725549, 0.045214582506529946, 0.803814800116088, 1.0061181001855601, 0.9975981620240975, 0.020639001599212805, 0.06191700479763842, 0.9115559039652322, 0.003439833599868801, 0.7256420814681556, 0.04479272107828121, 0.22396360539140603, 0.005119168123232138, 0.9751640075612928, 0.02250378478987599, 0.22535079096341, 0.009995397986280283, 0.0009086725442072985, 0.755106884236265, 0.009995397986280283, 0.18813081001680826, 0.20273200721214263, 0.22631855652768276, 0.2100326058098098, 0.17296802831396102, 0.7385531059503493, 0.1008755461785843, 0.007205396155613164, 0.1232122742609851, 0.029542124238013973, 0.03194530503185713, 0.09751724693935333, 0.05212128715724058, 0.7750939799834808, 0.04371462793833081, 0.00721466529977695, 0.0288586611991078, 0.9667651501701113, 0.9981007402877295, 0.0706978333585991, 0.10206377351065361, 0.38634872314276686, 0.3156508897841678, 0.12546376060821812, 0.08415148446604684, 0.012021640638006691, 0.09617312510405353, 0.012021640638006691, 0.799439102427445, 0.9927285911731647, 0.613124459829528, 0.17598942828440156, 0.008515617497632334, 0.1040797694155063, 0.09745651136179227, 0.001083844171022334, 0.02167688342044668, 0.7792839589650581, 0.007586909197156338, 0.18967272992890843, 0.008917564241726265, 0.9898496308316155, 0.004489868410818107, 0.024694276259499586, 0.8889939453419852, 0.004489868410818107, 0.07857269718931686, 1.004538431648836, 1.000449363793641, 0.9814343362602126, 0.9890704253274185, 0.9814322567318026, 0.9992125876996409, 0.010340344549328834, 0.992673076735568, 0.008257899215711963, 0.9868189562775797, 0.0041289496078559815, 0.021139058298266757, 0.9723966817202709, 0.010569529149133379, 0.003325816852770682, 0.551420434189379, 0.3984328589619277, 0.007981960446649637, 0.039244638862694046, 0.7681549186660249, 0.10973641695228928, 0.00535299594889216, 0.07761844125893633, 0.0401474696166912, 0.998610730719434, 0.0018347779450153393, 0.9852757564732372, 0.012843445615107375, 0.9978821812077916, 0.99732826822525, 0.5471222243795213, 0.13341459162722108, 0.014687844949785808, 0.14075851410211399, 0.1640142686059415, 0.9962073566682977, 0.9226860766410907, 0.01949336781636107, 0.006497789272120357, 0.051982314176962856, 1.002257109297427, 0.990640686128019, 0.05855718804049491, 0.08086468824639774, 0.08365312577213559, 0.11990281360672768, 0.6552828185483954, 0.5599904115266456, 0.14722106642101004, 0.2834349503058698, 0.009631284719131498, 0.01336615265696725, 0.9489968386446748, 0.03564307375191267, 0.03493993075655682, 0.8734982689139205, 0.05677738747940483, 0.03493993075655682, 0.995793314625667, 0.8945046140370861, 0.011351581396409722, 0.05221727442348472, 0.040865693027075, 0.9898702774549053, 0.010191454408730805, 0.7669069442569931, 0.1936376337658853, 0.015287181613096208, 0.012739318010913506, 0.9917690082700095, 0.9964368944866814, 1.0074123966594055, 1.0065007851773353, 0.946127989892476, 0.01447377762315382, 0.022853333089190242, 0.01599733316243317, 0.01461335299028719, 0.0036533382475717976, 0.9790946503492417, 0.019241610669313652, 0.9774738220011335, 0.2853011317254627, 0.3133365030510862, 0.006596557958970235, 0.3751792339164321, 0.019789673876910704, 0.8577811532139309, 0.017505737820692466, 0.06418770534253905, 0.052517213462077404, 0.2740389538706984, 0.46040749795177693, 0.003308317350551691, 0.23489053188917003, 0.027017925029505473, 0.008644991139184608, 0.9423040341711223, 0.025934973417553825, 0.021612477847961522, 1.0020623783909681, 0.8322568369205242, 0.02698443669196239, 0.0014202335101032837, 0.1306614829295021, 0.008521401060619702, 0.2924567514266535, 0.24977075614939045, 0.09460139493879915, 0.13036533692785737, 0.23246562292887843, 1.0006065976855643, 0.00318210049104821, 0.00636420098209642, 0.9408410451865874, 0.002121400327365473, 0.04773150736572315, 0.042757081565333144, 0.2114742142285396, 0.24845331179855745, 0.08782535672879241, 0.4090812668683225, 0.2343522132099014, 0.05776286945314472, 0.09077022342637027, 0.09242059112503154, 0.5248169281742863, 0.9435314754630078, 0.03790974678199585, 0.01684877634755371, 0.9936308888545585, 0.19511756330074365, 0.05192644829777855, 0.05231983048185263, 0.03737130748703759, 0.6636357445329728, 0.9985319131734545, 0.9992976662595477, 0.9949656110808437, 0.9960728332827434, 1.0000213532429345, 0.012512612155249292, 0.018768918232873938, 0.5255297105204703, 0.09801546188278612, 0.3440968342693555, 0.010119194872923731, 0.6071516923754239, 0.13028463398889303, 0.24855272406618914, 0.0044271477569041325, 0.99921258770022, 0.9974236300467002, 0.13142212261200734, 0.7189563178186283, 0.004638427856894376, 0.1406989783257961, 0.003092285237929584, 0.05401104401041095, 0.9384418896808903, 0.006751380501301369, 0.012292989207337995, 0.03687896762201398, 0.02458597841467599, 0.02458597841467599, 0.9219741905503496, 1.0050319015538567, 1.0132134360676666, 0.2629462974587669, 0.6612137382438749, 0.0012826648656525217, 0.0654159081482786, 0.00833732162674139, 0.021796084771570943, 0.9808238147206924, 0.9784305915369128, 0.027561425113715853, 0.4500101106996694, 0.03850832788076773, 0.011194281360688294, 0.4459801694098216, 0.05462809304015887, 0.9927285911729383, 0.005760291807621056, 0.9792496072955795, 0.011520583615242112, 0.10151261492778225, 0.7017611205877121, 0.03310193965036378, 0.1544757183683643, 0.009930581895109133, 1.0018000715661493, 0.3621009171275991, 0.25085988302570345, 0.0005675562964382431, 0.3768573808349934, 0.009648457039450133, 1.0052154458655822, 0.9761425819946147, 0.22366244528832122, 0.6240811452929883, 0.0560586180006534, 0.08523198042956485, 0.01086850757155525, 0.9964368944865737, 1.0079135140849995, 0.008040009362277799, 0.9889211515601692, 0.008040009362277799, 0.008040009362277799, 1.0036826498492877, 0.9890959974651318, 0.994996043083899, 0.0052383301238784295, 0.9690910729175094, 0.0052383301238784295, 0.026191650619392146, 0.0061071152561247505, 0.9343886341870868, 0.024428461024499002, 0.03053557628062375, 0.9870512294395576, 0.0368032986657952, 0.012267766221931735, 0.030669415554829334, 0.006133883110965867, 0.9139485835339142, 0.7643591893556531, 0.06003382132386616, 0.03966520337469728, 0.06753804898934943, 0.06807406525116966, 0.0037600442600814596, 0.08898771415526122, 0.7827158801402906, 0.00501339234677528, 0.1196947422792598, 0.007628335809041085, 0.01525667161808217, 0.9217572435924644, 0.00508555720602739, 0.0508555720602739, 0.0011834288525435863, 0.9917133784315253, 0.004733715410174345, 0.0023668577050871727, 0.08584361998968251, 0.13976192676006163, 0.5668516724938539, 0.07023568908246751, 0.13692412114056798, 0.9983772127855508, 0.9814343492343869, 0.01255783011009964, 0.3422008705002152, 0.6096826518453375, 0.020720419681664406, 0.01506939613211957, 0.43328625329928977, 0.29854479648060817, 0.023777904144473217, 0.2316143996294984, 0.013209946746929565, 0.12845955549398702, 0.04963210098631317, 0.04963210098631317, 0.7444815147946976, 0.029195353521360688, 0.9981157966447733, 0.15177521444086137, 0.4546958706485556, 0.026450452309195755, 0.32118406375451986, 0.04534363253004987, 0.15024063294726245, 0.011861102601099667, 0.8342308829440099, 0.003953700867033222, 0.6823477257093288, 0.11885048240009699, 0.006255288547373526, 0.12562704499308497, 0.0672443518842654, 0.021970197285581042, 0.010985098642790521, 0.9776737792083564, 0.9807787810536778, 0.016012714792713108, 0.988855719298252, 0.22066860434520488, 0.04413372086904098, 0.1126571295867625, 0.5133448585293714, 0.10801147475844239, 1.0002445113816676, 0.08432197437032501, 0.8083278922396674, 0.05233777719537415, 0.04361481432947846, 0.01163061715452759, 0.17346636346227484, 0.7413904849346542, 0.004752503108555475, 0.0760400497368876, 0.0023762515542777377, 0.9970570862423714, 0.003213144167876213, 0.019278865007257277, 0.9221723761804731, 0.012852576671504853, 0.04498401835026698, 0.008323460052920749, 0.1736035953894899, 0.6492298841278185, 0.009512525774766571, 0.15933480672734007, 0.99502007231905, 0.03269928993641772, 0.028339384611562022, 0.22562510056128227, 0.0316093136052038, 0.6823251833399164, 0.00549869103950787, 0.10840276620744087, 0.7368245992940546, 0.02749345519753935, 0.12175673016053142, 1.0078974008588184, 0.12530040372522303, 0.12441174837965406, 0.7491364563146312, 0.0017773106911379152, 0.07038064274815563, 0.050048457065355115, 0.13450522836314185, 0.060996557048401547, 0.6834742417987557, 0.9988120540503179, 0.49373991548075197, 0.12389045849701526, 0.031883573877908335, 0.31428094251081073, 0.03552741089252643, 0.8769834571163319, 0.021700102607827322, 0.08305901342995975, 0.017958705606477787, 0.9888557106987805, 0.006201312459776387, 0.006201312459776387, 0.9829080248745573, 0.0031006562298881934, 0.9951273766429729, 0.9915490153565036, 0.012268352549112136, 0.993736556478083, 0.06849327939785248, 0.4468768838762326, 0.2723025498012184, 0.10190463520168294, 0.11025747415264056, 0.12145174284438855, 0.026025373466654688, 0.8472704917477581, 0.002891708162961632, 0.9950149796692128, 0.011179943591788909, 0.03441828030803459, 0.045891040410712784, 0.03441828030803459, 0.005736380051339098, 0.8834025279062211, 0.9885188960555094, 0.009000434716065367, 0.009000434716065367, 0.9810473840511249, 0.017174520476014886, 0.017174520476014886, 0.005724840158671628, 0.9617731466568336, 0.9955536848692329, 0.9974664349327508, 0.8301574114343374, 0.004743756636767642, 0.08538761946181757, 0.08064386282504993, 0.009759555882330457, 0.9905949220565413, 0.1998392861854372, 0.28786698817136164, 0.024057260170066312, 0.018863078996983813, 0.4693899512727711, 0.9852405647498114, 0.9852405647496727, 0.9924509845878428, 1.0001052783133761, 0.22045275305970827, 0.43322216620044546, 0.0032506438118723737, 0.3351118256966611, 0.007978852992777645, 0.9150658824759015, 0.08276977831440314, 0.9968386608382934, 0.2152400377856509, 0.10442338466828609, 0.664899918704189, 0.017048715864209973, 0.04621720116509028, 0.5218244457128217, 0.08491067190795656, 0.09028476506668799, 0.25688165298736226, 0.9680995380294208, 0.02994122282565219, 0.0033268025361835765, 1.0071551892964934, 1.0032602356769373, 1.0022484505142577, 0.9906406861287941, 0.016221225454627022, 0.016221225454627022, 0.9570523018229944, 0.873462700470392, 0.048210603597391766, 0.005671835717340207, 0.03686693216271135, 0.03686693216271135, 0.9855862697798502, 0.0019174830151358953, 0.011504898090815372, 0.991679040464239, 0.9998023037113334, 0.29638377522965875, 0.20533367478834408, 0.06342110444532952, 0.3880618073981549, 0.04646694781142955, 0.12044586547039525, 0.6235849772580747, 0.05210778577088022, 0.17853323321498304, 0.0247725538910742, 0.9859638350198561, 0.9556275132335699, 0.03948874021626322, 0.9996867905277292, 0.993866455107443, 1.0030566212467795, 0.07308070183045834, 0.3161534709622002, 0.128685583657981, 0.4496051873482546, 0.03336292909651359, 0.35412554976141486, 0.5188861963625694, 0.0037345746562928365, 0.09885638796069272, 0.024164894834835998, 0.5697632435821708, 0.0890664380772129, 0.04060381735872941, 0.23969350247249943, 0.06025082575811461, 0.27228059605657134, 0.02964067248210777, 0.07444634018761952, 0.29433877092697713, 0.32949398712668637, 0.992468384238744, 0.08028418298503677, 0.3417981025612963, 0.07811965844377353, 0.4842631723680772, 0.015545221705436043, 0.9736786592579136, 0.009483883044719938, 0.009483883044719938, 0.009483883044719938, 0.019522521614459602, 0.1360175686253333, 0.5530314319637081, 0.18338368664074348, 0.10817397222438271, 0.016199308436783553, 0.08793910294253929, 0.2753882434253204, 0.07173979450575574, 0.5484622999311003, 0.08868283697805139, 0.0506759068446008, 0.0253379534223004, 0.7547090412213762, 0.08144342171453699, 0.9976300238810079, 0.008907410927509, 0.00237561787624929, 0.05463921115373367, 0.843344346068498, 0.00950247150499716, 0.09027347929747302, 1.0022191419214928, 0.058307064747553074, 0.34848641023537535, 0.013559782499430947, 0.5627309737263844, 0.016271738999317137, 0.9761421335930112, 1.000567928100801, 0.976142581999099, 0.9939671317873834, 0.0072466596298928635, 0.9913430373693438, 0.0014493319259785728, 0.027721428946354324, 0.027721428946354324, 0.942528584176047, 0.030160473934476233, 0.49764781991885787, 0.06355242721907492, 0.40285775898193255, 0.005385798916870756, 0.9896729989481038, 1.0007789057057381, 0.9917716937052907, 0.9990546625055906, 0.9924661596522523, 1.0009698471197734, 0.07014127157186967, 0.013360242204165651, 0.010020181653124238, 0.8617356221686845, 0.04676084771457978, 0.031540922883772596, 0.9777686093969505, 0.9896724395083287, 0.013939048443779278, 0.1252681261118365, 0.5544274470505356, 0.052195052546598536, 0.23661757154458002, 0.03131703152795912, 0.9821650843658843, 0.013272501140079518, 0.9955536680657086, 1.0018383964597382, 0.9552261015433597, 0.04643460215835776, 0.9960532301353457, 0.016014540244479687, 0.016014540244479687, 0.9196921683258336, 0.011438957317485492, 0.03660466341595357, 0.22337213300614742, 0.025129364963191583, 0.12564682481595793, 0.02233721330061474, 0.603104759116598, 0.9877757960123823, 0.9925765995415893, 0.4113329104794275, 0.033786145189314123, 0.0016088640566340059, 0.545941203217806, 0.007508032264292027, 1.0016048067633891, 0.9531587231646208, 0.03286754217809037, 0.9917188392760085, 0.007747803431843816, 0.014390135794828016, 0.009593423863218677, 0.02398355965804669, 0.949748962458649, 0.004796711931609339, 0.8206030930031409, 0.16217452430892113, 0.009730471458535268, 0.006486980972356845, 1.015607734072291, 0.005291762962870623, 0.9353191036873826, 0.01852117037004718, 0.03704234074009436, 0.003968822222152967, 1.0008146950685672, 0.9964368944871271, 0.8987393280996984, 0.0966386374300751, 0.004831931871503755], \"Term\": [\"\\u4e00\\u5bb6\", \"\\u4e00\\u5bb6\", \"\\u4e00\\u5bb6\", \"\\u4e00\\u5bb6\", \"\\u4e00\\u5c81\", \"\\u4e00\\u5c81\", \"\\u4e00\\u5c81\", \"\\u4e00\\u5c81\", \"\\u4e00\\u5c81\", \"\\u4e00\\u5e74\", \"\\u4e00\\u5e74\", \"\\u4e00\\u5e74\", \"\\u4e00\\u5e74\", \"\\u4e00\\u5e74\", \"\\u4e00\\u70b9\", \"\\u4e00\\u70b9\", \"\\u4e00\\u70b9\", \"\\u4e00\\u70b9\", \"\\u4e00\\u70b9\", \"\\u4e00\\u79cd\", \"\\u4e00\\u79cd\", \"\\u4e00\\u79cd\", \"\\u4e00\\u79cd\", \"\\u4e00\\u79cd\", \"\\u4e00\\u8def\", \"\\u4e00\\u8def\", \"\\u4e00\\u8def\", \"\\u4e0a\\u5e08\", \"\\u4e0a\\u8bfe\", \"\\u4e0a\\u8bfe\", \"\\u4e0a\\u8bfe\", \"\\u4e0a\\u8bfe\", \"\\u4e0a\\u8bfe\", \"\\u4e0b\\u5348\", \"\\u4e0b\\u5348\", \"\\u4e0b\\u5348\", \"\\u4e0b\\u697c\\u68af\", \"\\u4e0b\\u964d\", \"\\u4e0d\\u597d\", \"\\u4e0d\\u597d\", \"\\u4e0d\\u597d\", \"\\u4e0d\\u597d\", \"\\u4e0d\\u597d\", \"\\u4e0d\\u5b66\", \"\\u4e0d\\u5bb9\\u4e50\\u89c2\", \"\\u4e0d\\u5e94\\u540d\", \"\\u4e0d\\u5e94\\u540d\", \"\\u4e0d\\u60f3\", \"\\u4e0d\\u60f3\", \"\\u4e0d\\u60f3\", \"\\u4e0d\\u60f3\", \"\\u4e0d\\u60f3\", \"\\u4e0d\\u7406\", \"\\u4e0d\\u7406\", \"\\u4e0d\\u7406\", \"\\u4e0d\\u7406\", \"\\u4e13\\u4e1a\", \"\\u4e13\\u4e1a\", \"\\u4e13\\u4e1a\", \"\\u4e13\\u4e1a\", \"\\u4e13\\u4e1a\", \"\\u4e16\\u754c\", \"\\u4e16\\u754c\", \"\\u4e16\\u754c\", \"\\u4e16\\u754c\", \"\\u4e16\\u754c\", \"\\u4e1a\\u969c\", \"\\u4e1c\\u897f\", \"\\u4e1c\\u897f\", \"\\u4e1c\\u897f\", \"\\u4e1c\\u897f\", \"\\u4e1c\\u897f\", \"\\u4e24\\u4e0b\", \"\\u4e24\\u4e2a\", \"\\u4e24\\u4e2a\", \"\\u4e24\\u4e2a\", \"\\u4e24\\u4e2a\", \"\\u4e24\\u4e2a\", \"\\u4e24\\u5c81\", \"\\u4e24\\u5c81\", \"\\u4e24\\u5c81\", \"\\u4e24\\u5c81\", \"\\u4e24\\u5c81\", \"\\u4e2d\\u533b\", \"\\u4e2d\\u56fd\", \"\\u4e2d\\u56fd\", \"\\u4e2d\\u56fd\", \"\\u4e2d\\u56fd\", \"\\u4e2d\\u5fc3\", \"\\u4e2d\\u5fc3\", \"\\u4e2d\\u5fc3\", \"\\u4e2d\\u5fc3\", \"\\u4e2d\\u5fc3\", \"\\u4e2d\\u8bf4\", \"\\u4e3b\\u4efb\", \"\\u4e3b\\u4efb\", \"\\u4e3b\\u4efb\", \"\\u4e3b\\u4efb\", \"\\u4e3b\\u4efb\", \"\\u4e3b\\u52a8\", \"\\u4e3b\\u52a8\", \"\\u4e3b\\u52a8\", \"\\u4e3b\\u52a8\", \"\\u4e3b\\u52a8\", \"\\u4e3b\\u8bd5\", \"\\u4e3b\\u9898\", \"\\u4e3b\\u9898\", \"\\u4e3b\\u9898\", \"\\u4e3b\\u9898\", \"\\u4e49\\u5de5\", \"\\u4e94\\u500d\", \"\\u4ea4\\u6d41\", \"\\u4ea4\\u6d41\", \"\\u4ea4\\u6d41\", \"\\u4ea4\\u6d41\", \"\\u4ea4\\u6d41\", \"\\u4ea7\\u54c1\", \"\\u4eb2\\u4eb2\", \"\\u4eb2\\u4eb2\", \"\\u4eba\\u4f53\", \"\\u4eba\\u7c7b\", \"\\u4eba\\u7c7b\", \"\\u4eba\\u7c7b\", \"\\u4ed6\\u4f1a\", \"\\u4ed6\\u4f1a\", \"\\u4ed6\\u4f1a\", \"\\u4ed6\\u4f1a\", \"\\u4ee3\\u5e01\", \"\\u4ee3\\u8bcd\", \"\\u4ee3\\u8bcd\", \"\\u4ee3\\u8bcd\", \"\\u4f17\\u751f\", \"\\u4f19\\u4f34\", \"\\u4f1a\\u62c9\", \"\\u4f1a\\u62c9\\u7740\", \"\\u4f53\\u5185\", \"\\u4f5b\\u4e8b\", \"\\u4f5b\\u6cd5\", \"\\u4f69\\u5947\", \"\\u4fe1\\u606f\", \"\\u4fe1\\u606f\", \"\\u4fe1\\u606f\", \"\\u4fe1\\u606f\", \"\\u4fee\\u884c\", \"\\u5021\\u5bfc\", \"\\u5047\\u671f\", \"\\u504f\\u89c1\", \"\\u504f\\u98df\", \"\\u513f\\u5b50\", \"\\u513f\\u5b50\", \"\\u513f\\u5b50\", \"\\u513f\\u5b50\", \"\\u513f\\u5b50\", \"\\u513f\\u7ae5\\u533b\\u9662\", \"\\u513f\\u7ae5\\u533b\\u9662\", \"\\u513f\\u7ae5\\u533b\\u9662\", \"\\u513f\\u7ae5\\u533b\\u9662\", \"\\u513f\\u7ae5\\u533b\\u9662\", \"\\u5144\\u5f1f\", \"\\u5148\\u5929\", \"\\u5148\\u5929\", \"\\u5148\\u5929\", \"\\u5154\\u5b50\", \"\\u5168\\u8eab\", \"\\u5173\\u7cfb\", \"\\u5173\\u7cfb\", \"\\u5173\\u7cfb\", \"\\u5173\\u7cfb\", \"\\u5173\\u7cfb\", \"\\u51b7\\u9759\\u4e0b\\u6765\", \"\\u51e0\\u79d2\", \"\\u51fa\\u53bb\\u73a9\", \"\\u51fa\\u53bb\\u73a9\", \"\\u51fa\\u53bb\\u73a9\", \"\\u51fa\\u7248\", \"\\u51fa\\u95e8\", \"\\u51fa\\u95e8\", \"\\u51fa\\u95e8\", \"\\u51fa\\u95e8\", \"\\u5206\\u4eab\", \"\\u5206\\u4eab\", \"\\u5206\\u4eab\", \"\\u5206\\u4eab\", \"\\u5206\\u4eab\", \"\\u521b\\u4f24\", \"\\u521b\\u5efa\", \"\\u523a\\u6fc0\", \"\\u523a\\u6fc0\", \"\\u523a\\u6fc0\", \"\\u523a\\u6fc0\", \"\\u523a\\u6fc0\", \"\\u524d\\u5ead\", \"\\u524d\\u5ead\", \"\\u529f\\u80fd\", \"\\u529f\\u80fd\", \"\\u529f\\u80fd\", \"\\u529f\\u80fd\", \"\\u52a0\\u5de5\", \"\\u52a8\\u4f5c\", \"\\u52a8\\u4f5c\", \"\\u52a8\\u4f5c\", \"\\u52a8\\u4f5c\", \"\\u52a8\\u4f5c\", \"\\u52a8\\u753b\\u7247\", \"\\u52a8\\u753b\\u7247\", \"\\u52a8\\u753b\\u7247\", \"\\u5317\\u4eac\", \"\\u5317\\u4eac\", \"\\u5317\\u4eac\", \"\\u5317\\u4eac\", \"\\u5317\\u4eac\", \"\\u533b\\u751f\", \"\\u533b\\u751f\", \"\\u533b\\u751f\", \"\\u533b\\u751f\", \"\\u533b\\u751f\", \"\\u533b\\u9662\", \"\\u533b\\u9662\", \"\\u533b\\u9662\", \"\\u533b\\u9662\", \"\\u533b\\u9662\", \"\\u5341\\u4e00\\u4e2a\\u6708\", \"\\u534e\\u534e\", \"\\u5357\\u4eac\", \"\\u5357\\u4eac\", \"\\u5357\\u4eac\", \"\\u5357\\u4eac\", \"\\u5357\\u4eac\", \"\\u5361\\u7247\", \"\\u5361\\u7247\", \"\\u5361\\u7247\", \"\\u5361\\u7247\", \"\\u539f\\u56e0\", \"\\u539f\\u56e0\", \"\\u539f\\u56e0\", \"\\u539f\\u56e0\", \"\\u539f\\u56e0\", \"\\u53d1\\u5c55\", \"\\u53d1\\u5c55\", \"\\u53d1\\u5c55\", \"\\u53d1\\u5c55\", \"\\u53d1\\u73b0\", \"\\u53d1\\u73b0\", \"\\u53d1\\u73b0\", \"\\u53d1\\u73b0\", \"\\u53d1\\u73b0\", \"\\u53d1\\u80b2\", \"\\u53d1\\u80b2\", \"\\u53d1\\u80b2\", \"\\u53d1\\u80b2\", \"\\u53d1\\u80b2\", \"\\u53e0\\u8bcd\", \"\\u53e3\\u8bed\", \"\\u53e3\\u8bed\", \"\\u53ea\\u4e0d\\u8fc7\", \"\\u53ea\\u4f1a\", \"\\u53ea\\u4f1a\", \"\\u53ea\\u4f1a\", \"\\u53ea\\u4f1a\", \"\\u53ea\\u4f1a\", \"\\u540c\\u4f34\", \"\\u540c\\u4f34\", \"\\u540c\\u4f34\", \"\\u540c\\u7b49\", \"\\u540d\\u5b57\", \"\\u540d\\u5b57\", \"\\u540d\\u5b57\", \"\\u540d\\u5b57\", \"\\u540d\\u5b57\", \"\\u540d\\u79f0\", \"\\u540d\\u79f0\", \"\\u540d\\u79f0\", \"\\u540d\\u79f0\", \"\\u542c\\u4e0d\\u61c2\", \"\\u542c\\u4e0d\\u61c2\", \"\\u542c\\u4e0d\\u61c2\", \"\\u542c\\u4e0d\\u61c2\", \"\\u542f\\u97f3\", \"\\u542f\\u97f3\", \"\\u542f\\u97f3\", \"\\u5438\\u6c14\", \"\\u545c\\u545c\", \"\\u547c\\u53eb\", \"\\u547c\\u5438\", \"\\u547d\\u8fd0\", \"\\u547d\\u8fd0\", \"\\u54bf\\u5440\", \"\\u54c8\\u5c14\\u6ee8\", \"\\u554a\\u554a\\u554a\", \"\\u559c\\u6b22\", \"\\u559c\\u6b22\", \"\\u559c\\u6b22\", \"\\u559c\\u6b22\", \"\\u559c\\u6b22\", \"\\u559d\\u5976\", \"\\u5668\\u5b98\", \"\\u56de\\u5934\", \"\\u56de\\u5934\", \"\\u56de\\u5934\", \"\\u56de\\u6765\", \"\\u56de\\u6765\", \"\\u56de\\u6765\", \"\\u56de\\u6765\", \"\\u56de\\u7b54\", \"\\u56de\\u7b54\", \"\\u56de\\u7b54\", \"\\u56de\\u7b54\", \"\\u56de\\u7b54\", \"\\u56e0\\u679c\", \"\\u56fe\\u7247\", \"\\u56fe\\u7247\", \"\\u56fe\\u7247\", \"\\u56fe\\u7247\", \"\\u56fe\\u7247\", \"\\u56fe\\u753b\", \"\\u57ab\\u811a\", \"\\u57f9\\u8bad\", \"\\u57f9\\u8bad\", \"\\u57f9\\u8bad\", \"\\u57f9\\u8bad\", \"\\u57f9\\u8bad\", \"\\u57fa\\u56e0\", \"\\u57fa\\u56e0\", \"\\u57fa\\u56e0\", \"\\u57fa\\u56e0\", \"\\u57fa\\u5730\", \"\\u590d\\u8ff0\", \"\\u5916\\u516c\", \"\\u5916\\u516c\", \"\\u5916\\u9762\", \"\\u5916\\u9762\", \"\\u5916\\u9762\", \"\\u5916\\u9762\", \"\\u5916\\u9762\", \"\\u5927\\u4eba\", \"\\u5927\\u4eba\", \"\\u5927\\u4eba\", \"\\u5927\\u4eba\", \"\\u5927\\u4eba\", \"\\u5927\\u8111\", \"\\u5927\\u8111\", \"\\u5927\\u8111\", \"\\u5929\\u5b9d\", \"\\u5931\\u63a7\", \"\\u5956\\u52b1\", \"\\u5956\\u52b1\", \"\\u5956\\u52b1\", \"\\u5965\\u5c14\\u592b\", \"\\u5973\\u513f\", \"\\u5973\\u513f\", \"\\u5973\\u513f\", \"\\u5973\\u513f\", \"\\u5973\\u513f\", \"\\u5976\\u5976\", \"\\u5976\\u5976\", \"\\u5976\\u5976\", \"\\u5976\\u7c89\", \"\\u5976\\u7c89\", \"\\u5982\\u5395\", \"\\u5988\\u5988\", \"\\u5988\\u5988\", \"\\u5988\\u5988\", \"\\u5988\\u5988\", \"\\u5988\\u5988\", \"\\u59d0\\u59b9\", \"\\u59d0\\u59d0\", \"\\u59d0\\u59d0\", \"\\u59e5\\u59e5\", \"\\u59e5\\u59e5\", \"\\u59ff\\u52bf\", \"\\u59ff\\u52bf\", \"\\u59ff\\u52bf\", \"\\u5b64\\u72ec\\u75c7\", \"\\u5b64\\u72ec\\u75c7\", \"\\u5b64\\u72ec\\u75c7\", \"\\u5b64\\u72ec\\u75c7\", \"\\u5b64\\u72ec\\u75c7\", \"\\u5b66\\u4e60\", \"\\u5b66\\u4e60\", \"\\u5b66\\u4e60\", \"\\u5b66\\u4e60\", \"\\u5b66\\u4e60\", \"\\u5b66\\u4f1a\", \"\\u5b66\\u4f1a\", \"\\u5b66\\u4f1a\", \"\\u5b66\\u4f1a\", \"\\u5b66\\u4f1a\", \"\\u5b66\\u4f5b\", \"\\u5b66\\u5458\", \"\\u5b66\\u6821\", \"\\u5b66\\u6821\", \"\\u5b66\\u6821\", \"\\u5b66\\u6821\", \"\\u5b66\\u6821\", \"\\u5b97\\u6c14\", \"\\u5b9d\\u5b9d\", \"\\u5b9d\\u5b9d\", \"\\u5b9d\\u5b9d\", \"\\u5b9d\\u5b9d\", \"\\u5b9d\\u5b9d\", \"\\u5b9e\\u7269\", \"\\u5b9e\\u7269\", \"\\u5bb6\\u5ead\", \"\\u5bb6\\u5ead\", \"\\u5bb6\\u5ead\", \"\\u5bb6\\u5ead\", \"\\u5bb6\\u5ead\", \"\\u5bb6\\u5ead\\u6559\\u80b2\", \"\\u5bb6\\u91cc\", \"\\u5bb6\\u91cc\", \"\\u5bb6\\u91cc\", \"\\u5bb6\\u91cc\", \"\\u5bb6\\u91cc\", \"\\u5bbd\\u5bb9\", \"\\u5bf9\\u89c6\", \"\\u5bf9\\u89c6\", \"\\u5bf9\\u89c6\", \"\\u5bf9\\u89c6\", \"\\u5bf9\\u89c6\", \"\\u5bfc\\u81f4\", \"\\u5bfc\\u81f4\", \"\\u5bfc\\u81f4\", \"\\u5bfc\\u81f4\", \"\\u5bfc\\u81f4\", \"\\u5c0f\\u5b50\", \"\\u5c0f\\u5b66\", \"\\u5c0f\\u5b66\", \"\\u5c0f\\u5b66\", \"\\u5c0f\\u5b66\", \"\\u5c0f\\u5b66\", \"\\u5c0f\\u5b69\", \"\\u5c0f\\u5b69\", \"\\u5c0f\\u5b69\", \"\\u5c0f\\u5b69\", \"\\u5c0f\\u5b69\", \"\\u5c0f\\u6587\", \"\\u5c0f\\u670b\\u53cb\", \"\\u5c0f\\u670b\\u53cb\", \"\\u5c0f\\u670b\\u53cb\", \"\\u5c0f\\u670b\\u53cb\", \"\\u5c0f\\u670b\\u53cb\", \"\\u5c0f\\u732a\", \"\\u5c0f\\u732a\", \"\\u5c11\\u91cf\", \"\\u5c3f\\u4e0d\\u6e7f\", \"\\u5c45\\u5bb6\", \"\\u5de5\\u4f5c\", \"\\u5de5\\u4f5c\", \"\\u5de5\\u4f5c\", \"\\u5de5\\u4f5c\", \"\\u5de5\\u4f5c\", \"\\u5e08\\u5144\", \"\\u5e08\\u7236\", \"\\u5e08\\u8d44\", \"\\u5e0c\\u671b\", \"\\u5e0c\\u671b\", \"\\u5e0c\\u671b\", \"\\u5e0c\\u671b\", \"\\u5e0c\\u671b\", \"\\u5e72\\u7ec6\\u80de\", \"\\u5e72\\u9884\", \"\\u5e72\\u9884\", \"\\u5e72\\u9884\", \"\\u5e72\\u9884\", \"\\u5e72\\u9884\", \"\\u5e7c\\u513f\", \"\\u5e7c\\u513f\\u56ed\", \"\\u5e7c\\u513f\\u56ed\", \"\\u5e7c\\u513f\\u56ed\", \"\\u5e7c\\u513f\\u56ed\", \"\\u5e7c\\u513f\\u56ed\", \"\\u5e94\\u540d\", \"\\u5e94\\u540d\", \"\\u5eb7\\u590d\", \"\\u5eb7\\u590d\", \"\\u5eb7\\u590d\", \"\\u5eb7\\u590d\", \"\\u5eb7\\u590d\", \"\\u5eb7\\u590d\\u4e2d\\u5fc3\", \"\\u5eb7\\u590d\\u4e2d\\u5fc3\", \"\\u5eb7\\u590d\\u4e2d\\u5fc3\", \"\\u5eb7\\u590d\\u4e2d\\u5fc3\", \"\\u5eb7\\u590d\\u4e2d\\u5fc3\", \"\\u5eb7\\u590d\\u8bad\\u7ec3\", \"\\u5eb7\\u590d\\u8bad\\u7ec3\", \"\\u5eb7\\u590d\\u8bad\\u7ec3\", \"\\u5eb7\\u590d\\u8bad\\u7ec3\", \"\\u5eb7\\u590d\\u8bad\\u7ec3\", \"\\u5f02\\u5e38\", \"\\u5f02\\u5e38\", \"\\u5f02\\u5e38\", \"\\u5f02\\u5e38\", \"\\u5f02\\u5e38\", \"\\u5f02\\u98df\", \"\\u5f17\\u5c14\", \"\\u5f17\\u6d1b\\u4f0a\\u5fb7\", \"\\u5f3a\\u5316\", \"\\u5f3a\\u5316\", \"\\u5f3a\\u5316\", \"\\u5f53\\u5929\", \"\\u5f53\\u5929\", \"\\u5f62\\u72b6\", \"\\u5f62\\u72b6\", \"\\u5f62\\u72b6\", \"\\u5f71\\u54cd\", \"\\u5f71\\u54cd\", \"\\u5f71\\u54cd\", \"\\u5f71\\u54cd\", \"\\u5f71\\u54cd\", \"\\u5f8b\\u52a8\", \"\\u5fd7\\u613f\\u8005\", \"\\u5fd7\\u613f\\u8005\", \"\\u5fd7\\u613f\\u8005\", \"\\u5fd7\\u613f\\u8005\", \"\\u5ff5\\u7ecf\", \"\\u6000\\u91cc\", \"\\u601d\\u7ef4\", \"\\u601d\\u7ef4\", \"\\u601d\\u7ef4\", \"\\u601d\\u7ef4\", \"\\u60a3\\u513f\", \"\\u60a3\\u513f\", \"\\u60a3\\u513f\", \"\\u60a3\\u513f\", \"\\u60a3\\u75c5\", \"\\u60a3\\u75c5\", \"\\u60a3\\u8005\", \"\\u60a3\\u8005\", \"\\u60a3\\u8005\", \"\\u60a3\\u8005\", \"\\u60a3\\u8005\", \"\\u60c5\\u51b5\", \"\\u60c5\\u51b5\", \"\\u60c5\\u51b5\", \"\\u60c5\\u51b5\", \"\\u60c5\\u51b5\", \"\\u60c5\\u7eea\", \"\\u60c5\\u7eea\", \"\\u60c5\\u7eea\", \"\\u60c5\\u7eea\", \"\\u60c5\\u7eea\", \"\\u610f\\u8bc6\", \"\\u610f\\u8bc6\", \"\\u610f\\u8bc6\", \"\\u610f\\u8bc6\", \"\\u610f\\u8bc6\", \"\\u611f\\u5b98\", \"\\u611f\\u5b98\", \"\\u611f\\u5b98\", \"\\u611f\\u6069\", \"\\u611f\\u89c9\", \"\\u611f\\u89c9\", \"\\u611f\\u89c9\", \"\\u611f\\u89c9\", \"\\u611f\\u89c9\", \"\\u611f\\u8c22\", \"\\u611f\\u8c22\", \"\\u611f\\u8c22\", \"\\u611f\\u8c22\", \"\\u611f\\u8c22\", \"\\u6148\\u60b2\", \"\\u6210\\u957f\", \"\\u6210\\u957f\", \"\\u6210\\u957f\", \"\\u6210\\u957f\", \"\\u6210\\u957f\", \"\\u6211\\u5bb6\", \"\\u6211\\u5bb6\", \"\\u6211\\u5bb6\", \"\\u6211\\u5bb6\", \"\\u6211\\u5bb6\", \"\\u6240\\u8bf4\", \"\\u6240\\u8bf4\", \"\\u624b\\u673a\", \"\\u624b\\u673a\", \"\\u624b\\u673a\", \"\\u624b\\u673a\", \"\\u624b\\u673a\", \"\\u624b\\u773c\", \"\\u624b\\u90e8\", \"\\u6253\\u6253\", \"\\u6263\\u5b50\", \"\\u626d\\u626d\", \"\\u6293\\u63e1\", \"\\u62ac\\u5934\", \"\\u62ac\\u5934\", \"\\u62b1\\u62b1\", \"\\u62b1\\u62b1\", \"\\u62b1\\u62b1\", \"\\u62dc\\u62dc\", \"\\u62dc\\u62dc\", \"\\u62dc\\u62dc\", \"\\u6307\\u4ee4\", \"\\u6307\\u4ee4\", \"\\u6307\\u4ee4\", \"\\u6307\\u4ee4\", \"\\u6307\\u4ee4\", \"\\u6307\\u5bfc\", \"\\u6307\\u5bfc\", \"\\u6307\\u5bfc\", \"\\u6307\\u5bfc\", \"\\u6307\\u5bfc\", \"\\u6307\\u5bfc\\u8005\", \"\\u6307\\u7269\", \"\\u6307\\u7269\", \"\\u6307\\u7269\", \"\\u6388\\u8bfe\", \"\\u6392\\u4fbf\", \"\\u63a5\\u53d7\", \"\\u63a5\\u53d7\", \"\\u63a5\\u53d7\", \"\\u63a5\\u53d7\", \"\\u63a5\\u53d7\", \"\\u63a5\\u79cd\", \"\\u63a5\\u7eb3\", \"\\u63a5\\u7eb3\", \"\\u63a5\\u7eb3\", \"\\u63a5\\u7eb3\", \"\\u63a8\\u52a8\", \"\\u63a8\\u7740\", \"\\u63a8\\u8350\", \"\\u63a8\\u8350\", \"\\u63a8\\u8350\", \"\\u63a8\\u8350\", \"\\u63a8\\u8350\", \"\\u63d0\\u4f9b\", \"\\u63d0\\u4f9b\", \"\\u63d0\\u4f9b\", \"\\u63d0\\u4f9b\", \"\\u63d0\\u793a\", \"\\u63d0\\u793a\", \"\\u63d0\\u793a\", \"\\u63d0\\u95ee\", \"\\u63d0\\u95ee\", \"\\u63d0\\u95ee\", \"\\u63d0\\u95ee\", \"\\u6478\\u6478\", \"\\u652f\\u6301\", \"\\u652f\\u6301\", \"\\u652f\\u6301\", \"\\u652f\\u6301\", \"\\u652f\\u63f4\", \"\\u653e\\u5728\", \"\\u653e\\u5728\", \"\\u653e\\u5728\", \"\\u653e\\u5728\", \"\\u653e\\u5728\", \"\\u653e\\u751f\", \"\\u653e\\u7f6e\", \"\\u6559\\u5177\", \"\\u6559\\u8005\", \"\\u6559\\u80b2\", \"\\u6559\\u80b2\", \"\\u6559\\u80b2\", \"\\u6559\\u80b2\", \"\\u6587\\u7ae0\", \"\\u6587\\u7ae0\", \"\\u6587\\u7ae0\", \"\\u65af\\u4f2f\\u683c\", \"\\u65af\\u4f2f\\u683c\", \"\\u65b9\\u5f0f\", \"\\u65b9\\u5f0f\", \"\\u65b9\\u5f0f\", \"\\u65b9\\u5f0f\", \"\\u65b9\\u5f0f\", \"\\u65b9\\u6848\", \"\\u65b9\\u6848\", \"\\u65b9\\u6848\", \"\\u65b9\\u6848\", \"\\u65b9\\u6cd5\", \"\\u65b9\\u6cd5\", \"\\u65b9\\u6cd5\", \"\\u65b9\\u6cd5\", \"\\u65b9\\u6cd5\", \"\\u65e0\\u610f\\u8bc6\", \"\\u65e0\\u610f\\u8bc6\", \"\\u65e0\\u610f\\u8bc6\", \"\\u65e0\\u610f\\u8bc6\", \"\\u65e8\\u5728\", \"\\u65e9\\u671f\", \"\\u65e9\\u671f\", \"\\u65e9\\u671f\", \"\\u65e9\\u671f\", \"\\u65e9\\u671f\", \"\\u65f6\\u95f4\", \"\\u65f6\\u95f4\", \"\\u65f6\\u95f4\", \"\\u65f6\\u95f4\", \"\\u65f6\\u95f4\", \"\\u66d9\\u5149\", \"\\u6709\\u65f6\\u5019\", \"\\u6709\\u65f6\\u5019\", \"\\u6709\\u65f6\\u5019\", \"\\u6709\\u65f6\\u5019\", \"\\u6709\\u65f6\\u5019\", \"\\u6709\\u6ca1\\u6709\", \"\\u6709\\u6ca1\\u6709\", \"\\u6709\\u6ca1\\u6709\", \"\\u6709\\u6ca1\\u6709\", \"\\u6709\\u6ca1\\u6709\", \"\\u670b\\u53cb\", \"\\u670b\\u53cb\", \"\\u670b\\u53cb\", \"\\u670b\\u53cb\", \"\\u670b\\u53cb\", \"\\u670d\\u52a1\", \"\\u670d\\u52a1\", \"\\u670d\\u52a1\", \"\\u672b\\u5b66\", \"\\u673a\\u6784\", \"\\u673a\\u6784\", \"\\u673a\\u6784\", \"\\u673a\\u6784\", \"\\u673a\\u6784\", \"\\u6743\\u5229\", \"\\u6750\\u6599\", \"\\u6784\\u97f3\", \"\\u6821\\u533a\", \"\\u6821\\u56ed\", \"\\u68c0\\u67e5\", \"\\u68c0\\u67e5\", \"\\u68c0\\u67e5\", \"\\u68c0\\u67e5\", \"\\u68c0\\u67e5\", \"\\u6a21\\u4eff\", \"\\u6a21\\u4eff\", \"\\u6a21\\u4eff\", \"\\u6a21\\u4eff\", \"\\u6a21\\u4eff\", \"\\u6a61\\u76ae\\u6ce5\", \"\\u6b3a\\u51cc\", \"\\u6b63\\u786e\", \"\\u6b63\\u786e\", \"\\u6b63\\u786e\", \"\\u6b63\\u786e\", \"\\u6b63\\u786e\", \"\\u6b65\\u9aa4\", \"\\u6b65\\u9aa4\", \"\\u6b65\\u9aa4\", \"\\u6b66\\u6c49\", \"\\u6b66\\u6c49\", \"\\u6b66\\u6c49\", \"\\u6b66\\u6c49\", \"\\u6b66\\u6c49\", \"\\u6c64\\u5319\", \"\\u6c6a\\u6c6a\", \"\\u6c9f\\u901a\", \"\\u6c9f\\u901a\", \"\\u6c9f\\u901a\", \"\\u6c9f\\u901a\", \"\\u6c9f\\u901a\", \"\\u6ca1\\u60f3\\u5230\", \"\\u6ca1\\u60f3\\u5230\", \"\\u6cae\\u4e27\", \"\\u6cae\\u4e27\", \"\\u6cbb\\u7597\", \"\\u6cbb\\u7597\", \"\\u6cbb\\u7597\", \"\\u6cbb\\u7597\", \"\\u6cbb\\u7597\", \"\\u6cd5\\u95e8\", \"\\u6cdb\\u5316\", \"\\u6cdb\\u5316\", \"\\u6cdb\\u5316\", \"\\u6ce8\\u610f\\u529b\", \"\\u6ce8\\u610f\\u529b\", \"\\u6ce8\\u610f\\u529b\", \"\\u6ce8\\u610f\\u529b\", \"\\u6ce8\\u610f\\u529b\", \"\\u6d17\\u8863\\u673a\", \"\\u6d3b\\u52a8\", \"\\u6d3b\\u52a8\", \"\\u6d3b\\u52a8\", \"\\u6d3b\\u52a8\", \"\\u6d3b\\u52a8\", \"\\u6d88\\u9664\", \"\\u6dd8\\u6c14\\u5821\", \"\\u6e38\\u620f\", \"\\u6e38\\u620f\", \"\\u6e38\\u620f\", \"\\u6e38\\u620f\", \"\\u6e38\\u620f\", \"\\u6ed1\\u677f\", \"\\u6ed1\\u677f\\u8f66\", \"\\u6ed1\\u68af\", \"\\u6ed1\\u68af\", \"\\u6ed1\\u68af\", \"\\u6ed1\\u68af\", \"\\u6f5c\\u610f\\u8bc6\", \"\\u6fc0\\u6d3b\", \"\\u704c\\u6ce8\", \"\\u706b\\u661f\", \"\\u706b\\u661f\", \"\\u706b\\u661f\", \"\\u706b\\u661f\", \"\\u7167\\u7247\", \"\\u7167\\u7247\", \"\\u7167\\u7247\", \"\\u7167\\u7247\", \"\\u722c\\u9ad8\", \"\\u7236\\u4eb2\", \"\\u7236\\u4eb2\", \"\\u7236\\u4eb2\", \"\\u7236\\u4eb2\", \"\\u7236\\u4eb2\", \"\\u7236\\u6bcd\", \"\\u7236\\u6bcd\", \"\\u7236\\u6bcd\", \"\\u7236\\u6bcd\", \"\\u7236\\u6bcd\", \"\\u7238\\u7238\", \"\\u7238\\u7238\", \"\\u7238\\u7238\", \"\\u7238\\u7238\", \"\\u7238\\u7238\", \"\\u7238\\u7238\\u5988\\u5988\", \"\\u7238\\u7238\\u5988\\u5988\", \"\\u7238\\u7238\\u5988\\u5988\", \"\\u7238\\u7238\\u5988\\u5988\", \"\\u7238\\u7238\\u5988\\u5988\", \"\\u7269\\u54c1\", \"\\u7269\\u54c1\", \"\\u7269\\u54c1\", \"\\u7269\\u54c1\", \"\\u7279\\u522b\", \"\\u7279\\u522b\", \"\\u7279\\u522b\", \"\\u7279\\u522b\", \"\\u7279\\u522b\", \"\\u732b\\u732b\", \"\\u73a9\\u4f1a\", \"\\u73a9\\u5177\", \"\\u73a9\\u5177\", \"\\u73a9\\u5177\", \"\\u73a9\\u5177\", \"\\u73a9\\u5177\", \"\\u73af\\u5883\", \"\\u73af\\u5883\", \"\\u73af\\u5883\", \"\\u73af\\u5883\", \"\\u73af\\u5883\", \"\\u73b0\\u8c61\", \"\\u73b0\\u8c61\", \"\\u73b0\\u8c61\", \"\\u73b0\\u8c61\", \"\\u73b0\\u8c61\", \"\\u73ed\\u4e3b\\u4efb\", \"\\u7406\\u89e3\", \"\\u7406\\u89e3\", \"\\u7406\\u89e3\", \"\\u7406\\u89e3\", \"\\u7406\\u89e3\", \"\\u7406\\u8bba\", \"\\u7406\\u8bba\", \"\\u7406\\u8bba\", \"\\u7406\\u8bba\", \"\\u751f\\u6d3b\", \"\\u751f\\u6d3b\", \"\\u751f\\u6d3b\", \"\\u751f\\u6d3b\", \"\\u751f\\u6d3b\", \"\\u7537\\u751f\", \"\\u7537\\u751f\", \"\\u7537\\u751f\", \"\\u75ab\\u82d7\", \"\\u75ab\\u82d7\", \"\\u75be\\u63a7\\u4e2d\\u5fc3\", \"\\u75c7\\u72b6\", \"\\u75c7\\u72b6\", \"\\u75c7\\u72b6\", \"\\u75c7\\u72b6\", \"\\u75c7\\u72b6\", \"\\u76ca\\u751f\\u83cc\", \"\\u76ee\\u5149\", \"\\u76ee\\u5149\", \"\\u76ee\\u5149\", \"\\u76ee\\u5149\", \"\\u76ee\\u5149\", \"\\u76ee\\u7684\", \"\\u76ee\\u7684\", \"\\u76ee\\u7684\", \"\\u76ee\\u7684\", \"\\u76ee\\u7684\", \"\\u76f8\\u5f53\\u4e8e\", \"\\u770b\\u7535\\u89c6\", \"\\u770b\\u7535\\u89c6\", \"\\u770b\\u7535\\u89c6\", \"\\u770b\\u7535\\u89c6\", \"\\u770b\\u7535\\u89c6\", \"\\u770b\\u7740\", \"\\u770b\\u7740\", \"\\u770b\\u7740\", \"\\u770b\\u7740\", \"\\u770b\\u7740\", \"\\u771f\\u7406\", \"\\u771f\\u7684\", \"\\u771f\\u7684\", \"\\u771f\\u7684\", \"\\u771f\\u7684\", \"\\u771f\\u7684\", \"\\u773c\\u795e\", \"\\u773c\\u795e\", \"\\u773c\\u795e\", \"\\u773c\\u795e\", \"\\u773c\\u795e\", \"\\u7761\\u9192\", \"\\u7814\\u7a76\", \"\\u7814\\u7a76\", \"\\u7814\\u7a76\", \"\\u7814\\u7a76\", \"\\u786e\\u8bca\", \"\\u786e\\u8bca\", \"\\u786e\\u8bca\", \"\\u786e\\u8bca\", \"\\u786e\\u8bca\", \"\\u793a\\u8303\", \"\\u793e\\u4ea4\", \"\\u793e\\u4ea4\", \"\\u793e\\u4ea4\", \"\\u793e\\u4ea4\", \"\\u793e\\u4ea4\", \"\\u793e\\u4f1a\", \"\\u793e\\u4f1a\", \"\\u793e\\u4f1a\", \"\\u793e\\u4f1a\", \"\\u793e\\u4f1a\\u6559\\u80b2\", \"\\u795e\\u7ecf\", \"\\u795e\\u7ecf\", \"\\u795e\\u7ecf\", \"\\u795e\\u7ecf\", \"\\u795e\\u7ecf\\u7cfb\\u7edf\", \"\\u798f\\u62a5\", \"\\u79d1\\u5b66\\u5bb6\", \"\\u79d1\\u5b66\\u5bb6\", \"\\u7b80\\u5355\", \"\\u7b80\\u5355\", \"\\u7b80\\u5355\", \"\\u7b80\\u5355\", \"\\u7b80\\u5355\", \"\\u7cfb\\u7edf\", \"\\u7cfb\\u7edf\", \"\\u7cfb\\u7edf\", \"\\u7cfb\\u7edf\", \"\\u7ea2\\u8272\", \"\\u7ea2\\u8272\", \"\\u7ec8\\u4e8e\", \"\\u7ec8\\u4e8e\", \"\\u7ec8\\u4e8e\", \"\\u7ec8\\u4e8e\", \"\\u7ec8\\u4e8e\", \"\\u7ecf\\u6587\", \"\\u7ed3\\u6784\", \"\\u7ed3\\u6784\", \"\\u7ed3\\u6784\", \"\\u7edd\\u671b\", \"\\u7edd\\u671b\", \"\\u7edd\\u671b\", \"\\u7edd\\u671b\", \"\\u7ef4\\u513f\\u5eb7\", \"\\u7efc\\u5408\\u75c7\", \"\\u7fa4\\u4f53\", \"\\u7fa4\\u4f53\", \"\\u7fa4\\u4f53\", \"\\u7fa4\\u4f53\", \"\\u8001\\u5a46\", \"\\u8001\\u5a46\", \"\\u8001\\u5e08\", \"\\u8001\\u5e08\", \"\\u8001\\u5e08\", \"\\u8001\\u5e08\", \"\\u8001\\u5e08\", \"\\u8054\\u7ed3\", \"\\u808c\\u529b\", \"\\u80b2\\u9f99\", \"\\u80ce\\u513f\", \"\\u80fd\\u529b\", \"\\u80fd\\u529b\", \"\\u80fd\\u529b\", \"\\u80fd\\u529b\", \"\\u80fd\\u529b\", \"\\u80fd\\u91cf\", \"\\u80fd\\u91cf\", \"\\u8106\\u6027\", \"\\u81ea\\u6211\", \"\\u81ea\\u6211\", \"\\u81ea\\u6211\", \"\\u81ea\\u6211\", \"\\u81ea\\u95ed\", \"\\u81ea\\u95ed\", \"\\u81ea\\u95ed\", \"\\u81ea\\u95ed\", \"\\u81ea\\u95ed\", \"\\u82f9\\u679c\", \"\\u82f9\\u679c\", \"\\u82f9\\u679c\", \"\\u8303\\u7574\", \"\\u836f\\u5e08\", \"\\u83e9\\u8428\", \"\\u8461\\u8404\", \"\\u84dd\\u8272\", \"\\u84dd\\u8272\", \"\\u84dd\\u8272\", \"\\u878d\\u5165\", \"\\u878d\\u5165\", \"\\u878d\\u5165\", \"\\u878d\\u5165\", \"\\u878d\\u5165\", \"\\u878d\\u5408\", \"\\u878d\\u5408\", \"\\u878d\\u5408\", \"\\u8840\\u6d41\", \"\\u8840\\u6db2\", \"\\u8868\\u73b0\", \"\\u8868\\u73b0\", \"\\u8868\\u73b0\", \"\\u8868\\u73b0\", \"\\u8868\\u73b0\", \"\\u8868\\u8fbe\", \"\\u8868\\u8fbe\", \"\\u8868\\u8fbe\", \"\\u8868\\u8fbe\", \"\\u8868\\u8fbe\", \"\\u89c2\\u4e16\\u97f3\", \"\\u89c2\\u5ff5\", \"\\u89c2\\u5ff5\", \"\\u89c6\\u7ebf\", \"\\u89d2\\u7403\", \"\\u8ba4\\u751f\", \"\\u8ba4\\u77e5\", \"\\u8ba4\\u77e5\", \"\\u8ba4\\u77e5\", \"\\u8ba4\\u77e5\", \"\\u8ba4\\u77e5\", \"\\u8bad\\u7ec3\", \"\\u8bad\\u7ec3\", \"\\u8bad\\u7ec3\", \"\\u8bad\\u7ec3\", \"\\u8bad\\u7ec3\", \"\\u8bc4\\u4f30\", \"\\u8bc4\\u4f30\", \"\\u8bc4\\u4f30\", \"\\u8bc4\\u4f30\", \"\\u8bc4\\u4f30\", \"\\u8bca\\u65ad\", \"\\u8bca\\u65ad\", \"\\u8bca\\u65ad\", \"\\u8bca\\u65ad\", \"\\u8bca\\u65ad\", \"\\u8bed\\u6cd5\", \"\\u8bed\\u8a00\", \"\\u8bed\\u8a00\", \"\\u8bed\\u8a00\", \"\\u8bed\\u8a00\", \"\\u8bed\\u8a00\", \"\\u8bf4\\u51fa\", \"\\u8bf4\\u51fa\", \"\\u8bf4\\u51fa\", \"\\u8bf4\\u51fa\", \"\\u8bf4\\u8bdd\", \"\\u8bf4\\u8bdd\", \"\\u8bf4\\u8bdd\", \"\\u8bf4\\u8bdd\", \"\\u8bf4\\u8bdd\", \"\\u8bf7\\u95ee\", \"\\u8bf7\\u95ee\", \"\\u8bf7\\u95ee\", \"\\u8bf7\\u95ee\", \"\\u8bf7\\u95ee\", \"\\u8c31\\u7cfb\", \"\\u8c31\\u7cfb\", \"\\u8c31\\u7cfb\", \"\\u8c31\\u7cfb\", \"\\u8c31\\u7cfb\", \"\\u8dd1\\u8fc7\\u6765\", \"\\u8dd1\\u8fc7\\u6765\", \"\\u8ddf\\u7740\", \"\\u8ddf\\u7740\", \"\\u8ddf\\u7740\", \"\\u8ddf\\u7740\", \"\\u8ddf\\u7740\", \"\\u8df3\\u5e8a\", \"\\u8eab\\u4f53\", \"\\u8eab\\u4f53\", \"\\u8eab\\u4f53\", \"\\u8eab\\u4f53\", \"\\u8eab\\u4f53\", \"\\u8eb2\\u5f00\", \"\\u8eb2\\u732b\\u732b\", \"\\u8f66\\u8f66\", \"\\u8f6e\\u5b50\", \"\\u8f85\\u52a9\", \"\\u8f85\\u52a9\", \"\\u8f85\\u52a9\", \"\\u8f9e\\u804c\", \"\\u8f9e\\u804c\", \"\\u8f9e\\u804c\", \"\\u8fd0\\u52a8\", \"\\u8fd0\\u52a8\", \"\\u8fd0\\u52a8\", \"\\u8fd0\\u52a8\", \"\\u8fd0\\u52a8\", \"\\u8fd9\\u8f88\\u5b50\", \"\\u8fdb\\u98df\", \"\\u9006\\u5883\", \"\\u9010\\u5e74\", \"\\u903b\\u8f91\\u601d\\u7ef4\", \"\\u9053\\u573a\", \"\\u9057\\u4f20\", \"\\u9057\\u4f20\", \"\\u9057\\u4f20\", \"\\u9057\\u4f20\", \"\\u9057\\u4f20\", \"\\u90d1\\u5dde\", \"\\u90d1\\u5dde\", \"\\u914d\\u5bf9\", \"\\u914d\\u5bf9\", \"\\u91cd\\u590d\", \"\\u91cd\\u590d\", \"\\u91cd\\u590d\", \"\\u91cd\\u590d\", \"\\u91cd\\u590d\", \"\\u955c\\u5b50\", \"\\u955c\\u5b50\", \"\\u957f\\u6625\", \"\\u957f\\u6625\\u5e02\", \"\\u963f\\u65af\", \"\\u963f\\u65af\", \"\\u9648\\u9526\\u9e3f\", \"\\u964c\\u751f\\u4eba\", \"\\u964c\\u751f\\u4eba\", \"\\u964c\\u751f\\u4eba\", \"\\u964c\\u751f\\u4eba\", \"\\u964c\\u751f\\u4eba\", \"\\u966a\\u4f34\", \"\\u966a\\u4f34\", \"\\u966a\\u4f34\", \"\\u966a\\u4f34\", \"\\u966a\\u4f34\", \"\\u968f\\u73ed\", \"\\u9694\\u79bb\", \"\\u969c\\u788d\", \"\\u969c\\u788d\", \"\\u969c\\u788d\", \"\\u969c\\u788d\", \"\\u969c\\u788d\", \"\\u96c5\\u6069\", \"\\u9762\\u4e34\", \"\\u9762\\u4e34\", \"\\u9762\\u5b54\", \"\\u9762\\u5b54\", \"\\u97f3\\u4e50\", \"\\u97f3\\u4e50\", \"\\u97f3\\u4e50\", \"\\u97f3\\u4e50\", \"\\u97f3\\u4e50\", \"\\u989c\\u8272\", \"\\u989c\\u8272\", \"\\u989c\\u8272\", \"\\u989c\\u8272\", \"\\u98de\\u543b\", \"\\u98df\\u7269\", \"\\u98df\\u7269\", \"\\u98df\\u7269\", \"\\u98df\\u7269\", \"\\u98df\\u7269\", \"\\u9910\\u5177\", \"\\u996d\\u7897\", \"\\u997c\\u5e72\", \"\\u997c\\u5e72\", \"\\u997c\\u5e72\"]}, \"R\": 30, \"lambda.step\": 0.01, \"plot.opts\": {\"xlab\": \"PC1\", \"ylab\": \"PC2\"}, \"topic.order\": [4, 3, 2, 5, 1]};\n",
              "\n",
              "function LDAvis_load_lib(url, callback){\n",
              "  var s = document.createElement('script');\n",
              "  s.src = url;\n",
              "  s.async = true;\n",
              "  s.onreadystatechange = s.onload = callback;\n",
              "  s.onerror = function(){console.warn(\"failed to load library \" + url);};\n",
              "  document.getElementsByTagName(\"head\")[0].appendChild(s);\n",
              "}\n",
              "\n",
              "if(typeof(LDAvis) !== \"undefined\"){\n",
              "   // already loaded: just create the visualization\n",
              "   !function(LDAvis){\n",
              "       new LDAvis(\"#\" + \"ldavis_el794818415185661601099626148\", ldavis_el794818415185661601099626148_data);\n",
              "   }(LDAvis);\n",
              "}else if(typeof define === \"function\" && define.amd){\n",
              "   // require.js is available: use it to load d3/LDAvis\n",
              "   require.config({paths: {d3: \"/nbextensions/d3.v3.min\"}});\n",
              "   require([\"d3\"], function(d3){\n",
              "      window.d3 = d3;\n",
              "      LDAvis_load_lib(\"/nbextensions/ldavis.v1.0.0.js\", function(){\n",
              "        new LDAvis(\"#\" + \"ldavis_el794818415185661601099626148\", ldavis_el794818415185661601099626148_data);\n",
              "      });\n",
              "    });\n",
              "}else{\n",
              "    // require.js not available: dynamically load d3 & LDAvis\n",
              "    LDAvis_load_lib(\"/nbextensions/d3.v3.min.js\", function(){\n",
              "         LDAvis_load_lib(\"/nbextensions/ldavis.v1.0.0.js\", function(){\n",
              "                 new LDAvis(\"#\" + \"ldavis_el794818415185661601099626148\", ldavis_el794818415185661601099626148_data);\n",
              "            })\n",
              "         });\n",
              "}\n",
              "</script>"
            ],
            "text/plain": [
              "<IPython.core.display.HTML object>"
            ]
          },
          "metadata": {
            "tags": []
          },
          "execution_count": 34
        }
      ]
    },
    {
      "cell_type": "markdown",
      "metadata": {
        "id": "4mz6YkDhbvdH",
        "colab_type": "text"
      },
      "source": [
        "###### topic 1：  topic 3：  topic 2："
      ]
    },
    {
      "cell_type": "markdown",
      "metadata": {
        "id": "fLUCTy7NbvdH",
        "colab_type": "text"
      },
      "source": [
        "### 3.2 Use gensim "
      ]
    },
    {
      "cell_type": "markdown",
      "metadata": {
        "id": "zeahmtRHbvdI",
        "colab_type": "text"
      },
      "source": [
        "#### 数据读取"
      ]
    },
    {
      "cell_type": "code",
      "metadata": {
        "id": "NT2rAil9bvdI",
        "colab_type": "code",
        "outputId": "59b45fb6-f94f-45a2-9e17-ed312d9ab4a7",
        "colab": {
          "base_uri": "https://localhost:8080/",
          "height": 35
        }
      },
      "source": [
        "import pandas as pd\n",
        "df=pd.read_csv(\"/content/Coding_results_5000_rmhead.csv\",encoding = \"gb18030\",index_col=0)\n",
        "#删除缺失值，并重设索引index\n",
        "df.dropna(axis=0, how='any', inplace=True)\n",
        "# # # df.reset_index(drop=True, inplace=True)\n",
        "df.reset_index(inplace=True)\n",
        "df.shape"
      ],
      "execution_count": 0,
      "outputs": [
        {
          "output_type": "execute_result",
          "data": {
            "text/plain": [
              "(4891, 7)"
            ]
          },
          "metadata": {
            "tags": []
          },
          "execution_count": 1
        }
      ]
    },
    {
      "cell_type": "code",
      "metadata": {
        "id": "U-7tfLaCbvdK",
        "colab_type": "code",
        "colab": {}
      },
      "source": [
        "# df['title_clean'] = df['title_clean'].astype('str')"
      ],
      "execution_count": 0,
      "outputs": []
    },
    {
      "cell_type": "markdown",
      "metadata": {
        "id": "5eFaANkvbvdM",
        "colab_type": "text"
      },
      "source": [
        "#### 增加停用词"
      ]
    },
    {
      "cell_type": "code",
      "metadata": {
        "id": "N6h1emcNbvdN",
        "colab_type": "code",
        "colab": {}
      },
      "source": [
        "with open(\"cnstopwords.txt\", 'r', encoding='utf-8') as f:\n",
        "    stoptext = f.read()\n",
        "    stoplist = stoptext.split(';\\n')\n",
        "    cnstopwords = set(stoplist)"
      ],
      "execution_count": 0,
      "outputs": []
    },
    {
      "cell_type": "markdown",
      "metadata": {
        "id": "O0Wj3GsLbvdP",
        "colab_type": "text"
      },
      "source": [
        "#### 构建语料"
      ]
    },
    {
      "cell_type": "code",
      "metadata": {
        "id": "7BUlz2DXbvdQ",
        "colab_type": "code",
        "colab": {}
      },
      "source": [
        "# sstop = [\"孩子\",\"自闭症\",'儿童','家长','语言','训练','喜欢','老师','妈妈','能力','说话','宝宝','干预']\n",
        "# expend = [[\"孩子\",\"自闭症\",'会','说']\n",
        "texts = []\n",
        "for i in range(df.shape[0]):\n",
        "    wdlst = []\n",
        "    for wd in df[\"title_rmhead\"][i].split():\n",
        "      wdlst.append(wd)\n",
        "        #增加停用词：\n",
        "#         if not wd in cnstopwords:\n",
        "#             if not wd in sstop:\n",
        "                #去除单字\n",
        "        # if len(wd) > 1:\n",
        "        #     wdlst.append(wd)\n",
        "    texts.append(wdlst)"
      ],
      "execution_count": 0,
      "outputs": []
    },
    {
      "cell_type": "code",
      "metadata": {
        "id": "8DcT-5dYbvdS",
        "colab_type": "code",
        "outputId": "ab6a80aa-bfa2-413e-a6d8-0dc52531db04",
        "colab": {
          "base_uri": "https://localhost:8080/",
          "height": 35
        }
      },
      "source": [
        "texts[0]"
      ],
      "execution_count": 0,
      "outputs": [
        {
          "output_type": "execute_result",
          "data": {
            "text/plain": [
              "['有没有', '经验', '家长', '分享', '一下', '做', '变得', '更好']"
            ]
          },
          "metadata": {
            "tags": []
          },
          "execution_count": 3
        }
      ]
    },
    {
      "cell_type": "code",
      "metadata": {
        "id": "-597WUYQ_QGt",
        "colab_type": "code",
        "outputId": "17a63bc5-bc2e-453f-9055-456a9f5ab8da",
        "colab": {
          "base_uri": "https://localhost:8080/",
          "height": 35
        }
      },
      "source": [
        "texts[0]"
      ],
      "execution_count": 0,
      "outputs": [
        {
          "output_type": "execute_result",
          "data": {
            "text/plain": [
              "['有没有', '经验', '家长', '分享', '一下', '做', '变得', '更好']"
            ]
          },
          "metadata": {
            "tags": []
          },
          "execution_count": 4
        }
      ]
    },
    {
      "cell_type": "markdown",
      "metadata": {
        "id": "_x2R1DzTbvdU",
        "colab_type": "text"
      },
      "source": [
        "#### 词频统计"
      ]
    },
    {
      "cell_type": "code",
      "metadata": {
        "id": "BsOFDW0AbvdV",
        "colab_type": "code",
        "colab": {}
      },
      "source": [
        "dictionary = {}\n",
        "for text in texts:\n",
        "    for word in text:\n",
        "        if not word in dictionary:\n",
        "            dictionary[word] = 1\n",
        "        else:\n",
        "            dictionary[word]+= 1"
      ],
      "execution_count": 0,
      "outputs": []
    },
    {
      "cell_type": "code",
      "metadata": {
        "id": "0XA6ZafRbvdX",
        "colab_type": "code",
        "outputId": "f69c830a-c40e-4da1-9b13-8fd00aed8b86",
        "colab": {
          "base_uri": "https://localhost:8080/",
          "height": 183
        }
      },
      "source": [
        "from operator import itemgetter  \n",
        "data_order = sorted(dictionary.items(),key=itemgetter(1),reverse=True)\n",
        "data_order[:10]"
      ],
      "execution_count": 0,
      "outputs": [
        {
          "output_type": "execute_result",
          "data": {
            "text/plain": [
              "[('孩子', 3446),\n",
              " ('会', 1699),\n",
              " ('说', 1678),\n",
              " ('自闭症', 1389),\n",
              " ('现在', 805),\n",
              " ('没有', 788),\n",
              " ('语言', 739),\n",
              " ('问题', 677),\n",
              " ('一个', 675),\n",
              " ('玩', 667)]"
            ]
          },
          "metadata": {
            "tags": []
          },
          "execution_count": 36
        }
      ]
    },
    {
      "cell_type": "code",
      "metadata": {
        "id": "LzPi14BUlM8k",
        "colab_type": "code",
        "colab": {}
      },
      "source": [
        "head=[]\n",
        "tail=[]\n",
        "co=[]\n",
        "for item in data_order:\n",
        "  if item[1]>1:\n",
        "    tail.append(item[0])\n",
        "  if item[1]>1000:\n",
        "    head.append(item[0])\n",
        "  if item[1]>1 and item[1]<1000:\n",
        "    co.append(item[0])"
      ],
      "execution_count": 0,
      "outputs": []
    },
    {
      "cell_type": "code",
      "metadata": {
        "id": "yFs6hAYhbvdb",
        "colab_type": "code",
        "colab": {}
      },
      "source": [
        ""
      ],
      "execution_count": 0,
      "outputs": []
    },
    {
      "cell_type": "code",
      "metadata": {
        "id": "BxhCZzjfbvdf",
        "colab_type": "code",
        "colab": {}
      },
      "source": [
        ""
      ],
      "execution_count": 0,
      "outputs": []
    },
    {
      "cell_type": "markdown",
      "metadata": {
        "id": "qfk8-D7Mbvdk",
        "colab_type": "text"
      },
      "source": [
        "#### 构建gensim模型"
      ]
    },
    {
      "cell_type": "markdown",
      "metadata": {
        "id": "AhwdLjvZbvdl",
        "colab_type": "text"
      },
      "source": [
        "##### 1.models.ldamodel "
      ]
    },
    {
      "cell_type": "code",
      "metadata": {
        "id": "z3PzItP-bvdl",
        "colab_type": "code",
        "colab": {}
      },
      "source": [
        "from gensim.corpora.dictionary import Dictionary\n",
        "from gensim import models\n",
        "import gensim\n",
        "# Create a corpus from a list of texts\n",
        "id2word = Dictionary(texts)\n",
        "corpus = [id2word.doc2bow(text) for text in texts]"
      ],
      "execution_count": 0,
      "outputs": []
    },
    {
      "cell_type": "code",
      "metadata": {
        "id": "FSWHpRnJbvdn",
        "colab_type": "code",
        "colab": {}
      },
      "source": [
        "# Train the model on the corpus.\n",
        "lda_model = models.LdaMulticore(corpus, id2word=id2word, num_topics=79)"
      ],
      "execution_count": 0,
      "outputs": []
    },
    {
      "cell_type": "code",
      "metadata": {
        "id": "-vqmaCUDbvdo",
        "colab_type": "code",
        "colab": {}
      },
      "source": [
        ""
      ],
      "execution_count": 0,
      "outputs": []
    },
    {
      "cell_type": "markdown",
      "metadata": {
        "id": "RyQEIaY7bvdr",
        "colab_type": "text"
      },
      "source": [
        "###### 文章主题输出"
      ]
    },
    {
      "cell_type": "code",
      "metadata": {
        "scrolled": true,
        "id": "eXpHmlCybvds",
        "colab_type": "code",
        "colab": {}
      },
      "source": [
        "top20_terms = lda_model.print_topics(num_topics=79, num_words=20)"
      ],
      "execution_count": 0,
      "outputs": []
    },
    {
      "cell_type": "code",
      "metadata": {
        "id": "Oxo19Qa9CGro",
        "colab_type": "code",
        "outputId": "50c8351c-35c1-4ec8-eab2-5c69815c33a0",
        "colab": {
          "base_uri": "https://localhost:8080/",
          "height": 72
        }
      },
      "source": [
        "top20_terms[1]"
      ],
      "execution_count": 0,
      "outputs": [
        {
          "output_type": "execute_result",
          "data": {
            "text/plain": [
              "(1,\n",
              " '0.017*\"语言\" + 0.010*\"认知\" + 0.007*\"感统\" + 0.007*\"最好\" + 0.007*\"沟通\" + 0.007*\"今天\" + 0.007*\"听觉\" + 0.007*\"知道\" + 0.007*\"一节\" + 0.006*\"姥姥\" + 0.006*\"指令\" + 0.006*\"顶\" + 0.006*\"玩\" + 0.006*\"没有\" + 0.005*\"谢谢\" + 0.005*\"宝宝\" + 0.005*\"理解\" + 0.005*\"拉\" + 0.005*\"简单\" + 0.005*\"一下\"')"
            ]
          },
          "metadata": {
            "tags": []
          },
          "execution_count": 29
        }
      ]
    },
    {
      "cell_type": "code",
      "metadata": {
        "id": "rIckjQaYCHQh",
        "colab_type": "code",
        "colab": {}
      },
      "source": [
        "with open('./top20_terms.txt', 'a+',encoding = \"utf-8-sig\") as f:\n",
        "    for line in top20_terms[0:]:\n",
        "      f.write(str(line) + \"\\n\") "
      ],
      "execution_count": 0,
      "outputs": []
    },
    {
      "cell_type": "markdown",
      "metadata": {
        "id": "qmCWNgURbvdu",
        "colab_type": "text"
      },
      "source": [
        "###### 文章主题偏好（概率向量）"
      ]
    },
    {
      "cell_type": "code",
      "metadata": {
        "id": "WHyViq3Zbvdv",
        "colab_type": "code",
        "colab": {}
      },
      "source": [
        "ls = lda_model.get_document_topics(corpus[3],minimum_probability = 0)\n",
        "ls"
      ],
      "execution_count": 0,
      "outputs": []
    },
    {
      "cell_type": "code",
      "metadata": {
        "id": "U4yP_NDdbvdz",
        "colab_type": "code",
        "colab": {}
      },
      "source": [
        ""
      ],
      "execution_count": 0,
      "outputs": []
    },
    {
      "cell_type": "code",
      "metadata": {
        "id": "nQnhehbSbvd2",
        "colab_type": "code",
        "colab": {}
      },
      "source": [
        "from pandas.core.frame import DataFrame\n",
        "coherence=DataFrame()\n",
        "for i in range(0,df.shape[0]):\n",
        "    coher = lda_model.get_document_topics(corpus[i],minimum_probability = 0)\n",
        "    cohe = DataFrame(coher).T\n",
        "    coh = cohe.tail(1)\n",
        "    \n",
        "    coherence = pd.concat([coherence,coh])"
      ],
      "execution_count": 0,
      "outputs": []
    },
    {
      "cell_type": "code",
      "metadata": {
        "id": "1nwQi46Pbvd3",
        "colab_type": "code",
        "colab": {}
      },
      "source": [
        "#删除重复索引\n",
        "coherence = coherence.reset_index(drop = True)"
      ],
      "execution_count": 0,
      "outputs": []
    },
    {
      "cell_type": "code",
      "metadata": {
        "id": "hBxm1k_ubvd4",
        "colab_type": "code",
        "colab": {}
      },
      "source": [
        "#  coherence.columns = ['Topic1', 'mix_types', 'value']\n",
        "# svm_lda_topic79 = pd.concat([df,coherence],axis=1)\n",
        "svm_lda_topic79.to_csv('./svm_lda_topic79.csv',encoding='gb18030')"
      ],
      "execution_count": 0,
      "outputs": []
    },
    {
      "cell_type": "code",
      "metadata": {
        "id": "ozBoAPDebvd6",
        "colab_type": "code",
        "outputId": "dced3594-5a23-47f3-c498-19816a128335",
        "colab": {
          "base_uri": "https://localhost:8080/",
          "height": 806
        }
      },
      "source": [
        "svm_lda_topic79.head()\n"
      ],
      "execution_count": 0,
      "outputs": [
        {
          "output_type": "execute_result",
          "data": {
            "text/html": [
              "<div>\n",
              "<style scoped>\n",
              "    .dataframe tbody tr th:only-of-type {\n",
              "        vertical-align: middle;\n",
              "    }\n",
              "\n",
              "    .dataframe tbody tr th {\n",
              "        vertical-align: top;\n",
              "    }\n",
              "\n",
              "    .dataframe thead th {\n",
              "        text-align: right;\n",
              "    }\n",
              "</style>\n",
              "<table border=\"1\" class=\"dataframe\">\n",
              "  <thead>\n",
              "    <tr style=\"text-align: right;\">\n",
              "      <th></th>\n",
              "      <th>no</th>\n",
              "      <th>id</th>\n",
              "      <th>title</th>\n",
              "      <th>Category</th>\n",
              "      <th>title_seg</th>\n",
              "      <th>title_clean</th>\n",
              "      <th>title_rmhead</th>\n",
              "      <th>0</th>\n",
              "      <th>1</th>\n",
              "      <th>2</th>\n",
              "      <th>3</th>\n",
              "      <th>4</th>\n",
              "      <th>5</th>\n",
              "      <th>6</th>\n",
              "      <th>7</th>\n",
              "      <th>8</th>\n",
              "      <th>9</th>\n",
              "      <th>10</th>\n",
              "      <th>11</th>\n",
              "      <th>12</th>\n",
              "      <th>13</th>\n",
              "      <th>14</th>\n",
              "      <th>15</th>\n",
              "      <th>16</th>\n",
              "      <th>17</th>\n",
              "      <th>18</th>\n",
              "      <th>19</th>\n",
              "      <th>20</th>\n",
              "      <th>21</th>\n",
              "      <th>22</th>\n",
              "      <th>23</th>\n",
              "      <th>24</th>\n",
              "      <th>25</th>\n",
              "      <th>26</th>\n",
              "      <th>27</th>\n",
              "      <th>28</th>\n",
              "      <th>29</th>\n",
              "      <th>30</th>\n",
              "      <th>31</th>\n",
              "      <th>32</th>\n",
              "      <th>...</th>\n",
              "      <th>39</th>\n",
              "      <th>40</th>\n",
              "      <th>41</th>\n",
              "      <th>42</th>\n",
              "      <th>43</th>\n",
              "      <th>44</th>\n",
              "      <th>45</th>\n",
              "      <th>46</th>\n",
              "      <th>47</th>\n",
              "      <th>48</th>\n",
              "      <th>49</th>\n",
              "      <th>50</th>\n",
              "      <th>51</th>\n",
              "      <th>52</th>\n",
              "      <th>53</th>\n",
              "      <th>54</th>\n",
              "      <th>55</th>\n",
              "      <th>56</th>\n",
              "      <th>57</th>\n",
              "      <th>58</th>\n",
              "      <th>59</th>\n",
              "      <th>60</th>\n",
              "      <th>61</th>\n",
              "      <th>62</th>\n",
              "      <th>63</th>\n",
              "      <th>64</th>\n",
              "      <th>65</th>\n",
              "      <th>66</th>\n",
              "      <th>67</th>\n",
              "      <th>68</th>\n",
              "      <th>69</th>\n",
              "      <th>70</th>\n",
              "      <th>71</th>\n",
              "      <th>72</th>\n",
              "      <th>73</th>\n",
              "      <th>74</th>\n",
              "      <th>75</th>\n",
              "      <th>76</th>\n",
              "      <th>77</th>\n",
              "      <th>78</th>\n",
              "    </tr>\n",
              "  </thead>\n",
              "  <tbody>\n",
              "    <tr>\n",
              "      <th>0</th>\n",
              "      <td>Thread17</td>\n",
              "      <td>4.927166e+09</td>\n",
              "      <td>有没有有经验的家长可以来分享一下怎么做才能使孩子变得更好</td>\n",
              "      <td>0</td>\n",
              "      <td>有没有 有 经验 的 家长 可以 来 分享 一下 怎么 做 才能 使 孩子 变得 更好</td>\n",
              "      <td>有没有 经验 家长 分享 一下 做 孩子 变得 更好</td>\n",
              "      <td>有没有 经验 家长 分享 一下 做 变得 更好</td>\n",
              "      <td>0.001406</td>\n",
              "      <td>0.001406</td>\n",
              "      <td>0.001406</td>\n",
              "      <td>0.001406</td>\n",
              "      <td>0.001406</td>\n",
              "      <td>0.001406</td>\n",
              "      <td>0.001406</td>\n",
              "      <td>0.001406</td>\n",
              "      <td>0.001406</td>\n",
              "      <td>0.001406</td>\n",
              "      <td>0.001406</td>\n",
              "      <td>0.001406</td>\n",
              "      <td>0.001406</td>\n",
              "      <td>0.735060</td>\n",
              "      <td>0.001406</td>\n",
              "      <td>0.001406</td>\n",
              "      <td>0.001406</td>\n",
              "      <td>0.001406</td>\n",
              "      <td>0.001406</td>\n",
              "      <td>0.001406</td>\n",
              "      <td>0.001406</td>\n",
              "      <td>0.001406</td>\n",
              "      <td>0.001406</td>\n",
              "      <td>0.001406</td>\n",
              "      <td>0.001406</td>\n",
              "      <td>0.001406</td>\n",
              "      <td>0.001406</td>\n",
              "      <td>0.001406</td>\n",
              "      <td>0.001406</td>\n",
              "      <td>0.001406</td>\n",
              "      <td>0.001406</td>\n",
              "      <td>0.001406</td>\n",
              "      <td>0.001406</td>\n",
              "      <td>...</td>\n",
              "      <td>0.001406</td>\n",
              "      <td>0.001406</td>\n",
              "      <td>0.001406</td>\n",
              "      <td>0.001406</td>\n",
              "      <td>0.001406</td>\n",
              "      <td>0.001406</td>\n",
              "      <td>0.001406</td>\n",
              "      <td>0.001406</td>\n",
              "      <td>0.001406</td>\n",
              "      <td>0.001406</td>\n",
              "      <td>0.001406</td>\n",
              "      <td>0.001406</td>\n",
              "      <td>0.001406</td>\n",
              "      <td>0.001406</td>\n",
              "      <td>0.001406</td>\n",
              "      <td>0.001406</td>\n",
              "      <td>0.001406</td>\n",
              "      <td>0.001406</td>\n",
              "      <td>0.001406</td>\n",
              "      <td>0.001406</td>\n",
              "      <td>0.001406</td>\n",
              "      <td>0.001406</td>\n",
              "      <td>0.001406</td>\n",
              "      <td>0.001406</td>\n",
              "      <td>0.001406</td>\n",
              "      <td>0.001406</td>\n",
              "      <td>0.001406</td>\n",
              "      <td>0.001406</td>\n",
              "      <td>0.001406</td>\n",
              "      <td>0.001406</td>\n",
              "      <td>0.156642</td>\n",
              "      <td>0.001406</td>\n",
              "      <td>0.001406</td>\n",
              "      <td>0.001406</td>\n",
              "      <td>0.001406</td>\n",
              "      <td>0.001406</td>\n",
              "      <td>0.001406</td>\n",
              "      <td>0.001406</td>\n",
              "      <td>0.001406</td>\n",
              "      <td>0.001406</td>\n",
              "    </tr>\n",
              "    <tr>\n",
              "      <th>1</th>\n",
              "      <td>Thread30</td>\n",
              "      <td>4.930934e+09</td>\n",
              "      <td>请教各位有自闭症孩子的家长……</td>\n",
              "      <td>0</td>\n",
              "      <td>请教 各位 有 自闭症 孩子 的 家长 … …</td>\n",
              "      <td>请教 自闭症 孩子 家长</td>\n",
              "      <td>请教 家长</td>\n",
              "      <td>0.004219</td>\n",
              "      <td>0.004219</td>\n",
              "      <td>0.004219</td>\n",
              "      <td>0.004219</td>\n",
              "      <td>0.004219</td>\n",
              "      <td>0.004219</td>\n",
              "      <td>0.004219</td>\n",
              "      <td>0.004219</td>\n",
              "      <td>0.004219</td>\n",
              "      <td>0.004219</td>\n",
              "      <td>0.004219</td>\n",
              "      <td>0.004219</td>\n",
              "      <td>0.004219</td>\n",
              "      <td>0.004219</td>\n",
              "      <td>0.004219</td>\n",
              "      <td>0.004219</td>\n",
              "      <td>0.004219</td>\n",
              "      <td>0.004219</td>\n",
              "      <td>0.004219</td>\n",
              "      <td>0.004219</td>\n",
              "      <td>0.004219</td>\n",
              "      <td>0.004219</td>\n",
              "      <td>0.004219</td>\n",
              "      <td>0.004219</td>\n",
              "      <td>0.004219</td>\n",
              "      <td>0.004219</td>\n",
              "      <td>0.004219</td>\n",
              "      <td>0.004219</td>\n",
              "      <td>0.004219</td>\n",
              "      <td>0.004219</td>\n",
              "      <td>0.004219</td>\n",
              "      <td>0.004219</td>\n",
              "      <td>0.670886</td>\n",
              "      <td>...</td>\n",
              "      <td>0.004219</td>\n",
              "      <td>0.004219</td>\n",
              "      <td>0.004219</td>\n",
              "      <td>0.004219</td>\n",
              "      <td>0.004219</td>\n",
              "      <td>0.004219</td>\n",
              "      <td>0.004219</td>\n",
              "      <td>0.004219</td>\n",
              "      <td>0.004219</td>\n",
              "      <td>0.004219</td>\n",
              "      <td>0.004219</td>\n",
              "      <td>0.004219</td>\n",
              "      <td>0.004219</td>\n",
              "      <td>0.004219</td>\n",
              "      <td>0.004219</td>\n",
              "      <td>0.004219</td>\n",
              "      <td>0.004219</td>\n",
              "      <td>0.004219</td>\n",
              "      <td>0.004219</td>\n",
              "      <td>0.004219</td>\n",
              "      <td>0.004219</td>\n",
              "      <td>0.004219</td>\n",
              "      <td>0.004219</td>\n",
              "      <td>0.004219</td>\n",
              "      <td>0.004219</td>\n",
              "      <td>0.004219</td>\n",
              "      <td>0.004219</td>\n",
              "      <td>0.004219</td>\n",
              "      <td>0.004219</td>\n",
              "      <td>0.004219</td>\n",
              "      <td>0.004219</td>\n",
              "      <td>0.004219</td>\n",
              "      <td>0.004219</td>\n",
              "      <td>0.004219</td>\n",
              "      <td>0.004219</td>\n",
              "      <td>0.004219</td>\n",
              "      <td>0.004219</td>\n",
              "      <td>0.004219</td>\n",
              "      <td>0.004219</td>\n",
              "      <td>0.004219</td>\n",
              "    </tr>\n",
              "    <tr>\n",
              "      <th>2</th>\n",
              "      <td>Thread35</td>\n",
              "      <td>4.932980e+09</td>\n",
              "      <td>闭儿发烧了</td>\n",
              "      <td>0</td>\n",
              "      <td>闭儿 发烧 了</td>\n",
              "      <td>闭儿 发烧</td>\n",
              "      <td>闭儿 发烧</td>\n",
              "      <td>0.004219</td>\n",
              "      <td>0.004219</td>\n",
              "      <td>0.004219</td>\n",
              "      <td>0.004219</td>\n",
              "      <td>0.004219</td>\n",
              "      <td>0.004219</td>\n",
              "      <td>0.004219</td>\n",
              "      <td>0.004219</td>\n",
              "      <td>0.004219</td>\n",
              "      <td>0.670886</td>\n",
              "      <td>0.004219</td>\n",
              "      <td>0.004219</td>\n",
              "      <td>0.004219</td>\n",
              "      <td>0.004219</td>\n",
              "      <td>0.004219</td>\n",
              "      <td>0.004219</td>\n",
              "      <td>0.004219</td>\n",
              "      <td>0.004219</td>\n",
              "      <td>0.004219</td>\n",
              "      <td>0.004219</td>\n",
              "      <td>0.004219</td>\n",
              "      <td>0.004219</td>\n",
              "      <td>0.004219</td>\n",
              "      <td>0.004219</td>\n",
              "      <td>0.004219</td>\n",
              "      <td>0.004219</td>\n",
              "      <td>0.004219</td>\n",
              "      <td>0.004219</td>\n",
              "      <td>0.004219</td>\n",
              "      <td>0.004219</td>\n",
              "      <td>0.004219</td>\n",
              "      <td>0.004219</td>\n",
              "      <td>0.004219</td>\n",
              "      <td>...</td>\n",
              "      <td>0.004219</td>\n",
              "      <td>0.004219</td>\n",
              "      <td>0.004219</td>\n",
              "      <td>0.004219</td>\n",
              "      <td>0.004219</td>\n",
              "      <td>0.004219</td>\n",
              "      <td>0.004219</td>\n",
              "      <td>0.004219</td>\n",
              "      <td>0.004219</td>\n",
              "      <td>0.004219</td>\n",
              "      <td>0.004219</td>\n",
              "      <td>0.004219</td>\n",
              "      <td>0.004219</td>\n",
              "      <td>0.004219</td>\n",
              "      <td>0.004219</td>\n",
              "      <td>0.004219</td>\n",
              "      <td>0.004219</td>\n",
              "      <td>0.004219</td>\n",
              "      <td>0.004219</td>\n",
              "      <td>0.004219</td>\n",
              "      <td>0.004219</td>\n",
              "      <td>0.004219</td>\n",
              "      <td>0.004219</td>\n",
              "      <td>0.004219</td>\n",
              "      <td>0.004219</td>\n",
              "      <td>0.004219</td>\n",
              "      <td>0.004219</td>\n",
              "      <td>0.004219</td>\n",
              "      <td>0.004219</td>\n",
              "      <td>0.004219</td>\n",
              "      <td>0.004219</td>\n",
              "      <td>0.004219</td>\n",
              "      <td>0.004219</td>\n",
              "      <td>0.004219</td>\n",
              "      <td>0.004219</td>\n",
              "      <td>0.004219</td>\n",
              "      <td>0.004219</td>\n",
              "      <td>0.004219</td>\n",
              "      <td>0.004219</td>\n",
              "      <td>0.004219</td>\n",
              "    </tr>\n",
              "    <tr>\n",
              "      <th>3</th>\n",
              "      <td>Thread92</td>\n",
              "      <td>4.948806e+09</td>\n",
              "      <td>好心人帮帮我，我该何去何从</td>\n",
              "      <td>0</td>\n",
              "      <td>好心人 帮帮我 ， 我该 何去何从</td>\n",
              "      <td>好心人 帮帮我 我该 何去何从</td>\n",
              "      <td>好心人 帮帮我 我该 何去何从</td>\n",
              "      <td>0.002532</td>\n",
              "      <td>0.002532</td>\n",
              "      <td>0.002532</td>\n",
              "      <td>0.002532</td>\n",
              "      <td>0.002532</td>\n",
              "      <td>0.002532</td>\n",
              "      <td>0.002532</td>\n",
              "      <td>0.002532</td>\n",
              "      <td>0.002532</td>\n",
              "      <td>0.002532</td>\n",
              "      <td>0.002532</td>\n",
              "      <td>0.002532</td>\n",
              "      <td>0.002532</td>\n",
              "      <td>0.002532</td>\n",
              "      <td>0.002532</td>\n",
              "      <td>0.002532</td>\n",
              "      <td>0.002532</td>\n",
              "      <td>0.002532</td>\n",
              "      <td>0.002532</td>\n",
              "      <td>0.002532</td>\n",
              "      <td>0.002532</td>\n",
              "      <td>0.293155</td>\n",
              "      <td>0.002532</td>\n",
              "      <td>0.002532</td>\n",
              "      <td>0.002532</td>\n",
              "      <td>0.202532</td>\n",
              "      <td>0.002532</td>\n",
              "      <td>0.002532</td>\n",
              "      <td>0.002532</td>\n",
              "      <td>0.002532</td>\n",
              "      <td>0.002532</td>\n",
              "      <td>0.002532</td>\n",
              "      <td>0.002532</td>\n",
              "      <td>...</td>\n",
              "      <td>0.002532</td>\n",
              "      <td>0.002532</td>\n",
              "      <td>0.002532</td>\n",
              "      <td>0.002532</td>\n",
              "      <td>0.002532</td>\n",
              "      <td>0.002532</td>\n",
              "      <td>0.002532</td>\n",
              "      <td>0.002532</td>\n",
              "      <td>0.002532</td>\n",
              "      <td>0.002532</td>\n",
              "      <td>0.002532</td>\n",
              "      <td>0.002532</td>\n",
              "      <td>0.002532</td>\n",
              "      <td>0.002532</td>\n",
              "      <td>0.002532</td>\n",
              "      <td>0.002532</td>\n",
              "      <td>0.002532</td>\n",
              "      <td>0.002532</td>\n",
              "      <td>0.002532</td>\n",
              "      <td>0.002532</td>\n",
              "      <td>0.002532</td>\n",
              "      <td>0.002532</td>\n",
              "      <td>0.002532</td>\n",
              "      <td>0.311908</td>\n",
              "      <td>0.002532</td>\n",
              "      <td>0.002532</td>\n",
              "      <td>0.002532</td>\n",
              "      <td>0.002532</td>\n",
              "      <td>0.002532</td>\n",
              "      <td>0.002532</td>\n",
              "      <td>0.002532</td>\n",
              "      <td>0.002532</td>\n",
              "      <td>0.002532</td>\n",
              "      <td>0.002532</td>\n",
              "      <td>0.002532</td>\n",
              "      <td>0.002532</td>\n",
              "      <td>0.002532</td>\n",
              "      <td>0.002532</td>\n",
              "      <td>0.002532</td>\n",
              "      <td>0.002532</td>\n",
              "    </tr>\n",
              "    <tr>\n",
              "      <th>4</th>\n",
              "      <td>Thread101</td>\n",
              "      <td>4.953448e+09</td>\n",
              "      <td>求助我儿到底是不是自闭症</td>\n",
              "      <td>0</td>\n",
              "      <td>求助 我儿 到底 是不是 自闭症</td>\n",
              "      <td>求助 我儿 到底 是不是 自闭症</td>\n",
              "      <td>求助 我儿 到底 是不是</td>\n",
              "      <td>0.002532</td>\n",
              "      <td>0.002532</td>\n",
              "      <td>0.802532</td>\n",
              "      <td>0.002532</td>\n",
              "      <td>0.002532</td>\n",
              "      <td>0.002532</td>\n",
              "      <td>0.002532</td>\n",
              "      <td>0.002532</td>\n",
              "      <td>0.002532</td>\n",
              "      <td>0.002532</td>\n",
              "      <td>0.002532</td>\n",
              "      <td>0.002532</td>\n",
              "      <td>0.002532</td>\n",
              "      <td>0.002532</td>\n",
              "      <td>0.002532</td>\n",
              "      <td>0.002532</td>\n",
              "      <td>0.002532</td>\n",
              "      <td>0.002532</td>\n",
              "      <td>0.002532</td>\n",
              "      <td>0.002532</td>\n",
              "      <td>0.002532</td>\n",
              "      <td>0.002532</td>\n",
              "      <td>0.002532</td>\n",
              "      <td>0.002532</td>\n",
              "      <td>0.002532</td>\n",
              "      <td>0.002532</td>\n",
              "      <td>0.002532</td>\n",
              "      <td>0.002532</td>\n",
              "      <td>0.002532</td>\n",
              "      <td>0.002532</td>\n",
              "      <td>0.002532</td>\n",
              "      <td>0.002532</td>\n",
              "      <td>0.002532</td>\n",
              "      <td>...</td>\n",
              "      <td>0.002532</td>\n",
              "      <td>0.002532</td>\n",
              "      <td>0.002532</td>\n",
              "      <td>0.002532</td>\n",
              "      <td>0.002532</td>\n",
              "      <td>0.002532</td>\n",
              "      <td>0.002532</td>\n",
              "      <td>0.002532</td>\n",
              "      <td>0.002532</td>\n",
              "      <td>0.002532</td>\n",
              "      <td>0.002532</td>\n",
              "      <td>0.002532</td>\n",
              "      <td>0.002532</td>\n",
              "      <td>0.002532</td>\n",
              "      <td>0.002532</td>\n",
              "      <td>0.002532</td>\n",
              "      <td>0.002532</td>\n",
              "      <td>0.002532</td>\n",
              "      <td>0.002532</td>\n",
              "      <td>0.002532</td>\n",
              "      <td>0.002532</td>\n",
              "      <td>0.002532</td>\n",
              "      <td>0.002532</td>\n",
              "      <td>0.002532</td>\n",
              "      <td>0.002532</td>\n",
              "      <td>0.002532</td>\n",
              "      <td>0.002532</td>\n",
              "      <td>0.002532</td>\n",
              "      <td>0.002532</td>\n",
              "      <td>0.002532</td>\n",
              "      <td>0.002532</td>\n",
              "      <td>0.002532</td>\n",
              "      <td>0.002532</td>\n",
              "      <td>0.002532</td>\n",
              "      <td>0.002532</td>\n",
              "      <td>0.002532</td>\n",
              "      <td>0.002532</td>\n",
              "      <td>0.002532</td>\n",
              "      <td>0.002532</td>\n",
              "      <td>0.002532</td>\n",
              "    </tr>\n",
              "  </tbody>\n",
              "</table>\n",
              "<p>5 rows × 86 columns</p>\n",
              "</div>"
            ],
            "text/plain": [
              "          no            id  ...        77        78\n",
              "0   Thread17  4.927166e+09  ...  0.001406  0.001406\n",
              "1   Thread30  4.930934e+09  ...  0.004219  0.004219\n",
              "2   Thread35  4.932980e+09  ...  0.004219  0.004219\n",
              "3   Thread92  4.948806e+09  ...  0.002532  0.002532\n",
              "4  Thread101  4.953448e+09  ...  0.002532  0.002532\n",
              "\n",
              "[5 rows x 86 columns]"
            ]
          },
          "metadata": {
            "tags": []
          },
          "execution_count": 19
        }
      ]
    },
    {
      "cell_type": "markdown",
      "metadata": {
        "id": "cfAlbPajbvd9",
        "colab_type": "text"
      },
      "source": [
        "#### How to find the optimal number of topics for LDA,计算Coherence"
      ]
    },
    {
      "cell_type": "markdown",
      "metadata": {
        "id": "coG3PBNqbveH",
        "colab_type": "text"
      },
      "source": [
        "###### method2"
      ]
    },
    {
      "cell_type": "code",
      "metadata": {
        "id": "BBeTIDTibveJ",
        "colab_type": "code",
        "colab": {}
      },
      "source": [
        "from gensim.models import CoherenceModel\n",
        "# Compute Coherence Score\n",
        "# coherence_model_lda = CoherenceModel(model=lda_model, texts=texts, dictionary=id2word, coherence='c_v')\n",
        "# coherence_lda = coherence_model_lda.get_coherence()\n",
        "# print('\\nCoherence Score: ', coherence_lda)"
      ],
      "execution_count": 0,
      "outputs": []
    },
    {
      "cell_type": "code",
      "metadata": {
        "id": "W0buXMgbbveK",
        "colab_type": "code",
        "colab": {}
      },
      "source": [
        "# supporting function\n",
        "def compute_coherence_values(corpus, dictionary, k):#, a, b\n",
        "    \n",
        "    lda_model = gensim.models.LdaMulticore(corpus=corpus,\n",
        "                                           id2word=dictionary,\n",
        "                                           num_topics=k, \n",
        "                                           random_state=100,\n",
        "                                           chunksize=100,\n",
        "                                           passes=10,\n",
        "#                                            alpha=a,\n",
        "#                                            eta=b,\n",
        "                                           per_word_topics=True)\n",
        "    \n",
        "    coherence_model_lda = CoherenceModel(model=lda_model, texts=texts, dictionary=id2word, coherence='c_v')\n",
        "    \n",
        "    return coherence_model_lda.get_coherence()"
      ],
      "execution_count": 0,
      "outputs": []
    },
    {
      "cell_type": "code",
      "metadata": {
        "id": "FZjehS3LbveM",
        "colab_type": "code",
        "colab": {}
      },
      "source": [
        ""
      ],
      "execution_count": 0,
      "outputs": []
    },
    {
      "cell_type": "code",
      "metadata": {
        "id": "842fNz3ebveO",
        "colab_type": "code",
        "colab": {}
      },
      "source": [
        "import pandas as pd\n",
        "import numpy as np\n",
        "import tqdm\n",
        "grid = {}\n",
        "# grid['Validation_Set'] = {}\n",
        "# Topics range\n",
        "min_topics = 1\n",
        "max_topics = 100\n",
        "step_size = 2\n",
        "topics_range = range(min_topics, max_topics, step_size)\n",
        "model_results = {\n",
        "                 'Topics': [],\n",
        "#                  'Alpha': [],\n",
        "#                  'Beta': [],\n",
        "                 'Coherence': []\n",
        "                }"
      ],
      "execution_count": 0,
      "outputs": []
    },
    {
      "cell_type": "code",
      "metadata": {
        "id": "ZvkJq0mJbveP",
        "colab_type": "code",
        "outputId": "0cd0f805-678c-4811-8639-1b16b648b95f",
        "colab": {
          "base_uri": "https://localhost:8080/",
          "height": 35
        }
      },
      "source": [
        "# compute_coherence_values(corpus=corpus_sets[1], dictionary=id2word, k=4, a=0.01, b=0.1)\n",
        "compute_coherence_values(corpus, dictionary=id2word, k=4)"
      ],
      "execution_count": 0,
      "outputs": [
        {
          "output_type": "execute_result",
          "data": {
            "text/plain": [
              "0.4287935523645567"
            ]
          },
          "metadata": {
            "tags": []
          },
          "execution_count": 25
        }
      ]
    },
    {
      "cell_type": "code",
      "metadata": {
        "id": "KtUMNVcMbveR",
        "colab_type": "code",
        "colab": {}
      },
      "source": [
        "# Can take a long time to run\n",
        "import time\n",
        "st=time.time()\n",
        "for k in topics_range:\n",
        "    cv = compute_coherence_values(corpus=corpus, dictionary=id2word, k=k)\n",
        "    # Save the model results\n",
        "    model_results['Topics'].append(k)\n",
        "    model_results['Coherence'].append(cv)\n",
        "    print(\"k:\",cv)\n",
        "codf = pd.DataFrame(model_results)\n",
        "en=time.time()\n",
        "print(\"time spend:\",en-st)"
      ],
      "execution_count": 0,
      "outputs": []
    },
    {
      "cell_type": "code",
      "metadata": {
        "id": "y4P-8xKIW8Km",
        "colab_type": "code",
        "colab": {}
      },
      "source": [
        "codf.to_csv(\"coherence.csv\",encoding=\"gb18030\")"
      ],
      "execution_count": 0,
      "outputs": []
    },
    {
      "cell_type": "code",
      "metadata": {
        "id": "1r4OSKq2HtcG",
        "colab_type": "code",
        "colab": {}
      },
      "source": [
        "# codf"
      ],
      "execution_count": 0,
      "outputs": []
    },
    {
      "cell_type": "code",
      "metadata": {
        "id": "yRmA0iTj1Iii",
        "colab_type": "code",
        "outputId": "e66fb382-a10b-4ea3-9fa2-9ed17c829eb4",
        "colab": {
          "base_uri": "https://localhost:8080/",
          "height": 297
        }
      },
      "source": [
        "codf.plot(x=\"Topics\",y=\"Coherence\")"
      ],
      "execution_count": 0,
      "outputs": [
        {
          "output_type": "execute_result",
          "data": {
            "text/plain": [
              "<matplotlib.axes._subplots.AxesSubplot at 0x7fac6d096908>"
            ]
          },
          "metadata": {
            "tags": []
          },
          "execution_count": 34
        },
        {
          "output_type": "display_data",
          "data": {
            "image/png": "[encoded data removed]",
            "text/plain": [
              "<Figure size 432x288 with 1 Axes>"
            ]
          },
          "metadata": {
            "tags": []
          }
        }
      ]
    },
    {
      "cell_type": "code",
      "metadata": {
        "id": "9saNhgE12QQ3",
        "colab_type": "code",
        "outputId": "aff91552-536d-41a7-caca-94f8e1d92e59",
        "colab": {
          "base_uri": "https://localhost:8080/",
          "height": 1000
        }
      },
      "source": [
        "codf.append(codf)"
      ],
      "execution_count": 0,
      "outputs": [
        {
          "output_type": "execute_result",
          "data": {
            "text/html": [
              "<div>\n",
              "<style scoped>\n",
              "    .dataframe tbody tr th:only-of-type {\n",
              "        vertical-align: middle;\n",
              "    }\n",
              "\n",
              "    .dataframe tbody tr th {\n",
              "        vertical-align: top;\n",
              "    }\n",
              "\n",
              "    .dataframe thead th {\n",
              "        text-align: right;\n",
              "    }\n",
              "</style>\n",
              "<table border=\"1\" class=\"dataframe\">\n",
              "  <thead>\n",
              "    <tr style=\"text-align: right;\">\n",
              "      <th></th>\n",
              "      <th>Topics</th>\n",
              "      <th>Coherence</th>\n",
              "    </tr>\n",
              "  </thead>\n",
              "  <tbody>\n",
              "    <tr>\n",
              "      <th>0</th>\n",
              "      <td>1</td>\n",
              "      <td>0.302615</td>\n",
              "    </tr>\n",
              "    <tr>\n",
              "      <th>1</th>\n",
              "      <td>3</td>\n",
              "      <td>0.428465</td>\n",
              "    </tr>\n",
              "    <tr>\n",
              "      <th>2</th>\n",
              "      <td>5</td>\n",
              "      <td>0.446530</td>\n",
              "    </tr>\n",
              "    <tr>\n",
              "      <th>3</th>\n",
              "      <td>7</td>\n",
              "      <td>0.333943</td>\n",
              "    </tr>\n",
              "    <tr>\n",
              "      <th>4</th>\n",
              "      <td>9</td>\n",
              "      <td>0.376224</td>\n",
              "    </tr>\n",
              "    <tr>\n",
              "      <th>5</th>\n",
              "      <td>11</td>\n",
              "      <td>0.365727</td>\n",
              "    </tr>\n",
              "    <tr>\n",
              "      <th>6</th>\n",
              "      <td>13</td>\n",
              "      <td>0.340253</td>\n",
              "    </tr>\n",
              "    <tr>\n",
              "      <th>7</th>\n",
              "      <td>15</td>\n",
              "      <td>0.362906</td>\n",
              "    </tr>\n",
              "    <tr>\n",
              "      <th>8</th>\n",
              "      <td>17</td>\n",
              "      <td>0.358080</td>\n",
              "    </tr>\n",
              "    <tr>\n",
              "      <th>9</th>\n",
              "      <td>19</td>\n",
              "      <td>0.365149</td>\n",
              "    </tr>\n",
              "    <tr>\n",
              "      <th>10</th>\n",
              "      <td>21</td>\n",
              "      <td>0.356636</td>\n",
              "    </tr>\n",
              "    <tr>\n",
              "      <th>11</th>\n",
              "      <td>23</td>\n",
              "      <td>0.366621</td>\n",
              "    </tr>\n",
              "    <tr>\n",
              "      <th>12</th>\n",
              "      <td>25</td>\n",
              "      <td>0.354406</td>\n",
              "    </tr>\n",
              "    <tr>\n",
              "      <th>13</th>\n",
              "      <td>27</td>\n",
              "      <td>0.354554</td>\n",
              "    </tr>\n",
              "    <tr>\n",
              "      <th>14</th>\n",
              "      <td>29</td>\n",
              "      <td>0.370250</td>\n",
              "    </tr>\n",
              "    <tr>\n",
              "      <th>15</th>\n",
              "      <td>31</td>\n",
              "      <td>0.336931</td>\n",
              "    </tr>\n",
              "    <tr>\n",
              "      <th>16</th>\n",
              "      <td>33</td>\n",
              "      <td>0.408951</td>\n",
              "    </tr>\n",
              "    <tr>\n",
              "      <th>17</th>\n",
              "      <td>35</td>\n",
              "      <td>0.404825</td>\n",
              "    </tr>\n",
              "    <tr>\n",
              "      <th>18</th>\n",
              "      <td>37</td>\n",
              "      <td>0.367241</td>\n",
              "    </tr>\n",
              "    <tr>\n",
              "      <th>19</th>\n",
              "      <td>39</td>\n",
              "      <td>0.410265</td>\n",
              "    </tr>\n",
              "    <tr>\n",
              "      <th>20</th>\n",
              "      <td>41</td>\n",
              "      <td>0.400847</td>\n",
              "    </tr>\n",
              "    <tr>\n",
              "      <th>21</th>\n",
              "      <td>43</td>\n",
              "      <td>0.416475</td>\n",
              "    </tr>\n",
              "    <tr>\n",
              "      <th>22</th>\n",
              "      <td>45</td>\n",
              "      <td>0.426895</td>\n",
              "    </tr>\n",
              "    <tr>\n",
              "      <th>23</th>\n",
              "      <td>47</td>\n",
              "      <td>0.424376</td>\n",
              "    </tr>\n",
              "    <tr>\n",
              "      <th>24</th>\n",
              "      <td>49</td>\n",
              "      <td>0.426388</td>\n",
              "    </tr>\n",
              "    <tr>\n",
              "      <th>25</th>\n",
              "      <td>51</td>\n",
              "      <td>0.454539</td>\n",
              "    </tr>\n",
              "    <tr>\n",
              "      <th>26</th>\n",
              "      <td>53</td>\n",
              "      <td>0.461073</td>\n",
              "    </tr>\n",
              "    <tr>\n",
              "      <th>27</th>\n",
              "      <td>55</td>\n",
              "      <td>0.448355</td>\n",
              "    </tr>\n",
              "    <tr>\n",
              "      <th>28</th>\n",
              "      <td>57</td>\n",
              "      <td>0.471096</td>\n",
              "    </tr>\n",
              "    <tr>\n",
              "      <th>29</th>\n",
              "      <td>59</td>\n",
              "      <td>0.476255</td>\n",
              "    </tr>\n",
              "    <tr>\n",
              "      <th>0</th>\n",
              "      <td>1</td>\n",
              "      <td>0.302615</td>\n",
              "    </tr>\n",
              "    <tr>\n",
              "      <th>1</th>\n",
              "      <td>3</td>\n",
              "      <td>0.428465</td>\n",
              "    </tr>\n",
              "    <tr>\n",
              "      <th>2</th>\n",
              "      <td>5</td>\n",
              "      <td>0.446530</td>\n",
              "    </tr>\n",
              "    <tr>\n",
              "      <th>3</th>\n",
              "      <td>7</td>\n",
              "      <td>0.333943</td>\n",
              "    </tr>\n",
              "    <tr>\n",
              "      <th>4</th>\n",
              "      <td>9</td>\n",
              "      <td>0.376224</td>\n",
              "    </tr>\n",
              "    <tr>\n",
              "      <th>5</th>\n",
              "      <td>11</td>\n",
              "      <td>0.365727</td>\n",
              "    </tr>\n",
              "    <tr>\n",
              "      <th>6</th>\n",
              "      <td>13</td>\n",
              "      <td>0.340253</td>\n",
              "    </tr>\n",
              "    <tr>\n",
              "      <th>7</th>\n",
              "      <td>15</td>\n",
              "      <td>0.362906</td>\n",
              "    </tr>\n",
              "    <tr>\n",
              "      <th>8</th>\n",
              "      <td>17</td>\n",
              "      <td>0.358080</td>\n",
              "    </tr>\n",
              "    <tr>\n",
              "      <th>9</th>\n",
              "      <td>19</td>\n",
              "      <td>0.365149</td>\n",
              "    </tr>\n",
              "    <tr>\n",
              "      <th>10</th>\n",
              "      <td>21</td>\n",
              "      <td>0.356636</td>\n",
              "    </tr>\n",
              "    <tr>\n",
              "      <th>11</th>\n",
              "      <td>23</td>\n",
              "      <td>0.366621</td>\n",
              "    </tr>\n",
              "    <tr>\n",
              "      <th>12</th>\n",
              "      <td>25</td>\n",
              "      <td>0.354406</td>\n",
              "    </tr>\n",
              "    <tr>\n",
              "      <th>13</th>\n",
              "      <td>27</td>\n",
              "      <td>0.354554</td>\n",
              "    </tr>\n",
              "    <tr>\n",
              "      <th>14</th>\n",
              "      <td>29</td>\n",
              "      <td>0.370250</td>\n",
              "    </tr>\n",
              "    <tr>\n",
              "      <th>15</th>\n",
              "      <td>31</td>\n",
              "      <td>0.336931</td>\n",
              "    </tr>\n",
              "    <tr>\n",
              "      <th>16</th>\n",
              "      <td>33</td>\n",
              "      <td>0.408951</td>\n",
              "    </tr>\n",
              "    <tr>\n",
              "      <th>17</th>\n",
              "      <td>35</td>\n",
              "      <td>0.404825</td>\n",
              "    </tr>\n",
              "    <tr>\n",
              "      <th>18</th>\n",
              "      <td>37</td>\n",
              "      <td>0.367241</td>\n",
              "    </tr>\n",
              "    <tr>\n",
              "      <th>19</th>\n",
              "      <td>39</td>\n",
              "      <td>0.410265</td>\n",
              "    </tr>\n",
              "    <tr>\n",
              "      <th>20</th>\n",
              "      <td>41</td>\n",
              "      <td>0.400847</td>\n",
              "    </tr>\n",
              "    <tr>\n",
              "      <th>21</th>\n",
              "      <td>43</td>\n",
              "      <td>0.416475</td>\n",
              "    </tr>\n",
              "    <tr>\n",
              "      <th>22</th>\n",
              "      <td>45</td>\n",
              "      <td>0.426895</td>\n",
              "    </tr>\n",
              "    <tr>\n",
              "      <th>23</th>\n",
              "      <td>47</td>\n",
              "      <td>0.424376</td>\n",
              "    </tr>\n",
              "    <tr>\n",
              "      <th>24</th>\n",
              "      <td>49</td>\n",
              "      <td>0.426388</td>\n",
              "    </tr>\n",
              "    <tr>\n",
              "      <th>25</th>\n",
              "      <td>51</td>\n",
              "      <td>0.454539</td>\n",
              "    </tr>\n",
              "    <tr>\n",
              "      <th>26</th>\n",
              "      <td>53</td>\n",
              "      <td>0.461073</td>\n",
              "    </tr>\n",
              "    <tr>\n",
              "      <th>27</th>\n",
              "      <td>55</td>\n",
              "      <td>0.448355</td>\n",
              "    </tr>\n",
              "    <tr>\n",
              "      <th>28</th>\n",
              "      <td>57</td>\n",
              "      <td>0.471096</td>\n",
              "    </tr>\n",
              "    <tr>\n",
              "      <th>29</th>\n",
              "      <td>59</td>\n",
              "      <td>0.476255</td>\n",
              "    </tr>\n",
              "  </tbody>\n",
              "</table>\n",
              "</div>"
            ],
            "text/plain": [
              "    Topics  Coherence\n",
              "0        1   0.302615\n",
              "1        3   0.428465\n",
              "2        5   0.446530\n",
              "3        7   0.333943\n",
              "4        9   0.376224\n",
              "5       11   0.365727\n",
              "6       13   0.340253\n",
              "7       15   0.362906\n",
              "8       17   0.358080\n",
              "9       19   0.365149\n",
              "10      21   0.356636\n",
              "11      23   0.366621\n",
              "12      25   0.354406\n",
              "13      27   0.354554\n",
              "14      29   0.370250\n",
              "15      31   0.336931\n",
              "16      33   0.408951\n",
              "17      35   0.404825\n",
              "18      37   0.367241\n",
              "19      39   0.410265\n",
              "20      41   0.400847\n",
              "21      43   0.416475\n",
              "22      45   0.426895\n",
              "23      47   0.424376\n",
              "24      49   0.426388\n",
              "25      51   0.454539\n",
              "26      53   0.461073\n",
              "27      55   0.448355\n",
              "28      57   0.471096\n",
              "29      59   0.476255\n",
              "0        1   0.302615\n",
              "1        3   0.428465\n",
              "2        5   0.446530\n",
              "3        7   0.333943\n",
              "4        9   0.376224\n",
              "5       11   0.365727\n",
              "6       13   0.340253\n",
              "7       15   0.362906\n",
              "8       17   0.358080\n",
              "9       19   0.365149\n",
              "10      21   0.356636\n",
              "11      23   0.366621\n",
              "12      25   0.354406\n",
              "13      27   0.354554\n",
              "14      29   0.370250\n",
              "15      31   0.336931\n",
              "16      33   0.408951\n",
              "17      35   0.404825\n",
              "18      37   0.367241\n",
              "19      39   0.410265\n",
              "20      41   0.400847\n",
              "21      43   0.416475\n",
              "22      45   0.426895\n",
              "23      47   0.424376\n",
              "24      49   0.426388\n",
              "25      51   0.454539\n",
              "26      53   0.461073\n",
              "27      55   0.448355\n",
              "28      57   0.471096\n",
              "29      59   0.476255"
            ]
          },
          "metadata": {
            "tags": []
          },
          "execution_count": 18
        }
      ]
    },
    {
      "cell_type": "code",
      "metadata": {
        "id": "W2IG-xHebveY",
        "colab_type": "code",
        "colab": {}
      },
      "source": [
        "# # Can take a long time to run\n",
        "# if 1 == 1:\n",
        "# #     pbar = tqdm.tqdm(total=270)\n",
        "#     # iterate through number of topics\n",
        "#     for k in topics_range:\n",
        "#         # iterate through alpha values\n",
        "#         for a in alpha:\n",
        "#             # iterare through beta values\n",
        "#             for b in beta:\n",
        "#                 # get the coherence score for the given parameters\n",
        "#                 cv = compute_coherence_values(corpus=corpus, dictionary=id2word, k=k, a=a, b=b)\n",
        "#                 # Save the model results\n",
        "#                 model_results['Topics'].append(k)\n",
        "#                 model_results['Alpha'].append(a)\n",
        "#                 model_results['Beta'].append(b)\n",
        "#                 model_results['Coherence'].append(cv)\n",
        "                    \n",
        "# #                     pbar.update(1)\n",
        "#     mydf = pd.DataFrame(model_results)#.to_csv('lda_tuning_results.csv', index=False)\n",
        "# #     pbar.close()"
      ],
      "execution_count": 0,
      "outputs": []
    },
    {
      "cell_type": "code",
      "metadata": {
        "id": "ZCuSDqSHbveZ",
        "colab_type": "code",
        "colab": {}
      },
      "source": [
        ""
      ],
      "execution_count": 0,
      "outputs": []
    },
    {
      "cell_type": "code",
      "metadata": {
        "id": "2IoMjmBHbvea",
        "colab_type": "code",
        "outputId": "e1ee9e94-7c33-4433-8765-5bba22af9a39",
        "colab": {}
      },
      "source": [
        "#文章主题偏好\n",
        "lda_model.get_document_topics(corpus[0])\n",
        "# lda_model.get_document_topics(doc_term_matrix[0],minimum_probability = 0)"
      ],
      "execution_count": 0,
      "outputs": [
        {
          "output_type": "execute_result",
          "data": {
            "text/plain": [
              "[(0, 0.083470106),\n",
              " (1, 0.083469026),\n",
              " (2, 0.08346832),\n",
              " (3, 0.08347188),\n",
              " (4, 0.08347014),\n",
              " (5, 0.58265054)]"
            ]
          },
          "metadata": {
            "tags": []
          },
          "execution_count": 54
        }
      ]
    },
    {
      "cell_type": "code",
      "metadata": {
        "id": "ha6uVJYKbveb",
        "colab_type": "code",
        "colab": {}
      },
      "source": [
        ""
      ],
      "execution_count": 0,
      "outputs": []
    },
    {
      "cell_type": "code",
      "metadata": {
        "id": "3qxUCBpqbvec",
        "colab_type": "code",
        "colab": {}
      },
      "source": [
        ""
      ],
      "execution_count": 0,
      "outputs": []
    },
    {
      "cell_type": "code",
      "metadata": {
        "id": "DRXDrvBebved",
        "colab_type": "code",
        "colab": {}
      },
      "source": [
        "#单词的主题偏好\n",
        "lda_model.get_term_topics()"
      ],
      "execution_count": 0,
      "outputs": []
    },
    {
      "cell_type": "code",
      "metadata": {
        "id": "VDqk0h5vbvef",
        "colab_type": "code",
        "outputId": "b6c53303-5c63-48b5-f737-e3e5d6fa3177",
        "colab": {}
      },
      "source": [
        "lda_model.get_topic_terms(3, topn=10)\n",
        "lda_model.get_topics()[0]"
      ],
      "execution_count": 0,
      "outputs": [
        {
          "output_type": "execute_result",
          "data": {
            "text/plain": [
              "array([0.00017413, 0.0010699 , 0.00014287, ..., 0.00010118, 0.00010117,\n",
              "       0.00010117], dtype=float32)"
            ]
          },
          "metadata": {
            "tags": []
          },
          "execution_count": 28
        }
      ]
    },
    {
      "cell_type": "code",
      "metadata": {
        "id": "hvgr6nukbveg",
        "colab_type": "code",
        "colab": {}
      },
      "source": [
        ""
      ],
      "execution_count": 0,
      "outputs": []
    },
    {
      "cell_type": "code",
      "metadata": {
        "id": "PODRCWnpbvei",
        "colab_type": "code",
        "outputId": "6a876310-d090-44c8-e6b1-35a2b7c03953",
        "colab": {}
      },
      "source": [
        "#输入主题号，得到每个主题哪些重要词+重要词概率\n",
        "lda.show_topics(num_words=10)\n",
        "lda.show_topic(0, topn=10)"
      ],
      "execution_count": 0,
      "outputs": [
        {
          "output_type": "execute_result",
          "data": {
            "text/plain": [
              "[('孩子', 0.020434601),\n",
              " ('说', 0.01866936),\n",
              " ('儿子', 0.008344503),\n",
              " ('自闭症', 0.008170336),\n",
              " ('会', 0.007043532),\n",
              " ('家长', 0.0069401464),\n",
              " ('做', 0.0064094993),\n",
              " ('一个', 0.006155566),\n",
              " ('训练', 0.005903075),\n",
              " ('妈妈', 0.005744496)]"
            ]
          },
          "metadata": {
            "tags": []
          },
          "execution_count": 45
        }
      ]
    },
    {
      "cell_type": "code",
      "metadata": {
        "id": "mzRozmFwbvej",
        "colab_type": "code",
        "outputId": "59b92adf-b81c-4acb-f22d-b0a5a769b8dc",
        "colab": {}
      },
      "source": [
        "a = lda_model.log_perplexity(doc_term_matrix)\n",
        "a"
      ],
      "execution_count": 0,
      "outputs": [
        {
          "output_type": "execute_result",
          "data": {
            "text/plain": [
              "-8.32681457931121"
            ]
          },
          "metadata": {
            "tags": []
          },
          "execution_count": 49
        }
      ]
    },
    {
      "cell_type": "code",
      "metadata": {
        "id": "-cZcf5fDbvel",
        "colab_type": "code",
        "colab": {}
      },
      "source": [
        "top_topics = lda.top_topics(doc_term_matrix)\n",
        "tc = sum([t[1] for t in top_topics])\n",
        "tc\n",
        "# # top_topics[0]\n",
        "# num_topics = 7\n",
        "# avg_topic_coherence = sum([t[1] for t in top_topics]) / num_topics\n",
        "# print('Average topic coherence: %.4f.' % avg_topic_coherence)"
      ],
      "execution_count": 0,
      "outputs": []
    },
    {
      "cell_type": "code",
      "metadata": {
        "id": "2uJIuqFjbvem",
        "colab_type": "code",
        "colab": {}
      },
      "source": [
        ""
      ],
      "execution_count": 0,
      "outputs": []
    },
    {
      "cell_type": "markdown",
      "metadata": {
        "id": "iP3UNjW-bveo",
        "colab_type": "text"
      },
      "source": [
        "##### 2.models.ldamulticore"
      ]
    },
    {
      "cell_type": "code",
      "metadata": {
        "id": "fFbUqaTYbveo",
        "colab_type": "code",
        "colab": {}
      },
      "source": [
        "# ldamulticore\n",
        "lda = models.LdaMulticore(doc_term_matrix, id2word=dictionary, num_topics=7)"
      ],
      "execution_count": 0,
      "outputs": []
    },
    {
      "cell_type": "markdown",
      "metadata": {
        "id": "v9bZgbYXbvep",
        "colab_type": "text"
      },
      "source": [
        "#### 主题可视化"
      ]
    },
    {
      "cell_type": "code",
      "metadata": {
        "id": "2dwQCKvjbveq",
        "colab_type": "code",
        "outputId": "6e30572d-4900-4952-ab85-d0b0222a55c7",
        "colab": {}
      },
      "source": [
        "import pyLDAvis\n",
        "import pyLDAvis.gensim\n",
        "pyLDAvis.enable_notebook()\n",
        "vis = pyLDAvis.gensim.prepare(lda_model, doc_term_matrix, dictionary,mds='mmds')#\n",
        "# pyLDAvis.display(vis)"
      ],
      "execution_count": 0,
      "outputs": [
        {
          "output_type": "stream",
          "text": [
            "D:\\Program Files\\WPy-3702\\python-3.7.0.amd64\\lib\\site-packages\\pyLDAvis\\_prepare.py:257: FutureWarning: Sorting because non-concatenation axis is not aligned. A future version\n",
            "of pandas will change to not sort by default.\n",
            "\n",
            "To accept the future behavior, pass 'sort=False'.\n",
            "\n",
            "To retain the current behavior and silence the warning, pass 'sort=True'.\n",
            "\n",
            "  return pd.concat([default_term_info] + list(topic_dfs))\n"
          ],
          "name": "stderr"
        }
      ]
    },
    {
      "cell_type": "code",
      "metadata": {
        "id": "JzsEfKdGbveu",
        "colab_type": "code",
        "outputId": "05cd4a79-b6cc-4391-cde1-fb219d54ddb7",
        "colab": {}
      },
      "source": [
        "pyLDAvis.display(vis)"
      ],
      "execution_count": 0,
      "outputs": [
        {
          "output_type": "execute_result",
          "data": {
            "text/html": [
              "\n",
              "<link rel=\"stylesheet\" type=\"text/css\" href=\"https://cdn.rawgit.com/bmabey/pyLDAvis/files/ldavis.v1.0.0.css\">\n",
              "\n",
              "\n",
              "<div id=\"ldavis_el138817946383987124516357954\"></div>\n",
              "<script type=\"text/javascript\">\n",
              "\n",
              "var ldavis_el138817946383987124516357954_data = {\"mdsDat\": {\"x\": [0.0278639641592329, 0.03674318274395827, -0.011875168705032102, -0.03192354076602875, -0.0053508086451132175, 0.03577307813796021, -0.051230706924977304], \"y\": [-0.03691618608780322, 0.02734272302742836, -0.03527782959999764, 0.03567410562819835, 0.02978619377737801, -0.008080830092995388, -0.012528176652208504], \"topics\": [1, 2, 3, 4, 5, 6, 7], \"cluster\": [1, 1, 1, 1, 1, 1, 1], \"Freq\": [29.513608932495117, 20.29655647277832, 18.60200309753418, 10.85524845123291, 10.261921882629395, 7.772507667541504, 2.698150157928467]}, \"tinfo\": {\"Category\": [\"Default\", \"Default\", \"Default\", \"Default\", \"Default\", \"Default\", \"Default\", \"Default\", \"Default\", \"Default\", \"Default\", \"Default\", \"Default\", \"Default\", \"Default\", \"Default\", \"Default\", \"Default\", \"Default\", \"Default\", \"Default\", \"Default\", \"Default\", \"Default\", \"Default\", \"Default\", \"Default\", \"Default\", \"Default\", \"Default\", \"Topic1\", \"Topic1\", \"Topic1\", \"Topic1\", \"Topic1\", \"Topic1\", \"Topic1\", \"Topic1\", \"Topic1\", \"Topic1\", \"Topic1\", \"Topic1\", \"Topic1\", \"Topic1\", \"Topic1\", \"Topic1\", \"Topic1\", \"Topic1\", \"Topic1\", \"Topic1\", \"Topic1\", \"Topic1\", \"Topic1\", \"Topic1\", \"Topic1\", \"Topic1\", \"Topic1\", \"Topic1\", \"Topic1\", \"Topic1\", \"Topic1\", \"Topic1\", \"Topic1\", \"Topic1\", \"Topic1\", \"Topic1\", \"Topic1\", \"Topic1\", \"Topic1\", \"Topic1\", \"Topic1\", \"Topic1\", \"Topic1\", \"Topic1\", \"Topic1\", \"Topic1\", \"Topic1\", \"Topic1\", \"Topic1\", \"Topic1\", \"Topic1\", \"Topic1\", \"Topic1\", \"Topic1\", \"Topic1\", \"Topic1\", \"Topic1\", \"Topic1\", \"Topic1\", \"Topic1\", \"Topic1\", \"Topic1\", \"Topic1\", \"Topic1\", \"Topic1\", \"Topic1\", \"Topic1\", \"Topic1\", \"Topic1\", \"Topic1\", \"Topic1\", \"Topic1\", \"Topic1\", \"Topic1\", \"Topic1\", \"Topic2\", \"Topic2\", \"Topic2\", \"Topic2\", \"Topic2\", \"Topic2\", \"Topic2\", \"Topic2\", \"Topic2\", \"Topic2\", \"Topic2\", \"Topic2\", \"Topic2\", \"Topic2\", \"Topic2\", \"Topic2\", \"Topic2\", \"Topic2\", \"Topic2\", \"Topic2\", \"Topic2\", \"Topic2\", \"Topic2\", \"Topic2\", \"Topic2\", \"Topic2\", \"Topic2\", \"Topic2\", \"Topic2\", \"Topic2\", \"Topic2\", \"Topic2\", \"Topic2\", \"Topic2\", \"Topic2\", \"Topic2\", \"Topic2\", \"Topic2\", \"Topic2\", \"Topic2\", \"Topic2\", \"Topic2\", \"Topic2\", \"Topic2\", \"Topic2\", \"Topic2\", \"Topic2\", \"Topic2\", \"Topic2\", \"Topic2\", \"Topic2\", \"Topic2\", \"Topic2\", \"Topic2\", \"Topic2\", \"Topic2\", \"Topic2\", \"Topic2\", \"Topic2\", \"Topic2\", \"Topic2\", \"Topic2\", \"Topic2\", \"Topic2\", \"Topic2\", \"Topic2\", \"Topic2\", \"Topic2\", \"Topic2\", \"Topic2\", \"Topic2\", \"Topic2\", \"Topic2\", \"Topic2\", \"Topic2\", \"Topic3\", \"Topic3\", \"Topic3\", \"Topic3\", \"Topic3\", \"Topic3\", \"Topic3\", \"Topic3\", \"Topic3\", \"Topic3\", \"Topic3\", \"Topic3\", \"Topic3\", \"Topic3\", \"Topic3\", \"Topic3\", \"Topic3\", \"Topic3\", \"Topic3\", \"Topic3\", \"Topic3\", \"Topic3\", \"Topic3\", \"Topic3\", \"Topic3\", \"Topic3\", \"Topic3\", \"Topic3\", \"Topic3\", \"Topic3\", \"Topic3\", \"Topic3\", \"Topic3\", \"Topic3\", \"Topic3\", \"Topic3\", \"Topic3\", \"Topic3\", \"Topic3\", \"Topic3\", \"Topic3\", \"Topic3\", \"Topic3\", \"Topic3\", \"Topic3\", \"Topic3\", \"Topic3\", \"Topic3\", \"Topic3\", \"Topic3\", \"Topic3\", \"Topic3\", \"Topic3\", \"Topic3\", \"Topic3\", \"Topic3\", \"Topic3\", \"Topic3\", \"Topic3\", \"Topic3\", \"Topic3\", \"Topic3\", \"Topic3\", \"Topic3\", \"Topic3\", \"Topic3\", \"Topic3\", \"Topic3\", \"Topic3\", \"Topic4\", \"Topic4\", \"Topic4\", \"Topic4\", \"Topic4\", \"Topic4\", \"Topic4\", \"Topic4\", \"Topic4\", \"Topic4\", \"Topic4\", \"Topic4\", \"Topic4\", \"Topic4\", \"Topic4\", \"Topic4\", \"Topic4\", \"Topic4\", \"Topic4\", \"Topic4\", \"Topic4\", \"Topic4\", \"Topic4\", \"Topic4\", \"Topic4\", \"Topic4\", \"Topic4\", \"Topic4\", \"Topic4\", \"Topic4\", \"Topic4\", \"Topic4\", \"Topic4\", \"Topic4\", \"Topic4\", \"Topic4\", \"Topic4\", \"Topic4\", \"Topic4\", \"Topic4\", \"Topic4\", \"Topic4\", \"Topic4\", \"Topic4\", \"Topic4\", \"Topic4\", \"Topic4\", \"Topic4\", \"Topic4\", \"Topic4\", \"Topic4\", \"Topic4\", \"Topic4\", \"Topic4\", \"Topic4\", \"Topic4\", \"Topic4\", \"Topic4\", \"Topic4\", \"Topic4\", \"Topic4\", \"Topic4\", \"Topic4\", \"Topic4\", \"Topic4\", \"Topic4\", \"Topic4\", \"Topic4\", \"Topic4\", \"Topic4\", \"Topic5\", \"Topic5\", \"Topic5\", \"Topic5\", \"Topic5\", \"Topic5\", \"Topic5\", \"Topic5\", \"Topic5\", \"Topic5\", \"Topic5\", \"Topic5\", \"Topic5\", \"Topic5\", \"Topic5\", \"Topic5\", \"Topic5\", \"Topic5\", \"Topic5\", \"Topic5\", \"Topic5\", \"Topic5\", \"Topic5\", \"Topic5\", \"Topic5\", \"Topic5\", \"Topic5\", \"Topic5\", \"Topic5\", \"Topic5\", \"Topic5\", \"Topic5\", \"Topic5\", \"Topic5\", \"Topic5\", \"Topic5\", \"Topic5\", \"Topic5\", \"Topic5\", \"Topic5\", \"Topic5\", \"Topic5\", \"Topic5\", \"Topic5\", \"Topic5\", \"Topic5\", \"Topic5\", \"Topic5\", \"Topic5\", \"Topic5\", \"Topic5\", \"Topic5\", \"Topic5\", \"Topic5\", \"Topic5\", \"Topic5\", \"Topic5\", \"Topic5\", \"Topic5\", \"Topic5\", \"Topic5\", \"Topic5\", \"Topic5\", \"Topic5\", \"Topic6\", \"Topic6\", \"Topic6\", \"Topic6\", \"Topic6\", \"Topic6\", \"Topic6\", \"Topic6\", \"Topic6\", \"Topic6\", \"Topic6\", \"Topic6\", \"Topic6\", \"Topic6\", \"Topic6\", \"Topic6\", \"Topic6\", \"Topic6\", \"Topic6\", \"Topic6\", \"Topic6\", \"Topic6\", \"Topic6\", \"Topic6\", \"Topic6\", \"Topic6\", \"Topic6\", \"Topic6\", \"Topic6\", \"Topic6\", \"Topic6\", \"Topic6\", \"Topic6\", \"Topic6\", \"Topic6\", \"Topic6\", \"Topic6\", \"Topic6\", \"Topic6\", \"Topic6\", \"Topic6\", \"Topic6\", \"Topic6\", \"Topic6\", \"Topic6\", \"Topic6\", \"Topic6\", \"Topic6\", \"Topic6\", \"Topic6\", \"Topic6\", \"Topic6\", \"Topic6\", \"Topic6\", \"Topic6\", \"Topic6\", \"Topic6\", \"Topic6\", \"Topic6\", \"Topic6\", \"Topic6\", \"Topic6\", \"Topic6\", \"Topic6\", \"Topic6\", \"Topic6\", \"Topic6\", \"Topic6\", \"Topic6\", \"Topic6\", \"Topic7\", \"Topic7\", \"Topic7\", \"Topic7\", \"Topic7\", \"Topic7\", \"Topic7\", \"Topic7\", \"Topic7\", \"Topic7\", \"Topic7\", \"Topic7\", \"Topic7\", \"Topic7\", \"Topic7\", \"Topic7\", \"Topic7\", \"Topic7\", \"Topic7\", \"Topic7\", \"Topic7\", \"Topic7\", \"Topic7\", \"Topic7\", \"Topic7\", \"Topic7\", \"Topic7\", \"Topic7\", \"Topic7\", \"Topic7\", \"Topic7\", \"Topic7\", \"Topic7\", \"Topic7\", \"Topic7\", \"Topic7\", \"Topic7\", \"Topic7\", \"Topic7\", \"Topic7\", \"Topic7\", \"Topic7\", \"Topic7\", \"Topic7\", \"Topic7\", \"Topic7\", \"Topic7\", \"Topic7\", \"Topic7\", \"Topic7\", \"Topic7\", \"Topic7\", \"Topic7\", \"Topic7\", \"Topic7\", \"Topic7\", \"Topic7\", \"Topic7\", \"Topic7\", \"Topic7\", \"Topic7\", \"Topic7\", \"Topic7\", \"Topic7\", \"Topic7\", \"Topic7\"], \"Freq\": [110.0, 294.0, 71.0, 112.0, 19.0, 29.0, 73.0, 15.0, 43.0, 39.0, 56.0, 16.0, 20.0, 26.0, 60.0, 18.0, 17.0, 25.0, 28.0, 58.0, 16.0, 7.0, 26.0, 7.0, 13.0, 21.0, 9.0, 22.0, 16.0, 10.0, 3.3380792140960693, 2.2835683822631836, 2.5697832107543945, 1.2227847576141357, 1.22268545627594, 1.2226933240890503, 1.22266685962677, 1.2226635217666626, 1.2226823568344116, 1.222659945487976, 1.2226618528366089, 1.2226190567016602, 1.2226147651672363, 1.2225868701934814, 1.2225648164749146, 1.2225415706634521, 1.2225397825241089, 1.2225457429885864, 1.222538948059082, 1.2225154638290405, 1.2225123643875122, 1.2224962711334229, 1.2224359512329102, 1.2223963737487793, 1.2222589254379272, 1.2222511768341064, 1.2222808599472046, 1.222206473350525, 1.222062587738037, 1.222032070159912, 16.510120391845703, 7.418598175048828, 9.187204360961914, 20.29405975341797, 121.5164794921875, 4.987638473510742, 3.870929002761841, 5.803510665893555, 2.143188714981079, 2.4052062034606934, 30.4953556060791, 6.05924654006958, 2.0879783630371094, 24.974008560180664, 19.447738647460938, 3.031960964202881, 5.201217174530029, 9.017242431640625, 22.12517547607422, 37.65835952758789, 13.73027229309082, 4.444939613342285, 3.46645450592041, 3.0867743492126465, 10.97028923034668, 34.3256950378418, 7.368198871612549, 8.509846687316895, 7.401683330535889, 5.174445629119873, 13.400298118591309, 7.640677452087402, 20.763931274414062, 8.789593696594238, 16.67188835144043, 10.628436088562012, 12.472343444824219, 9.475813865661621, 12.314398765563965, 10.168253898620605, 10.315383911132812, 9.917550086975098, 8.671425819396973, 8.586576461791992, 7.808181285858154, 1.742290735244751, 1.7291651964187622, 1.7223306894302368, 1.0422172546386719, 1.0418908596038818, 1.0414953231811523, 1.9925867319107056, 1.457214117050171, 1.8759565353393555, 2.9827566146850586, 1.5241219997406006, 1.342605710029602, 0.9680703282356262, 0.9661073088645935, 1.324483036994934, 0.9599874019622803, 0.9594805240631104, 0.9592537879943848, 0.9374539256095886, 0.9545924067497253, 1.2967621088027954, 0.9320230484008789, 0.9283109307289124, 0.9315016269683838, 0.9232882261276245, 0.9173147082328796, 0.9358234405517578, 0.9179629683494568, 0.9354519844055176, 0.9150460958480835, 1.8036755323410034, 3.5883901119232178, 1.8638111352920532, 1.2202398777008057, 1.2548123598098755, 2.2323591709136963, 2.6946704387664795, 3.8994147777557373, 7.177998065948486, 29.024730682373047, 20.118728637695312, 60.37806701660156, 6.123446464538574, 1.8780016899108887, 16.01641082763672, 10.458250045776367, 5.018792152404785, 14.60761833190918, 11.332195281982422, 19.69942283630371, 2.355868339538574, 2.6051459312438965, 8.929886817932129, 4.993869304656982, 7.477349758148193, 4.385468006134033, 8.57486629486084, 5.3024091720581055, 3.587739944458008, 10.642210960388184, 9.102002143859863, 6.089768409729004, 4.5613250732421875, 5.856352806091309, 5.064955711364746, 5.13624906539917, 4.954755783081055, 6.844069957733154, 5.462092876434326, 6.45876407623291, 5.366477012634277, 5.6138153076171875, 5.620536804199219, 5.3733367919921875, 5.296244144439697, 1.8639487028121948, 4.6719970703125, 2.2188782691955566, 1.6274999380111694, 1.5832557678222656, 5.20444393157959, 1.4989475011825562, 0.9940810203552246, 0.9939345717430115, 0.9938071966171265, 1.4533615112304688, 0.9835132360458374, 2.3759348392486572, 0.9776191115379333, 2.8104708194732666, 0.9125238060951233, 1.4392653703689575, 0.8669686317443848, 0.8635359406471252, 0.8713082075119019, 0.8461599349975586, 1.4094161987304688, 0.8447462320327759, 0.8591284155845642, 0.859617292881012, 4.671963691711426, 0.8359872102737427, 0.8412968516349792, 0.8386657238006592, 1.168030023574829, 3.286177635192871, 1.6615444421768188, 2.7297563552856445, 12.91482162475586, 1.849772334098816, 1.6592319011688232, 2.417168378829956, 1.6746658086776733, 6.287365913391113, 6.452579021453857, 2.113706350326538, 3.285982608795166, 12.144134521484375, 57.513938903808594, 11.007914543151855, 11.834766387939453, 7.123889923095703, 24.260499954223633, 2.861320734024048, 4.791321754455566, 21.105384826660156, 12.953536987304688, 4.605856418609619, 6.6468963623046875, 7.214428424835205, 7.922422409057617, 7.974790573120117, 9.83010196685791, 5.218623161315918, 8.678314208984375, 8.861929893493652, 4.375303745269775, 6.439692974090576, 4.962522029876709, 5.517693996429443, 5.410933971405029, 6.0391693115234375, 5.391931533813477, 5.548869609832764, 0.6405899524688721, 0.6405462622642517, 0.6405110955238342, 0.6404878497123718, 0.6404638290405273, 0.6404537558555603, 0.6404343843460083, 0.6404117941856384, 0.6403817534446716, 0.9722335934638977, 0.9681968092918396, 2.191805839538574, 1.5542981624603271, 1.0010696649551392, 0.565544843673706, 0.5653716921806335, 0.5618916749954224, 0.5612359642982483, 0.5505540370941162, 0.535053551197052, 0.7949662804603577, 0.5304543972015381, 0.528907299041748, 0.517746090888977, 0.6815218925476074, 0.5191131830215454, 0.5156317353248596, 1.062456488609314, 0.4956321716308594, 1.5372371673583984, 1.3619328737258911, 1.940926194190979, 1.8474520444869995, 8.30707836151123, 2.6720707416534424, 2.8880362510681152, 1.3880466222763062, 3.36915922164917, 2.529818534851074, 11.777442932128906, 1.9378212690353394, 10.55927562713623, 14.327844619750977, 4.94476842880249, 7.185124397277832, 7.202248573303223, 4.845297813415527, 2.551701545715332, 4.844220161437988, 3.4082438945770264, 1.2822728157043457, 3.0285632610321045, 2.9918835163116455, 2.8888158798217773, 12.623620986938477, 4.4417405128479, 3.7859292030334473, 2.9576923847198486, 2.741006851196289, 2.577409505844116, 3.9535505771636963, 6.156260967254639, 3.887118339538574, 3.1372427940368652, 3.542295217514038, 3.0641236305236816, 3.289006471633911, 3.0305609703063965, 2.8138461112976074, 3.2016217708587646, 1.4391026496887207, 1.438665509223938, 1.2557297945022583, 1.223939299583435, 2.0568580627441406, 0.7674798965454102, 0.7674984931945801, 0.7672672867774963, 1.1692650318145752, 1.4280283451080322, 0.7423841953277588, 0.7364642024040222, 0.7360345125198364, 0.735223650932312, 2.7375800609588623, 0.7349843382835388, 0.7267809510231018, 1.002866506576538, 1.0557109117507935, 1.0492619276046753, 1.695424199104309, 0.8782753944396973, 0.9704772233963013, 0.52980637550354, 0.5284435749053955, 1.8350533246994019, 0.6998165249824524, 0.5394223928451538, 0.5404080748558044, 0.5386059880256653, 0.7200509309768677, 2.125011920928955, 2.825655221939087, 1.4284210205078125, 1.7779016494750977, 5.230429172515869, 2.0781826972961426, 2.621537446975708, 26.928985595703125, 3.5011727809906006, 9.218104362487793, 5.176014423370361, 7.485772609710693, 4.743091583251953, 4.849571228027344, 3.1037821769714355, 4.8846611976623535, 2.659945249557495, 3.3992831707000732, 3.3457441329956055, 4.3208842277526855, 5.607834815979004, 5.330276966094971, 3.2110869884490967, 3.3067073822021484, 2.750619411468506, 3.2724056243896484, 2.7219605445861816, 2.3736395835876465, 2.7484512329101562, 2.838034152984619, 2.9890024662017822, 2.584679126739502, 2.31138277053833, 1.0434679985046387, 1.0433279275894165, 1.043444037437439, 0.5567126870155334, 0.5566926002502441, 0.5566819906234741, 0.5566772818565369, 0.5566585659980774, 0.5566626787185669, 0.5566151738166809, 0.5565910339355469, 0.5565881133079529, 0.5565826892852783, 0.5565564036369324, 0.5565541982650757, 0.5565764307975769, 0.5564103722572327, 0.5565111637115479, 0.556500256061554, 0.5564863085746765, 0.5563802123069763, 0.556347131729126, 0.556300938129425, 0.5561880469322205, 0.8380052447319031, 0.4939114451408386, 0.4908824861049652, 0.49098241329193115, 0.48860853910446167, 0.4442378282546997, 0.4859957993030548, 0.9193769097328186, 1.420989751815796, 0.7005179524421692, 12.342170715332031, 1.55954110622406, 9.417237281799316, 5.351517200469971, 3.4199512004852295, 12.857001304626465, 1.172398567199707, 2.0119545459747314, 2.944218635559082, 4.518955230712891, 3.028101921081543, 1.167366623878479, 0.9852015376091003, 2.4254813194274902, 2.434422016143799, 1.9924029111862183, 3.21848464012146, 2.1682682037353516, 2.6779136657714844, 2.535680055618286, 2.6068639755249023, 2.703291416168213, 3.5660343170166016, 3.8227121829986572, 3.8466310501098633, 2.3464949131011963, 2.045626163482666, 2.030632257461548, 1.859072208404541, 2.407715320587158, 2.080099582672119, 2.166085720062256, 2.106755256652832, 2.048213243484497, 1.9564954042434692, 2.01068115234375, 0.498848021030426, 0.25349897146224976, 0.2534794807434082, 0.25348252058029175, 0.2534748613834381, 0.2534600794315338, 0.25344061851501465, 0.559799075126648, 0.524904727935791, 0.711767315864563, 0.4394632577896118, 0.28767091035842896, 0.27434778213500977, 0.26066726446151733, 0.41119328141212463, 0.17825005948543549, 0.280028760433197, 0.17539510130882263, 0.17025642096996307, 0.16897572576999664, 0.2794364094734192, 0.16685235500335693, 0.1652165949344635, 0.23104245960712433, 0.16266568005084991, 0.1625039279460907, 0.17662379145622253, 0.16022367775440216, 0.1604568064212799, 0.17380642890930176, 0.25710660219192505, 0.5430708527565002, 0.28375622630119324, 0.514303982257843, 0.45940282940864563, 0.7154325246810913, 1.3561419248580933, 0.6818141341209412, 0.33615773916244507, 0.42666134238243103, 2.564666271209717, 0.9610030055046082, 0.9090068936347961, 0.7741677761077881, 3.125513792037964, 1.2362470626831055, 0.6889732480049133, 0.7450965642929077, 0.7633150219917297, 1.2487568855285645, 1.0119973421096802, 0.6879963874816895, 0.7991957664489746, 0.7517395615577698, 0.5309448838233948, 0.6581129431724548, 0.5751022100448608, 1.0508134365081787, 0.957016110420227, 1.125126600265503, 0.7603007555007935, 0.7938634753227234, 0.686542809009552, 0.6028749346733093, 0.5707002878189087, 0.5566162467002869], \"Term\": [\"\\u8bf4\", \"\\u5b69\\u5b50\", \"\\u4f1a\", \"\\u81ea\\u95ed\\u75c7\", \"\\u53d1\\u80b2\", \"\\u673a\\u6784\", \"\\u8bad\\u7ec3\", \"\\u53ef\\u53ef\", \"\\u8bed\\u8a00\", \"\\u513f\\u7ae5\", \"\\u5bb6\\u957f\", \"\\u5973\\u513f\", \"\\u884c\\u4e3a\", \"\\u6e38\\u620f\", \"\\u5988\\u5988\", \"\\u5eb7\\u590d\", \"\\u5e0c\\u671b\", \"\\u533b\\u9662\", \"\\u5c0f\\u5b69\", \"\\u4e00\\u4e2a\", \"\\u969c\\u788d\", \"\\u5eb7\\u590d\\u4e2d\\u5fc3\", \"\\u95ee\\u9898\", \"\\u4e00\\u70b9\", \"\\u4eca\\u5929\", \"\\u5c0f\\u670b\\u53cb\", \"\\u5976\\u5634\", \"\\u95ee\", \"\\u5e74\", \"\\u5976\\u5976\", \"\\u611f\\u8c22\", \"\\u5f81\\u5a5a\", \"\\u6025\\u6025\", \"\\u5341\\u51e0\\u5e74\", \"\\u8fdb\\u5c55\", \"\\u6b22\\u8fce\\u60a8\", \"\\u521a\\u521a\", \"\\u4e0a\\u661f\\u671f\", \"\\u8054\\u7cfb\\u65b9\\u5f0f\", \"\\u5206\\u6790\\u6cd5\", \"\\u5f00\\u4e1a\", \"\\u8fdb\\u5ea6\", \"\\u89c1\\u8bc1\", \"\\u5f80\\u540e\", \"\\u65c5\\u7a0b\", \"\\u6027\\u884c\\u4e3a\", \"\\u9891\\u9053\", \"\\u8f9c\\u8d1f\", \"\\u966a\\u4f34\", \"\\u4e03\\u4e2a\", \"\\u9001\\u51fa\\u53bb\", \"\\u4ea4\\u7ed9\", \"\\u706b\\u70ed\", \"\\u6570\\u4e0d\\u80dc\\u6570\", \"\\u7b2c\\u4e00\\u5468\", \"\\u67f4\", \"\\u627f\\u53d7\", \"\\u9ad8\\u8fbe\", \"\\u6bd4\\u4f8b\", \"\\u5c01\\u95ed\", \"\\u5c0f\\u5b69\", \"\\u5154\", \"\\u5973\\u513f\", \"\\u7238\\u7238\", \"\\u5b69\\u5b50\", \"\\u9e2d\\u68a8\", \"\\u793a\\u8303\", \"\\u4ee3\\u8bcd\", \"\\u4e00\\u5929\", \"\\u666e\\u901a\", \"\\u8bad\\u7ec3\", \"\\u806a\\u660e\", \"\\u5e7f\\u897f\", \"\\u5988\\u5988\", \"\\u505a\", \"\\u6539\\u53d8\", \"\\u6307\", \"\\u4e00\\u8d77\", \"\\u4e00\\u4e2a\", \"\\u81ea\\u95ed\\u75c7\", \"\\u6ca1\\u6709\", \"\\u63a5\\u53d7\", \"\\u9999\\u8549\", \"\\u62ff\\u51fa\", \"\\u95ee\\u9898\", \"\\u8bf4\", \"\\u82f9\\u679c\", \"\\u5403\", \"\\u65f6\\u95f4\", \"\\u6211\\u8981\", \"\\u8001\\u5e08\", \"\\u7236\\u6bcd\", \"\\u4f1a\", \"\\u95ee\", \"\\u5bb6\\u957f\", \"\\u77e5\\u9053\", \"\\u513f\\u5b50\", \"\\u73a9\", \"\\u8bed\\u8a00\", \"\\u73b0\\u5728\", \"\\u513f\\u7ae5\", \"\\u8bf4\\u8bdd\", \"\\u4e2d\", \"\\u673a\\u6784\", \"\\u6cbb\\u7597\", \"\\u5f3a\\u8feb\\u75c7\", \"\\u5927\\u9f84\", \"\\u6362\\u5c3f\\u5e03\", \"\\u53ea\\u60f3\", \"\\u66d9\\u5149\", \"\\u51e0\\u5bb6\", \"\\u5fae\\u4fe1\", \"\\u8fd8\\u7ed9\", \"\\u62a2\", \"\\u6c14\\u7403\", \"\\u5fcd\\u53d7\", \"\\u653e\\u5c41\", \"\\u8eba\", \"\\u5916\\u5957\", \"\\u70e7\", \"\\u5014\\u729f\", \"\\u5c3f\\u5e03\", \"\\u6ca1\\u8d62\", \"\\u8c08\\u4f55\\u5bb9\\u6613\", \"\\u5206\\u949f\", \"\\u7c73\\u8001\\u9f20\", \"\\u91cd\\u65b0\", \"\\u5144\\u5f1f\\u59d0\\u59b9\", \"\\u5fc3\\u75be\", \"\\u4f59\\u5149\", \"\\u6709\\u697c\", \"\\u975e\\u8981\", \"\\u6253\\u5de5\\u4ed4\", \"\\u5305\", \"\\u4e0b\\u5b9a\\u51b3\\u5fc3\", \"\\u978b\\u5b50\", \"\\u7535\\u8bdd\", \"\\u624b\", \"\\u53d1\\u70e7\", \"\\u5d29\\u6e83\", \"\\u540c\\u6b65\", \"\\u670b\\u53cb\", \"\\u8d70\", \"\\u54ed\", \"\\u8bf4\", \"\\u4f1a\", \"\\u5b69\\u5b50\", \"\\u4e0d\\u80fd\", \"\\u5439\", \"\\u5988\\u5988\", \"\\u6cbb\\u7597\", \"\\u7b49\\u5f85\", \"\\u4e00\\u4e2a\", \"\\u8bed\\u8a00\", \"\\u81ea\\u95ed\\u75c7\", \"\\u7279\\u6559\", \"\\u62c5\\u5fc3\", \"\\u7238\\u7238\", \"\\u5e74\", \"\\u73b0\\u5728\", \"\\u5b66\\u6821\", \"\\u505a\", \"\\u60f3\", \"\\u8981\\u6c42\", \"\\u8bad\\u7ec3\", \"\\u5bb6\\u957f\", \"\\u73a9\", \"\\u66f4\", \"\\u4e0d\\u4f1a\", \"\\u751f\\u6d3b\", \"\\u5c0f\\u670b\\u53cb\", \"\\u884c\\u4e3a\", \"\\u513f\\u5b50\", \"\\u5c81\", \"\\u513f\\u7ae5\", \"\\u533b\\u9662\", \"\\u4e2d\", \"\\u6ca1\\u6709\", \"\\u8bf4\\u8bdd\", \"\\u8001\\u5e08\", \"\\u5fc3\\u75c5\", \"\\u8bfe\", \"\\u4e0b\\u8f7d\", \"\\u7a7a\\u6687\", \"\\u788e\\u7247\", \"\\u6709\\u7528\", \"\\u5e02\\u573a\", \"\\u6ede\\u90c1\", \"\\u7cbe\", \"\\u5e7c\\u513f\", \"\\u5173\\u8054\", \"\\u6211\\u513f\", \"\\u514d\\u8d39\", \"\\u4e94\\u4e2a\", \"\\u624b\\u673a\", \"\\u5171\\u540c\", \"\\u5173\\u5fc3\", \"\\u8f6f\\u4ef6\", \"\\u542c\\u7edf\", \"\\u5199\\u5199\", \"\\u5185\\u542b\", \"\\u5fc3\\u6001\", \"\\u4e00\\u6b3e\", \"\\u6b23\\u6170\", \"\\u6587\\u7b14\", \"\\u6587\\u7ae0\", \"\\u4e07\\u7bc7\", \"\\u751f\\u4e0d\\u5982\\u6b7b\", \"\\u5e74\\u524d\", \"\\u4e24\\u5c81\\u534a\", \"\\u4f53\\u9a8c\", \"\\u76f8\\u5173\", \"\\u53cd\\u5e94\", \"\\u6e38\\u620f\", \"\\u4e00\\u5e74\", \"\\u516c\\u76ca\", \"\\u77e5\\u8bc6\", \"\\u89c2\\u4e16\\u97f3\", \"\\u5206\\u4eab\", \"\\u53ef\\u53ef\", \"\\u878d\\u5408\", \"\\u89d2\\u8272\", \"\\u513f\\u7ae5\", \"\\u5b69\\u5b50\", \"\\u8bf4\\u8bdd\", \"\\u513f\\u5b50\", \"\\u5b66\\u4e60\", \"\\u81ea\\u95ed\\u75c7\", \"\\u8d44\\u6599\", \"\\u4eca\\u5929\", \"\\u8bf4\", \"\\u5bb6\\u957f\", \"\\u81ea\\u95ed\", \"\\u5c81\", \"\\u4e2d\", \"\\u6cbb\\u7597\", \"\\u8001\\u5e08\", \"\\u4e00\\u4e2a\", \"\\u9700\\u8981\", \"\\u5988\\u5988\", \"\\u8bad\\u7ec3\", \"\\u82f9\\u679c\", \"\\u8bed\\u8a00\", \"\\u95ee\", \"\\u77e5\\u9053\", \"\\u6ca1\\u6709\", \"\\u505a\", \"\\u73b0\\u5728\", \"\\u4f1a\", \"\\u7ecf\\u6d4e\\u8d1f\\u62c5\", \"\\u516b\\u5c81\", \"\\u51fb\\u6e83\", \"\\u4e00\\u5802\", \"\\u8d1f\\u62c5\", \"\\u8fdb\\u53bb\", \"\\u626b\\u63cf\", \"\\u597d\\u8bfe\", \"\\u5947\\u8ff9\", \"\\u6c89\\u91cd\", \"\\u68c0\\u6d4b\", \"\\u6b8b\\u75be\\u4eba\", \"\\u6210\\u90fd\", \"\\u79d1\", \"\\u534e\\u897f\", \"\\u4e0d\\u6c14\", \"\\u7b54\\u590d\", \"\\u90ed\\u5170\\u5a77\", \"\\u6362\\u4e2a\", \"\\u6211\\u60f3\", \"\\u59cb\\u7ec8\", \"\\u6025\\u5440\", \"\\u5fc3\\u7406\\u536b\\u751f\", \"\\u7a7a\\u51fa\", \"\\u767e\\u5229\", \"\\u79d1\\u627e\", \"\\u660e\\u786e\", \"\\u6d4b\\u8bd5\", \"\\u79d1\\u5b66\", \"\\u5ba4\", \"\\u5e7f\\u4e1c\\u7701\", \"\\u5916\\u516c\", \"\\u8df3\", \"\\u673a\\u6784\", \"\\u5f00\\u53d1\", \"\\u5b9d\\u5b9d\", \"\\u5916\\u5a46\", \"\\u533b\\u751f\", \"\\u57f9\\u8bad\", \"\\u8bad\\u7ec3\", \"\\u56fd\\u9645\", \"\\u4f1a\", \"\\u81ea\\u95ed\\u75c7\", \"\\u4e0d\\u4f1a\", \"\\u505a\", \"\\u5bb6\\u957f\", \"\\u73b0\\u5728\", \"\\u5b64\\u72ec\\u75c7\", \"\\u6cbb\\u7597\", \"\\u884c\\u4e3a\", \"\\u8ddf\\u7740\", \"\\u5eb7\\u590d\", \"\\u6559\\u80b2\", \"\\u65f6\", \"\\u5b69\\u5b50\", \"\\u8bed\\u8a00\", \"\\u6ca1\\u6709\", \"\\u6ca1\", \"\\u5e0c\\u671b\", \"\\u53ef\\u53ef\", \"\\u513f\\u7ae5\", \"\\u8bf4\", \"\\u513f\\u5b50\", \"\\u533b\\u9662\", \"\\u8001\\u5e08\", \"\\u5c81\", \"\\u8bf4\\u8bdd\", \"\\u95ee\\u9898\", \"\\u6708\", \"\\u5988\\u5988\", \"\\u5510\\u6728\\u5f97\", \"\\u90dd\", \"\\u548b\\u6d88\", \"\\u72ec\\u6811\", \"\\u7ecf\\u7edc\", \"\\u8da3\\u4e8b\", \"\\u4eb2\\u7231\", \"\\u6b8b\\u75be\", \"\\u533b\\u5e06\", \"\\u51fa\\u6c57\", \"\\u53d7\\u76ca\", \"\\u63a8\\u8350\", \"\\u98df\\u6307\", \"\\u82e6\\u607c\", \"\\u6309\\u6469\", \"\\u8eab\\u4f53\\u5065\\u5eb7\", \"\\u539f\\u6765\", \"\\u4f60\\u5bb6\", \"\\u4e0d\\u600e\\u4e48\", \"\\u5f20\\u5408\", \"\\u5e7f\\u5dde\", \"\\u65e5\\u5e38\", \"\\u53e3\\u90e8\", \"\\u524d\\u534a\\u591c\", \"\\u5b9d\\u5988\\u4eec\", \"\\u808c\\u8089\", \"\\u5634\\u5507\", \"\\u5927\\u54e5\\u5927\", \"\\u4e50\\u611f\", \"\\u603b\", \"\\u9010\\u6e10\", \"\\u5438\\u542e\", \"\\u5976\\u5634\", \"\\u5507\", \"\\u52a0\\u6cb9\", \"\\u5c0f\\u670b\\u53cb\", \"\\u8a00\\u8bed\", \"\\u6bcf\\u5929\", \"\\u5b69\\u5b50\", \"\\u53ef\\u53ef\", \"\\u4f1a\", \"\\u8bf4\\u8bdd\", \"\\u8bad\\u7ec3\", \"\\u8001\\u5e08\", \"\\u8bed\\u8a00\", \"\\u6708\", \"\\u5bb6\\u957f\", \"\\u969c\\u788d\", \"\\u673a\\u6784\", \"\\u77e5\\u9053\", \"\\u4e00\\u4e2a\", \"\\u81ea\\u95ed\\u75c7\", \"\\u8bf4\", \"\\u4e2d\", \"\\u6cbb\\u7597\", \"\\u60f3\", \"\\u513f\\u5b50\", \"\\u4e0d\\u4f1a\", \"\\u559c\\u6b22\", \"\\u513f\\u7ae5\", \"\\u505a\", \"\\u5988\\u5988\", \"\\u6ca1\\u6709\", \"\\u53d1\\u80b2\", \"\\u59da\\u6885\\u73b2\", \"\\u5ba0\\u7269\", \"\\u9e3f\", \"\\u6307\\u732b\", \"\\u6709\\u517b\", \"\\u8c01\\u5bb6\", \"\\u9c7c\\u9f9f\", \"\\u6253\\u5de5\", \"\\u72d7\", \"\\u8868\\u5f1f\", \"\\u76f4\", \"\\u51b7\\u8840\", \"\\u54fa\\u4e73\\u52a8\\u7269\", \"\\u722c\\u866b\", \"\\u4e0d\\u559c\", \"\\u5927\\u4e09\", \"\\u70ed\\u8840\", \"\\u76f8\\u7231\", \"\\u90a3\\u79cd\", \"\\u51e0\\u5341\\u7247\", \"\\u62fc\\u62fc\", \"\\u6cb3\\u5357\", \"\\u90d1\", \"\\u5f88\\u8d5e\", \"\\u54a8\\u8be2\", \"\\u8d1f\\u9762\", \"\\u6ca1\\u5934\\u82cd\\u8747\", \"\\u8bf4\\u8bf4\\u8bdd\", \"\\u6700\\u7231\", \"\\u63cf\\u53d9\", \"\\u4eba\\u8010\\u4e0b\", \"\\u804a\\u5929\", \"\\u8010\\u5fc3\", \"\\u8fc7\\u5e74\", \"\\u8bf4\", \"\\u5f15\\u5bfc\", \"\\u81ea\\u95ed\\u75c7\", \"\\u5bb6\\u957f\", \"\\u95ee\\u9898\", \"\\u5b69\\u5b50\", \"\\u4eca\\u5e74\", \"\\u4e1c\\u897f\", \"\\u533b\\u9662\", \"\\u4e00\\u4e2a\", \"\\u73a9\", \"\\u6c34\\u5e73\", \"\\u6c42\\u52a9\", \"\\u60f3\", \"\\u9700\\u8981\", \"\\u4e00\\u4e0b\", \"\\u513f\\u7ae5\", \"\\u7236\\u6bcd\", \"\\u77e5\\u9053\", \"\\u5c0f\\u5b69\", \"\\u4e2d\", \"\\u73b0\\u5728\", \"\\u5988\\u5988\", \"\\u4f1a\", \"\\u8bad\\u7ec3\", \"\\u6e38\\u620f\", \"\\u5403\", \"\\u5b66\\u4e60\", \"\\u5e0c\\u671b\", \"\\u8bed\\u8a00\", \"\\u5c81\", \"\\u8001\\u5e08\", \"\\u513f\\u5b50\", \"\\u7238\\u7238\", \"\\u673a\\u6784\", \"\\u505a\", \"\\u4e1c\\u839e\\u5e02\", \"\\u6446\", \"\\u503e\\u8bc9\", \"\\u4e3b\", \"\\u603b\\u597d\", \"\\u5220\\u9664\", \"\\u8f6c\\u8d34\", \"\\u5317\\u4eac\\u534e\", \"\\u4e2d\\u897f\\u533b\", \"\\u7ed3\\u5408\", \"\\u6740\\u6b7b\", \"\\u516c\\u76ca\\u6d3b\\u52a8\", \"\\u542f\\u52a8\", \"\\u8d34\", \"\\u79d1\", \"\\u76f8\\u4f34\", \"\\u9ebb\\u70e6\", \"\\u7231\\u76f8\\u968f\", \"\\u7ee7\", \"\\u5468\\u4e09\", \"\\u4e39\\u9633\\u5e02\", \"\\u8d70\\u5411\", \"\\u65e9\\u65e5\\u5eb7\\u590d\", \"\\u5bd2\\u5047\", \"\\u6b63\\u5f0f\", \"\\u56db\\u5904\", \"\\u6545\\u610f\\u6740\\u4eba\\u7f6a\", \"\\u4e00\\u9879\", \"\\u65e8\\u5728\", \"\\u81ea\\u5e7c\", \"\\u6b22\\u8fce\", \"\\u7236\\u4eb2\", \"\\u5065\\u5eb7\", \"\\u6559\\u5e08\", \"\\u75be\\u75c5\", \"\\u5eb7\\u590d\\u4e2d\\u5fc3\", \"\\u53d1\\u80b2\", \"\\u4e00\\u70b9\", \"\\u83e9\\u8428\", \"\\u4eca\\u5e74\", \"\\u8bf4\", \"\\u884c\\u4e3a\", \"\\u5eb7\\u590d\", \"\\u969c\\u788d\", \"\\u5b69\\u5b50\", \"\\u8bed\\u8a00\", \"\\u4eca\\u5929\", \"\\u5973\\u513f\", \"\\u5e0c\\u671b\", \"\\u5988\\u5988\", \"\\u513f\\u7ae5\", \"\\u5e74\", \"\\u533b\\u9662\", \"\\u95ee\", \"\\u5173\\u6ce8\", \"\\u53ef\\u53ef\", \"\\u5976\\u5976\", \"\\u4f1a\", \"\\u4e00\\u4e2a\", \"\\u81ea\\u95ed\\u75c7\", \"\\u5bb6\\u957f\", \"\\u8bad\\u7ec3\", \"\\u513f\\u5b50\", \"\\u4e2d\", \"\\u751f\\u6d3b\", \"\\u5750\"], \"Total\": [110.0, 294.0, 71.0, 112.0, 19.0, 29.0, 73.0, 15.0, 43.0, 39.0, 56.0, 16.0, 20.0, 26.0, 60.0, 18.0, 17.0, 25.0, 28.0, 58.0, 16.0, 7.0, 26.0, 7.0, 13.0, 21.0, 9.0, 22.0, 16.0, 10.0, 3.8854570388793945, 2.8202462196350098, 3.462989568710327, 1.7550472021102905, 1.7549481391906738, 1.7549669742584229, 1.7549338340759277, 1.754932165145874, 1.7549625635147095, 1.7549320459365845, 1.7549457550048828, 1.7548924684524536, 1.7548874616622925, 1.7548565864562988, 1.7548425197601318, 1.75481379032135, 1.7548134326934814, 1.754830241203308, 1.7548226118087769, 1.754801630973816, 1.754805564880371, 1.7547869682312012, 1.7547404766082764, 1.7546958923339844, 1.7545546293258667, 1.7545714378356934, 1.7547693252563477, 1.75468909740448, 1.7546124458312988, 1.7546381950378418, 28.39219856262207, 12.141996383666992, 16.160106658935547, 39.57002639770508, 294.943603515625, 8.423493385314941, 6.33767557144165, 10.166568756103516, 3.339419364929199, 3.8381991386413574, 73.90320587158203, 11.304443359375, 3.2700812816619873, 60.67414855957031, 46.60639190673828, 5.112569808959961, 9.981820106506348, 19.572702407836914, 58.5899772644043, 112.09632110595703, 33.0792350769043, 8.491884231567383, 6.321712017059326, 5.500874042510986, 26.620393753051758, 110.84918212890625, 16.239482879638672, 19.532621383666992, 16.5321102142334, 10.595844268798828, 37.492515563964844, 17.926109313964844, 71.08243560791016, 22.54709243774414, 56.92615509033203, 29.724123001098633, 41.10400390625, 27.771991729736328, 43.02156448364258, 33.16975784301758, 39.850765228271484, 36.954246520996094, 30.493820190429688, 29.764530181884766, 36.149173736572266, 2.485658884048462, 2.481781005859375, 2.549344539642334, 1.5971565246582031, 1.59688138961792, 1.5968716144561768, 3.057076930999756, 2.2789485454559326, 2.960462808609009, 4.781681060791016, 2.4892849922180176, 2.2265264987945557, 1.6102014780044556, 1.6104106903076172, 2.211520195007324, 1.6115331649780273, 1.6116899251937866, 1.611598253250122, 1.5792423486709595, 1.6125367879867554, 2.20133376121521, 1.5885878801345825, 1.5851187705993652, 1.5908199548721313, 1.588087797164917, 1.5828214883804321, 1.615387201309204, 1.5846474170684814, 1.6153944730758667, 1.5837316513061523, 3.1219029426574707, 6.3416619300842285, 3.2919044494628906, 2.1719915866851807, 2.2711141109466553, 4.530508041381836, 5.784002780914307, 9.088202476501465, 19.305133819580078, 110.84918212890625, 71.08243560791016, 294.943603515625, 16.55619239807129, 3.7871756553649902, 60.67414855957031, 36.149173736572266, 13.816296577453613, 58.5899772644043, 43.02156448364258, 112.09632110595703, 5.180291652679443, 6.178889751434326, 39.57002639770508, 16.59087562561035, 33.16975784301758, 14.624411582946777, 46.60639190673828, 21.372474670410156, 10.809174537658691, 73.90320587158203, 56.92615509033203, 27.771991729736328, 16.60036849975586, 26.581552505493164, 20.295644760131836, 21.964691162109375, 20.67512321472168, 41.10400390625, 25.725330352783203, 39.850765228271484, 25.80661964416504, 30.493820190429688, 33.0792350769043, 36.954246520996094, 37.492515563964844, 2.4249696731567383, 6.580578804016113, 3.1521434783935547, 2.3818767070770264, 2.358924627304077, 7.876924991607666, 2.3313558101654053, 1.5549801588058472, 1.554869294166565, 1.5548640489578247, 2.2850804328918457, 1.55747389793396, 3.7855417728424072, 1.558714509010315, 4.646329402923584, 1.5589710474014282, 2.522369861602783, 1.5229458808898926, 1.5197654962539673, 1.5391250848770142, 1.5151079893112183, 2.5293796062469482, 1.517442226409912, 1.5435028076171875, 1.5462616682052612, 8.417346000671387, 1.5149238109588623, 1.542697787284851, 1.5440846681594849, 2.1608493328094482, 6.176364421844482, 3.097259759902954, 5.176322937011719, 26.242197036743164, 3.4712085723876953, 3.129387140274048, 4.720882892608643, 3.255484104156494, 14.972874641418457, 15.440461158752441, 4.271347999572754, 7.308612823486328, 39.850765228271484, 294.943603515625, 36.954246520996094, 41.10400390625, 21.245220184326172, 112.09632110595703, 6.458016395568848, 13.503398895263672, 110.84918212890625, 56.92615509033203, 14.302197456359863, 25.725330352783203, 30.493820190429688, 36.149173736572266, 37.492515563964844, 58.5899772644043, 21.576194763183594, 60.67414855957031, 73.90320587158203, 16.239482879638672, 43.02156448364258, 22.54709243774414, 29.724123001098633, 33.0792350769043, 46.60639190673828, 33.16975784301758, 71.08243560791016, 1.2457302808761597, 1.2456985712051392, 1.2456896305084229, 1.245651364326477, 1.2456525564193726, 1.2456390857696533, 1.2456302642822266, 1.2456016540527344, 1.2456018924713135, 1.9294168949127197, 2.017825126647949, 4.718096733093262, 3.402448892593384, 2.303426742553711, 1.3139630556106567, 1.3139429092407227, 1.3171278238296509, 1.3177417516708374, 1.3273742198944092, 1.3412915468215942, 1.9995847940444946, 1.345654010772705, 1.3468897342681885, 1.3226304054260254, 1.7671388387680054, 1.3557391166687012, 1.359067440032959, 2.8131585121154785, 1.3364293575286865, 4.239996433258057, 3.864710569381714, 5.785072326660156, 5.553123474121094, 29.764530181884766, 8.728578567504883, 9.556899070739746, 4.32750129699707, 12.942938804626465, 9.550286293029785, 73.90320587158203, 6.957388877868652, 71.08243560791016, 112.09632110595703, 26.581552505493164, 46.60639190673828, 56.92615509033203, 33.16975784301758, 12.238614082336426, 36.149173736572266, 20.67512321472168, 4.1203718185424805, 18.770360946655273, 18.93897819519043, 18.102785110473633, 294.943603515625, 43.02156448364258, 33.0792350769043, 20.054014205932617, 17.46048927307129, 15.440461158752441, 39.850765228271484, 110.84918212890625, 41.10400390625, 25.80661964416504, 37.492515563964844, 25.725330352783203, 36.954246520996094, 26.620393753051758, 20.895418167114258, 60.67414855957031, 2.0286221504211426, 2.028226613998413, 2.0823535919189453, 2.091806650161743, 3.5859053134918213, 1.3567838668823242, 1.3568297624588013, 1.3566458225250244, 2.108001708984375, 2.5865790843963623, 1.3642817735671997, 1.3659502267837524, 1.3661069869995117, 1.366258144378662, 5.088687896728516, 1.3663350343704224, 1.3687465190887451, 1.955923080444336, 2.1666150093078613, 2.44895601272583, 4.0831074714660645, 2.1228930950164795, 2.4128782749176025, 1.31735098361969, 1.3170124292373657, 4.7400054931640625, 1.8601219654083252, 1.434639811515808, 1.4405431747436523, 1.445703148841858, 1.9438104629516602, 6.490531921386719, 9.340832710266113, 4.368589878082275, 5.702818393707275, 21.964691162109375, 7.139528274536133, 9.862569808959961, 294.943603515625, 15.440461158752441, 71.08243560791016, 36.954246520996094, 73.90320587158203, 37.492515563964844, 43.02156448364258, 20.895418167114258, 56.92615509033203, 16.49015235900879, 29.764530181884766, 29.724123001098633, 58.5899772644043, 112.09632110595703, 110.84918212890625, 30.493820190429688, 36.149173736572266, 21.372474670410156, 41.10400390625, 26.581552505493164, 17.02417755126953, 39.850765228271484, 46.60639190673828, 60.67414855957031, 33.0792350769043, 19.104726791381836, 1.6594204902648926, 1.6592097282409668, 1.659540057182312, 1.1723299026489258, 1.1723073720932007, 1.1722980737686157, 1.1722996234893799, 1.172271966934204, 1.1722981929779053, 1.1722458600997925, 1.172222375869751, 1.1722426414489746, 1.1722464561462402, 1.1722222566604614, 1.172218918800354, 1.1723062992095947, 1.1721209287643433, 1.1723450422286987, 1.172339916229248, 1.172332525253296, 1.1722725629806519, 1.1722064018249512, 1.1722160577774048, 1.172159194946289, 1.9054768085479736, 1.2145169973373413, 1.2156132459640503, 1.2162460088729858, 1.2173982858657837, 1.1110492944717407, 1.2163866758346558, 2.3362503051757812, 3.880499839782715, 1.8695735931396484, 110.84918212890625, 6.471470832824707, 112.09632110595703, 56.92615509033203, 26.620393753051758, 294.943603515625, 4.608946800231934, 12.593096733093262, 25.80661964416504, 58.5899772644043, 27.771991729736328, 4.630102157592773, 3.505983829498291, 21.372474670410156, 21.576194763183594, 14.619046211242676, 39.850765228271484, 17.926109313964844, 29.724123001098633, 28.39219856262207, 30.493820190429688, 33.16975784301758, 60.67414855957031, 71.08243560791016, 73.90320587158203, 26.242197036743164, 19.532621383666992, 21.245220184326172, 17.46048927307129, 43.02156448364258, 25.725330352783203, 37.492515563964844, 41.10400390625, 39.57002639770508, 29.764530181884766, 46.60639190673828, 1.7772045135498047, 0.9070985913276672, 0.907071590423584, 0.9071056246757507, 0.9070903062820435, 0.9070757627487183, 0.9071446061134338, 2.0813684463500977, 2.1170997619628906, 3.1153321266174316, 2.050412178039551, 1.3933603763580322, 1.4130008220672607, 1.429112195968628, 2.303426742553711, 1.013282060623169, 1.613532304763794, 1.015242099761963, 1.0238401889801025, 1.0233930349349976, 1.7007229328155518, 1.0270963907241821, 1.0270419120788574, 1.4667483568191528, 1.0345051288604736, 1.0354117155075073, 1.1307902336120605, 1.0339077711105347, 1.0381932258605957, 1.1275382041931152, 1.7253022193908691, 4.359650135040283, 2.0787134170532227, 4.384428024291992, 4.106555461883545, 7.453194618225098, 19.104726791381836, 7.691493988037109, 3.0487406253814697, 4.608946800231934, 110.84918212890625, 20.67512321472168, 18.770360946655273, 16.49015235900879, 294.943603515625, 43.02156448364258, 13.503398895263672, 16.160106658935547, 17.46048927307129, 60.67414855957031, 39.850765228271484, 16.59087562561035, 25.80661964416504, 22.54709243774414, 8.0327787399292, 15.440461158752441, 10.319234848022461, 71.08243560791016, 58.5899772644043, 112.09632110595703, 56.92615509033203, 73.90320587158203, 41.10400390625, 30.493820190429688, 20.295644760131836, 10.689230918884277], \"loglift\": [30.0, 29.0, 28.0, 27.0, 26.0, 25.0, 24.0, 23.0, 22.0, 21.0, 20.0, 19.0, 18.0, 17.0, 16.0, 15.0, 14.0, 13.0, 12.0, 11.0, 10.0, 9.0, 8.0, 7.0, 6.0, 5.0, 4.0, 3.0, 2.0, 1.0, 1.06850004196167, 1.0091999769210815, 0.921999990940094, 0.859000027179718, 0.8589000105857849, 0.8589000105857849, 0.8589000105857849, 0.8589000105857849, 0.8589000105857849, 0.8589000105857849, 0.8589000105857849, 0.8589000105857849, 0.8589000105857849, 0.8589000105857849, 0.8589000105857849, 0.8589000105857849, 0.8589000105857849, 0.8589000105857849, 0.8589000105857849, 0.8589000105857849, 0.8589000105857849, 0.8589000105857849, 0.8587999939918518, 0.8587999939918518, 0.8587999939918518, 0.8587999939918518, 0.8586999773979187, 0.8586999773979187, 0.8586000204086304, 0.8586000204086304, 0.6782000064849854, 0.7275999784469604, 0.6556000113487244, 0.5526000261306763, 0.3336000144481659, 0.6963000297546387, 0.7272999882698059, 0.6596999764442444, 0.7767999768257141, 0.753000020980835, 0.335099995136261, 0.5967000126838684, 0.7717000246047974, 0.3325999975204468, 0.34630000591278076, 0.6977999806404114, 0.5684000253677368, 0.44530001282691956, 0.24650000035762787, 0.12950000166893005, 0.3409999907016754, 0.5730000138282776, 0.6194999814033508, 0.6424999833106995, 0.33379998803138733, 0.04800000041723251, 0.4300000071525574, 0.3894999921321869, 0.41670000553131104, 0.503600001335144, 0.1914999932050705, 0.3675000071525574, -0.010300000198185444, 0.2782999873161316, -0.007699999958276749, 0.19189999997615814, 0.027699999511241913, 0.14499999582767487, -0.03060000017285347, 0.03799999877810478, -0.13120000064373016, -0.09510000050067902, -0.03720000013709068, -0.02280000038444996, -0.31220000982284546, 1.239400029182434, 1.2333999872207642, 1.2026000022888184, 1.167799949645996, 1.1677000522613525, 1.1672999858856201, 1.166700005531311, 1.1475000381469727, 1.1384999752044678, 1.1227999925613403, 1.104099988937378, 1.0888999700546265, 1.0858999490737915, 1.0836999416351318, 1.0821000337600708, 1.07669997215271, 1.0760999917984009, 1.0758999586105347, 1.073199987411499, 1.0703999996185303, 1.065500020980835, 1.0614999532699585, 1.0597000122070312, 1.059499979019165, 1.05239999294281, 1.0492000579833984, 1.048799991607666, 1.048799991607666, 1.0484000444412231, 1.0462000370025635, 1.0461000204086304, 1.0253000259399414, 1.0259000062942505, 1.0181000232696533, 1.0013999938964844, 0.886900007724762, 0.8309000134468079, 0.7486000061035156, 0.605400025844574, 0.2547000050544739, 0.33250001072883606, 0.00860000029206276, 0.6000999808311462, 0.8932999968528748, 0.262800008058548, 0.3544999957084656, 0.582099974155426, 0.20569999516010284, 0.260699987411499, -0.14409999549388885, 0.8068000078201294, 0.7311000227928162, 0.10610000044107437, 0.39410001039505005, 0.10499999672174454, 0.3903000056743622, -0.0982000008225441, 0.20080000162124634, 0.4918000102043152, -0.3431999981403351, -0.23849999904632568, 0.07729999721050262, 0.3028999865055084, 0.0820000022649765, 0.20669999718666077, 0.14159999787807465, 0.16609999537467957, -0.1979999989271164, 0.045099999755620956, -0.22499999403953552, 0.024299999698996544, -0.09759999811649323, -0.1777999997138977, -0.3334999978542328, -0.36239999532699585, 1.4187999963760376, 1.339400053024292, 1.3308000564575195, 1.3011000156402588, 1.2832000255584717, 1.2675000429153442, 1.2402000427246094, 1.2345000505447388, 1.2344000339508057, 1.2343000173568726, 1.2294000387191772, 1.2222000360488892, 1.2160999774932861, 1.215399980545044, 1.1792000532150269, 1.146299958229065, 1.1208000183105469, 1.118499994277954, 1.1166000366210938, 1.1129000186920166, 1.0994000434875488, 1.097100019454956, 1.0961999893188477, 1.0959999561309814, 1.0947999954223633, 1.0931999683380127, 1.087399959564209, 1.075600028038025, 1.0714999437332153, 1.0666999816894531, 1.0508999824523926, 1.0591000318527222, 1.0420000553131104, 0.9728999733924866, 1.0525000095367432, 1.0473999977111816, 1.0125000476837158, 1.017199993133545, 0.8141999840736389, 0.8094000220298767, 0.9783999919891357, 0.8824999928474426, 0.4936000108718872, 0.0471000000834465, 0.4708000123500824, 0.4368000030517578, 0.5892000198364258, 0.15139999985694885, 0.867900013923645, 0.645799994468689, 0.02329999953508377, 0.20149999856948853, 0.548799991607666, 0.3285999894142151, 0.24050000309944153, 0.1639000028371811, 0.1340000033378601, -0.10320000350475311, 0.26249998807907104, -0.262800008058548, -0.4390999972820282, 0.37040001153945923, -0.21729999780654907, 0.16820000112056732, -0.002099999925121665, -0.12860000133514404, -0.36160001158714294, -0.1348000019788742, -0.8683000206947327, 1.555400013923645, 1.555400013923645, 1.555299997329712, 1.555299997329712, 1.555299997329712, 1.555299997329712, 1.555299997329712, 1.555299997329712, 1.5551999807357788, 1.535099983215332, 1.486199975013733, 1.4537999629974365, 1.4371000528335571, 1.3871999979019165, 1.377500057220459, 1.3772000074386597, 1.3686000108718872, 1.3669999837875366, 1.340499997138977, 1.3014999628067017, 1.2980999946594238, 1.2896000146865845, 1.2857999801635742, 1.2826000452041626, 1.267699956893921, 1.2604999542236328, 1.2513999938964844, 1.2467999458312988, 1.228600025177002, 1.205899953842163, 1.1775000095367432, 1.1283999681472778, 1.1200000047683716, 0.9442999958992004, 1.0368000268936157, 1.023800015449524, 1.083400011062622, 0.8745999932289124, 0.8920999765396118, 0.3840000033378601, 0.942300021648407, 0.31369999051094055, 0.16339999437332153, 0.5386000275611877, 0.3508000075817108, 0.15320000052452087, 0.2969000041484833, 0.6527000069618225, 0.21070000529289246, 0.41780000925064087, 1.0532000064849854, 0.39629998803138733, 0.3752000033855438, 0.38530001044273376, -0.9307000041007996, -0.05009999871253967, 0.05290000140666962, 0.30649998784065247, 0.36890000104904175, 0.4302999973297119, -0.09000000357627869, -0.670199990272522, -0.1378999948501587, 0.11320000141859055, -0.1387999951839447, 0.09279999881982803, -0.19859999418258667, 0.047600001096725464, 0.21549999713897705, -0.7213000059127808, 1.93340003490448, 1.9333000183105469, 1.770900011062622, 1.7408000230789185, 1.720900058746338, 1.7070000171661377, 1.7070000171661377, 1.7067999839782715, 1.687399983406067, 1.6827000379562378, 1.6682000160217285, 1.659000039100647, 1.6583000421524048, 1.657099962234497, 1.6568000316619873, 1.6567000150680542, 1.6437000036239624, 1.6087000370025635, 1.557800054550171, 1.4292000532150269, 1.3977999687194824, 1.3941999673843384, 1.3659000396728516, 1.3659000396728516, 1.3634999990463257, 1.3278000354766846, 1.2992000579833984, 1.2985999584197998, 1.2963000535964966, 1.2893999814987183, 1.2835999727249146, 1.1601999998092651, 1.0810999870300293, 1.1589000225067139, 1.111199975013733, 0.8417999744415283, 1.0426000356674194, 0.95169997215271, -0.1168999969959259, 0.7928000092506409, 0.23409999907016754, 0.3111000061035156, -0.013000000268220901, 0.2092999964952469, 0.09390000253915787, 0.36980000138282776, -0.17890000343322754, 0.4523000121116638, 0.10700000077486038, 0.0925000011920929, -0.3303999900817871, -0.718500018119812, -0.7580000162124634, 0.025800000876188278, -0.11500000208616257, 0.226500004529953, -0.2538999915122986, -0.002099999925121665, 0.30649998784065247, -0.39739999175071716, -0.5218999981880188, -0.7337999939918518, -0.272599995136261, 0.16459999978542328, 2.0906999111175537, 2.0906999111175537, 2.09060001373291, 1.8099000453948975, 1.8099000453948975, 1.8099000453948975, 1.8098000288009644, 1.8098000288009644, 1.8098000288009644, 1.8098000288009644, 1.8098000288009644, 1.8097000122070312, 1.8097000122070312, 1.8097000122070312, 1.8097000122070312, 1.8097000122070312, 1.809499979019165, 1.809499979019165, 1.809499979019165, 1.809499979019165, 1.8092999458312988, 1.8092999458312988, 1.8092000484466553, 1.8091000318527222, 1.7331000566482544, 1.6548000574111938, 1.6477999687194824, 1.6475000381469727, 1.641700029373169, 1.6378999948501587, 1.6370999813079834, 1.621999979019165, 1.5499999523162842, 1.5729000568389893, 0.3594000041484833, 1.131600022315979, 0.07779999822378159, 0.19020000100135803, 0.5024999976158142, -0.5782999992370605, 1.1856000423431396, 0.7204999923706055, 0.3837999999523163, -0.007699999958276749, 0.3384999930858612, 1.1766999959945679, 1.2851999998092651, 0.3785000145435333, 0.3727000057697296, 0.5616000294685364, 0.03830000013113022, 0.4422000050544739, 0.1476999968290329, 0.1388999968767166, 0.09520000219345093, 0.04740000143647194, -0.27950000762939453, -0.3682999908924103, -0.4009999930858612, 0.14010000228881836, 0.29820001125335693, 0.20679999887943268, 0.31470000743865967, -0.32839998602867126, 0.039500001817941666, -0.29660001397132874, -0.4163999855518341, -0.4065000116825104, -0.16760000586509705, -0.588699996471405, 2.342099905014038, 2.3376998901367188, 2.3376998901367188, 2.337599992752075, 2.337599992752075, 2.337599992752075, 2.337399959564209, 2.2994000911712646, 2.2179999351501465, 2.1363000869750977, 2.0724000930786133, 2.034899950027466, 1.9735000133514404, 1.9110000133514404, 1.8895000219345093, 1.8747999668121338, 1.861299991607666, 1.8567999601364136, 1.818600058555603, 1.8114999532699585, 1.8065999746322632, 1.795199990272522, 1.7854000329971313, 1.7644000053405762, 1.7625999450683594, 1.7608000040054321, 1.75600004196167, 1.7481000423431396, 1.7453999519348145, 1.742799997329712, 1.708899974822998, 1.5297000408172607, 1.6211999654769897, 1.469599962234497, 1.4221999645233154, 1.2690999507904053, 0.9672999978065491, 1.1894999742507935, 1.4076999425888062, 1.232800006866455, -0.15369999408721924, 0.5439000129699707, 0.5849000215530396, 0.5539000034332275, -0.9345999956130981, 0.06300000101327896, 0.6370999813079834, 0.5357999801635742, 0.48260000348091125, -0.27079999446868896, -0.060600001364946365, 0.42980000376701355, 0.13779999315738678, 0.21160000562667847, 0.8960000276565552, 0.45719999074935913, 0.7253999710083008, -0.6017000079154968, -0.5019000172615051, -0.9889000058174133, -0.7031999826431274, -0.9210000038146973, -0.4796000123023987, -0.3109999895095825, 0.04129999876022339, 0.6575000286102295], \"logprob\": [30.0, 29.0, 28.0, 27.0, 26.0, 25.0, 24.0, 23.0, 22.0, 21.0, 20.0, 19.0, 18.0, 17.0, 16.0, 15.0, 14.0, 13.0, 12.0, 11.0, 10.0, 9.0, 8.0, 7.0, 6.0, 5.0, 4.0, 3.0, 2.0, 1.0, -6.782100200653076, -7.161799907684326, -7.043700218200684, -7.786399841308594, -7.786499977111816, -7.786499977111816, -7.786499977111816, -7.786499977111816, -7.786499977111816, -7.786499977111816, -7.786499977111816, -7.786499977111816, -7.786499977111816, -7.786499977111816, -7.786600112915039, -7.786600112915039, -7.786600112915039, -7.786600112915039, -7.786600112915039, -7.786600112915039, -7.786600112915039, -7.786600112915039, -7.7866997718811035, -7.7866997718811035, -7.786799907684326, -7.786799907684326, -7.786799907684326, -7.786900043487549, -7.7870001792907715, -7.7870001792907715, -5.183499813079834, -5.983500003814697, -5.769700050354004, -4.977200031280518, -3.1875, -6.3805999755859375, -6.633999824523926, -6.229100227355957, -7.225200176239014, -7.109899997711182, -4.569900035858154, -6.1859002113342285, -7.251299858093262, -4.769700050354004, -5.019800186157227, -6.878300189971924, -6.338600158691406, -5.788400173187256, -4.8907999992370605, -4.359000205993652, -5.3678998947143555, -6.495800018310547, -6.7444000244140625, -6.860400199890137, -5.592299938201904, -4.451600074768066, -5.990300178527832, -5.84630012512207, -5.985799789428711, -6.343800067901611, -5.392199993133545, -5.953999996185303, -4.9542999267578125, -5.814000129699707, -5.173799991607666, -5.624000072479248, -5.464000225067139, -5.738800048828125, -5.4766998291015625, -5.6682000160217285, -5.653900146484375, -5.69320011138916, -5.827499866485596, -5.837299823760986, -5.932300090789795, -7.0578999519348145, -7.065499782562256, -7.069399833679199, -7.571800231933594, -7.5721001625061035, -7.572500228881836, -6.923699855804443, -7.236599922180176, -6.984000205993652, -6.520299911499023, -7.191699981689453, -7.31850004196167, -7.645599842071533, -7.647600173950195, -7.332099914550781, -7.6539998054504395, -7.6545000076293945, -7.654699802398682, -7.677700042724609, -7.659599781036377, -7.3531999588012695, -7.683499813079834, -7.6875, -7.684100151062012, -7.69290018081665, -7.699399948120117, -7.6793999671936035, -7.698699951171875, -7.679800033569336, -7.701900005340576, -7.0233001708984375, -6.335400104522705, -6.990499973297119, -7.414100170135498, -7.386099815368652, -6.810100078582764, -6.621799945831299, -6.252299785614014, -5.642099857330322, -4.244999885559082, -4.611499786376953, -3.512500047683716, -5.801000118255615, -6.982900142669678, -4.8394999504089355, -5.265699863433838, -5.999899864196777, -4.931600093841553, -5.185500144958496, -4.632500171661377, -6.756199836730957, -6.655600070953369, -5.423699855804443, -6.004899978637695, -5.601200103759766, -6.134799957275391, -5.464300155639648, -5.945000171661377, -6.335599899291992, -5.248300075531006, -5.404600143432617, -5.80649995803833, -6.0954999923706055, -5.845600128173828, -5.990799903869629, -5.976799964904785, -6.012800216674805, -5.689700126647949, -5.915299892425537, -5.747700214385986, -5.9328999519348145, -5.887899875640869, -5.88670015335083, -5.931700229644775, -5.946100234985352, -6.903200149536133, -5.984300136566162, -6.728899955749512, -7.038899898529053, -7.066500186920166, -5.876399993896484, -7.121200084686279, -7.531899929046631, -7.5320000648498535, -7.532100200653076, -7.152100086212158, -7.542600154876709, -6.6605000495910645, -7.548600196838379, -6.492599964141846, -7.617499828338623, -7.161799907684326, -7.668700218200684, -7.672699928283691, -7.663700103759766, -7.692999839782715, -7.182799816131592, -7.694699764251709, -7.677800178527832, -7.677199840545654, -5.984399795532227, -7.705100059509277, -7.698699951171875, -7.701900005340576, -7.37060022354126, -6.33620023727417, -7.018199920654297, -6.521699905395508, -4.967599868774414, -6.910900115966797, -7.019599914550781, -6.6433000564575195, -7.010300159454346, -5.687399864196777, -5.661499977111816, -6.777500152587891, -6.336299896240234, -5.029099941253662, -3.473900079727173, -5.127299785614014, -5.054900169372559, -5.5625, -4.337100028991699, -6.474699974060059, -5.959099769592285, -4.476399898529053, -4.964600086212158, -5.998600006103516, -5.631800174713135, -5.549900054931641, -5.456200122833252, -5.449699878692627, -5.240499973297119, -5.873700141906738, -5.365099906921387, -5.344200134277344, -6.050000190734863, -5.66349983215332, -5.923999786376953, -5.817999839782715, -5.837500095367432, -5.727700233459473, -5.841000080108643, -5.812300205230713, -7.432700157165527, -7.432799816131592, -7.432799816131592, -7.432799816131592, -7.4328999519348145, -7.4328999519348145, -7.4328999519348145, -7.433000087738037, -7.433000087738037, -7.015500068664551, -7.019599914550781, -6.202600002288818, -6.546299934387207, -6.986199855804443, -7.557300090789795, -7.557600021362305, -7.563799858093262, -7.564899921417236, -7.584099769592285, -7.61269998550415, -7.216800212860107, -7.621300220489502, -7.624300003051758, -7.645599842071533, -7.370699882507324, -7.642899990081787, -7.649700164794922, -6.926700115203857, -7.689199924468994, -6.557300090789795, -6.678400039672852, -6.32420015335083, -6.373499870300293, -4.870200157165527, -6.004499912261963, -5.926700115203857, -6.65939998626709, -5.77269983291626, -6.059199810028076, -4.521100044250488, -6.325799942016602, -4.630300045013428, -4.325099945068359, -5.388999938964844, -5.0152997970581055, -5.012899875640869, -5.409299850463867, -6.050600051879883, -5.4095001220703125, -5.761099815368652, -6.738699913024902, -5.879199981689453, -5.89139986038208, -5.926499843597412, -4.451700210571289, -5.496300220489502, -5.656000137329102, -5.902900218963623, -5.979000091552734, -6.040500164031982, -5.61269998550415, -5.1697998046875, -5.6296000480651855, -5.843999862670898, -5.722499847412109, -5.867599964141846, -5.7967000007629395, -5.878600120544434, -5.9527997970581055, -5.823699951171875, -6.5671000480651855, -6.567399978637695, -6.703400135040283, -6.729000091552734, -6.20989990234375, -7.195799827575684, -7.195700168609619, -7.196000099182129, -6.774700164794922, -6.57480001449585, -7.229000091552734, -7.236999988555908, -7.237599849700928, -7.238699913024902, -5.923999786376953, -7.238999843597412, -7.250199794769287, -6.928199768066406, -6.8769001960754395, -6.882999897003174, -6.403200149536133, -7.0609002113342285, -6.961100101470947, -7.566400051116943, -7.568900108337402, -6.323999881744385, -7.288000106811523, -7.548399925231934, -7.546500205993652, -7.549900054931641, -7.259500026702881, -6.177299976348877, -5.892399787902832, -6.57450008392334, -6.3557000160217285, -5.276599884033203, -6.1996002197265625, -5.967299938201904, -3.6379001140594482, -5.677999973297119, -4.70989990234375, -5.287099838256836, -4.918099880218506, -5.3744001388549805, -5.352200031280518, -5.798500061035156, -5.34499979019165, -5.9527997970581055, -5.707499980926514, -5.723400115966797, -5.467599868774414, -5.206900119781494, -5.257699966430664, -5.764500141143799, -5.735199928283691, -5.919300079345703, -5.74560022354126, -5.929800033569336, -6.066699981689453, -5.920100212097168, -5.888000011444092, -5.83620023727417, -5.981500148773193, -6.093299865722656, -6.6107001304626465, -6.610799789428711, -6.6107001304626465, -7.238999843597412, -7.238999843597412, -7.238999843597412, -7.238999843597412, -7.239099979400635, -7.239099979400635, -7.239099979400635, -7.239200115203857, -7.239200115203857, -7.239200115203857, -7.239200115203857, -7.239299774169922, -7.239200115203857, -7.239500045776367, -7.239299774169922, -7.239299774169922, -7.2393999099731445, -7.23960018157959, -7.23960018157959, -7.239699840545654, -7.2399001121521, -6.829999923706055, -7.358699798583984, -7.364799976348877, -7.36460018157959, -7.369500160217285, -7.464700222015381, -7.374800205230713, -6.737299919128418, -6.3018999099731445, -7.009200096130371, -4.140200138092041, -6.208899974822998, -4.410699844360352, -4.975900173187256, -5.423600196838379, -4.099400043487549, -6.494200229644775, -5.95419979095459, -5.573400020599365, -5.144999980926514, -5.545300006866455, -6.498499870300293, -6.6682000160217285, -5.767199993133545, -5.763599872589111, -5.963900089263916, -5.484300136566162, -5.879300117492676, -5.6682000160217285, -5.722799777984619, -5.695099830627441, -5.65880012512207, -5.381800174713135, -5.312300205230713, -5.306099891662598, -5.800300121307373, -5.937600135803223, -5.944900035858154, -6.033199787139893, -5.774600028991699, -5.92080020904541, -5.880300045013428, -5.908100128173828, -5.936299800872803, -5.982100009918213, -5.954800128936768, -6.2906999588012695, -6.967599868774414, -6.967700004577637, -6.967700004577637, -6.967700004577637, -6.967800140380859, -6.967899799346924, -6.1753997802734375, -6.239799976348877, -5.935200214385986, -6.417399883270264, -6.84119987487793, -6.888599872589111, -6.939700126647949, -6.48390007019043, -7.319799900054932, -6.868100166320801, -7.335899829864502, -7.365699768066406, -7.373199939727783, -6.870200157165527, -7.385900020599365, -7.395699977874756, -7.060400009155273, -7.411300182342529, -7.412300109863281, -7.328999996185303, -7.426400184631348, -7.425000190734863, -7.34499979019165, -6.953499794006348, -6.205699920654297, -6.854899883270264, -6.260200023651123, -6.3730998039245605, -5.930099964141846, -5.290599822998047, -5.9781999588012695, -6.685400009155273, -6.447000026702881, -4.65339994430542, -5.635000228881836, -5.6905999183654785, -5.851200103759766, -4.455599784851074, -5.383200168609619, -5.967800140380859, -5.889500141143799, -5.865300178527832, -5.3730998039245605, -5.5833001136779785, -5.969200134277344, -5.819399833679199, -5.8805999755859375, -6.228300094604492, -6.013599872589111, -6.148399829864502, -5.5457000732421875, -5.639200210571289, -5.47730016708374, -5.86929988861084, -5.826099872589111, -5.97130012512207, -6.10129976272583, -6.156099796295166, -6.181099891662598]}, \"token.table\": {\"Topic\": [1, 2, 3, 4, 5, 6, 1, 2, 3, 4, 5, 6, 7, 4, 1, 3, 4, 3, 1, 2, 3, 4, 5, 6, 7, 1, 2, 3, 4, 5, 6, 1, 3, 1, 2, 3, 1, 2, 3, 4, 5, 6, 6, 5, 4, 1, 2, 3, 4, 5, 6, 1, 2, 3, 4, 6, 3, 1, 2, 3, 4, 5, 6, 7, 4, 7, 1, 5, 3, 1, 5, 1, 2, 3, 4, 5, 6, 7, 1, 4, 6, 1, 2, 3, 1, 2, 3, 4, 5, 6, 7, 2, 3, 6, 2, 5, 2, 1, 2, 3, 4, 5, 6, 7, 5, 1, 2, 3, 4, 5, 6, 7, 1, 2, 3, 4, 5, 6, 7, 2, 3, 4, 1, 2, 3, 4, 7, 4, 3, 3, 1, 3, 1, 2, 3, 4, 6, 7, 3, 3, 3, 6, 6, 2, 4, 5, 4, 1, 2, 3, 5, 6, 1, 2, 1, 5, 1, 3, 5, 6, 2, 4, 7, 5, 1, 2, 3, 4, 5, 6, 1, 2, 3, 4, 5, 6, 7, 1, 4, 5, 2, 3, 4, 2, 1, 2, 3, 4, 5, 6, 7, 5, 4, 5, 2, 1, 3, 4, 5, 6, 7, 1, 2, 3, 4, 5, 6, 1, 2, 3, 1, 2, 3, 5, 2, 5, 5, 1, 6, 1, 2, 3, 4, 5, 6, 6, 2, 3, 4, 5, 5, 1, 2, 3, 4, 5, 6, 4, 5, 1, 2, 3, 4, 5, 6, 1, 2, 3, 4, 5, 6, 7, 1, 2, 3, 4, 5, 6, 1, 2, 4, 5, 2, 1, 4, 5, 6, 5, 2, 4, 1, 2, 4, 6, 7, 1, 2, 3, 5, 1, 2, 3, 4, 6, 7, 4, 1, 2, 3, 4, 5, 6, 7, 4, 6, 1, 2, 3, 4, 5, 6, 1, 2, 3, 4, 5, 6, 1, 2, 3, 4, 5, 6, 1, 2, 3, 4, 5, 6, 7, 5, 1, 2, 3, 4, 5, 6, 1, 2, 4, 1, 2, 3, 4, 5, 6, 7, 1, 1, 2, 3, 4, 6, 1, 2, 3, 4, 5, 6, 2, 1, 2, 3, 4, 5, 6, 2, 3, 1, 2, 3, 4, 5, 6, 7, 1, 2, 3, 4, 5, 6, 7, 3, 3, 1, 3, 4, 1, 4, 5, 1, 1, 2, 3, 4, 5, 6, 7, 1, 2, 3, 5, 6, 7, 1, 1, 2, 3, 4, 5, 6, 1, 2, 3, 6, 4, 5, 2, 1, 1, 6, 2, 1, 3, 4, 2, 3, 2, 3, 4, 1, 1, 5, 1, 2, 3, 4, 5, 6, 1, 1, 4, 3, 4, 1, 2, 3, 6, 1, 2, 1, 3, 5, 6, 2, 4, 1, 2, 1, 2, 6, 1, 2, 3, 1, 2, 3, 6, 3, 4, 5, 4, 2, 1, 2, 3, 4, 5, 5, 1, 2, 2, 1, 2, 5, 7, 1, 2, 3, 4, 5, 6, 1, 1, 2, 3, 5, 6, 3, 1, 5, 1, 2, 3, 4, 5, 6, 1, 2, 3, 4, 5, 6, 4, 1, 2, 1, 2, 3, 4, 5, 6, 1, 2, 3, 4, 5, 6, 6, 2, 1, 3, 1, 2, 3, 1, 2, 3, 4, 5, 6, 1, 1, 1, 4, 1, 1, 3, 5, 1, 4, 1, 2, 3, 4, 5, 1, 1, 2, 6, 1, 3, 6, 1, 2, 3, 6, 4, 1, 2, 3, 4, 5, 6, 1, 2, 3, 4, 5, 6, 2, 6, 1, 2, 3, 4, 5, 6, 1, 4, 1, 2, 3, 4, 5, 6, 3, 1, 2, 6, 6, 1, 2, 3, 7, 1, 2, 3, 4, 5, 6, 1, 2, 3, 4, 5, 6, 1, 2, 3, 4, 6, 6, 5, 1, 2, 3, 4, 5, 6, 1, 2, 3, 4, 5, 6, 3, 1, 2, 3, 4, 5, 6, 7, 1, 2, 3, 4, 1, 4, 4, 6, 1, 3, 6, 1, 2, 3, 1, 2, 3, 4, 5, 6, 3, 1, 2, 3, 4, 4, 4, 3, 1, 1, 2, 3, 4, 5, 6, 4, 2, 3, 4, 3, 5, 4, 6, 7, 1, 2, 3, 4, 5, 6, 1, 2, 6, 5, 6, 1, 1, 2, 3, 4, 5, 6, 7, 2, 4, 5, 1, 2, 3, 4, 5, 6, 1, 2, 3, 4, 5, 6, 7, 5, 1, 2, 3, 6, 3, 1, 3, 1, 2, 3, 4, 5, 6, 7, 6, 1, 2, 3, 4, 5, 6, 1, 3, 4, 1, 2, 3, 5, 1, 2, 3, 5, 1, 2, 3, 4, 5, 6, 7, 1, 2, 3, 4, 5, 6, 7, 1, 2, 3, 4, 5, 6, 7, 1, 2, 3, 4, 5, 6, 1, 2, 3, 6, 2, 4, 1, 2, 3, 5, 1, 2, 3, 5, 5, 1, 4, 5, 1, 2, 4, 5, 5, 2, 3, 1, 6, 2, 4, 1, 1, 1, 5, 6, 6, 5, 4, 2, 1, 2, 3, 4, 5, 6, 7, 1, 2, 3, 4, 5, 6, 1, 1, 2, 3, 4, 5, 6, 7, 1, 2, 3, 4, 5, 6, 2, 2, 1, 5, 1, 2, 3, 1, 6, 1, 2, 3, 6], \"Freq\": [0.27361565828323364, 0.27361565828323364, 0.20521174371242523, 0.06840391457080841, 0.06840391457080841, 0.13680782914161682, 0.37549084424972534, 0.25601649284362793, 0.17067766189575195, 0.03413553163409233, 0.06827106326818466, 0.08533883094787598, 0.017067765817046165, 0.8027928471565247, 0.5989065170288086, 0.5761681795120239, 0.28808408975601196, 0.6590036749839783, 0.3900412619113922, 0.13001374900341034, 0.13001374900341034, 0.13001374900341034, 0.13001374900341034, 0.13001374900341034, 0.13001374900341034, 0.4598240852355957, 0.15327470004558563, 0.15327470004558563, 0.05109156668186188, 0.10218313336372375, 0.05109156668186188, 0.5698649883270264, 0.66009920835495, 0.5698226094245911, 0.6314200758934021, 0.6344888806343079, 0.2633405327796936, 0.22572045028209686, 0.15048030018806458, 0.18810036778450012, 0.11286022514104843, 0.07524015009403229, 0.8530829548835754, 0.46154946088790894, 0.7610680460929871, 0.30200180411338806, 0.36240217089653015, 0.12080071866512299, 0.06040035933256149, 0.06040035933256149, 0.06040035933256149, 0.31763434410095215, 0.31763434410095215, 0.07940858602523804, 0.07940858602523804, 0.15881717205047607, 0.46278098225593567, 0.2951417565345764, 0.19676117599010468, 0.22955471277236938, 0.09838058799505234, 0.09838058799505234, 0.09838058799505234, 0.03279352933168411, 0.472344309091568, 0.472344309091568, 0.5879852771759033, 0.6941825747489929, 0.6415542960166931, 0.5698697566986084, 0.7370121479034424, 0.2221662849187851, 0.2221662849187851, 0.37027713656425476, 0.07405542582273483, 0.07405542582273483, 0.07405542582273483, 0.07405542582273483, 0.2169693112373352, 0.2169693112373352, 0.2169693112373352, 0.5901696085929871, 0.19672320783138275, 0.09836160391569138, 0.29543164372444153, 0.28136345744132996, 0.08440903574228287, 0.15474990010261536, 0.1266135573387146, 0.05627269297838211, 0.014068173244595528, 0.16190753877162933, 0.4857226312160492, 0.16190753877162933, 0.6296880841255188, 0.5112675428390503, 0.6205270886421204, 0.40766939520835876, 0.19310656189918518, 0.1287377029657364, 0.150193989276886, 0.0643688514828682, 0.042912568897008896, 0.021456284448504448, 0.4810667932033539, 0.2919423580169678, 0.1702997088432312, 0.2919423580169678, 0.09731411933898926, 0.07298558950424194, 0.04865705966949463, 0.024328529834747314, 0.25093621015548706, 0.15056172013282776, 0.3011234402656555, 0.1003744825720787, 0.07528086006641388, 0.07528086006641388, 0.025093620643019676, 0.6308675408363342, 0.5283259749412537, 0.26416298747062683, 0.5765114426612854, 0.08235877752304077, 0.08235877752304077, 0.08235877752304077, 0.08235877752304077, 0.8027624487876892, 0.6391027569770813, 0.6414487361907959, 0.39645257592201233, 0.39645257592201233, 0.248979851603508, 0.124489925801754, 0.124489925801754, 0.124489925801754, 0.124489925801754, 0.124489925801754, 0.4376213550567627, 0.6600189805030823, 0.649719774723053, 0.8530657291412354, 0.853000283241272, 0.6262243986129761, 0.3866110146045685, 0.3866110146045685, 0.8027681708335876, 0.26714977622032166, 0.06678744405508041, 0.4007246494293213, 0.13357488811016083, 0.06678744405508041, 0.5698226094245911, 0.6201409101486206, 0.5698220729827881, 0.7590991258621216, 0.17535188794136047, 0.17535188794136047, 0.35070377588272095, 0.17535188794136047, 0.6190438270568848, 0.48045313358306885, 0.48045313358306885, 0.4743829071521759, 0.38631102442741394, 0.07726220786571503, 0.15452441573143005, 0.23178662359714508, 0.07726220786571503, 0.07726220786571503, 0.2712482213973999, 0.19374874234199524, 0.19374874234199524, 0.11624924093484879, 0.07749949395656586, 0.11624924093484879, 0.03874974697828293, 0.5697852373123169, 0.7610564231872559, 0.7305954694747925, 0.19318732619285583, 0.5795620083808899, 0.19318732619285583, 0.46040692925453186, 0.2617153227329254, 0.1570291966199875, 0.20937226712703705, 0.10468613356351852, 0.10468613356351852, 0.05234306678175926, 0.05234306678175926, 0.7329863905906677, 0.414442777633667, 0.414442777633667, 0.626112699508667, 0.06476490199565887, 0.38858944177627563, 0.19429472088813782, 0.2590596079826355, 0.06476490199565887, 0.06476490199565887, 0.4607676565647125, 0.20478561520576477, 0.05119640380144119, 0.10239280760288239, 0.05119640380144119, 0.10239280760288239, 0.4414516091346741, 0.4414516091346741, 0.6579962372779846, 0.15407057106494904, 0.30814114212989807, 0.15407057106494904, 0.30814114212989807, 0.5280980467796326, 0.2640490233898163, 0.4802258312702179, 0.5248030424118042, 0.5248030424118042, 0.25899845361709595, 0.36259785294532776, 0.20719876885414124, 0.05179969221353531, 0.05179969221353531, 0.05179969221353531, 0.8530629277229309, 0.2289068102836609, 0.2289068102836609, 0.2289068102836609, 0.2289068102836609, 0.49294543266296387, 0.41117992997169495, 0.05873998999595642, 0.17621996998786926, 0.11747997999191284, 0.11747997999191284, 0.05873998999595642, 0.5375991463661194, 0.5375991463661194, 0.14373208582401276, 0.14373208582401276, 0.14373208582401276, 0.2874641716480255, 0.14373208582401276, 0.14373208582401276, 0.2806563079357147, 0.18710419535636902, 0.2806563079357147, 0.09355209767818451, 0.09355209767818451, 0.09355209767818451, 0.09355209767818451, 0.3141267001628876, 0.10470890253782272, 0.10470890253782272, 0.3141267001628876, 0.10470890253782272, 0.10470890253782272, 0.3457173705101013, 0.17285868525505066, 0.3457173705101013, 0.17285868525505066, 0.6209596395492554, 0.46216046810150146, 0.23108023405075073, 0.23108023405075073, 0.8530193567276001, 0.6970390677452087, 0.8058728575706482, 0.8028247356414795, 0.5569270253181458, 0.1856423318386078, 0.12376155704259872, 0.06188077852129936, 0.06188077852129936, 0.32117050886154175, 0.21411366760730743, 0.10705683380365372, 0.32117050886154175, 0.29071924090385437, 0.19381281733512878, 0.19381281733512878, 0.09690640866756439, 0.09690640866756439, 0.09690640866756439, 0.802824854850769, 0.41203710436820984, 0.26370373368263245, 0.1483333557844162, 0.04944445192813873, 0.04944445192813873, 0.06592593342065811, 0.016481483355164528, 0.5001038312911987, 0.602620005607605, 0.32683438062667847, 0.16341719031333923, 0.08170859515666962, 0.24512580037117004, 0.08170859515666962, 0.08170859515666962, 0.18827764689922333, 0.18827764689922333, 0.32948586344718933, 0.09413882344961166, 0.09413882344961166, 0.09413882344961166, 0.2735152840614319, 0.2735152840614319, 0.13675764203071594, 0.06837882101535797, 0.06837882101535797, 0.06837882101535797, 0.4136384129524231, 0.203428715467453, 0.1966477632522583, 0.04407622292637825, 0.09154292196035385, 0.04407622292637825, 0.01017143577337265, 0.7592942714691162, 0.10463645309209824, 0.10463645309209824, 0.20927290618419647, 0.3139093518257141, 0.20927290618419647, 0.6026965379714966, 0.2358492612838745, 0.2358492612838745, 0.471698522567749, 0.29863250255584717, 0.15809956192970276, 0.22836603224277496, 0.12296632677316666, 0.08783309161663055, 0.08783309161663055, 0.01756661757826805, 0.5699180364608765, 0.5987560153007507, 0.14088377356529236, 0.07044188678264618, 0.07044188678264618, 0.10566283017396927, 0.2731657028198242, 0.22763808071613312, 0.09105522930622101, 0.09105522930622101, 0.22763808071613312, 0.045527614653110504, 0.6204667687416077, 0.27210533618927, 0.19436095654964447, 0.27210533618927, 0.11661657691001892, 0.03887219354510307, 0.07774438709020615, 0.44031253457069397, 0.4289349615573883, 0.3436329960823059, 0.1145443245768547, 0.2290886491537094, 0.17181649804115295, 0.05727216228842735, 0.1145443245768547, 0.05727216228842735, 0.2410963773727417, 0.3013704717159271, 0.18082228302955627, 0.12054818868637085, 0.060274094343185425, 0.060274094343185425, 0.060274094343185425, 0.647632896900177, 0.6431430578231812, 0.25875160098075867, 0.25875160098075867, 0.25875160098075867, 0.24491150677204132, 0.24491150677204132, 0.48982301354408264, 0.6116055846214294, 0.31965288519859314, 0.15982644259929657, 0.15982644259929657, 0.15982644259929657, 0.05327548086643219, 0.05327548086643219, 0.05327548086643219, 0.2683413028717041, 0.13417065143585205, 0.2683413028717041, 0.2683413028717041, 0.13417065143585205, 0.13417065143585205, 0.5698181986808777, 0.22913238406181335, 0.11456619203090668, 0.22913238406181335, 0.34369856119155884, 0.11456619203090668, 0.11456619203090668, 0.30904874205589294, 0.15452437102794647, 0.15452437102794647, 0.30904874205589294, 0.408337265253067, 0.408337265253067, 0.8046156167984009, 0.5698471069335938, 0.7091579437255859, 0.8531264662742615, 0.6542196869850159, 0.39535385370254517, 0.39535385370254517, 0.7424512505531311, 0.6286066770553589, 0.8247525691986084, 0.8034435510635376, 0.4017217755317688, 0.7431330680847168, 0.8663035035133362, 0.5698610544204712, 0.6917049288749695, 0.28073492646217346, 0.23394577205181122, 0.14036746323108673, 0.09357830882072449, 0.14036746323108673, 0.09357830882072449, 0.7721099257469177, 0.29390594363212585, 0.5878118872642517, 0.6420653462409973, 0.7455500364303589, 0.4718831181526184, 0.18875324726104736, 0.18875324726104736, 0.09437662363052368, 0.30377551913261414, 0.6075510382652283, 0.21522365510463715, 0.6456709504127502, 0.21522365510463715, 0.8530443906784058, 0.6310551762580872, 0.8028064370155334, 0.5698754787445068, 0.6755700707435608, 0.48552411794662476, 0.48552411794662476, 0.8530439138412476, 0.5453678965568542, 0.18178929388523102, 0.18178929388523102, 0.5009106397628784, 0.3005463778972626, 0.10018213093280792, 0.8530021905899048, 0.1965143084526062, 0.1965143084526062, 0.5895429253578186, 0.7533670663833618, 0.784515380859375, 0.47103798389434814, 0.11775949597358704, 0.11775949597358704, 0.11775949597358704, 0.11775949597358704, 0.7320910692214966, 0.586789071559906, 0.1955963522195816, 0.4491300582885742, 0.4561598300933838, 0.2280799150466919, 0.2280799150466919, 0.2280799150466919, 0.31680694222450256, 0.15840347111225128, 0.15840347111225128, 0.15840347111225128, 0.10560231655836105, 0.05280115827918053, 0.569899320602417, 0.11880229413509369, 0.11880229413509369, 0.5940114855766296, 0.23760458827018738, 0.11880229413509369, 0.6467210650444031, 0.5698516964912415, 0.471055269241333, 0.38668084144592285, 0.1657203584909439, 0.11048023402690887, 0.1657203584909439, 0.05524011701345444, 0.05524011701345444, 0.42341843247413635, 0.12097669392824173, 0.1814650446176529, 0.12097669392824173, 0.060488346964120865, 0.060488346964120865, 0.7357986569404602, 0.5210776925086975, 0.6262205839157104, 0.3011981248855591, 0.3011981248855591, 0.18071888387203217, 0.060239627957344055, 0.060239627957344055, 0.060239627957344055, 0.2871443033218384, 0.1914295256137848, 0.1914295256137848, 0.1435721516609192, 0.1435721516609192, 0.0478573814034462, 0.853018581867218, 0.6317831873893738, 0.2539061903953552, 0.6347654461860657, 0.17289064824581146, 0.5186719298362732, 0.17289064824581146, 0.30237331986427307, 0.10079111158847809, 0.13438814878463745, 0.2687762975692749, 0.10079111158847809, 0.06719407439231873, 0.4877068102359772, 0.5699397325515747, 0.49558308720588684, 0.49558308720588684, 0.5796086192131042, 0.5698112845420837, 0.647877037525177, 0.7371120452880859, 0.21194986999034882, 0.42389973998069763, 0.2027869075536728, 0.1013934537768364, 0.2027869075536728, 0.1013934537768364, 0.3041803538799286, 0.5699264407157898, 0.20913147926330566, 0.627394437789917, 0.20913147926330566, 0.21597795188426971, 0.43195590376853943, 0.21597795188426971, 0.28522664308547974, 0.28522664308547974, 0.28522664308547974, 0.28522664308547974, 0.5182912945747375, 0.29919198155403137, 0.19946131110191345, 0.19946131110191345, 0.14959599077701569, 0.09973065555095673, 0.09973065555095673, 0.4232262372970581, 0.1813826709985733, 0.15115222334861755, 0.1209217831492424, 0.09069133549928665, 0.0302304457873106, 0.6205020546913147, 0.8530920743942261, 0.22130519151687622, 0.27663150429725647, 0.22130519151687622, 0.13831575214862823, 0.08298944681882858, 0.027663148939609528, 0.3554723262786865, 0.3554723262786865, 0.11431969702243805, 0.1905328333377838, 0.4953853487968445, 0.07621312886476517, 0.038106564432382584, 0.07621312886476517, 0.6430950164794922, 0.5698848366737366, 0.45217764377593994, 0.8531543016433716, 0.8530805706977844, 0.4587523937225342, 0.2293761968612671, 0.2293761968612671, 0.2293761968612671, 0.4462764263153076, 0.16735365986824036, 0.1115691065788269, 0.05578455328941345, 0.05578455328941345, 0.1115691065788269, 0.5054330825805664, 0.22744488716125488, 0.10108661651611328, 0.07581496238708496, 0.05054330825805664, 0.05054330825805664, 0.19303932785987854, 0.3860786557197571, 0.19303932785987854, 0.19303932785987854, 0.19303932785987854, 0.8530252575874329, 0.4780556559562683, 0.32406750321388245, 0.21604500710964203, 0.1800374984741211, 0.07201500236988068, 0.07201500236988068, 0.10802250355482101, 0.30147942900657654, 0.2110356092453003, 0.15073971450328827, 0.15073971450328827, 0.06029588729143143, 0.09044383466243744, 0.648215115070343, 0.24635827541351318, 0.24635827541351318, 0.1970866173505783, 0.09854330867528915, 0.09854330867528915, 0.04927165433764458, 0.04927165433764458, 0.15768736600875854, 0.6307494640350342, 0.15768736600875854, 0.15768736600875854, 0.2435130923986435, 0.2435130923986435, 0.5658864974975586, 0.8530804514884949, 0.3228660523891449, 0.6457321047782898, 0.8529912233352661, 0.21182478964328766, 0.21182478964328766, 0.4236495792865753, 0.37006980180740356, 0.16821354627609253, 0.20185625553131104, 0.10092812776565552, 0.10092812776565552, 0.10092812776565552, 0.8478439450263977, 0.631146252155304, 0.157786563038826, 0.157786563038826, 0.4341357946395874, 0.7376050353050232, 0.7560691237449646, 0.8396739959716797, 0.569945216178894, 0.28951317071914673, 0.3618914783000946, 0.14475658535957336, 0.07237829267978668, 0.07237829267978668, 0.07237829267978668, 0.7592277526855469, 0.45427006483078003, 0.6431408524513245, 0.8027420043945312, 0.2788695991039276, 0.5577391982078552, 0.3209930658340454, 0.3209930658340454, 0.3209930658340454, 0.3467358648777008, 0.13335995376110077, 0.21337592601776123, 0.10668796300888062, 0.13335995376110077, 0.05334398150444031, 0.25769877433776855, 0.25769877433776855, 0.25769877433776855, 0.42803633213043213, 0.42803633213043213, 0.5698127150535583, 0.5307647585868835, 0.08846078813076019, 0.08846078813076019, 0.08846078813076019, 0.08846078813076019, 0.08846078813076019, 0.08846078813076019, 0.2109702229499817, 0.2109702229499817, 0.4219404458999634, 0.27967730164527893, 0.13983865082263947, 0.34959661960601807, 0.06991932541131973, 0.06991932541131973, 0.06991932541131973, 0.33899417519569397, 0.17841798067092896, 0.21410158276557922, 0.12489259243011475, 0.053525395691394806, 0.08028809726238251, 0.008920899592339993, 0.7319260835647583, 0.4310482144355774, 0.18473494052886963, 0.24631325900554657, 0.06157831475138664, 0.32800430059432983, 0.23411813378334045, 0.4682362675666809, 0.2418365329504013, 0.2418365329504013, 0.14510191977024078, 0.14510191977024078, 0.09673461318016052, 0.09673461318016052, 0.04836730659008026, 0.8530633449554443, 0.18502800166606903, 0.37005600333213806, 0.18502800166606903, 0.18502800166606903, 0.09251400083303452, 0.09251400083303452, 0.5698370933532715, 0.6143479347229004, 0.3071739673614502, 0.13682487607002258, 0.27364975214004517, 0.41047459840774536, 0.13682487607002258, 0.2801305651664734, 0.1400652825832367, 0.1400652825832367, 0.2801305651664734, 0.4059363901615143, 0.14884333312511444, 0.12178091704845428, 0.1623745560646057, 0.09471848607063293, 0.054124850779771805, 0.013531212694942951, 0.2789298892021179, 0.2556857168674469, 0.13946494460105896, 0.0929766297340393, 0.11622078716754913, 0.04648831486701965, 0.023244157433509827, 0.30672305822372437, 0.2616167366504669, 0.1894465982913971, 0.05412760004401207, 0.04510633274912834, 0.10825520008802414, 0.027063800022006035, 0.2706049084663391, 0.13530245423316956, 0.29766538739204407, 0.08118146657943726, 0.13530245423316956, 0.0541209802031517, 0.1519623100757599, 0.1519623100757599, 0.7598115801811218, 0.8530253767967224, 0.6332150101661682, 0.8027920722961426, 0.15484631061553955, 0.15484631061553955, 0.46453893184661865, 0.15484631061553955, 0.3300982713699341, 0.4401310384273529, 0.11003275960683823, 0.11003275960683823, 0.7370370626449585, 0.24269653856754303, 0.24269653856754303, 0.24269653856754303, 0.18007883429527283, 0.36015766859054565, 0.36015766859054565, 0.18007883429527283, 0.7318848967552185, 0.6210402846336365, 0.6566221714019775, 0.5698556900024414, 0.5348813533782959, 0.43879884481430054, 0.8028007745742798, 0.5698174238204956, 0.5698354840278625, 0.5698636770248413, 0.5144534707069397, 0.8529949188232422, 0.8530850410461426, 0.4930415451526642, 0.7588740587234497, 0.6294898986816406, 0.3991645574569702, 0.1774064600467682, 0.22175808250904083, 0.04435161501169205, 0.0887032300233841, 0.0887032300233841, 0.04435161501169205, 0.41321703791618347, 0.18782591819763184, 0.07513036578893661, 0.11269555240869522, 0.07513036578893661, 0.11269555240869522, 0.569858193397522, 0.3032112717628479, 0.18192675709724426, 0.18192675709724426, 0.06064225360751152, 0.18192675709724426, 0.06064225360751152, 0.06064225360751152, 0.27808424830436707, 0.13904212415218353, 0.23173688352108002, 0.13904212415218353, 0.09269475191831589, 0.09269475191831589, 0.6190466284751892, 0.6406348943710327, 0.5698611736297607, 0.7320070862770081, 0.47455498576164246, 0.1581849902868271, 0.1581849902868271, 0.5699015259742737, 0.8530242443084717, 0.5935779809951782, 0.23743118345737457, 0.11871559172868729, 0.6025766134262085], \"Term\": [\"\\u4e00\\u4e0b\", \"\\u4e00\\u4e0b\", \"\\u4e00\\u4e0b\", \"\\u4e00\\u4e0b\", \"\\u4e00\\u4e0b\", \"\\u4e00\\u4e0b\", \"\\u4e00\\u4e2a\", \"\\u4e00\\u4e2a\", \"\\u4e00\\u4e2a\", \"\\u4e00\\u4e2a\", \"\\u4e00\\u4e2a\", \"\\u4e00\\u4e2a\", \"\\u4e00\\u4e2a\", \"\\u4e00\\u5802\", \"\\u4e00\\u5929\", \"\\u4e00\\u5e74\", \"\\u4e00\\u5e74\", \"\\u4e00\\u6b3e\", \"\\u4e00\\u70b9\", \"\\u4e00\\u70b9\", \"\\u4e00\\u70b9\", \"\\u4e00\\u70b9\", \"\\u4e00\\u70b9\", \"\\u4e00\\u70b9\", \"\\u4e00\\u70b9\", \"\\u4e00\\u8d77\", \"\\u4e00\\u8d77\", \"\\u4e00\\u8d77\", \"\\u4e00\\u8d77\", \"\\u4e00\\u8d77\", \"\\u4e00\\u8d77\", \"\\u4e03\\u4e2a\", \"\\u4e07\\u7bc7\", \"\\u4e0a\\u661f\\u671f\", \"\\u4e0b\\u5b9a\\u51b3\\u5fc3\", \"\\u4e0b\\u8f7d\", \"\\u4e0d\\u4f1a\", \"\\u4e0d\\u4f1a\", \"\\u4e0d\\u4f1a\", \"\\u4e0d\\u4f1a\", \"\\u4e0d\\u4f1a\", \"\\u4e0d\\u4f1a\", \"\\u4e0d\\u559c\", \"\\u4e0d\\u600e\\u4e48\", \"\\u4e0d\\u6c14\", \"\\u4e0d\\u80fd\", \"\\u4e0d\\u80fd\", \"\\u4e0d\\u80fd\", \"\\u4e0d\\u80fd\", \"\\u4e0d\\u80fd\", \"\\u4e0d\\u80fd\", \"\\u4e1c\\u897f\", \"\\u4e1c\\u897f\", \"\\u4e1c\\u897f\", \"\\u4e1c\\u897f\", \"\\u4e1c\\u897f\", \"\\u4e24\\u5c81\\u534a\", \"\\u4e2d\", \"\\u4e2d\", \"\\u4e2d\", \"\\u4e2d\", \"\\u4e2d\", \"\\u4e2d\", \"\\u4e2d\", \"\\u4e2d\\u897f\\u533b\", \"\\u4e2d\\u897f\\u533b\", \"\\u4e39\\u9633\\u5e02\", \"\\u4e50\\u611f\", \"\\u4e94\\u4e2a\", \"\\u4ea4\\u7ed9\", \"\\u4eb2\\u7231\", \"\\u4eca\\u5929\", \"\\u4eca\\u5929\", \"\\u4eca\\u5929\", \"\\u4eca\\u5929\", \"\\u4eca\\u5929\", \"\\u4eca\\u5929\", \"\\u4eca\\u5929\", \"\\u4eca\\u5e74\", \"\\u4eca\\u5e74\", \"\\u4eca\\u5e74\", \"\\u4ee3\\u8bcd\", \"\\u4ee3\\u8bcd\", \"\\u4ee3\\u8bcd\", \"\\u4f1a\", \"\\u4f1a\", \"\\u4f1a\", \"\\u4f1a\", \"\\u4f1a\", \"\\u4f1a\", \"\\u4f1a\", \"\\u4f53\\u9a8c\", \"\\u4f53\\u9a8c\", \"\\u4f53\\u9a8c\", \"\\u4f59\\u5149\", \"\\u4f60\\u5bb6\", \"\\u5014\\u729f\", \"\\u505a\", \"\\u505a\", \"\\u505a\", \"\\u505a\", \"\\u505a\", \"\\u505a\", \"\\u505a\", \"\\u5065\\u5eb7\", \"\\u513f\\u5b50\", \"\\u513f\\u5b50\", \"\\u513f\\u5b50\", \"\\u513f\\u5b50\", \"\\u513f\\u5b50\", \"\\u513f\\u5b50\", \"\\u513f\\u5b50\", \"\\u513f\\u7ae5\", \"\\u513f\\u7ae5\", \"\\u513f\\u7ae5\", \"\\u513f\\u7ae5\", \"\\u513f\\u7ae5\", \"\\u513f\\u7ae5\", \"\\u513f\\u7ae5\", \"\\u5144\\u5f1f\\u59d0\\u59b9\", \"\\u514d\\u8d39\", \"\\u514d\\u8d39\", \"\\u5154\", \"\\u5154\", \"\\u5154\", \"\\u5154\", \"\\u5154\", \"\\u516b\\u5c81\", \"\\u516c\\u76ca\", \"\\u5171\\u540c\", \"\\u5173\\u5fc3\", \"\\u5173\\u5fc3\", \"\\u5173\\u6ce8\", \"\\u5173\\u6ce8\", \"\\u5173\\u6ce8\", \"\\u5173\\u6ce8\", \"\\u5173\\u6ce8\", \"\\u5173\\u6ce8\", \"\\u5173\\u8054\", \"\\u5185\\u542b\", \"\\u5199\\u5199\", \"\\u51b7\\u8840\", \"\\u51e0\\u5341\\u7247\", \"\\u51e0\\u5bb6\", \"\\u51fa\\u6c57\", \"\\u51fa\\u6c57\", \"\\u51fb\\u6e83\", \"\\u5206\\u4eab\", \"\\u5206\\u4eab\", \"\\u5206\\u4eab\", \"\\u5206\\u4eab\", \"\\u5206\\u4eab\", \"\\u5206\\u6790\\u6cd5\", \"\\u5206\\u949f\", \"\\u521a\\u521a\", \"\\u524d\\u534a\\u591c\", \"\\u52a0\\u6cb9\", \"\\u52a0\\u6cb9\", \"\\u52a0\\u6cb9\", \"\\u52a0\\u6cb9\", \"\\u5305\", \"\\u5317\\u4eac\\u534e\", \"\\u5317\\u4eac\\u534e\", \"\\u533b\\u5e06\", \"\\u533b\\u751f\", \"\\u533b\\u751f\", \"\\u533b\\u751f\", \"\\u533b\\u751f\", \"\\u533b\\u751f\", \"\\u533b\\u751f\", \"\\u533b\\u9662\", \"\\u533b\\u9662\", \"\\u533b\\u9662\", \"\\u533b\\u9662\", \"\\u533b\\u9662\", \"\\u533b\\u9662\", \"\\u533b\\u9662\", \"\\u5341\\u51e0\\u5e74\", \"\\u534e\\u897f\", \"\\u539f\\u6765\", \"\\u53cd\\u5e94\", \"\\u53cd\\u5e94\", \"\\u53cd\\u5e94\", \"\\u53d1\\u70e7\", \"\\u53d1\\u80b2\", \"\\u53d1\\u80b2\", \"\\u53d1\\u80b2\", \"\\u53d1\\u80b2\", \"\\u53d1\\u80b2\", \"\\u53d1\\u80b2\", \"\\u53d1\\u80b2\", \"\\u53d7\\u76ca\", \"\\u53e3\\u90e8\", \"\\u53e3\\u90e8\", \"\\u53ea\\u60f3\", \"\\u53ef\\u53ef\", \"\\u53ef\\u53ef\", \"\\u53ef\\u53ef\", \"\\u53ef\\u53ef\", \"\\u53ef\\u53ef\", \"\\u53ef\\u53ef\", \"\\u5403\", \"\\u5403\", \"\\u5403\", \"\\u5403\", \"\\u5403\", \"\\u5403\", \"\\u540c\\u6b65\", \"\\u540c\\u6b65\", \"\\u542c\\u7edf\", \"\\u5438\\u542e\", \"\\u5438\\u542e\", \"\\u5438\\u542e\", \"\\u5438\\u542e\", \"\\u5439\", \"\\u5439\", \"\\u548b\\u6d88\", \"\\u54a8\\u8be2\", \"\\u54a8\\u8be2\", \"\\u54ed\", \"\\u54ed\", \"\\u54ed\", \"\\u54ed\", \"\\u54ed\", \"\\u54ed\", \"\\u54fa\\u4e73\\u52a8\\u7269\", \"\\u5507\", \"\\u5507\", \"\\u5507\", \"\\u5507\", \"\\u5510\\u6728\\u5f97\", \"\\u559c\\u6b22\", \"\\u559c\\u6b22\", \"\\u559c\\u6b22\", \"\\u559c\\u6b22\", \"\\u559c\\u6b22\", \"\\u559c\\u6b22\", \"\\u5634\\u5507\", \"\\u5634\\u5507\", \"\\u56fd\\u9645\", \"\\u56fd\\u9645\", \"\\u56fd\\u9645\", \"\\u56fd\\u9645\", \"\\u56fd\\u9645\", \"\\u56fd\\u9645\", \"\\u5750\", \"\\u5750\", \"\\u5750\", \"\\u5750\", \"\\u5750\", \"\\u5750\", \"\\u5750\", \"\\u57f9\\u8bad\", \"\\u57f9\\u8bad\", \"\\u57f9\\u8bad\", \"\\u57f9\\u8bad\", \"\\u57f9\\u8bad\", \"\\u57f9\\u8bad\", \"\\u5916\\u516c\", \"\\u5916\\u516c\", \"\\u5916\\u516c\", \"\\u5916\\u516c\", \"\\u5916\\u5957\", \"\\u5916\\u5a46\", \"\\u5916\\u5a46\", \"\\u5916\\u5a46\", \"\\u5927\\u4e09\", \"\\u5927\\u54e5\\u5927\", \"\\u5927\\u9f84\", \"\\u5947\\u8ff9\", \"\\u5973\\u513f\", \"\\u5973\\u513f\", \"\\u5973\\u513f\", \"\\u5973\\u513f\", \"\\u5973\\u513f\", \"\\u5976\\u5634\", \"\\u5976\\u5634\", \"\\u5976\\u5634\", \"\\u5976\\u5634\", \"\\u5976\\u5976\", \"\\u5976\\u5976\", \"\\u5976\\u5976\", \"\\u5976\\u5976\", \"\\u5976\\u5976\", \"\\u5976\\u5976\", \"\\u597d\\u8bfe\", \"\\u5988\\u5988\", \"\\u5988\\u5988\", \"\\u5988\\u5988\", \"\\u5988\\u5988\", \"\\u5988\\u5988\", \"\\u5988\\u5988\", \"\\u5988\\u5988\", \"\\u59cb\\u7ec8\", \"\\u59da\\u6885\\u73b2\", \"\\u5b64\\u72ec\\u75c7\", \"\\u5b64\\u72ec\\u75c7\", \"\\u5b64\\u72ec\\u75c7\", \"\\u5b64\\u72ec\\u75c7\", \"\\u5b64\\u72ec\\u75c7\", \"\\u5b64\\u72ec\\u75c7\", \"\\u5b66\\u4e60\", \"\\u5b66\\u4e60\", \"\\u5b66\\u4e60\", \"\\u5b66\\u4e60\", \"\\u5b66\\u4e60\", \"\\u5b66\\u4e60\", \"\\u5b66\\u6821\", \"\\u5b66\\u6821\", \"\\u5b66\\u6821\", \"\\u5b66\\u6821\", \"\\u5b66\\u6821\", \"\\u5b66\\u6821\", \"\\u5b69\\u5b50\", \"\\u5b69\\u5b50\", \"\\u5b69\\u5b50\", \"\\u5b69\\u5b50\", \"\\u5b69\\u5b50\", \"\\u5b69\\u5b50\", \"\\u5b69\\u5b50\", \"\\u5b9d\\u5988\\u4eec\", \"\\u5b9d\\u5b9d\", \"\\u5b9d\\u5b9d\", \"\\u5b9d\\u5b9d\", \"\\u5b9d\\u5b9d\", \"\\u5b9d\\u5b9d\", \"\\u5ba0\\u7269\", \"\\u5ba4\", \"\\u5ba4\", \"\\u5ba4\", \"\\u5bb6\\u957f\", \"\\u5bb6\\u957f\", \"\\u5bb6\\u957f\", \"\\u5bb6\\u957f\", \"\\u5bb6\\u957f\", \"\\u5bb6\\u957f\", \"\\u5bb6\\u957f\", \"\\u5c01\\u95ed\", \"\\u5c0f\\u5b69\", \"\\u5c0f\\u5b69\", \"\\u5c0f\\u5b69\", \"\\u5c0f\\u5b69\", \"\\u5c0f\\u5b69\", \"\\u5c0f\\u670b\\u53cb\", \"\\u5c0f\\u670b\\u53cb\", \"\\u5c0f\\u670b\\u53cb\", \"\\u5c0f\\u670b\\u53cb\", \"\\u5c0f\\u670b\\u53cb\", \"\\u5c0f\\u670b\\u53cb\", \"\\u5c3f\\u5e03\", \"\\u5c81\", \"\\u5c81\", \"\\u5c81\", \"\\u5c81\", \"\\u5c81\", \"\\u5c81\", \"\\u5d29\\u6e83\", \"\\u5e02\\u573a\", \"\\u5e0c\\u671b\", \"\\u5e0c\\u671b\", \"\\u5e0c\\u671b\", \"\\u5e0c\\u671b\", \"\\u5e0c\\u671b\", \"\\u5e0c\\u671b\", \"\\u5e0c\\u671b\", \"\\u5e74\", \"\\u5e74\", \"\\u5e74\", \"\\u5e74\", \"\\u5e74\", \"\\u5e74\", \"\\u5e74\", \"\\u5e74\\u524d\", \"\\u5e7c\\u513f\", \"\\u5e7f\\u4e1c\\u7701\", \"\\u5e7f\\u4e1c\\u7701\", \"\\u5e7f\\u4e1c\\u7701\", \"\\u5e7f\\u5dde\", \"\\u5e7f\\u5dde\", \"\\u5e7f\\u5dde\", \"\\u5e7f\\u897f\", \"\\u5eb7\\u590d\", \"\\u5eb7\\u590d\", \"\\u5eb7\\u590d\", \"\\u5eb7\\u590d\", \"\\u5eb7\\u590d\", \"\\u5eb7\\u590d\", \"\\u5eb7\\u590d\", \"\\u5eb7\\u590d\\u4e2d\\u5fc3\", \"\\u5eb7\\u590d\\u4e2d\\u5fc3\", \"\\u5eb7\\u590d\\u4e2d\\u5fc3\", \"\\u5eb7\\u590d\\u4e2d\\u5fc3\", \"\\u5eb7\\u590d\\u4e2d\\u5fc3\", \"\\u5eb7\\u590d\\u4e2d\\u5fc3\", \"\\u5f00\\u4e1a\", \"\\u5f00\\u53d1\", \"\\u5f00\\u53d1\", \"\\u5f00\\u53d1\", \"\\u5f00\\u53d1\", \"\\u5f00\\u53d1\", \"\\u5f00\\u53d1\", \"\\u5f15\\u5bfc\", \"\\u5f15\\u5bfc\", \"\\u5f15\\u5bfc\", \"\\u5f15\\u5bfc\", \"\\u5f20\\u5408\", \"\\u5f20\\u5408\", \"\\u5f3a\\u8feb\\u75c7\", \"\\u5f80\\u540e\", \"\\u5f81\\u5a5a\", \"\\u5f88\\u8d5e\", \"\\u5fae\\u4fe1\", \"\\u5fc3\\u6001\", \"\\u5fc3\\u6001\", \"\\u5fc3\\u7406\\u536b\\u751f\", \"\\u5fc3\\u75be\", \"\\u5fc3\\u75c5\", \"\\u5fcd\\u53d7\", \"\\u5fcd\\u53d7\", \"\\u6025\\u5440\", \"\\u6025\\u6025\", \"\\u6027\\u884c\\u4e3a\", \"\\u603b\", \"\\u60f3\", \"\\u60f3\", \"\\u60f3\", \"\\u60f3\", \"\\u60f3\", \"\\u60f3\", \"\\u611f\\u8c22\", \"\\u6210\\u90fd\", \"\\u6210\\u90fd\", \"\\u6211\\u513f\", \"\\u6211\\u60f3\", \"\\u6211\\u8981\", \"\\u6211\\u8981\", \"\\u6211\\u8981\", \"\\u6211\\u8981\", \"\\u624b\", \"\\u624b\", \"\\u624b\\u673a\", \"\\u624b\\u673a\", \"\\u624b\\u673a\", \"\\u6253\\u5de5\", \"\\u6253\\u5de5\\u4ed4\", \"\\u626b\\u63cf\", \"\\u627f\\u53d7\", \"\\u62a2\", \"\\u62c5\\u5fc3\", \"\\u62c5\\u5fc3\", \"\\u62fc\\u62fc\", \"\\u62ff\\u51fa\", \"\\u62ff\\u51fa\", \"\\u62ff\\u51fa\", \"\\u6307\", \"\\u6307\", \"\\u6307\", \"\\u6307\\u732b\", \"\\u6309\\u6469\", \"\\u6309\\u6469\", \"\\u6309\\u6469\", \"\\u6362\\u4e2a\", \"\\u6362\\u5c3f\\u5e03\", \"\\u63a5\\u53d7\", \"\\u63a5\\u53d7\", \"\\u63a5\\u53d7\", \"\\u63a5\\u53d7\", \"\\u63a5\\u53d7\", \"\\u63a8\\u8350\", \"\\u6539\\u53d8\", \"\\u6539\\u53d8\", \"\\u653e\\u5c41\", \"\\u6559\\u5e08\", \"\\u6559\\u5e08\", \"\\u6559\\u5e08\", \"\\u6559\\u5e08\", \"\\u6559\\u80b2\", \"\\u6559\\u80b2\", \"\\u6559\\u80b2\", \"\\u6559\\u80b2\", \"\\u6559\\u80b2\", \"\\u6559\\u80b2\", \"\\u6570\\u4e0d\\u80dc\\u6570\", \"\\u6587\\u7ae0\", \"\\u6587\\u7ae0\", \"\\u6587\\u7ae0\", \"\\u6587\\u7ae0\", \"\\u6587\\u7ae0\", \"\\u6587\\u7b14\", \"\\u65c5\\u7a0b\", \"\\u65e5\\u5e38\", \"\\u65f6\", \"\\u65f6\", \"\\u65f6\", \"\\u65f6\", \"\\u65f6\", \"\\u65f6\", \"\\u65f6\\u95f4\", \"\\u65f6\\u95f4\", \"\\u65f6\\u95f4\", \"\\u65f6\\u95f4\", \"\\u65f6\\u95f4\", \"\\u65f6\\u95f4\", \"\\u660e\\u786e\", \"\\u666e\\u901a\", \"\\u66d9\\u5149\", \"\\u66f4\", \"\\u66f4\", \"\\u66f4\", \"\\u66f4\", \"\\u66f4\", \"\\u66f4\", \"\\u6708\", \"\\u6708\", \"\\u6708\", \"\\u6708\", \"\\u6708\", \"\\u6708\", \"\\u6709\\u517b\", \"\\u6709\\u697c\", \"\\u6709\\u7528\", \"\\u6709\\u7528\", \"\\u670b\\u53cb\", \"\\u670b\\u53cb\", \"\\u670b\\u53cb\", \"\\u673a\\u6784\", \"\\u673a\\u6784\", \"\\u673a\\u6784\", \"\\u673a\\u6784\", \"\\u673a\\u6784\", \"\\u673a\\u6784\", \"\\u6740\\u6b7b\", \"\\u67f4\", \"\\u68c0\\u6d4b\", \"\\u68c0\\u6d4b\", \"\\u6b22\\u8fce\", \"\\u6b22\\u8fce\\u60a8\", \"\\u6b23\\u6170\", \"\\u6b8b\\u75be\", \"\\u6b8b\\u75be\\u4eba\", \"\\u6b8b\\u75be\\u4eba\", \"\\u6bcf\\u5929\", \"\\u6bcf\\u5929\", \"\\u6bcf\\u5929\", \"\\u6bcf\\u5929\", \"\\u6bcf\\u5929\", \"\\u6bd4\\u4f8b\", \"\\u6c14\\u7403\", \"\\u6c14\\u7403\", \"\\u6c14\\u7403\", \"\\u6c34\\u5e73\", \"\\u6c34\\u5e73\", \"\\u6c34\\u5e73\", \"\\u6c42\\u52a9\", \"\\u6c42\\u52a9\", \"\\u6c42\\u52a9\", \"\\u6c42\\u52a9\", \"\\u6c89\\u91cd\", \"\\u6ca1\", \"\\u6ca1\", \"\\u6ca1\", \"\\u6ca1\", \"\\u6ca1\", \"\\u6ca1\", \"\\u6ca1\\u6709\", \"\\u6ca1\\u6709\", \"\\u6ca1\\u6709\", \"\\u6ca1\\u6709\", \"\\u6ca1\\u6709\", \"\\u6ca1\\u6709\", \"\\u6ca1\\u8d62\", \"\\u6cb3\\u5357\", \"\\u6cbb\\u7597\", \"\\u6cbb\\u7597\", \"\\u6cbb\\u7597\", \"\\u6cbb\\u7597\", \"\\u6cbb\\u7597\", \"\\u6cbb\\u7597\", \"\\u6d4b\\u8bd5\", \"\\u6d4b\\u8bd5\", \"\\u6e38\\u620f\", \"\\u6e38\\u620f\", \"\\u6e38\\u620f\", \"\\u6e38\\u620f\", \"\\u6e38\\u620f\", \"\\u6e38\\u620f\", \"\\u6ede\\u90c1\", \"\\u706b\\u70ed\", \"\\u70e7\", \"\\u70ed\\u8840\", \"\\u722c\\u866b\", \"\\u7236\\u4eb2\", \"\\u7236\\u4eb2\", \"\\u7236\\u4eb2\", \"\\u7236\\u4eb2\", \"\\u7236\\u6bcd\", \"\\u7236\\u6bcd\", \"\\u7236\\u6bcd\", \"\\u7236\\u6bcd\", \"\\u7236\\u6bcd\", \"\\u7236\\u6bcd\", \"\\u7238\\u7238\", \"\\u7238\\u7238\", \"\\u7238\\u7238\", \"\\u7238\\u7238\", \"\\u7238\\u7238\", \"\\u7238\\u7238\", \"\\u7279\\u6559\", \"\\u7279\\u6559\", \"\\u7279\\u6559\", \"\\u7279\\u6559\", \"\\u7279\\u6559\", \"\\u72d7\", \"\\u72ec\\u6811\", \"\\u73a9\", \"\\u73a9\", \"\\u73a9\", \"\\u73a9\", \"\\u73a9\", \"\\u73a9\", \"\\u73b0\\u5728\", \"\\u73b0\\u5728\", \"\\u73b0\\u5728\", \"\\u73b0\\u5728\", \"\\u73b0\\u5728\", \"\\u73b0\\u5728\", \"\\u751f\\u4e0d\\u5982\\u6b7b\", \"\\u751f\\u6d3b\", \"\\u751f\\u6d3b\", \"\\u751f\\u6d3b\", \"\\u751f\\u6d3b\", \"\\u751f\\u6d3b\", \"\\u751f\\u6d3b\", \"\\u751f\\u6d3b\", \"\\u7535\\u8bdd\", \"\\u7535\\u8bdd\", \"\\u7535\\u8bdd\", \"\\u7535\\u8bdd\", \"\\u75be\\u75c5\", \"\\u75be\\u75c5\", \"\\u767e\\u5229\", \"\\u76f4\", \"\\u76f8\\u5173\", \"\\u76f8\\u5173\", \"\\u76f8\\u7231\", \"\\u77e5\\u8bc6\", \"\\u77e5\\u8bc6\", \"\\u77e5\\u8bc6\", \"\\u77e5\\u9053\", \"\\u77e5\\u9053\", \"\\u77e5\\u9053\", \"\\u77e5\\u9053\", \"\\u77e5\\u9053\", \"\\u77e5\\u9053\", \"\\u788e\\u7247\", \"\\u793a\\u8303\", \"\\u793a\\u8303\", \"\\u793a\\u8303\", \"\\u79d1\", \"\\u79d1\\u627e\", \"\\u7a7a\\u51fa\", \"\\u7a7a\\u6687\", \"\\u7b2c\\u4e00\\u5468\", \"\\u7b49\\u5f85\", \"\\u7b49\\u5f85\", \"\\u7b49\\u5f85\", \"\\u7b49\\u5f85\", \"\\u7b49\\u5f85\", \"\\u7b49\\u5f85\", \"\\u7b54\\u590d\", \"\\u7c73\\u8001\\u9f20\", \"\\u7cbe\", \"\\u7ecf\\u6d4e\\u8d1f\\u62c5\", \"\\u7ecf\\u7edc\", \"\\u7ecf\\u7edc\", \"\\u7ed3\\u5408\", \"\\u7ed3\\u5408\", \"\\u7ed3\\u5408\", \"\\u8001\\u5e08\", \"\\u8001\\u5e08\", \"\\u8001\\u5e08\", \"\\u8001\\u5e08\", \"\\u8001\\u5e08\", \"\\u8001\\u5e08\", \"\\u8010\\u5fc3\", \"\\u8010\\u5fc3\", \"\\u8010\\u5fc3\", \"\\u804a\\u5929\", \"\\u804a\\u5929\", \"\\u8054\\u7cfb\\u65b9\\u5f0f\", \"\\u806a\\u660e\", \"\\u806a\\u660e\", \"\\u806a\\u660e\", \"\\u806a\\u660e\", \"\\u806a\\u660e\", \"\\u806a\\u660e\", \"\\u806a\\u660e\", \"\\u808c\\u8089\", \"\\u808c\\u8089\", \"\\u808c\\u8089\", \"\\u81ea\\u95ed\", \"\\u81ea\\u95ed\", \"\\u81ea\\u95ed\", \"\\u81ea\\u95ed\", \"\\u81ea\\u95ed\", \"\\u81ea\\u95ed\", \"\\u81ea\\u95ed\\u75c7\", \"\\u81ea\\u95ed\\u75c7\", \"\\u81ea\\u95ed\\u75c7\", \"\\u81ea\\u95ed\\u75c7\", \"\\u81ea\\u95ed\\u75c7\", \"\\u81ea\\u95ed\\u75c7\", \"\\u81ea\\u95ed\\u75c7\", \"\\u82e6\\u607c\", \"\\u82f9\\u679c\", \"\\u82f9\\u679c\", \"\\u82f9\\u679c\", \"\\u82f9\\u679c\", \"\\u83e9\\u8428\", \"\\u878d\\u5408\", \"\\u878d\\u5408\", \"\\u884c\\u4e3a\", \"\\u884c\\u4e3a\", \"\\u884c\\u4e3a\", \"\\u884c\\u4e3a\", \"\\u884c\\u4e3a\", \"\\u884c\\u4e3a\", \"\\u884c\\u4e3a\", \"\\u8868\\u5f1f\", \"\\u8981\\u6c42\", \"\\u8981\\u6c42\", \"\\u8981\\u6c42\", \"\\u8981\\u6c42\", \"\\u8981\\u6c42\", \"\\u8981\\u6c42\", \"\\u89c1\\u8bc1\", \"\\u89c2\\u4e16\\u97f3\", \"\\u89c2\\u4e16\\u97f3\", \"\\u89d2\\u8272\", \"\\u89d2\\u8272\", \"\\u89d2\\u8272\", \"\\u89d2\\u8272\", \"\\u8a00\\u8bed\", \"\\u8a00\\u8bed\", \"\\u8a00\\u8bed\", \"\\u8a00\\u8bed\", \"\\u8bad\\u7ec3\", \"\\u8bad\\u7ec3\", \"\\u8bad\\u7ec3\", \"\\u8bad\\u7ec3\", \"\\u8bad\\u7ec3\", \"\\u8bad\\u7ec3\", \"\\u8bad\\u7ec3\", \"\\u8bed\\u8a00\", \"\\u8bed\\u8a00\", \"\\u8bed\\u8a00\", \"\\u8bed\\u8a00\", \"\\u8bed\\u8a00\", \"\\u8bed\\u8a00\", \"\\u8bed\\u8a00\", \"\\u8bf4\", \"\\u8bf4\", \"\\u8bf4\", \"\\u8bf4\", \"\\u8bf4\", \"\\u8bf4\", \"\\u8bf4\", \"\\u8bf4\\u8bdd\", \"\\u8bf4\\u8bdd\", \"\\u8bf4\\u8bdd\", \"\\u8bf4\\u8bdd\", \"\\u8bf4\\u8bdd\", \"\\u8bf4\\u8bdd\", \"\\u8bfe\", \"\\u8bfe\", \"\\u8bfe\", \"\\u8c01\\u5bb6\", \"\\u8c08\\u4f55\\u5bb9\\u6613\", \"\\u8d1f\\u62c5\", \"\\u8d44\\u6599\", \"\\u8d44\\u6599\", \"\\u8d44\\u6599\", \"\\u8d44\\u6599\", \"\\u8d70\", \"\\u8d70\", \"\\u8d70\", \"\\u8d70\", \"\\u8da3\\u4e8b\", \"\\u8ddf\\u7740\", \"\\u8ddf\\u7740\", \"\\u8ddf\\u7740\", \"\\u8df3\", \"\\u8df3\", \"\\u8df3\", \"\\u8df3\", \"\\u8eab\\u4f53\\u5065\\u5eb7\", \"\\u8eba\", \"\\u8f6f\\u4ef6\", \"\\u8f9c\\u8d1f\", \"\\u8fc7\\u5e74\", \"\\u8fd8\\u7ed9\", \"\\u8fdb\\u53bb\", \"\\u8fdb\\u5c55\", \"\\u8fdb\\u5ea6\", \"\\u9001\\u51fa\\u53bb\", \"\\u9010\\u6e10\", \"\\u90a3\\u79cd\", \"\\u90d1\", \"\\u90dd\", \"\\u90ed\\u5170\\u5a77\", \"\\u91cd\\u65b0\", \"\\u95ee\", \"\\u95ee\", \"\\u95ee\", \"\\u95ee\", \"\\u95ee\", \"\\u95ee\", \"\\u95ee\", \"\\u95ee\\u9898\", \"\\u95ee\\u9898\", \"\\u95ee\\u9898\", \"\\u95ee\\u9898\", \"\\u95ee\\u9898\", \"\\u95ee\\u9898\", \"\\u966a\\u4f34\", \"\\u969c\\u788d\", \"\\u969c\\u788d\", \"\\u969c\\u788d\", \"\\u969c\\u788d\", \"\\u969c\\u788d\", \"\\u969c\\u788d\", \"\\u969c\\u788d\", \"\\u9700\\u8981\", \"\\u9700\\u8981\", \"\\u9700\\u8981\", \"\\u9700\\u8981\", \"\\u9700\\u8981\", \"\\u9700\\u8981\", \"\\u975e\\u8981\", \"\\u978b\\u5b50\", \"\\u9891\\u9053\", \"\\u98df\\u6307\", \"\\u9999\\u8549\", \"\\u9999\\u8549\", \"\\u9999\\u8549\", \"\\u9ad8\\u8fbe\", \"\\u9c7c\\u9f9f\", \"\\u9e2d\\u68a8\", \"\\u9e2d\\u68a8\", \"\\u9e2d\\u68a8\", \"\\u9e3f\"]}, \"R\": 30, \"lambda.step\": 0.01, \"plot.opts\": {\"xlab\": \"PC1\", \"ylab\": \"PC2\"}, \"topic.order\": [2, 4, 6, 7, 3, 1, 5]};\n",
              "\n",
              "function LDAvis_load_lib(url, callback){\n",
              "  var s = document.createElement('script');\n",
              "  s.src = url;\n",
              "  s.async = true;\n",
              "  s.onreadystatechange = s.onload = callback;\n",
              "  s.onerror = function(){console.warn(\"failed to load library \" + url);};\n",
              "  document.getElementsByTagName(\"head\")[0].appendChild(s);\n",
              "}\n",
              "\n",
              "if(typeof(LDAvis) !== \"undefined\"){\n",
              "   // already loaded: just create the visualization\n",
              "   !function(LDAvis){\n",
              "       new LDAvis(\"#\" + \"ldavis_el138817946383987124516357954\", ldavis_el138817946383987124516357954_data);\n",
              "   }(LDAvis);\n",
              "}else if(typeof define === \"function\" && define.amd){\n",
              "   // require.js is available: use it to load d3/LDAvis\n",
              "   require.config({paths: {d3: \"https://cdnjs.cloudflare.com/ajax/libs/d3/3.5.5/d3.min\"}});\n",
              "   require([\"d3\"], function(d3){\n",
              "      window.d3 = d3;\n",
              "      LDAvis_load_lib(\"https://cdn.rawgit.com/bmabey/pyLDAvis/files/ldavis.v1.0.0.js\", function(){\n",
              "        new LDAvis(\"#\" + \"ldavis_el138817946383987124516357954\", ldavis_el138817946383987124516357954_data);\n",
              "      });\n",
              "    });\n",
              "}else{\n",
              "    // require.js not available: dynamically load d3 & LDAvis\n",
              "    LDAvis_load_lib(\"https://cdnjs.cloudflare.com/ajax/libs/d3/3.5.5/d3.min.js\", function(){\n",
              "         LDAvis_load_lib(\"https://cdn.rawgit.com/bmabey/pyLDAvis/files/ldavis.v1.0.0.js\", function(){\n",
              "                 new LDAvis(\"#\" + \"ldavis_el138817946383987124516357954\", ldavis_el138817946383987124516357954_data);\n",
              "            })\n",
              "         });\n",
              "}\n",
              "</script>"
            ],
            "text/plain": [
              "<IPython.core.display.HTML object>"
            ]
          },
          "metadata": {
            "tags": []
          },
          "execution_count": 68
        }
      ]
    },
    {
      "cell_type": "code",
      "metadata": {
        "id": "ZcaKsIXpbvev",
        "colab_type": "code",
        "colab": {}
      },
      "source": [
        ""
      ],
      "execution_count": 0,
      "outputs": []
    },
    {
      "cell_type": "code",
      "metadata": {
        "id": "abDGKcx1bvex",
        "colab_type": "code",
        "colab": {}
      },
      "source": [
        ""
      ],
      "execution_count": 0,
      "outputs": []
    },
    {
      "cell_type": "code",
      "metadata": {
        "id": "CrSv5b0ebvez",
        "colab_type": "code",
        "outputId": "814d798b-adf5-482b-aefa-2a6f2819d879",
        "colab": {}
      },
      "source": [
        "from gensim.test.utils import common_corpus, common_dictionary\n",
        "from gensim.models import HdpModel\n",
        "hdp = HdpModel(corpus, id2word=id2word)"
      ],
      "execution_count": 0,
      "outputs": [
        {
          "output_type": "stream",
          "text": [
            "D:\\Program Files\\WPy-3702\\python-3.7.0.amd64\\lib\\site-packages\\gensim\\models\\hdpmodel.py:467: DeprecationWarning: time.clock has been deprecated in Python 3.3 and will be removed from Python 3.8: use time.perf_counter or time.process_time instead\n",
            "  start_time = time.clock()\n"
          ],
          "name": "stderr"
        }
      ]
    },
    {
      "cell_type": "code",
      "metadata": {
        "id": "dN9p0BXzbve1",
        "colab_type": "code",
        "outputId": "99564099-5d69-4fe2-c168-5eb9a559ae88",
        "colab": {}
      },
      "source": [
        "topic_info = hdp.print_topics(num_topics=3, num_words=10)\n",
        "topic_info"
      ],
      "execution_count": 0,
      "outputs": [
        {
          "output_type": "execute_result",
          "data": {
            "text/plain": [
              "[(0,\n",
              "  '0.043*孩子 + 0.021*自闭症 + 0.009*儿童 + 0.009*家长 + 0.007*语言 + 0.007*喜欢 + 0.006*训练 + 0.005*老师 + 0.005*妈妈 + 0.005*说话'),\n",
              " (1,\n",
              "  '0.032*自闭症 + 0.028*孩子 + 0.015*儿童 + 0.008*家长 + 0.007*训练 + 0.006*语言 + 0.005*机构 + 0.004*康复 + 0.004*治疗 + 0.004*能力'),\n",
              " (2,\n",
              "  '0.023*孩子 + 0.021*自闭症 + 0.007*儿童 + 0.007*家长 + 0.004*老师 + 0.004*小朋友 + 0.004*儿子 + 0.003*机构 + 0.003*干预 + 0.003*语言')]"
            ]
          },
          "metadata": {
            "tags": []
          },
          "execution_count": 212
        }
      ]
    },
    {
      "cell_type": "code",
      "metadata": {
        "id": "pLoeydpLbve3",
        "colab_type": "code",
        "outputId": "e83f9ebd-6ddb-48c6-d42e-c077e1386ae2",
        "colab": {}
      },
      "source": [
        "topic_info = hdp.print_topics(num_topics=6, num_words=10)\n",
        "topic_info"
      ],
      "execution_count": 0,
      "outputs": [
        {
          "output_type": "execute_result",
          "data": {
            "text/plain": [
              "[(0,\n",
              "  '0.043*孩子 + 0.021*自闭症 + 0.009*儿童 + 0.009*家长 + 0.007*语言 + 0.007*喜欢 + 0.006*训练 + 0.005*老师 + 0.005*妈妈 + 0.005*说话'),\n",
              " (1,\n",
              "  '0.032*自闭症 + 0.028*孩子 + 0.015*儿童 + 0.008*家长 + 0.007*训练 + 0.006*语言 + 0.005*机构 + 0.004*康复 + 0.004*治疗 + 0.004*能力'),\n",
              " (2,\n",
              "  '0.023*孩子 + 0.021*自闭症 + 0.007*儿童 + 0.007*家长 + 0.004*老师 + 0.004*小朋友 + 0.004*儿子 + 0.003*机构 + 0.003*干预 + 0.003*语言'),\n",
              " (3,\n",
              "  '0.027*自闭症 + 0.019*孩子 + 0.010*儿童 + 0.007*家长 + 0.006*训练 + 0.006*机构 + 0.004*治疗 + 0.004*老师 + 0.003*孤独症 + 0.003*中心'),\n",
              " (4,\n",
              "  '0.020*自闭症 + 0.019*孩子 + 0.007*儿童 + 0.005*家长 + 0.004*机构 + 0.004*治疗 + 0.004*语言 + 0.003*模仿 + 0.003*宝宝 + 0.003*训练'),\n",
              " (5,\n",
              "  '0.034*自闭症 + 0.016*孩子 + 0.013*干预 + 0.009*早期 + 0.007*融合 + 0.006*世界 + 0.006*治疗 + 0.005*训练 + 0.005*主题 + 0.005*儿童')]"
            ]
          },
          "metadata": {
            "tags": []
          },
          "execution_count": 215
        }
      ]
    },
    {
      "cell_type": "code",
      "metadata": {
        "id": "uPBCsl5amQq6",
        "colab_type": "code",
        "colab": {}
      },
      "source": [
        ""
      ],
      "execution_count": 0,
      "outputs": []
    },
    {
      "cell_type": "code",
      "metadata": {
        "id": "9dj4jwf8mR_f",
        "colab_type": "code",
        "colab": {}
      },
      "source": [
        ""
      ],
      "execution_count": 0,
      "outputs": []
    },
    {
      "cell_type": "code",
      "metadata": {
        "id": "hz4skjLYmR3i",
        "colab_type": "code",
        "colab": {}
      },
      "source": [
        ""
      ],
      "execution_count": 0,
      "outputs": []
    }
  ]
}