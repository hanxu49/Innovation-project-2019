{
 "cells": [
  {
   "cell_type": "code",
   "execution_count": null,
   "metadata": {},
   "outputs": [
    {
     "name": "stderr",
     "output_type": "stream",
     "text": [
      "IOPub data rate exceeded.\n",
      "The notebook server will temporarily stop sending output\n",
      "to the client in order to avoid crashing it.\n",
      "To change this limit, set the config variable\n",
      "`--NotebookApp.iopub_data_rate_limit`.\n",
      "\n",
      "Current values:\n",
      "NotebookApp.iopub_data_rate_limit=1000000.0 (bytes/sec)\n",
      "NotebookApp.rate_limit_window=3.0 (secs)\n",
      "\n"
     ]
    },
    {
     "name": "stdout",
     "output_type": "stream",
     "text": [
      "node    4aede6b0b4e793b6e6ada5e6ada53939396a53\n",
      "Name: 13192, dtype: object\n"
     ]
    },
    {
     "name": "stderr",
     "output_type": "stream",
     "text": [
      "C:\\Users\\yuehuazhao\\Anaconda3\\lib\\site-packages\\networkx\\drawing\\nx_pylab.py:611: MatplotlibDeprecationWarning: isinstance(..., numbers.Number)\n",
      "  if cb.is_numlike(alpha):\n"
     ]
    }
   ],
   "source": [
    "import itertools\n",
    "import copy\n",
    "import networkx as nx\n",
    "import pandas as pd\n",
    "import matplotlib.pyplot as plt\n",
    "\n",
    "# Grab edge list data hosted on Gist\n",
    "edgelist = pd.read_csv('relation.csv')\n",
    "# Preview edgelist\n",
    "edgelist.head(10)\n",
    "\n",
    "G = nx.from_pandas_edgelist(edgelist, 'n1', 'n2', edge_attr ='frequency') \n",
    "  \n",
    "# The Graph diagram does not show the edge weights.  \n",
    "# However, we can get the weights by printing all the \n",
    "# edges along with the weights by the command below \n",
    "print(list(G.edges(data = True)))\n",
    "\n",
    "# Grab node list data hosted on Gist\n",
    "nodelist = pd.read_csv('node.csv')\n",
    "# Preview nodelist\n",
    "nodelist.head(5)\n",
    "\n",
    "# Add node attributes\n",
    "for i, nlrow in nodelist.iterrows():\n",
    "    G.node[nlrow['node']].update(nlrow[1:].to_dict())\n",
    "# Node list example\n",
    "print(nlrow)\n",
    "\n",
    "nx.draw_networkx(G, with_label = True) \n",
    "# This line allows us to visualize the Graph\n",
    "\n",
    "# fixing the size of the figure \n",
    "plt.figure(figsize =(10, 7)) \n",
    "  \n",
    "node_color = [100 * G.degree(v) for v in G] \n",
    "# node colour is a list of degrees of nodes \n",
    "  \n",
    "#node_size = [500 * nx.get_node_attributes(G, 'freq')[v] for v in G]\n",
    "node_size = [500 * G.degree(v) for v in G]\n",
    "# size of node is a list of population of cities \n",
    "  \n",
    "edge_width = [1 * G[u][v]['frequency'] for u, v in G.edges()] \n",
    "# width of edge is a list of weight of edges \n",
    "  \n",
    "nx.draw_networkx(G, node_size = node_size,  \n",
    "                 node_color = node_color, alpha = 0.7, \n",
    "                 with_labels = True, width = edge_width, \n",
    "                 edge_color ='.4', cmap = plt.cm.Blues) \n",
    "  \n",
    "plt.axis('off') \n",
    "plt.tight_layout()\n"
   ]
  },
  {
   "cell_type": "code",
   "execution_count": 2,
   "metadata": {},
   "outputs": [
    {
     "name": "stderr",
     "output_type": "stream",
     "text": [
      "IOPub data rate exceeded.\n",
      "The notebook server will temporarily stop sending output\n",
      "to the client in order to avoid crashing it.\n",
      "To change this limit, set the config variable\n",
      "`--NotebookApp.iopub_data_rate_limit`.\n",
      "\n",
      "Current values:\n",
      "NotebookApp.iopub_data_rate_limit=1000000.0 (bytes/sec)\n",
      "NotebookApp.rate_limit_window=3.0 (secs)\n",
      "\n"
     ]
    },
    {
     "data": {
      "text/html": [
       "<div>\n",
       "<style scoped>\n",
       "    .dataframe tbody tr th:only-of-type {\n",
       "        vertical-align: middle;\n",
       "    }\n",
       "\n",
       "    .dataframe tbody tr th {\n",
       "        vertical-align: top;\n",
       "    }\n",
       "\n",
       "    .dataframe thead th {\n",
       "        text-align: right;\n",
       "    }\n",
       "</style>\n",
       "<table border=\"1\" class=\"dataframe\">\n",
       "  <thead>\n",
       "    <tr style=\"text-align: right;\">\n",
       "      <th></th>\n",
       "      <th>node</th>\n",
       "    </tr>\n",
       "  </thead>\n",
       "  <tbody>\n",
       "    <tr>\n",
       "      <th>0</th>\n",
       "      <td>00006a657064318c39</td>\n",
       "    </tr>\n",
       "    <tr>\n",
       "      <th>1</th>\n",
       "      <td>0000e7a78be88eb7e400</td>\n",
       "    </tr>\n",
       "    <tr>\n",
       "      <th>2</th>\n",
       "      <td>0005e590abe68385e9bb98e9bb98e59cb0255d</td>\n",
       "    </tr>\n",
       "    <tr>\n",
       "      <th>3</th>\n",
       "      <td>0006e4bfa1e4bbb031333134363636363639e17c</td>\n",
       "    </tr>\n",
       "    <tr>\n",
       "      <th>4</th>\n",
       "      <td>0010434646505050a330</td>\n",
       "    </tr>\n",
       "  </tbody>\n",
       "</table>\n",
       "</div>"
      ],
      "text/plain": [
       "                                       node\n",
       "0                        00006a657064318c39\n",
       "1                      0000e7a78be88eb7e400\n",
       "2    0005e590abe68385e9bb98e9bb98e59cb0255d\n",
       "3  0006e4bfa1e4bbb031333134363636363639e17c\n",
       "4                      0010434646505050a330"
      ]
     },
     "execution_count": 2,
     "metadata": {},
     "output_type": "execute_result"
    }
   ],
   "source": [
    "import itertools\n",
    "import copy\n",
    "import networkx as nx\n",
    "import pandas as pd\n",
    "import matplotlib.pyplot as plt\n",
    "\n",
    "# Grab edge list data hosted on Gist\n",
    "edgelist = pd.read_csv('relation.csv')\n",
    "# Preview edgelist\n",
    "edgelist.head(10)\n",
    "\n",
    "G = nx.from_pandas_edgelist(edgelist, 'n1', 'n2', edge_attr ='frequency') \n",
    "  \n",
    "# The Graph diagram does not show the edge weights.  \n",
    "# However, we can get the weights by printing all the \n",
    "# edges along with the weights by the command below \n",
    "print(list(G.edges(data = True)))\n",
    "\n",
    "# Grab node list data hosted on Gist\n",
    "nodelist = pd.read_csv('node.csv')\n",
    "# Preview nodelist\n",
    "nodelist.head(5)\n"
   ]
  },
  {
   "cell_type": "code",
   "execution_count": null,
   "metadata": {},
   "outputs": [],
   "source": [
    "print(\"The various layout options are:\") \n",
    "print([x for x in nx.__dir__() if x.endswith('_layout')]) \n",
    "# prints out list of all different layout options \n",
    "  \n",
    "node_color = [100 * G.degree(v) for v in G] \n",
    "#node_size = [500 * nx.get_node_attributes(G, 'freq')[v] for v in G]\n",
    "node_size = [G.degree(v) for v in G]\n",
    "edge_width = [0.15 * G[u][v]['frequency'] for u, v in G.edges()] \n",
    "  \n",
    "plt.figure(figsize =(10, 9)) \n",
    "pos = nx.random_layout(G) \n",
    "print(\"Random Layout:\") \n",
    "  \n",
    "# demonstrating random layout \n",
    "nx.draw_networkx(G, pos, node_size = node_size,  \n",
    "                 node_color = node_color, alpha = 0.7,  \n",
    "                 with_labels = False, width = edge_width, \n",
    "                 edge_color ='.4', cmap = plt.cm.Blues) \n",
    "  \n",
    "  \n",
    "plt.figure(figsize =(10, 9)) \n",
    "pos = nx.circular_layout(G) \n",
    "print(\"Circular Layout\") \n",
    "  \n",
    "# demonstrating circular layout \n",
    "nx.draw_networkx(G, pos, node_size = node_size,  \n",
    "                 node_color = node_color, alpha = 0.7,  \n",
    "                 with_labels = False, width = edge_width,  \n",
    "                 edge_color ='.4', cmap = plt.cm.Blues) "
   ]
  },
  {
   "cell_type": "code",
   "execution_count": 3,
   "metadata": {},
   "outputs": [
    {
     "data": {
      "text/plain": [
       "{'c5f2': 0.05555555555555555,\n",
       " '3faa': 0.4444444444444444,\n",
       " '04d4': 0.05555555555555555,\n",
       " 'a887': 0.05555555555555555,\n",
       " '2a57': 0.16666666666666666,\n",
       " '1088': 0.05555555555555555,\n",
       " '4f5a': 0.05555555555555555,\n",
       " 'c30d': 0.16666666666666666,\n",
       " '891a': 0.1111111111111111,\n",
       " 'd92e': 0.05555555555555555,\n",
       " '35ca': 0.3333333333333333,\n",
       " '1d1e': 0.05555555555555555,\n",
       " 'c2a6': 0.05555555555555555,\n",
       " '429e': 0.3333333333333333,\n",
       " 'f8a2': 0.05555555555555555,\n",
       " 'c781': 0.05555555555555555,\n",
       " 'b20f': 0.05555555555555555,\n",
       " 'add6': 0.05555555555555555,\n",
       " '0af4': 0.1111111111111111}"
      ]
     },
     "execution_count": 3,
     "metadata": {},
     "output_type": "execute_result"
    }
   ],
   "source": [
    "nx.degree_centrality(G)"
   ]
  },
  {
   "cell_type": "code",
   "execution_count": 4,
   "metadata": {},
   "outputs": [
    {
     "data": {
      "text/plain": [
       "{'c5f2': 0.2443046133414827,\n",
       " '3faa': 0.75582068512025,\n",
       " '04d4': 0.24430461334148254,\n",
       " 'a887': 0.24430461334148268,\n",
       " '2a57': 0.3609866638044945,\n",
       " '1088': 0.24430461334148273,\n",
       " '4f5a': 0.24430461334148276,\n",
       " 'c30d': 6.107519859424496e-17,\n",
       " '891a': 2.102221048064919e-16,\n",
       " 'd92e': 6.635829985937202e-17,\n",
       " '35ca': -2.0328353629598264e-15,\n",
       " '1d1e': -8.13904421831792e-16,\n",
       " 'c2a6': -8.719382185439305e-16,\n",
       " '429e': 7.545439041707058e-16,\n",
       " 'f8a2': 3.0731654645265207e-16,\n",
       " 'c781': 3.8125374179985676e-16,\n",
       " 'b20f': 3.252990289477742e-16,\n",
       " 'add6': -7.884810379938098e-16,\n",
       " '0af4': -4.579533171145823e-16}"
      ]
     },
     "execution_count": 4,
     "metadata": {},
     "output_type": "execute_result"
    }
   ],
   "source": [
    "nx.eigenvector_centrality_numpy(G)"
   ]
  },
  {
   "cell_type": "code",
   "execution_count": 5,
   "metadata": {},
   "outputs": [
    {
     "data": {
      "text/plain": [
       "{'c5f2': 0.1818181818181818,\n",
       " '3faa': 0.3333333333333333,\n",
       " '04d4': 0.1818181818181818,\n",
       " 'a887': 0.1818181818181818,\n",
       " '2a57': 0.1818181818181818,\n",
       " '1088': 0.1818181818181818,\n",
       " '4f5a': 0.1818181818181818,\n",
       " 'c30d': 0.05555555555555555,\n",
       " '891a': 0.0,\n",
       " 'd92e': 0.05555555555555555,\n",
       " '35ca': 0.23703703703703702,\n",
       " '1d1e': 0.1616161616161616,\n",
       " 'c2a6': 0.1616161616161616,\n",
       " '429e': 0.23703703703703702,\n",
       " 'f8a2': 0.1616161616161616,\n",
       " 'c781': 0.1616161616161616,\n",
       " 'b20f': 0.1616161616161616,\n",
       " 'add6': 0.1616161616161616,\n",
       " '0af4': 0.25396825396825395}"
      ]
     },
     "execution_count": 5,
     "metadata": {},
     "output_type": "execute_result"
    }
   ],
   "source": [
    "nx.closeness_centrality(G)"
   ]
  },
  {
   "cell_type": "code",
   "execution_count": 6,
   "metadata": {},
   "outputs": [
    {
     "data": {
      "text/plain": [
       "{'c5f2': 0.0,\n",
       " '3faa': 0.09803921568627451,\n",
       " '04d4': 0.0,\n",
       " 'a887': 0.0,\n",
       " '2a57': 0.0,\n",
       " '1088': 0.0,\n",
       " '4f5a': 0.0,\n",
       " 'c30d': 0.0,\n",
       " '891a': 0.0,\n",
       " 'd92e': 0.0,\n",
       " '35ca': 0.11764705882352941,\n",
       " '1d1e': 0.0,\n",
       " 'c2a6': 0.0,\n",
       " '429e': 0.11764705882352941,\n",
       " 'f8a2': 0.0,\n",
       " 'c781': 0.0,\n",
       " 'b20f': 0.0,\n",
       " 'add6': 0.0,\n",
       " '0af4': 0.10457516339869281}"
      ]
     },
     "execution_count": 6,
     "metadata": {},
     "output_type": "execute_result"
    }
   ],
   "source": [
    "nx.betweenness_centrality(G)"
   ]
  },
  {
   "cell_type": "code",
   "execution_count": 7,
   "metadata": {},
   "outputs": [
    {
     "data": {
      "image/png": "[encoded data removed]",
      "text/plain": [
       "<Figure size 432x288 with 1 Axes>"
      ]
     },
     "metadata": {
      "needs_background": "light"
     },
     "output_type": "display_data"
    }
   ],
   "source": [
    "import community\n",
    "from community import community_louvain\n",
    "partition = community.best_partition(G)\n",
    "#values = [parts.get(node) for node in G.nodes()]\n",
    "\n",
    "#drawing\n",
    "size = float(len(set(partition.values())))\n",
    "pos = nx.spring_layout(G)\n",
    "count = 0.\n",
    "for com in set(partition.values()) :\n",
    "    count = count + 1.\n",
    "    list_nodes = [nodes for nodes in partition.keys()\n",
    "                                if partition[nodes] == com]\n",
    "    nx.draw_networkx_nodes(G, pos, list_nodes, node_size = 50,\n",
    "                                node_color = str(count / size), with_labels = True, cmap = plt.cm.Blues)\n",
    "\n",
    "\n",
    "nx.draw_networkx_edges(G, pos, alpha=0.5)\n",
    "plt.show()"
   ]
  },
  {
   "cell_type": "code",
   "execution_count": 24,
   "metadata": {},
   "outputs": [
    {
     "data": {
      "image/png": "[encoded data removed]",
      "text/plain": [
       "<Figure size 432x288 with 1 Axes>"
      ]
     },
     "metadata": {
      "needs_background": "light"
     },
     "output_type": "display_data"
    },
    {
     "data": {
      "text/plain": [
       "<Figure size 720x504 with 0 Axes>"
      ]
     },
     "metadata": {},
     "output_type": "display_data"
    }
   ],
   "source": [
    "import networkx as nx\n",
    "import matplotlib.pyplot as plt\n",
    "import community\n",
    "\n",
    "\n",
    "def detectCommunities(G_fb):\n",
    " \n",
    "\tparts = community.best_partition(G_fb)\n",
    "\tvalues = [parts.get(node) for node in G_fb.nodes()]\n",
    " \n",
    "\tnx.draw_networkx(G_fb, pos = nx.spring_layout(G), cmap = plt.get_cmap(\"jet\"), node_color = values, node_size = [nx.get_node_attributes(G, 'freq')[v] for v in G], with_labels = True, alpha=0.5)\n",
    "\tplt.figure(figsize =(10, 7))\n",
    "\tplt.show()\n",
    "    \n",
    "detectCommunities(G)"
   ]
  }
 ],
 "metadata": {
  "kernelspec": {
   "display_name": "Python 3",
   "language": "python",
   "name": "python3"
  },
  "language_info": {
   "codemirror_mode": {
    "name": "ipython",
    "version": 3
   },
   "file_extension": ".py",
   "mimetype": "text/x-python",
   "name": "python",
   "nbconvert_exporter": "python",
   "pygments_lexer": "ipython3",
   "version": "3.7.1"
  }
 },
 "nbformat": 4,
 "nbformat_minor": 2
}
